{
  "nbformat": 4,
  "nbformat_minor": 0,
  "metadata": {
    "colab": {
      "name": "Malaria Classification CNN 2 Skripsi FIX.ipynb",
      "provenance": [],
      "collapsed_sections": [
        "So3nzAeBwyAg",
        "k_wIZO6Ow58-",
        "2r6IZqz1xvnd",
        "RJaSs8QayVLW"
      ],
      "authorship_tag": "ABX9TyONSW85h3ArxluBCKQHCJ+D",
      "include_colab_link": true
    },
    "kernelspec": {
      "name": "python3",
      "display_name": "Python 3"
    },
    "language_info": {
      "name": "python"
    }
  },
  "cells": [
    {
      "cell_type": "markdown",
      "metadata": {
        "id": "view-in-github",
        "colab_type": "text"
      },
      "source": [
        "<a href=\"https://colab.research.google.com/github/chacacaliza/Malaria-Classification/blob/main/Malaria_Classification_CNN_2_Skripsi_FIX.ipynb\" target=\"_parent\"><img src=\"https://colab.research.google.com/assets/colab-badge.svg\" alt=\"Open In Colab\"/></a>"
      ]
    },
    {
      "cell_type": "markdown",
      "source": [
        "**KLASIFIKASI PENYAKIT MALARIA DENGAN METODE CNN**\n",
        "\n",
        "**Arsitektur model CNN yang diusulkan menggunakan 4 convolutional layer + 1 fully connected layer**"
      ],
      "metadata": {
        "id": "ojGk0Lfrzjue"
      }
    },
    {
      "cell_type": "markdown",
      "source": [
        "# Scenario 1 Splitting 75 : 25%"
      ],
      "metadata": {
        "id": "So3nzAeBwyAg"
      }
    },
    {
      "cell_type": "markdown",
      "source": [
        "Skenario Pengujian 1 menggunakan splitting data 75 : 25% (Berdasarkan jurnal Acuan) dengan optimizer RMSProp"
      ],
      "metadata": {
        "id": "-_4MfhYhw_TJ"
      }
    },
    {
      "cell_type": "code",
      "execution_count": null,
      "metadata": {
        "colab": {
          "base_uri": "https://localhost:8080/"
        },
        "outputId": "6fc0ad5c-e242-4d20-d749-4a719ee3af47",
        "id": "yrdUjpNk1y6e"
      },
      "outputs": [
        {
          "output_type": "stream",
          "name": "stdout",
          "text": [
            "Cloning into 'Malaria-Classification'...\n",
            "remote: Enumerating objects: 27571, done.\u001b[K\n",
            "remote: Counting objects: 100% (6/6), done.\u001b[K\n",
            "remote: Compressing objects: 100% (5/5), done.\u001b[K\n",
            "remote: Total 27571 (delta 1), reused 6 (delta 1), pack-reused 27565\u001b[K\n",
            "Receiving objects: 100% (27571/27571), 331.87 MiB | 26.21 MiB/s, done.\n",
            "Resolving deltas: 100% (1/1), done.\n",
            "Checking out files: 100% (27561/27561), done.\n"
          ]
        }
      ],
      "source": [
        "!git clone https://github.com/chacacaliza/Malaria-Classification.git"
      ]
    },
    {
      "cell_type": "code",
      "execution_count": null,
      "metadata": {
        "id": "EBbsVHpC1y67"
      },
      "outputs": [],
      "source": [
        "import numpy as np\n",
        "import pandas as pd\n",
        "import os\n",
        "from shutil import copyfile\n",
        "\n",
        "TRAIN_DIR = \"/content/train/\"\n",
        "TEST_DIR =\"/content/test/\"\n",
        "\n",
        "os.mkdir(TRAIN_DIR)\n",
        "os.mkdir(TEST_DIR)\n",
        "\n",
        "for label in ['Uninfected', 'Parasitized']:\n",
        "    os.mkdir(TRAIN_DIR+label)\n",
        "    os.mkdir(TEST_DIR+label)"
      ]
    },
    {
      "cell_type": "markdown",
      "source": [
        "Splitting Data"
      ],
      "metadata": {
        "id": "7yopyfHw3Gqd"
      }
    },
    {
      "cell_type": "code",
      "execution_count": null,
      "metadata": {
        "colab": {
          "base_uri": "https://localhost:8080/"
        },
        "outputId": "4e73e1f4-c885-49df-aa8e-2b98c1ce9ffc",
        "id": "XZB1CqZy1y69"
      },
      "outputs": [
        {
          "output_type": "stream",
          "name": "stdout",
          "text": [
            "Uninfected\n",
            "10335\n",
            "3445\n",
            "Parasitized\n",
            "10335\n",
            "3445\n"
          ]
        }
      ],
      "source": [
        "import random\n",
        "def train_valid_test_split(source, train_dir, test_dir,train_size, test_size):\n",
        "    # get files\n",
        "    files = []\n",
        "    for filename in os.listdir(source):\n",
        "        file = source + filename\n",
        "        if os.path.getsize(file) > 0:\n",
        "            files.append(filename)\n",
        "    \n",
        "    # train valid split\n",
        "    train_size = int(len(files) * (1-train_size))\n",
        "    test_size = int(len(files) * (train_size))\n",
        "  \n",
        "    # shuffle the dataset\n",
        "    shuffled_files = random.sample(files, len(files))\n",
        "    \n",
        "    train_set = shuffled_files[train_size:]\n",
        "    test_set = shuffled_files[:train_size]\n",
        "    \n",
        "    for filename in train_set:\n",
        "        filepath = source + filename\n",
        "        destination = train_dir + filename\n",
        "        copyfile(filepath, destination)    \n",
        "    \n",
        "    for filename in test_set:\n",
        "        filepath = source + filename\n",
        "        destination = test_dir + filename\n",
        "        copyfile(filepath, destination)\n",
        "\n",
        "SOURCE = \"/content/Malaria-Classification/Dataset/\"\n",
        "\n",
        "for label in ['Uninfected', 'Parasitized']:\n",
        "    print(label)\n",
        "    train_valid_test_split(SOURCE+label+'/', TRAIN_DIR +label+'/', TEST_DIR +label+'/', train_size=0.75, test_size=0.25)\n",
        "    print(len(os.listdir(TRAIN_DIR +label+'/')))\n",
        "    print(len(os.listdir(TEST_DIR +label+'/')))"
      ]
    },
    {
      "cell_type": "markdown",
      "source": [
        "Preprocessing"
      ],
      "metadata": {
        "id": "KrdYe7oH3Cad"
      }
    },
    {
      "cell_type": "code",
      "source": [
        "from keras.preprocessing.image import ImageDataGenerator\n",
        "train_datagen = ImageDataGenerator(\n",
        "        rescale=1./255,\n",
        "        rotation_range=45,\n",
        "        shear_range=0.2,\n",
        "        vertical_flip=True,\n",
        "        horizontal_flip=True,\n",
        "        )\n",
        "\n",
        "train_generator = train_datagen.flow_from_directory(\n",
        "        TRAIN_DIR,  \n",
        "        target_size = (64, 64),\n",
        "        batch_size=32,\n",
        "        color_mode='rgb',\n",
        "        class_mode = 'binary',\n",
        "        shuffle=True,\n",
        "        )"
      ],
      "metadata": {
        "colab": {
          "base_uri": "https://localhost:8080/"
        },
        "outputId": "7982fa6a-7ce5-41a3-c360-2827907cebdd",
        "id": "pGQ2w9Mt1y6_"
      },
      "execution_count": null,
      "outputs": [
        {
          "output_type": "stream",
          "name": "stdout",
          "text": [
            "Found 20668 images belonging to 2 classes.\n"
          ]
        }
      ]
    },
    {
      "cell_type": "code",
      "source": [
        "test_datagen = ImageDataGenerator(\n",
        "        rescale=1./255)\n",
        "\n",
        "test_generator = test_datagen.flow_from_directory(\n",
        "        TEST_DIR,\n",
        "        target_size = (64, 64),\n",
        "        batch_size=32,\n",
        "        color_mode='rgb',\n",
        "        class_mode = 'binary',\n",
        "        shuffle=True,\n",
        ")"
      ],
      "metadata": {
        "colab": {
          "base_uri": "https://localhost:8080/"
        },
        "id": "BDIuWTXcOUUm",
        "outputId": "5d6a1496-2e12-4972-e32e-1de7062a75bf"
      },
      "execution_count": null,
      "outputs": [
        {
          "output_type": "stream",
          "name": "stdout",
          "text": [
            "Found 6890 images belonging to 2 classes.\n"
          ]
        }
      ]
    },
    {
      "cell_type": "markdown",
      "source": [
        "Model CNN"
      ],
      "metadata": {
        "id": "aY0jtO8Z3JTe"
      }
    },
    {
      "cell_type": "code",
      "source": [
        "import tensorflow as tf\n",
        "from tensorflow.keras.models import Sequential, load_model\n",
        "from tensorflow.keras.optimizers import RMSprop\n",
        "from tensorflow.keras.layers import Dense, Conv2D, AveragePooling2D, MaxPooling2D, Flatten, BatchNormalization, Dropout\n",
        "model1 = tf.keras.models.Sequential([\n",
        "    tf.keras.layers.Conv2D(16, (3,3), activation='relu', padding='same', input_shape=(64, 64, 3)),\n",
        "    tf.keras.layers.BatchNormalization(),\n",
        "    tf.keras.layers.MaxPooling2D(2, 2),\n",
        "    \n",
        "    tf.keras.layers.Conv2D(32, (3,3), activation='relu', padding='same'),\n",
        "    tf.keras.layers.BatchNormalization(),\n",
        "    tf.keras.layers.MaxPooling2D(2, 2),\n",
        "    \n",
        "    tf.keras.layers.Conv2D(64, (3,3), activation='relu', padding='same'),\n",
        "    tf.keras.layers.BatchNormalization(),\n",
        "    tf.keras.layers.MaxPooling2D(2, 2),\n",
        "    \n",
        "    tf.keras.layers.Conv2D(128, (3,3), activation='relu', padding='same'),\n",
        "    tf.keras.layers.BatchNormalization(),\n",
        "    tf.keras.layers.MaxPooling2D(2, 2), \n",
        "    \n",
        "    tf.keras.layers.Flatten(),\n",
        "    \n",
        "    tf.keras.layers.Dense(512, activation='relu'),\n",
        "    tf.keras.layers.BatchNormalization(),\n",
        "    tf.keras.layers.Dropout(0.1),\n",
        "    \n",
        "    tf.keras.layers.Dense(1, activation='sigmoid')\n",
        "])\n",
        "\n",
        "model1.compile(loss='binary_crossentropy',\n",
        "              optimizer=RMSprop(lr=0.001),\n",
        "              metrics=['acc'])"
      ],
      "metadata": {
        "id": "MIE6SARFSNOh",
        "colab": {
          "base_uri": "https://localhost:8080/"
        },
        "outputId": "e529d6dd-10a0-42f7-df37-31a87c46e95f"
      },
      "execution_count": null,
      "outputs": [
        {
          "output_type": "stream",
          "name": "stderr",
          "text": [
            "/usr/local/lib/python3.7/dist-packages/keras/optimizer_v2/rmsprop.py:130: UserWarning: The `lr` argument is deprecated, use `learning_rate` instead.\n",
            "  super(RMSprop, self).__init__(name, **kwargs)\n"
          ]
        }
      ]
    },
    {
      "cell_type": "code",
      "source": [
        "# Print model summary\n",
        "print(model1.summary())"
      ],
      "metadata": {
        "id": "czbFKLwqmaMu",
        "colab": {
          "base_uri": "https://localhost:8080/"
        },
        "outputId": "ab171d33-4071-4eb8-bf0e-8d6a533f9753"
      },
      "execution_count": null,
      "outputs": [
        {
          "output_type": "stream",
          "name": "stdout",
          "text": [
            "Model: \"sequential\"\n",
            "_________________________________________________________________\n",
            " Layer (type)                Output Shape              Param #   \n",
            "=================================================================\n",
            " conv2d (Conv2D)             (None, 64, 64, 16)        448       \n",
            "                                                                 \n",
            " batch_normalization (BatchN  (None, 64, 64, 16)       64        \n",
            " ormalization)                                                   \n",
            "                                                                 \n",
            " max_pooling2d (MaxPooling2D  (None, 32, 32, 16)       0         \n",
            " )                                                               \n",
            "                                                                 \n",
            " conv2d_1 (Conv2D)           (None, 32, 32, 32)        4640      \n",
            "                                                                 \n",
            " batch_normalization_1 (Batc  (None, 32, 32, 32)       128       \n",
            " hNormalization)                                                 \n",
            "                                                                 \n",
            " max_pooling2d_1 (MaxPooling  (None, 16, 16, 32)       0         \n",
            " 2D)                                                             \n",
            "                                                                 \n",
            " conv2d_2 (Conv2D)           (None, 16, 16, 64)        18496     \n",
            "                                                                 \n",
            " batch_normalization_2 (Batc  (None, 16, 16, 64)       256       \n",
            " hNormalization)                                                 \n",
            "                                                                 \n",
            " max_pooling2d_2 (MaxPooling  (None, 8, 8, 64)         0         \n",
            " 2D)                                                             \n",
            "                                                                 \n",
            " conv2d_3 (Conv2D)           (None, 8, 8, 128)         73856     \n",
            "                                                                 \n",
            " batch_normalization_3 (Batc  (None, 8, 8, 128)        512       \n",
            " hNormalization)                                                 \n",
            "                                                                 \n",
            " max_pooling2d_3 (MaxPooling  (None, 4, 4, 128)        0         \n",
            " 2D)                                                             \n",
            "                                                                 \n",
            " flatten (Flatten)           (None, 2048)              0         \n",
            "                                                                 \n",
            " dense (Dense)               (None, 512)               1049088   \n",
            "                                                                 \n",
            " batch_normalization_4 (Batc  (None, 512)              2048      \n",
            " hNormalization)                                                 \n",
            "                                                                 \n",
            " dropout (Dropout)           (None, 512)               0         \n",
            "                                                                 \n",
            " dense_1 (Dense)             (None, 1)                 513       \n",
            "                                                                 \n",
            "=================================================================\n",
            "Total params: 1,150,049\n",
            "Trainable params: 1,148,545\n",
            "Non-trainable params: 1,504\n",
            "_________________________________________________________________\n",
            "None\n"
          ]
        }
      ]
    },
    {
      "cell_type": "markdown",
      "source": [
        "Training Model\n",
        "\n",
        "Pada penelitian ini data Test juga digunakan sebagai Data Validation saat training epoch"
      ],
      "metadata": {
        "id": "mqDhV8LX3MNB"
      }
    },
    {
      "cell_type": "code",
      "source": [
        "history1 = model1.fit_generator(\n",
        "        train_generator,\n",
        "        epochs=100,\n",
        "        validation_data=test_generator,\n",
        "        )"
      ],
      "metadata": {
        "colab": {
          "base_uri": "https://localhost:8080/"
        },
        "outputId": "ab2ff873-7fd9-47a3-e81a-e8f3bdb5bb8f",
        "id": "H4Y-RtaP4C3D"
      },
      "execution_count": null,
      "outputs": [
        {
          "metadata": {
            "tags": null
          },
          "name": "stderr",
          "output_type": "stream",
          "text": [
            "/usr/local/lib/python3.7/dist-packages/ipykernel_launcher.py:4: UserWarning: `Model.fit_generator` is deprecated and will be removed in a future version. Please use `Model.fit`, which supports generators.\n",
            "  after removing the cwd from sys.path.\n"
          ]
        },
        {
          "output_type": "stream",
          "name": "stdout",
          "text": [
            "Epoch 1/100\n",
            "646/646 [==============================] - 64s 77ms/step - loss: 0.2756 - acc: 0.8982 - val_loss: 0.1995 - val_acc: 0.9412\n",
            "Epoch 2/100\n",
            "646/646 [==============================] - 51s 79ms/step - loss: 0.1543 - acc: 0.9503 - val_loss: 0.1807 - val_acc: 0.9374\n",
            "Epoch 3/100\n",
            "646/646 [==============================] - 49s 76ms/step - loss: 0.1458 - acc: 0.9524 - val_loss: 0.1357 - val_acc: 0.9581\n",
            "Epoch 4/100\n",
            "646/646 [==============================] - 49s 76ms/step - loss: 0.1369 - acc: 0.9557 - val_loss: 0.1374 - val_acc: 0.9553\n",
            "Epoch 5/100\n",
            "646/646 [==============================] - 50s 77ms/step - loss: 0.1342 - acc: 0.9558 - val_loss: 0.1284 - val_acc: 0.9573\n",
            "Epoch 6/100\n",
            "646/646 [==============================] - 49s 76ms/step - loss: 0.1296 - acc: 0.9558 - val_loss: 0.1231 - val_acc: 0.9623\n",
            "Epoch 7/100\n",
            "646/646 [==============================] - 49s 76ms/step - loss: 0.1265 - acc: 0.9580 - val_loss: 0.1356 - val_acc: 0.9553\n",
            "Epoch 8/100\n",
            "646/646 [==============================] - 50s 77ms/step - loss: 0.1224 - acc: 0.9599 - val_loss: 0.1164 - val_acc: 0.9595\n",
            "Epoch 9/100\n",
            "646/646 [==============================] - 49s 76ms/step - loss: 0.1191 - acc: 0.9607 - val_loss: 0.1685 - val_acc: 0.9520\n",
            "Epoch 10/100\n",
            "646/646 [==============================] - 51s 79ms/step - loss: 0.1183 - acc: 0.9608 - val_loss: 0.1361 - val_acc: 0.9623\n",
            "Epoch 11/100\n",
            "646/646 [==============================] - 55s 85ms/step - loss: 0.1172 - acc: 0.9608 - val_loss: 0.1269 - val_acc: 0.9607\n",
            "Epoch 12/100\n",
            "646/646 [==============================] - 54s 84ms/step - loss: 0.1147 - acc: 0.9615 - val_loss: 0.1441 - val_acc: 0.9557\n",
            "Epoch 13/100\n",
            "646/646 [==============================] - 56s 86ms/step - loss: 0.1121 - acc: 0.9632 - val_loss: 0.1170 - val_acc: 0.9604\n",
            "Epoch 14/100\n",
            "646/646 [==============================] - 55s 85ms/step - loss: 0.1103 - acc: 0.9633 - val_loss: 0.1511 - val_acc: 0.9441\n",
            "Epoch 15/100\n",
            "646/646 [==============================] - 55s 85ms/step - loss: 0.1122 - acc: 0.9628 - val_loss: 0.1130 - val_acc: 0.9624\n",
            "Epoch 16/100\n",
            "646/646 [==============================] - 55s 85ms/step - loss: 0.1106 - acc: 0.9627 - val_loss: 0.1427 - val_acc: 0.9472\n",
            "Epoch 17/100\n",
            "646/646 [==============================] - 55s 85ms/step - loss: 0.1121 - acc: 0.9637 - val_loss: 0.1142 - val_acc: 0.9623\n",
            "Epoch 18/100\n",
            "646/646 [==============================] - 55s 86ms/step - loss: 0.1106 - acc: 0.9643 - val_loss: 0.1083 - val_acc: 0.9646\n",
            "Epoch 19/100\n",
            "646/646 [==============================] - 56s 87ms/step - loss: 0.1074 - acc: 0.9648 - val_loss: 0.1254 - val_acc: 0.9563\n",
            "Epoch 20/100\n",
            "646/646 [==============================] - 55s 86ms/step - loss: 0.1077 - acc: 0.9642 - val_loss: 0.1151 - val_acc: 0.9611\n",
            "Epoch 21/100\n",
            "646/646 [==============================] - 55s 85ms/step - loss: 0.1068 - acc: 0.9651 - val_loss: 0.1366 - val_acc: 0.9575\n",
            "Epoch 22/100\n",
            "646/646 [==============================] - 54s 84ms/step - loss: 0.1077 - acc: 0.9647 - val_loss: 0.1227 - val_acc: 0.9611\n",
            "Epoch 23/100\n",
            "646/646 [==============================] - 55s 85ms/step - loss: 0.1066 - acc: 0.9659 - val_loss: 0.1317 - val_acc: 0.9597\n",
            "Epoch 24/100\n",
            "646/646 [==============================] - 54s 84ms/step - loss: 0.1041 - acc: 0.9656 - val_loss: 0.1364 - val_acc: 0.9547\n",
            "Epoch 25/100\n",
            "646/646 [==============================] - 54s 83ms/step - loss: 0.1071 - acc: 0.9645 - val_loss: 0.1003 - val_acc: 0.9655\n",
            "Epoch 26/100\n",
            "646/646 [==============================] - 54s 83ms/step - loss: 0.1001 - acc: 0.9666 - val_loss: 0.1598 - val_acc: 0.9508\n",
            "Epoch 27/100\n",
            "646/646 [==============================] - 54s 83ms/step - loss: 0.1048 - acc: 0.9642 - val_loss: 0.1046 - val_acc: 0.9628\n",
            "Epoch 28/100\n",
            "646/646 [==============================] - 54s 83ms/step - loss: 0.1010 - acc: 0.9666 - val_loss: 0.1155 - val_acc: 0.9639\n",
            "Epoch 29/100\n",
            "646/646 [==============================] - 54s 84ms/step - loss: 0.1017 - acc: 0.9665 - val_loss: 0.1469 - val_acc: 0.9550\n",
            "Epoch 30/100\n",
            "646/646 [==============================] - 55s 84ms/step - loss: 0.1028 - acc: 0.9665 - val_loss: 0.1055 - val_acc: 0.9627\n",
            "Epoch 31/100\n",
            "646/646 [==============================] - 54s 84ms/step - loss: 0.1001 - acc: 0.9669 - val_loss: 0.1178 - val_acc: 0.9594\n",
            "Epoch 32/100\n",
            "646/646 [==============================] - 54s 83ms/step - loss: 0.1027 - acc: 0.9673 - val_loss: 0.1376 - val_acc: 0.9579\n",
            "Epoch 33/100\n",
            "646/646 [==============================] - 53s 82ms/step - loss: 0.0990 - acc: 0.9673 - val_loss: 0.1482 - val_acc: 0.9567\n",
            "Epoch 34/100\n",
            "646/646 [==============================] - 53s 82ms/step - loss: 0.1001 - acc: 0.9662 - val_loss: 0.1017 - val_acc: 0.9650\n",
            "Epoch 35/100\n",
            "646/646 [==============================] - 54s 83ms/step - loss: 0.0972 - acc: 0.9676 - val_loss: 0.1043 - val_acc: 0.9646\n",
            "Epoch 36/100\n",
            "646/646 [==============================] - 53s 83ms/step - loss: 0.0978 - acc: 0.9673 - val_loss: 0.1121 - val_acc: 0.9655\n",
            "Epoch 37/100\n",
            "646/646 [==============================] - 54s 83ms/step - loss: 0.0980 - acc: 0.9669 - val_loss: 0.1104 - val_acc: 0.9649\n",
            "Epoch 38/100\n",
            "646/646 [==============================] - 53s 82ms/step - loss: 0.0987 - acc: 0.9677 - val_loss: 0.1289 - val_acc: 0.9621\n",
            "Epoch 39/100\n",
            "646/646 [==============================] - 53s 83ms/step - loss: 0.0970 - acc: 0.9681 - val_loss: 0.1078 - val_acc: 0.9652\n",
            "Epoch 40/100\n",
            "646/646 [==============================] - 53s 82ms/step - loss: 0.0986 - acc: 0.9676 - val_loss: 0.1361 - val_acc: 0.9620\n",
            "Epoch 41/100\n",
            "646/646 [==============================] - 53s 81ms/step - loss: 0.0960 - acc: 0.9679 - val_loss: 0.1004 - val_acc: 0.9671\n",
            "Epoch 42/100\n",
            "646/646 [==============================] - 53s 82ms/step - loss: 0.0947 - acc: 0.9679 - val_loss: 0.1766 - val_acc: 0.9469\n",
            "Epoch 43/100\n",
            "646/646 [==============================] - 53s 83ms/step - loss: 0.1001 - acc: 0.9682 - val_loss: 0.1161 - val_acc: 0.9614\n",
            "Epoch 44/100\n",
            "646/646 [==============================] - 54s 83ms/step - loss: 0.1029 - acc: 0.9660 - val_loss: 0.1135 - val_acc: 0.9624\n",
            "Epoch 45/100\n",
            "646/646 [==============================] - 53s 83ms/step - loss: 0.1026 - acc: 0.9661 - val_loss: 0.1383 - val_acc: 0.9522\n",
            "Epoch 46/100\n",
            "646/646 [==============================] - 53s 82ms/step - loss: 0.0968 - acc: 0.9679 - val_loss: 0.1135 - val_acc: 0.9642\n",
            "Epoch 47/100\n",
            "646/646 [==============================] - 53s 82ms/step - loss: 0.0962 - acc: 0.9687 - val_loss: 0.1097 - val_acc: 0.9685\n",
            "Epoch 48/100\n",
            "646/646 [==============================] - 53s 83ms/step - loss: 0.0969 - acc: 0.9684 - val_loss: 0.1163 - val_acc: 0.9623\n",
            "Epoch 49/100\n",
            "646/646 [==============================] - 53s 83ms/step - loss: 0.0979 - acc: 0.9684 - val_loss: 0.1131 - val_acc: 0.9655\n",
            "Epoch 50/100\n",
            "646/646 [==============================] - 54s 83ms/step - loss: 0.0972 - acc: 0.9676 - val_loss: 0.1179 - val_acc: 0.9607\n",
            "Epoch 51/100\n",
            "646/646 [==============================] - 54s 84ms/step - loss: 0.0981 - acc: 0.9674 - val_loss: 0.1127 - val_acc: 0.9612\n",
            "Epoch 52/100\n",
            "646/646 [==============================] - 53s 83ms/step - loss: 0.0948 - acc: 0.9684 - val_loss: 0.1079 - val_acc: 0.9675\n",
            "Epoch 53/100\n",
            "646/646 [==============================] - 53s 82ms/step - loss: 0.0974 - acc: 0.9690 - val_loss: 0.1153 - val_acc: 0.9639\n",
            "Epoch 54/100\n",
            "646/646 [==============================] - 53s 83ms/step - loss: 0.0937 - acc: 0.9686 - val_loss: 0.0986 - val_acc: 0.9663\n",
            "Epoch 55/100\n",
            "646/646 [==============================] - 54s 83ms/step - loss: 0.0946 - acc: 0.9686 - val_loss: 0.1578 - val_acc: 0.9566\n",
            "Epoch 56/100\n",
            "646/646 [==============================] - 53s 82ms/step - loss: 0.0956 - acc: 0.9690 - val_loss: 0.1080 - val_acc: 0.9652\n",
            "Epoch 57/100\n",
            "646/646 [==============================] - 53s 83ms/step - loss: 0.0945 - acc: 0.9692 - val_loss: 0.1008 - val_acc: 0.9642\n",
            "Epoch 58/100\n",
            "646/646 [==============================] - 53s 82ms/step - loss: 0.0914 - acc: 0.9693 - val_loss: 0.1000 - val_acc: 0.9656\n",
            "Epoch 59/100\n",
            "646/646 [==============================] - 53s 83ms/step - loss: 0.0929 - acc: 0.9699 - val_loss: 0.1081 - val_acc: 0.9633\n",
            "Epoch 60/100\n",
            "646/646 [==============================] - 53s 82ms/step - loss: 0.0940 - acc: 0.9682 - val_loss: 0.1157 - val_acc: 0.9653\n",
            "Epoch 61/100\n",
            "646/646 [==============================] - 53s 82ms/step - loss: 0.0918 - acc: 0.9704 - val_loss: 0.1093 - val_acc: 0.9650\n",
            "Epoch 62/100\n",
            "646/646 [==============================] - 53s 82ms/step - loss: 0.0912 - acc: 0.9712 - val_loss: 0.1232 - val_acc: 0.9643\n",
            "Epoch 63/100\n",
            "646/646 [==============================] - 54s 83ms/step - loss: 0.0893 - acc: 0.9710 - val_loss: 0.1016 - val_acc: 0.9669\n",
            "Epoch 64/100\n",
            "646/646 [==============================] - 54s 83ms/step - loss: 0.0918 - acc: 0.9706 - val_loss: 0.1197 - val_acc: 0.9650\n",
            "Epoch 65/100\n",
            "646/646 [==============================] - 54s 84ms/step - loss: 0.0921 - acc: 0.9697 - val_loss: 0.1121 - val_acc: 0.9626\n",
            "Epoch 66/100\n",
            "646/646 [==============================] - 54s 84ms/step - loss: 0.0899 - acc: 0.9701 - val_loss: 0.1128 - val_acc: 0.9608\n",
            "Epoch 67/100\n",
            "646/646 [==============================] - 54s 84ms/step - loss: 0.0911 - acc: 0.9701 - val_loss: 0.1061 - val_acc: 0.9652\n",
            "Epoch 68/100\n",
            "646/646 [==============================] - 54s 83ms/step - loss: 0.0901 - acc: 0.9699 - val_loss: 0.1194 - val_acc: 0.9637\n",
            "Epoch 69/100\n",
            "646/646 [==============================] - 54s 83ms/step - loss: 0.0900 - acc: 0.9702 - val_loss: 0.1111 - val_acc: 0.9659\n",
            "Epoch 70/100\n",
            "646/646 [==============================] - 53s 83ms/step - loss: 0.0898 - acc: 0.9710 - val_loss: 0.1026 - val_acc: 0.9652\n",
            "Epoch 71/100\n",
            "646/646 [==============================] - 53s 83ms/step - loss: 0.0899 - acc: 0.9704 - val_loss: 0.1006 - val_acc: 0.9663\n",
            "Epoch 72/100\n",
            "646/646 [==============================] - 53s 83ms/step - loss: 0.0890 - acc: 0.9703 - val_loss: 0.1083 - val_acc: 0.9656\n",
            "Epoch 73/100\n",
            "646/646 [==============================] - 57s 88ms/step - loss: 0.0911 - acc: 0.9697 - val_loss: 0.1061 - val_acc: 0.9666\n",
            "Epoch 74/100\n",
            "646/646 [==============================] - 54s 83ms/step - loss: 0.0897 - acc: 0.9712 - val_loss: 0.1099 - val_acc: 0.9653\n",
            "Epoch 75/100\n",
            "646/646 [==============================] - 54s 84ms/step - loss: 0.0879 - acc: 0.9716 - val_loss: 0.1110 - val_acc: 0.9639\n",
            "Epoch 76/100\n",
            "646/646 [==============================] - 54s 83ms/step - loss: 0.0896 - acc: 0.9708 - val_loss: 0.1145 - val_acc: 0.9644\n",
            "Epoch 77/100\n",
            "646/646 [==============================] - 54s 84ms/step - loss: 0.0920 - acc: 0.9705 - val_loss: 0.1042 - val_acc: 0.9657\n",
            "Epoch 78/100\n",
            "646/646 [==============================] - 54s 83ms/step - loss: 0.0869 - acc: 0.9713 - val_loss: 0.1095 - val_acc: 0.9655\n",
            "Epoch 79/100\n",
            "646/646 [==============================] - 54s 83ms/step - loss: 0.0892 - acc: 0.9707 - val_loss: 0.1095 - val_acc: 0.9624\n",
            "Epoch 80/100\n",
            "646/646 [==============================] - 54s 83ms/step - loss: 0.0858 - acc: 0.9714 - val_loss: 0.1117 - val_acc: 0.9631\n",
            "Epoch 81/100\n",
            "646/646 [==============================] - 54s 83ms/step - loss: 0.0873 - acc: 0.9708 - val_loss: 0.1062 - val_acc: 0.9649\n",
            "Epoch 82/100\n",
            "646/646 [==============================] - 54s 83ms/step - loss: 0.0872 - acc: 0.9712 - val_loss: 0.1157 - val_acc: 0.9604\n",
            "Epoch 83/100\n",
            "646/646 [==============================] - 53s 83ms/step - loss: 0.0858 - acc: 0.9713 - val_loss: 0.1020 - val_acc: 0.9679\n",
            "Epoch 84/100\n",
            "646/646 [==============================] - 54s 83ms/step - loss: 0.0860 - acc: 0.9706 - val_loss: 0.1143 - val_acc: 0.9599\n",
            "Epoch 85/100\n",
            "646/646 [==============================] - 54s 83ms/step - loss: 0.0866 - acc: 0.9712 - val_loss: 0.1012 - val_acc: 0.9673\n",
            "Epoch 86/100\n",
            "646/646 [==============================] - 54s 84ms/step - loss: 0.0865 - acc: 0.9719 - val_loss: 0.1098 - val_acc: 0.9602\n",
            "Epoch 87/100\n",
            "646/646 [==============================] - 54s 83ms/step - loss: 0.0843 - acc: 0.9723 - val_loss: 0.1045 - val_acc: 0.9653\n",
            "Epoch 88/100\n",
            "646/646 [==============================] - 54s 83ms/step - loss: 0.0824 - acc: 0.9718 - val_loss: 0.1044 - val_acc: 0.9660\n",
            "Epoch 89/100\n",
            "646/646 [==============================] - 53s 83ms/step - loss: 0.0871 - acc: 0.9716 - val_loss: 0.1073 - val_acc: 0.9639\n",
            "Epoch 90/100\n",
            "646/646 [==============================] - 53s 82ms/step - loss: 0.0844 - acc: 0.9715 - val_loss: 0.1073 - val_acc: 0.9652\n",
            "Epoch 91/100\n",
            "646/646 [==============================] - 53s 83ms/step - loss: 0.0837 - acc: 0.9731 - val_loss: 0.1173 - val_acc: 0.9640\n",
            "Epoch 92/100\n",
            "646/646 [==============================] - 53s 83ms/step - loss: 0.0857 - acc: 0.9717 - val_loss: 0.1247 - val_acc: 0.9640\n",
            "Epoch 93/100\n",
            "646/646 [==============================] - 54s 84ms/step - loss: 0.0833 - acc: 0.9720 - val_loss: 0.1020 - val_acc: 0.9671\n",
            "Epoch 94/100\n",
            "646/646 [==============================] - 54s 83ms/step - loss: 0.0821 - acc: 0.9731 - val_loss: 0.1146 - val_acc: 0.9605\n",
            "Epoch 95/100\n",
            "646/646 [==============================] - 54s 83ms/step - loss: 0.0851 - acc: 0.9714 - val_loss: 0.1300 - val_acc: 0.9530\n",
            "Epoch 96/100\n",
            "646/646 [==============================] - 54s 83ms/step - loss: 0.0829 - acc: 0.9733 - val_loss: 0.1091 - val_acc: 0.9672\n",
            "Epoch 97/100\n",
            "646/646 [==============================] - 54s 83ms/step - loss: 0.0829 - acc: 0.9726 - val_loss: 0.1047 - val_acc: 0.9669\n",
            "Epoch 98/100\n",
            "646/646 [==============================] - 54s 83ms/step - loss: 0.0814 - acc: 0.9724 - val_loss: 0.1075 - val_acc: 0.9672\n",
            "Epoch 99/100\n",
            "646/646 [==============================] - 56s 86ms/step - loss: 0.0865 - acc: 0.9715 - val_loss: 0.0997 - val_acc: 0.9660\n",
            "Epoch 100/100\n",
            "646/646 [==============================] - 54s 84ms/step - loss: 0.0799 - acc: 0.9737 - val_loss: 0.1073 - val_acc: 0.9673\n"
          ]
        }
      ]
    },
    {
      "cell_type": "code",
      "source": [
        "model1.evaluate_generator(test_generator, verbose=1)"
      ],
      "metadata": {
        "colab": {
          "base_uri": "https://localhost:8080/"
        },
        "outputId": "4076409e-e562-4534-e324-f7b9bdca9bfc",
        "id": "A2-Zj6zfE70F"
      },
      "execution_count": null,
      "outputs": [
        {
          "output_type": "stream",
          "name": "stdout",
          "text": [
            "  3/216 [..............................] - ETA: 7s - loss: 0.2362 - acc: 0.9375 "
          ]
        },
        {
          "output_type": "stream",
          "name": "stderr",
          "text": [
            "/usr/local/lib/python3.7/dist-packages/ipykernel_launcher.py:1: UserWarning: `Model.evaluate_generator` is deprecated and will be removed in a future version. Please use `Model.evaluate`, which supports generators.\n",
            "  \"\"\"Entry point for launching an IPython kernel.\n"
          ]
        },
        {
          "output_type": "stream",
          "name": "stdout",
          "text": [
            "216/216 [==============================] - 8s 35ms/step - loss: 0.1073 - acc: 0.9673\n"
          ]
        },
        {
          "output_type": "execute_result",
          "data": {
            "text/plain": [
              "[0.10729283839464188, 0.9673439860343933]"
            ]
          },
          "metadata": {},
          "execution_count": 9
        }
      ]
    },
    {
      "cell_type": "code",
      "execution_count": null,
      "metadata": {
        "colab": {
          "base_uri": "https://localhost:8080/"
        },
        "outputId": "e788126c-105b-4e17-cfa8-6c3c07129106",
        "id": "k4kT5UChE70H"
      },
      "outputs": [
        {
          "output_type": "stream",
          "name": "stdout",
          "text": [
            "Train Accuracy : \n",
            "646/646 [==============================] - 44s 68ms/step - loss: 0.0761 - acc: 0.9751\n"
          ]
        },
        {
          "output_type": "execute_result",
          "data": {
            "text/plain": [
              "[0.0760602131485939, 0.9751306176185608]"
            ]
          },
          "metadata": {},
          "execution_count": 10
        }
      ],
      "source": [
        "print(\"Train Accuracy : \")\n",
        "model1.evaluate(train_generator)"
      ]
    },
    {
      "cell_type": "code",
      "execution_count": null,
      "metadata": {
        "colab": {
          "base_uri": "https://localhost:8080/"
        },
        "outputId": "c9cb966a-0824-4de2-d86d-df42dd4b0638",
        "id": "Bdw5wgCBE70I"
      },
      "outputs": [
        {
          "output_type": "stream",
          "name": "stdout",
          "text": [
            "Test Accuracy : \n",
            "216/216 [==============================] - 8s 37ms/step - loss: 0.1073 - acc: 0.9673\n"
          ]
        },
        {
          "output_type": "execute_result",
          "data": {
            "text/plain": [
              "[0.10729285329580307, 0.9673439860343933]"
            ]
          },
          "metadata": {},
          "execution_count": 11
        }
      ],
      "source": [
        "print(\"Test Accuracy : \")\n",
        "model1.evaluate(test_generator)"
      ]
    },
    {
      "cell_type": "code",
      "execution_count": null,
      "metadata": {
        "id": "WZ0mGNHJcOr3"
      },
      "outputs": [],
      "source": [
        "from sklearn.metrics import classification_report, confusion_matrix\n",
        "import seaborn as sns\n",
        "import matplotlib.pyplot as plt\n",
        "\n",
        "def evaluate(model1):\n",
        "  test_generator = test_datagen.flow_from_directory(\n",
        "      TEST_DIR, \n",
        "      target_size=(64,64), \n",
        "      batch_size=32, \n",
        "      class_mode='binary',\n",
        "      shuffle = False)\n",
        "\n",
        "  Y_pred = model1.predict_generator(test_generator)\n",
        "  y_pred = np.round(Y_pred).astype(int)\n",
        "\n",
        "  print('\\nConfusion Matrix\\n')\n",
        "  cm = confusion_matrix(test_generator.classes, y_pred)\n",
        "  plt.figure(figsize=(8, 8))\n",
        "  sns.heatmap(cm, annot=True, fmt='g', vmin=0, cmap='Blues', cbar=False)\n",
        "  plt.xticks(ticks=[0.5, 1.5], labels=['Parasitized','Uninfected'])\n",
        "  plt.yticks(ticks=[0.5, 1.5], labels=['Parasitized','Uninfected'])\n",
        "  plt.xlabel(\"Predicted\")\n",
        "  plt.ylabel(\"Actual\")\n",
        "  plt.title(\"Confusion Matrix\")\n",
        "  plt.show()\n",
        "\n",
        "  print('\\n\\nClassification Report\\n')\n",
        "  target_names = ['Parasitized','Uninfected']\n",
        "  print(classification_report(test_generator.classes, y_pred, target_names=target_names))\n",
        "\n",
        "  tn, fp, fn, tp = cm.ravel()\n",
        "\n",
        "  precision = tp/(tp+fp)\n",
        "  recall = tp/(tp+fn)\n",
        "  f = 2*((precision*recall)/(precision+recall))\n",
        "\n",
        "  print(\"recall of the model is \", recall)\n",
        "  print(\"precision of the model is \", precision)\n",
        "  print(\"F1-Score of the model is \", f)"
      ]
    },
    {
      "cell_type": "code",
      "execution_count": null,
      "metadata": {
        "colab": {
          "base_uri": "https://localhost:8080/",
          "height": 915
        },
        "outputId": "ee1f2da3-646d-4a76-89e9-0cfb91dd81c2",
        "id": "6CpEMaNJcOsW"
      },
      "outputs": [
        {
          "output_type": "stream",
          "name": "stdout",
          "text": [
            "Found 6890 images belonging to 2 classes.\n"
          ]
        },
        {
          "output_type": "stream",
          "name": "stderr",
          "text": [
            "/usr/local/lib/python3.7/dist-packages/ipykernel_launcher.py:13: UserWarning: `Model.predict_generator` is deprecated and will be removed in a future version. Please use `Model.predict`, which supports generators.\n",
            "  del sys.path[0]\n"
          ]
        },
        {
          "output_type": "stream",
          "name": "stdout",
          "text": [
            "\n",
            "Confusion Matrix\n",
            "\n"
          ]
        },
        {
          "output_type": "display_data",
          "data": {
            "text/plain": [
              "<Figure size 576x576 with 1 Axes>"
            ],
            "image/png": "[encoded data removed]"
          },
          "metadata": {
            "needs_background": "light"
          }
        },
        {
          "output_type": "stream",
          "name": "stdout",
          "text": [
            "\n",
            "\n",
            "Classification Report\n",
            "\n",
            "              precision    recall  f1-score   support\n",
            "\n",
            " Parasitized       0.98      0.96      0.97      3445\n",
            "  Uninfected       0.96      0.98      0.97      3445\n",
            "\n",
            "    accuracy                           0.97      6890\n",
            "   macro avg       0.97      0.97      0.97      6890\n",
            "weighted avg       0.97      0.97      0.97      6890\n",
            "\n",
            "recall of the model is  0.97677793904209\n",
            "precision of the model is  0.9586894586894587\n",
            "F1-Score of the model is  0.9676491732566498\n"
          ]
        }
      ],
      "source": [
        "evaluate(model1)"
      ]
    },
    {
      "cell_type": "code",
      "source": [
        "import matplotlib.pyplot as plt\n",
        "def eval_plot(history1):\n",
        "\n",
        "  plt.figure(figsize=(14, 5))\n",
        "\n",
        "  # Accuracy plot\n",
        "  plt.subplot(1, 2, 1)\n",
        "  acc = history1.history['acc']\n",
        "  val_acc = history1.history['val_acc']\n",
        "  epochs = range(len(acc))\n",
        "  acc_plot, = plt.plot(epochs, acc, 'r')\n",
        "  val_acc_plot, = plt.plot(epochs, val_acc, 'b')\n",
        "  plt.title('Training and Validation Accuracy')\n",
        "  plt.legend([acc_plot, val_acc_plot], ['Training Accuracy', 'Validation Accuracy'])\n",
        "  plt.savefig(\"Accuracy1 Plot.svg\", format=\"svg\", dpi=1200)\n",
        "\n",
        "  # Loss plot\n",
        "  plt.subplot(1, 2, 2)\n",
        "  loss = history1.history['loss']\n",
        "  val_loss = history1.history['val_loss']\n",
        "  epochs = range(len(loss))\n",
        "  loss_plot, = plt.plot(epochs, loss, 'r')\n",
        "  val_loss_plot, = plt.plot(epochs, val_loss, 'b')\n",
        "  plt.title('Training and Validation Loss')\n",
        "  plt.legend([loss_plot, val_loss_plot], ['Training Loss', 'Validation Loss'])\n",
        "  plt.savefig(\"Loss1 Plot.svg\", format=\"svg\", dpi=1200)"
      ],
      "metadata": {
        "id": "DaeQs5m50BVz"
      },
      "execution_count": null,
      "outputs": []
    },
    {
      "cell_type": "code",
      "source": [
        "eval_plot(history1)"
      ],
      "metadata": {
        "colab": {
          "base_uri": "https://localhost:8080/",
          "height": 336
        },
        "outputId": "a1429340-34d4-4baa-cbd2-7a39224c3a27",
        "id": "CSR9QSJ00BV0"
      },
      "execution_count": null,
      "outputs": [
        {
          "output_type": "display_data",
          "data": {
            "text/plain": [
              "<Figure size 1008x360 with 2 Axes>"
            ],
            "image/png": "[encoded data removed]"
          },
          "metadata": {
            "needs_background": "light"
          }
        }
      ]
    },
    {
      "cell_type": "code",
      "execution_count": null,
      "metadata": {
        "colab": {
          "base_uri": "https://localhost:8080/"
        },
        "outputId": "b5f46ea2-32ad-45a4-87df-0db6bcb683a0",
        "id": "xoJ9JR-ucOsb"
      },
      "outputs": [
        {
          "output_type": "stream",
          "name": "stdout",
          "text": [
            "Saved model to disk\n"
          ]
        }
      ],
      "source": [
        "model1.save_weights(\"Model1.h5\")\n",
        "print(\"Saved model to disk\")"
      ]
    },
    {
      "cell_type": "code",
      "execution_count": null,
      "metadata": {
        "id": "kdZYtTvRcOsc"
      },
      "outputs": [],
      "source": [
        "# serialize model to JSON\n",
        "model1_json = model1.to_json()\n",
        "with open(\"Model1.json\", \"w\") as json_file: json_file.write(model1_json)"
      ]
    },
    {
      "cell_type": "code",
      "execution_count": null,
      "metadata": {
        "colab": {
          "base_uri": "https://localhost:8080/"
        },
        "outputId": "03e86b09-8751-411a-aeed-f4bd40775247",
        "id": "lhy2UtOIcOse"
      },
      "outputs": [
        {
          "output_type": "stream",
          "name": "stdout",
          "text": [
            "Saved model to disk\n"
          ]
        }
      ],
      "source": [
        "# serialize weights to HDF5\n",
        "model1.save(\"Model1.h5\")\n",
        "print(\"Saved model to disk\")"
      ]
    },
    {
      "cell_type": "markdown",
      "source": [
        "# Scenario 2 Splitting 80 : 20%"
      ],
      "metadata": {
        "id": "k_wIZO6Ow58-"
      }
    },
    {
      "cell_type": "markdown",
      "source": [
        "Skenario pengujian 2 menggunakan splitting data 80 : 20% dengan optimizer RMSprop"
      ],
      "metadata": {
        "id": "8X0yXkRyxeaf"
      }
    },
    {
      "cell_type": "code",
      "execution_count": null,
      "metadata": {
        "colab": {
          "base_uri": "https://localhost:8080/"
        },
        "id": "-f2dY5akqMcc",
        "outputId": "b7afd678-9cd2-4d1a-bc8a-98e748817d37"
      },
      "outputs": [
        {
          "output_type": "stream",
          "name": "stdout",
          "text": [
            "Cloning into 'Malaria-Classification'...\n",
            "remote: Enumerating objects: 27571, done.\u001b[K\n",
            "remote: Counting objects: 100% (6/6), done.\u001b[K\n",
            "remote: Compressing objects: 100% (5/5), done.\u001b[K\n",
            "remote: Total 27571 (delta 1), reused 6 (delta 1), pack-reused 27565\u001b[K\n",
            "Receiving objects: 100% (27571/27571), 331.87 MiB | 17.19 MiB/s, done.\n",
            "Resolving deltas: 100% (1/1), done.\n",
            "Checking out files: 100% (27561/27561), done.\n"
          ]
        }
      ],
      "source": [
        "!git clone https://github.com/chacacaliza/Malaria-Classification.git"
      ]
    },
    {
      "cell_type": "code",
      "execution_count": null,
      "metadata": {
        "id": "HExrb2GLmkyB"
      },
      "outputs": [],
      "source": [
        "import numpy as np\n",
        "import pandas as pd\n",
        "import os\n",
        "from shutil import copyfile\n",
        "\n",
        "TRAIN_DIR = \"/content/train/\"\n",
        "TEST_DIR =\"/content/test/\"\n",
        "\n",
        "os.mkdir(TRAIN_DIR)\n",
        "os.mkdir(TEST_DIR)\n",
        "\n",
        "for label in ['Uninfected', 'Parasitized']:\n",
        "    os.mkdir(TRAIN_DIR+label)\n",
        "    os.mkdir(TEST_DIR+label)"
      ]
    },
    {
      "cell_type": "code",
      "execution_count": null,
      "metadata": {
        "colab": {
          "base_uri": "https://localhost:8080/"
        },
        "id": "l-LngDpWjtTO",
        "outputId": "f4bcb89f-7904-4904-8ee3-3f5e45f7256f"
      },
      "outputs": [
        {
          "output_type": "stream",
          "name": "stdout",
          "text": [
            "Uninfected\n",
            "11025\n",
            "2755\n",
            "Parasitized\n",
            "11025\n",
            "2755\n"
          ]
        }
      ],
      "source": [
        "import random\n",
        "def train_valid_test_split(source, train_dir, test_dir,train_size, test_size):\n",
        "    # get files\n",
        "    files = []\n",
        "    for filename in os.listdir(source):\n",
        "        file = source + filename\n",
        "        if os.path.getsize(file) > 0:\n",
        "            files.append(filename)\n",
        "    \n",
        "    # train valid split\n",
        "    train_size = int(len(files) * (1-train_size))\n",
        "    test_size = int(len(files) * (train_size))\n",
        "  \n",
        "    # shuffle the dataset\n",
        "    shuffled_files = random.sample(files, len(files))\n",
        "    \n",
        "    train_set = shuffled_files[train_size:]\n",
        "    test_set = shuffled_files[:train_size]\n",
        "    \n",
        "    for filename in train_set:\n",
        "        filepath = source + filename\n",
        "        destination = train_dir + filename\n",
        "        copyfile(filepath, destination)    \n",
        "    \n",
        "    for filename in test_set:\n",
        "        filepath = source + filename\n",
        "        destination = test_dir + filename\n",
        "        copyfile(filepath, destination)\n",
        "\n",
        "SOURCE = \"/content/Malaria-Classification/Dataset/\"\n",
        "\n",
        "for label in ['Uninfected', 'Parasitized']:\n",
        "    print(label)\n",
        "    train_valid_test_split(SOURCE+label+'/', TRAIN_DIR +label+'/', TEST_DIR +label+'/', train_size=0.8, test_size=0.2)\n",
        "    print(len(os.listdir(TRAIN_DIR +label+'/')))\n",
        "    print(len(os.listdir(TEST_DIR +label+'/')))"
      ]
    },
    {
      "cell_type": "code",
      "source": [
        "from keras.preprocessing.image import ImageDataGenerator\n",
        "train_datagen = ImageDataGenerator(\n",
        "        rescale=1./255,\n",
        "        rotation_range=45,\n",
        "        shear_range=0.2,\n",
        "        vertical_flip=True,\n",
        "        horizontal_flip=True,\n",
        "        )\n",
        "\n",
        "train_generator = train_datagen.flow_from_directory(\n",
        "        TRAIN_DIR,  \n",
        "        target_size = (64, 64),\n",
        "        batch_size=32,\n",
        "        color_mode='rgb',\n",
        "        class_mode = 'binary',\n",
        "        shuffle=True,\n",
        "        )"
      ],
      "metadata": {
        "colab": {
          "base_uri": "https://localhost:8080/"
        },
        "id": "Gfpa2XUnRN9k",
        "outputId": "3613bf26-0450-4838-ffc7-e3c1fa7929f3"
      },
      "execution_count": null,
      "outputs": [
        {
          "output_type": "stream",
          "name": "stdout",
          "text": [
            "Found 22049 images belonging to 2 classes.\n"
          ]
        }
      ]
    },
    {
      "cell_type": "code",
      "source": [
        "test_datagen = ImageDataGenerator(\n",
        "      rescale=1./255)\n",
        "\n",
        "test_generator = test_datagen.flow_from_directory(\n",
        "        TEST_DIR,\n",
        "        target_size = (64, 64),\n",
        "        batch_size=32,\n",
        "        color_mode='rgb',\n",
        "        class_mode = 'binary',\n",
        "        shuffle=True,\n",
        ")"
      ],
      "metadata": {
        "colab": {
          "base_uri": "https://localhost:8080/"
        },
        "id": "ras4Ouf-o_x3",
        "outputId": "f708e97a-94a0-4ade-b870-0ba3bb61435b"
      },
      "execution_count": null,
      "outputs": [
        {
          "output_type": "stream",
          "name": "stdout",
          "text": [
            "Found 5509 images belonging to 2 classes.\n"
          ]
        }
      ]
    },
    {
      "cell_type": "code",
      "source": [
        "import tensorflow as tf\n",
        "from tensorflow.keras.models import Sequential, load_model\n",
        "from tensorflow.keras.optimizers import RMSprop\n",
        "from tensorflow.keras.layers import Dense, Conv2D, AveragePooling2D, MaxPooling2D, Flatten, BatchNormalization, Dropout\n",
        "model1 = tf.keras.models.Sequential([\n",
        "    tf.keras.layers.Conv2D(16, (3,3), activation='relu', padding='same', input_shape=(64, 64, 3)),\n",
        "    tf.keras.layers.BatchNormalization(),\n",
        "    tf.keras.layers.MaxPooling2D(2, 2),\n",
        "    \n",
        "    tf.keras.layers.Conv2D(32, (3,3), activation='relu', padding='same'),\n",
        "    tf.keras.layers.BatchNormalization(),\n",
        "    tf.keras.layers.MaxPooling2D(2, 2),\n",
        "    \n",
        "    tf.keras.layers.Conv2D(64, (3,3), activation='relu', padding='same'),\n",
        "    tf.keras.layers.BatchNormalization(),\n",
        "    tf.keras.layers.MaxPooling2D(2, 2),\n",
        "    \n",
        "    tf.keras.layers.Conv2D(128, (3,3), activation='relu', padding='same'),\n",
        "    tf.keras.layers.BatchNormalization(),\n",
        "    tf.keras.layers.MaxPooling2D(2, 2), \n",
        "    \n",
        "    tf.keras.layers.Flatten(),\n",
        "    \n",
        "    tf.keras.layers.Dense(512, activation='relu'),\n",
        "    tf.keras.layers.BatchNormalization(),\n",
        "    tf.keras.layers.Dropout(0.1),\n",
        "    \n",
        "    tf.keras.layers.Dense(1, activation='sigmoid')\n",
        "])\n",
        "\n",
        "model1.compile(loss='binary_crossentropy',\n",
        "              optimizer=RMSprop(lr=0.001),\n",
        "              metrics=['acc'])"
      ],
      "metadata": {
        "colab": {
          "base_uri": "https://localhost:8080/"
        },
        "outputId": "b6528020-7e75-430c-c447-c3802e4b861f",
        "id": "YJ-uHOnNkaXn"
      },
      "execution_count": null,
      "outputs": [
        {
          "output_type": "stream",
          "name": "stderr",
          "text": [
            "/usr/local/lib/python3.7/dist-packages/keras/optimizer_v2/rmsprop.py:130: UserWarning: The `lr` argument is deprecated, use `learning_rate` instead.\n",
            "  super(RMSprop, self).__init__(name, **kwargs)\n"
          ]
        }
      ]
    },
    {
      "cell_type": "code",
      "source": [
        "# Print model summary\n",
        "print(model1.summary())"
      ],
      "metadata": {
        "colab": {
          "base_uri": "https://localhost:8080/"
        },
        "outputId": "2deb4de1-01b6-4048-98eb-da661b61b0a7",
        "id": "enChSf-HkaXp"
      },
      "execution_count": null,
      "outputs": [
        {
          "output_type": "stream",
          "name": "stdout",
          "text": [
            "Model: \"sequential\"\n",
            "_________________________________________________________________\n",
            " Layer (type)                Output Shape              Param #   \n",
            "=================================================================\n",
            " conv2d (Conv2D)             (None, 64, 64, 16)        448       \n",
            "                                                                 \n",
            " batch_normalization (BatchN  (None, 64, 64, 16)       64        \n",
            " ormalization)                                                   \n",
            "                                                                 \n",
            " max_pooling2d (MaxPooling2D  (None, 32, 32, 16)       0         \n",
            " )                                                               \n",
            "                                                                 \n",
            " conv2d_1 (Conv2D)           (None, 32, 32, 32)        4640      \n",
            "                                                                 \n",
            " batch_normalization_1 (Batc  (None, 32, 32, 32)       128       \n",
            " hNormalization)                                                 \n",
            "                                                                 \n",
            " max_pooling2d_1 (MaxPooling  (None, 16, 16, 32)       0         \n",
            " 2D)                                                             \n",
            "                                                                 \n",
            " conv2d_2 (Conv2D)           (None, 16, 16, 64)        18496     \n",
            "                                                                 \n",
            " batch_normalization_2 (Batc  (None, 16, 16, 64)       256       \n",
            " hNormalization)                                                 \n",
            "                                                                 \n",
            " max_pooling2d_2 (MaxPooling  (None, 8, 8, 64)         0         \n",
            " 2D)                                                             \n",
            "                                                                 \n",
            " conv2d_3 (Conv2D)           (None, 8, 8, 128)         73856     \n",
            "                                                                 \n",
            " batch_normalization_3 (Batc  (None, 8, 8, 128)        512       \n",
            " hNormalization)                                                 \n",
            "                                                                 \n",
            " max_pooling2d_3 (MaxPooling  (None, 4, 4, 128)        0         \n",
            " 2D)                                                             \n",
            "                                                                 \n",
            " flatten (Flatten)           (None, 2048)              0         \n",
            "                                                                 \n",
            " dense (Dense)               (None, 512)               1049088   \n",
            "                                                                 \n",
            " batch_normalization_4 (Batc  (None, 512)              2048      \n",
            " hNormalization)                                                 \n",
            "                                                                 \n",
            " dropout (Dropout)           (None, 512)               0         \n",
            "                                                                 \n",
            " dense_1 (Dense)             (None, 1)                 513       \n",
            "                                                                 \n",
            "=================================================================\n",
            "Total params: 1,150,049\n",
            "Trainable params: 1,148,545\n",
            "Non-trainable params: 1,504\n",
            "_________________________________________________________________\n",
            "None\n"
          ]
        }
      ]
    },
    {
      "cell_type": "code",
      "source": [
        "history1 = model1.fit_generator(\n",
        "        train_generator,\n",
        "        epochs=100,\n",
        "        validation_data=test_generator,\n",
        "        )"
      ],
      "metadata": {
        "colab": {
          "base_uri": "https://localhost:8080/"
        },
        "id": "2zM_NAfBlGzU",
        "outputId": "40d1ad6a-7ca7-4224-d6fa-e26fdf4300a3"
      },
      "execution_count": null,
      "outputs": [
        {
          "output_type": "stream",
          "name": "stdout",
          "text": [
            "Epoch 1/100\n"
          ]
        },
        {
          "output_type": "stream",
          "name": "stderr",
          "text": [
            "/usr/local/lib/python3.7/dist-packages/ipykernel_launcher.py:4: UserWarning: `Model.fit_generator` is deprecated and will be removed in a future version. Please use `Model.fit`, which supports generators.\n",
            "  after removing the cwd from sys.path.\n"
          ]
        },
        {
          "output_type": "stream",
          "name": "stdout",
          "text": [
            "689/689 [==============================] - 71s 84ms/step - loss: 0.2953 - acc: 0.8874 - val_loss: 0.2025 - val_acc: 0.9298\n",
            "Epoch 2/100\n",
            "689/689 [==============================] - 52s 75ms/step - loss: 0.1691 - acc: 0.9462 - val_loss: 0.1659 - val_acc: 0.9416\n",
            "Epoch 3/100\n",
            "689/689 [==============================] - 50s 73ms/step - loss: 0.1479 - acc: 0.9517 - val_loss: 0.1205 - val_acc: 0.9601\n",
            "Epoch 4/100\n",
            "689/689 [==============================] - 51s 74ms/step - loss: 0.1459 - acc: 0.9529 - val_loss: 0.1662 - val_acc: 0.9505\n",
            "Epoch 5/100\n",
            "689/689 [==============================] - 50s 73ms/step - loss: 0.1404 - acc: 0.9532 - val_loss: 0.1587 - val_acc: 0.9470\n",
            "Epoch 6/100\n",
            "689/689 [==============================] - 51s 74ms/step - loss: 0.1353 - acc: 0.9572 - val_loss: 0.1310 - val_acc: 0.9555\n",
            "Epoch 7/100\n",
            "689/689 [==============================] - 50s 73ms/step - loss: 0.1321 - acc: 0.9551 - val_loss: 0.1227 - val_acc: 0.9603\n",
            "Epoch 8/100\n",
            "689/689 [==============================] - 51s 74ms/step - loss: 0.1279 - acc: 0.9580 - val_loss: 0.1834 - val_acc: 0.9430\n",
            "Epoch 9/100\n",
            "689/689 [==============================] - 50s 73ms/step - loss: 0.1268 - acc: 0.9575 - val_loss: 0.1174 - val_acc: 0.9608\n",
            "Epoch 10/100\n",
            "689/689 [==============================] - 50s 72ms/step - loss: 0.1245 - acc: 0.9604 - val_loss: 0.1893 - val_acc: 0.9347\n",
            "Epoch 11/100\n",
            "689/689 [==============================] - 50s 73ms/step - loss: 0.1261 - acc: 0.9585 - val_loss: 0.1062 - val_acc: 0.9628\n",
            "Epoch 12/100\n",
            "689/689 [==============================] - 50s 72ms/step - loss: 0.1187 - acc: 0.9615 - val_loss: 0.1627 - val_acc: 0.9477\n",
            "Epoch 13/100\n",
            "689/689 [==============================] - 50s 73ms/step - loss: 0.1175 - acc: 0.9616 - val_loss: 0.1318 - val_acc: 0.9599\n",
            "Epoch 14/100\n",
            "689/689 [==============================] - 50s 73ms/step - loss: 0.1165 - acc: 0.9625 - val_loss: 0.1907 - val_acc: 0.9368\n",
            "Epoch 15/100\n",
            "689/689 [==============================] - 49s 71ms/step - loss: 0.1171 - acc: 0.9628 - val_loss: 0.1204 - val_acc: 0.9557\n",
            "Epoch 16/100\n",
            "689/689 [==============================] - 49s 71ms/step - loss: 0.1156 - acc: 0.9629 - val_loss: 0.1129 - val_acc: 0.9606\n",
            "Epoch 17/100\n",
            "689/689 [==============================] - 49s 71ms/step - loss: 0.1119 - acc: 0.9628 - val_loss: 0.1303 - val_acc: 0.9670\n",
            "Epoch 18/100\n",
            "689/689 [==============================] - 49s 71ms/step - loss: 0.1125 - acc: 0.9629 - val_loss: 0.0948 - val_acc: 0.9697\n",
            "Epoch 19/100\n",
            "689/689 [==============================] - 49s 71ms/step - loss: 0.1129 - acc: 0.9627 - val_loss: 0.0968 - val_acc: 0.9670\n",
            "Epoch 20/100\n",
            "689/689 [==============================] - 49s 72ms/step - loss: 0.1153 - acc: 0.9640 - val_loss: 0.1120 - val_acc: 0.9608\n",
            "Epoch 21/100\n",
            "689/689 [==============================] - 49s 71ms/step - loss: 0.1114 - acc: 0.9641 - val_loss: 0.0861 - val_acc: 0.9693\n",
            "Epoch 22/100\n",
            "689/689 [==============================] - 49s 71ms/step - loss: 0.1094 - acc: 0.9634 - val_loss: 0.0942 - val_acc: 0.9686\n",
            "Epoch 23/100\n",
            "689/689 [==============================] - 49s 71ms/step - loss: 0.1095 - acc: 0.9636 - val_loss: 0.1020 - val_acc: 0.9650\n",
            "Epoch 24/100\n",
            "689/689 [==============================] - 49s 71ms/step - loss: 0.1101 - acc: 0.9641 - val_loss: 0.0965 - val_acc: 0.9661\n",
            "Epoch 25/100\n",
            "689/689 [==============================] - 49s 71ms/step - loss: 0.1067 - acc: 0.9652 - val_loss: 0.0930 - val_acc: 0.9688\n",
            "Epoch 26/100\n",
            "689/689 [==============================] - 49s 71ms/step - loss: 0.1045 - acc: 0.9660 - val_loss: 0.1444 - val_acc: 0.9588\n",
            "Epoch 27/100\n",
            "689/689 [==============================] - 49s 71ms/step - loss: 0.1071 - acc: 0.9644 - val_loss: 0.0844 - val_acc: 0.9704\n",
            "Epoch 28/100\n",
            "689/689 [==============================] - 49s 71ms/step - loss: 0.1065 - acc: 0.9649 - val_loss: 0.0975 - val_acc: 0.9690\n",
            "Epoch 29/100\n",
            "689/689 [==============================] - 49s 72ms/step - loss: 0.1062 - acc: 0.9646 - val_loss: 0.1452 - val_acc: 0.9506\n",
            "Epoch 30/100\n",
            "689/689 [==============================] - 49s 71ms/step - loss: 0.1068 - acc: 0.9665 - val_loss: 0.0953 - val_acc: 0.9681\n",
            "Epoch 31/100\n",
            "689/689 [==============================] - 49s 72ms/step - loss: 0.1046 - acc: 0.9663 - val_loss: 0.1091 - val_acc: 0.9672\n",
            "Epoch 32/100\n",
            "689/689 [==============================] - 49s 72ms/step - loss: 0.1030 - acc: 0.9667 - val_loss: 0.0968 - val_acc: 0.9679\n",
            "Epoch 33/100\n",
            "689/689 [==============================] - 50s 72ms/step - loss: 0.1018 - acc: 0.9656 - val_loss: 0.1133 - val_acc: 0.9664\n",
            "Epoch 34/100\n",
            "689/689 [==============================] - 49s 71ms/step - loss: 0.1059 - acc: 0.9657 - val_loss: 0.1000 - val_acc: 0.9657\n",
            "Epoch 35/100\n",
            "689/689 [==============================] - 49s 72ms/step - loss: 0.1039 - acc: 0.9659 - val_loss: 0.1072 - val_acc: 0.9632\n",
            "Epoch 36/100\n",
            "689/689 [==============================] - 49s 71ms/step - loss: 0.1002 - acc: 0.9672 - val_loss: 0.1068 - val_acc: 0.9650\n",
            "Epoch 37/100\n",
            "689/689 [==============================] - 49s 71ms/step - loss: 0.1034 - acc: 0.9652 - val_loss: 0.0899 - val_acc: 0.9693\n",
            "Epoch 38/100\n",
            "689/689 [==============================] - 50s 72ms/step - loss: 0.1024 - acc: 0.9671 - val_loss: 0.1016 - val_acc: 0.9657\n",
            "Epoch 39/100\n",
            "689/689 [==============================] - 49s 72ms/step - loss: 0.0973 - acc: 0.9679 - val_loss: 0.1621 - val_acc: 0.9510\n",
            "Epoch 40/100\n",
            "689/689 [==============================] - 49s 72ms/step - loss: 0.0999 - acc: 0.9668 - val_loss: 0.0847 - val_acc: 0.9699\n",
            "Epoch 41/100\n",
            "689/689 [==============================] - 50s 72ms/step - loss: 0.0993 - acc: 0.9681 - val_loss: 0.0864 - val_acc: 0.9704\n",
            "Epoch 42/100\n",
            "689/689 [==============================] - 49s 71ms/step - loss: 0.0991 - acc: 0.9670 - val_loss: 0.1188 - val_acc: 0.9630\n",
            "Epoch 43/100\n",
            "689/689 [==============================] - 50s 72ms/step - loss: 0.0988 - acc: 0.9679 - val_loss: 0.0951 - val_acc: 0.9684\n",
            "Epoch 44/100\n",
            "689/689 [==============================] - 50s 72ms/step - loss: 0.1038 - acc: 0.9663 - val_loss: 0.1029 - val_acc: 0.9677\n",
            "Epoch 45/100\n",
            "689/689 [==============================] - 50s 73ms/step - loss: 0.1005 - acc: 0.9672 - val_loss: 0.0962 - val_acc: 0.9673\n",
            "Epoch 46/100\n",
            "689/689 [==============================] - 50s 72ms/step - loss: 0.0965 - acc: 0.9686 - val_loss: 0.1065 - val_acc: 0.9657\n",
            "Epoch 47/100\n",
            "689/689 [==============================] - 50s 72ms/step - loss: 0.0957 - acc: 0.9687 - val_loss: 0.1070 - val_acc: 0.9659\n",
            "Epoch 48/100\n",
            "689/689 [==============================] - 50s 72ms/step - loss: 0.0976 - acc: 0.9688 - val_loss: 0.0853 - val_acc: 0.9708\n",
            "Epoch 49/100\n",
            "689/689 [==============================] - 50s 73ms/step - loss: 0.0946 - acc: 0.9693 - val_loss: 0.1031 - val_acc: 0.9679\n",
            "Epoch 50/100\n",
            "689/689 [==============================] - 50s 72ms/step - loss: 0.0960 - acc: 0.9684 - val_loss: 0.0950 - val_acc: 0.9682\n",
            "Epoch 51/100\n",
            "689/689 [==============================] - 49s 72ms/step - loss: 0.0989 - acc: 0.9672 - val_loss: 0.0913 - val_acc: 0.9711\n",
            "Epoch 52/100\n",
            "689/689 [==============================] - 50s 73ms/step - loss: 0.0934 - acc: 0.9705 - val_loss: 0.0863 - val_acc: 0.9699\n",
            "Epoch 53/100\n",
            "689/689 [==============================] - 50s 73ms/step - loss: 0.0916 - acc: 0.9701 - val_loss: 0.0930 - val_acc: 0.9719\n",
            "Epoch 54/100\n",
            "689/689 [==============================] - 50s 72ms/step - loss: 0.0959 - acc: 0.9684 - val_loss: 0.0846 - val_acc: 0.9710\n",
            "Epoch 55/100\n",
            "689/689 [==============================] - 49s 72ms/step - loss: 0.0937 - acc: 0.9697 - val_loss: 0.2344 - val_acc: 0.9348\n",
            "Epoch 56/100\n",
            "689/689 [==============================] - 50s 72ms/step - loss: 0.0936 - acc: 0.9685 - val_loss: 0.0995 - val_acc: 0.9673\n",
            "Epoch 57/100\n",
            "689/689 [==============================] - 50s 72ms/step - loss: 0.0940 - acc: 0.9697 - val_loss: 0.0838 - val_acc: 0.9719\n",
            "Epoch 58/100\n",
            "689/689 [==============================] - 50s 72ms/step - loss: 0.0938 - acc: 0.9697 - val_loss: 0.0959 - val_acc: 0.9668\n",
            "Epoch 59/100\n",
            "689/689 [==============================] - 50s 72ms/step - loss: 0.0936 - acc: 0.9693 - val_loss: 0.0888 - val_acc: 0.9702\n",
            "Epoch 60/100\n",
            "689/689 [==============================] - 50s 72ms/step - loss: 0.0917 - acc: 0.9695 - val_loss: 0.1032 - val_acc: 0.9686\n",
            "Epoch 61/100\n",
            "689/689 [==============================] - 50s 72ms/step - loss: 0.0938 - acc: 0.9704 - val_loss: 0.0874 - val_acc: 0.9690\n",
            "Epoch 62/100\n",
            "689/689 [==============================] - 50s 72ms/step - loss: 0.0893 - acc: 0.9712 - val_loss: 0.1449 - val_acc: 0.9563\n",
            "Epoch 63/100\n",
            "689/689 [==============================] - 50s 72ms/step - loss: 0.0919 - acc: 0.9696 - val_loss: 0.1669 - val_acc: 0.9577\n",
            "Epoch 64/100\n",
            "689/689 [==============================] - 50s 72ms/step - loss: 0.0925 - acc: 0.9691 - val_loss: 0.0970 - val_acc: 0.9682\n",
            "Epoch 65/100\n",
            "689/689 [==============================] - 50s 72ms/step - loss: 0.0930 - acc: 0.9704 - val_loss: 0.0934 - val_acc: 0.9677\n",
            "Epoch 66/100\n",
            "689/689 [==============================] - 50s 73ms/step - loss: 0.0907 - acc: 0.9703 - val_loss: 0.0970 - val_acc: 0.9695\n",
            "Epoch 67/100\n",
            "689/689 [==============================] - 50s 73ms/step - loss: 0.0879 - acc: 0.9717 - val_loss: 0.0820 - val_acc: 0.9715\n",
            "Epoch 68/100\n",
            "689/689 [==============================] - 50s 72ms/step - loss: 0.0882 - acc: 0.9710 - val_loss: 0.0876 - val_acc: 0.9721\n",
            "Epoch 69/100\n",
            "689/689 [==============================] - 50s 72ms/step - loss: 0.0910 - acc: 0.9707 - val_loss: 0.1034 - val_acc: 0.9686\n",
            "Epoch 70/100\n",
            "689/689 [==============================] - 49s 72ms/step - loss: 0.0905 - acc: 0.9694 - val_loss: 0.1010 - val_acc: 0.9682\n",
            "Epoch 71/100\n",
            "689/689 [==============================] - 50s 72ms/step - loss: 0.0901 - acc: 0.9708 - val_loss: 0.0843 - val_acc: 0.9722\n",
            "Epoch 72/100\n",
            "689/689 [==============================] - 49s 71ms/step - loss: 0.0905 - acc: 0.9701 - val_loss: 0.1020 - val_acc: 0.9695\n",
            "Epoch 73/100\n",
            "689/689 [==============================] - 49s 71ms/step - loss: 0.0895 - acc: 0.9697 - val_loss: 0.1183 - val_acc: 0.9637\n",
            "Epoch 74/100\n",
            "689/689 [==============================] - 50s 72ms/step - loss: 0.0915 - acc: 0.9704 - val_loss: 0.1302 - val_acc: 0.9628\n",
            "Epoch 75/100\n",
            "689/689 [==============================] - 50s 72ms/step - loss: 0.0895 - acc: 0.9698 - val_loss: 0.0851 - val_acc: 0.9715\n",
            "Epoch 76/100\n",
            "689/689 [==============================] - 49s 71ms/step - loss: 0.0868 - acc: 0.9713 - val_loss: 0.1005 - val_acc: 0.9693\n",
            "Epoch 77/100\n",
            "689/689 [==============================] - 50s 72ms/step - loss: 0.0876 - acc: 0.9723 - val_loss: 0.0881 - val_acc: 0.9706\n",
            "Epoch 78/100\n",
            "689/689 [==============================] - 49s 71ms/step - loss: 0.0882 - acc: 0.9705 - val_loss: 0.0841 - val_acc: 0.9711\n",
            "Epoch 79/100\n",
            "689/689 [==============================] - 50s 72ms/step - loss: 0.0885 - acc: 0.9709 - val_loss: 0.0898 - val_acc: 0.9697\n",
            "Epoch 80/100\n",
            "689/689 [==============================] - 50s 72ms/step - loss: 0.0868 - acc: 0.9704 - val_loss: 0.0921 - val_acc: 0.9693\n",
            "Epoch 81/100\n",
            "689/689 [==============================] - 50s 72ms/step - loss: 0.0868 - acc: 0.9718 - val_loss: 0.1066 - val_acc: 0.9626\n",
            "Epoch 82/100\n",
            "689/689 [==============================] - 50s 72ms/step - loss: 0.0899 - acc: 0.9702 - val_loss: 0.0870 - val_acc: 0.9701\n",
            "Epoch 83/100\n",
            "689/689 [==============================] - 50s 73ms/step - loss: 0.0879 - acc: 0.9717 - val_loss: 0.0860 - val_acc: 0.9726\n",
            "Epoch 84/100\n",
            "689/689 [==============================] - 50s 73ms/step - loss: 0.0886 - acc: 0.9720 - val_loss: 0.0863 - val_acc: 0.9704\n",
            "Epoch 85/100\n",
            "689/689 [==============================] - 50s 72ms/step - loss: 0.0869 - acc: 0.9726 - val_loss: 0.0969 - val_acc: 0.9684\n",
            "Epoch 86/100\n",
            "689/689 [==============================] - 50s 72ms/step - loss: 0.0881 - acc: 0.9706 - val_loss: 0.1245 - val_acc: 0.9584\n",
            "Epoch 87/100\n",
            "689/689 [==============================] - 50s 72ms/step - loss: 0.0874 - acc: 0.9713 - val_loss: 0.0855 - val_acc: 0.9715\n",
            "Epoch 88/100\n",
            "689/689 [==============================] - 50s 73ms/step - loss: 0.0864 - acc: 0.9717 - val_loss: 0.0863 - val_acc: 0.9726\n",
            "Epoch 89/100\n",
            "689/689 [==============================] - 51s 73ms/step - loss: 0.0892 - acc: 0.9703 - val_loss: 0.0867 - val_acc: 0.9722\n",
            "Epoch 90/100\n",
            "689/689 [==============================] - 51s 73ms/step - loss: 0.0827 - acc: 0.9726 - val_loss: 0.1009 - val_acc: 0.9672\n",
            "Epoch 91/100\n",
            "689/689 [==============================] - 51s 74ms/step - loss: 0.0833 - acc: 0.9727 - val_loss: 0.0891 - val_acc: 0.9715\n",
            "Epoch 92/100\n",
            "689/689 [==============================] - 51s 74ms/step - loss: 0.0837 - acc: 0.9717 - val_loss: 0.0860 - val_acc: 0.9713\n",
            "Epoch 93/100\n",
            "689/689 [==============================] - 51s 74ms/step - loss: 0.0863 - acc: 0.9710 - val_loss: 0.0964 - val_acc: 0.9693\n",
            "Epoch 94/100\n",
            "689/689 [==============================] - 51s 74ms/step - loss: 0.0826 - acc: 0.9728 - val_loss: 0.0832 - val_acc: 0.9731\n",
            "Epoch 95/100\n",
            "689/689 [==============================] - 51s 74ms/step - loss: 0.0840 - acc: 0.9730 - val_loss: 0.0864 - val_acc: 0.9731\n",
            "Epoch 96/100\n",
            "689/689 [==============================] - 51s 74ms/step - loss: 0.0825 - acc: 0.9720 - val_loss: 0.1046 - val_acc: 0.9635\n",
            "Epoch 97/100\n",
            "689/689 [==============================] - 51s 74ms/step - loss: 0.0848 - acc: 0.9708 - val_loss: 0.1404 - val_acc: 0.9621\n",
            "Epoch 98/100\n",
            "689/689 [==============================] - 50s 73ms/step - loss: 0.0880 - acc: 0.9719 - val_loss: 0.0781 - val_acc: 0.9742\n",
            "Epoch 99/100\n",
            "689/689 [==============================] - 50s 72ms/step - loss: 0.0806 - acc: 0.9733 - val_loss: 0.0935 - val_acc: 0.9690\n",
            "Epoch 100/100\n",
            "689/689 [==============================] - 50s 73ms/step - loss: 0.0819 - acc: 0.9743 - val_loss: 0.0880 - val_acc: 0.9699\n"
          ]
        }
      ]
    },
    {
      "cell_type": "code",
      "source": [
        "model1.evaluate_generator(test_generator, verbose=1)"
      ],
      "metadata": {
        "id": "8nuKAcDXDiFy",
        "colab": {
          "base_uri": "https://localhost:8080/"
        },
        "outputId": "2dcf0a47-cb02-4b4c-d5a4-26623435e76b"
      },
      "execution_count": null,
      "outputs": [
        {
          "output_type": "stream",
          "name": "stdout",
          "text": [
            "  3/173 [..............................] - ETA: 5s - loss: 0.0535 - acc: 0.9896 "
          ]
        },
        {
          "output_type": "stream",
          "name": "stderr",
          "text": [
            "/usr/local/lib/python3.7/dist-packages/ipykernel_launcher.py:1: UserWarning: `Model.evaluate_generator` is deprecated and will be removed in a future version. Please use `Model.evaluate`, which supports generators.\n",
            "  \"\"\"Entry point for launching an IPython kernel.\n"
          ]
        },
        {
          "output_type": "stream",
          "name": "stdout",
          "text": [
            "173/173 [==============================] - 5s 31ms/step - loss: 0.0880 - acc: 0.9699\n"
          ]
        },
        {
          "output_type": "execute_result",
          "data": {
            "text/plain": [
              "[0.08800936490297318, 0.9698729515075684]"
            ]
          },
          "metadata": {},
          "execution_count": 9
        }
      ]
    },
    {
      "cell_type": "code",
      "execution_count": null,
      "metadata": {
        "id": "oENPVmyNDiF1",
        "colab": {
          "base_uri": "https://localhost:8080/"
        },
        "outputId": "ac5e6ff0-8567-4363-8f37-87c2671fa590"
      },
      "outputs": [
        {
          "output_type": "stream",
          "name": "stdout",
          "text": [
            "Train Accuracy : \n",
            "689/689 [==============================] - 42s 62ms/step - loss: 0.0800 - acc: 0.9742\n"
          ]
        },
        {
          "output_type": "execute_result",
          "data": {
            "text/plain": [
              "[0.08004247397184372, 0.9742380380630493]"
            ]
          },
          "metadata": {},
          "execution_count": 10
        }
      ],
      "source": [
        "print(\"Train Accuracy : \")\n",
        "model1.evaluate(train_generator)"
      ]
    },
    {
      "cell_type": "code",
      "source": [
        "print(\"Test Accuracy : \")\n",
        "model1.evaluate(test_generator)"
      ],
      "metadata": {
        "colab": {
          "base_uri": "https://localhost:8080/"
        },
        "id": "UxHd2eM0iJoZ",
        "outputId": "641998b5-8a09-4ebe-edeb-ca6954767ef3"
      },
      "execution_count": null,
      "outputs": [
        {
          "output_type": "stream",
          "name": "stdout",
          "text": [
            "Test Accuracy : \n",
            "173/173 [==============================] - 5s 31ms/step - loss: 0.0880 - acc: 0.9699\n"
          ]
        },
        {
          "output_type": "execute_result",
          "data": {
            "text/plain": [
              "[0.08800939470529556, 0.9698729515075684]"
            ]
          },
          "metadata": {},
          "execution_count": 11
        }
      ]
    },
    {
      "cell_type": "code",
      "execution_count": null,
      "metadata": {
        "id": "IXpmq_K1Dzb0"
      },
      "outputs": [],
      "source": [
        "from sklearn.metrics import classification_report, confusion_matrix\n",
        "import seaborn as sns\n",
        "import matplotlib.pyplot as plt\n",
        "\n",
        "def evaluate(model1):\n",
        "  test_generator = test_datagen.flow_from_directory(\n",
        "      TEST_DIR, \n",
        "      target_size=(64,64), \n",
        "      batch_size=32, \n",
        "      class_mode='binary',\n",
        "      shuffle = False)\n",
        "\n",
        "  Y_pred = model1.predict_generator(test_generator)\n",
        "  y_pred = np.round(Y_pred).astype(int)\n",
        "\n",
        "  print('\\nConfusion Matrix\\n')\n",
        "  cm = confusion_matrix(test_generator.classes, y_pred)\n",
        "  plt.figure(figsize=(8, 8))\n",
        "  sns.heatmap(cm, annot=True, fmt='g', vmin=0, cmap='Blues', cbar=False)\n",
        "  plt.xticks(ticks=[0.5, 1.5], labels=['Parasitized','Uninfected'])\n",
        "  plt.yticks(ticks=[0.5, 1.5], labels=['Parasitized','Uninfected'])\n",
        "  plt.xlabel(\"Predicted\")\n",
        "  plt.ylabel(\"Actual\")\n",
        "  plt.title(\"Confusion Matrix\")\n",
        "  plt.show()\n",
        "\n",
        "  print('\\n\\nClassification Report\\n')\n",
        "  target_names = ['Parasitized','Uninfected']\n",
        "  print(classification_report(test_generator.classes, y_pred, target_names=target_names))\n",
        "\n",
        "  tn, fp, fn, tp = cm.ravel()\n",
        "\n",
        "  precision = tp/(tp+fp)\n",
        "  recall = tp/(tp+fn)\n",
        "  f = 2*((precision*recall)/(precision+recall))\n",
        "\n",
        "  print(\"recall of the model is \", recall)\n",
        "  print(\"precision of the model is \", precision)\n",
        "  print(\"F1-Score of the model is \", f)"
      ]
    },
    {
      "cell_type": "code",
      "execution_count": null,
      "metadata": {
        "colab": {
          "base_uri": "https://localhost:8080/",
          "height": 915
        },
        "outputId": "cd7682ac-bd41-437a-a6f7-b09789282746",
        "id": "ytmJGRNcDzb2"
      },
      "outputs": [
        {
          "output_type": "stream",
          "name": "stdout",
          "text": [
            "Found 5510 images belonging to 2 classes.\n"
          ]
        },
        {
          "output_type": "stream",
          "name": "stderr",
          "text": [
            "/usr/local/lib/python3.7/dist-packages/ipykernel_launcher.py:13: UserWarning: `Model.predict_generator` is deprecated and will be removed in a future version. Please use `Model.predict`, which supports generators.\n",
            "  del sys.path[0]\n"
          ]
        },
        {
          "output_type": "stream",
          "name": "stdout",
          "text": [
            "\n",
            "Confusion Matrix\n",
            "\n"
          ]
        },
        {
          "output_type": "display_data",
          "data": {
            "text/plain": [
              "<Figure size 576x576 with 1 Axes>"
            ],
            "image/png": "[encoded data removed]"
          },
          "metadata": {
            "needs_background": "light"
          }
        },
        {
          "output_type": "stream",
          "name": "stdout",
          "text": [
            "\n",
            "\n",
            "Classification Report\n",
            "\n",
            "              precision    recall  f1-score   support\n",
            "\n",
            " Parasitized       0.97      0.97      0.97      2755\n",
            "  Uninfected       0.97      0.97      0.97      2755\n",
            "\n",
            "    accuracy                           0.97      5510\n",
            "   macro avg       0.97      0.97      0.97      5510\n",
            "weighted avg       0.97      0.97      0.97      5510\n",
            "\n",
            "recall of the model is  0.9666061705989111\n",
            "precision of the model is  0.9729630982827914\n",
            "F1-Score of the model is  0.9697742170429717\n"
          ]
        }
      ],
      "source": [
        "evaluate(model1)"
      ]
    },
    {
      "cell_type": "code",
      "source": [
        "import matplotlib.pyplot as plt\n",
        "def eval_plot(history1):\n",
        "\n",
        "  plt.figure(figsize=(14, 5))\n",
        "\n",
        "  # Accuracy plot\n",
        "  plt.subplot(1, 2, 1)\n",
        "  acc = history1.history['acc']\n",
        "  val_acc = history1.history['val_acc']\n",
        "  epochs = range(len(acc))\n",
        "  acc_plot, = plt.plot(epochs, acc, 'r')\n",
        "  val_acc_plot, = plt.plot(epochs, val_acc, 'b')\n",
        "  plt.title('Training and Validation Accuracy')\n",
        "  plt.legend([acc_plot, val_acc_plot], ['Training Accuracy', 'Validation Accuracy'])\n",
        "  plt.savefig(\"Accuracy1 Plot.svg\", format=\"svg\", dpi=1200)\n",
        "\n",
        "  # Loss plot\n",
        "  plt.subplot(1, 2, 2)\n",
        "  loss = history1.history['loss']\n",
        "  val_loss = history1.history['val_loss']\n",
        "  epochs = range(len(loss))\n",
        "  loss_plot, = plt.plot(epochs, loss, 'r')\n",
        "  val_loss_plot, = plt.plot(epochs, val_loss, 'b')\n",
        "  plt.title('Training and Validation Loss')\n",
        "  plt.legend([loss_plot, val_loss_plot], ['Training Loss', 'Validation Loss'])\n",
        "  plt.savefig(\"Loss1 Plot.svg\", format=\"svg\", dpi=1200)"
      ],
      "metadata": {
        "id": "lGcwhbv0FNUR"
      },
      "execution_count": null,
      "outputs": []
    },
    {
      "cell_type": "code",
      "source": [
        "eval_plot(history1)"
      ],
      "metadata": {
        "colab": {
          "base_uri": "https://localhost:8080/",
          "height": 336
        },
        "outputId": "8a913cd7-041f-4a05-f081-63bc354c95c2",
        "id": "HcqmX6vjFNUR"
      },
      "execution_count": null,
      "outputs": [
        {
          "output_type": "display_data",
          "data": {
            "text/plain": [
              "<Figure size 1008x360 with 2 Axes>"
            ],
            "image/png": "[encoded data removed]"
          },
          "metadata": {
            "needs_background": "light"
          }
        }
      ]
    },
    {
      "cell_type": "code",
      "execution_count": null,
      "metadata": {
        "colab": {
          "base_uri": "https://localhost:8080/"
        },
        "outputId": "0daf552f-c0f9-412c-cd41-ef67b9e47170",
        "id": "qrUm09-bYx5t"
      },
      "outputs": [
        {
          "output_type": "stream",
          "name": "stdout",
          "text": [
            "Saved model to disk\n"
          ]
        }
      ],
      "source": [
        "model1.save_weights(\"Model1.h5\")\n",
        "print(\"Saved model to disk\")"
      ]
    },
    {
      "cell_type": "code",
      "execution_count": null,
      "metadata": {
        "id": "tyJ6Ju_cYx5v"
      },
      "outputs": [],
      "source": [
        "# serialize model to JSON\n",
        "model1_json = model1.to_json()\n",
        "with open(\"Model1.json\", \"w\") as json_file: json_file.write(model1_json)"
      ]
    },
    {
      "cell_type": "code",
      "execution_count": null,
      "metadata": {
        "colab": {
          "base_uri": "https://localhost:8080/"
        },
        "outputId": "4c1db345-f304-4f5a-cf56-9b9df1f22eeb",
        "id": "Idi9tXVaYx5w"
      },
      "outputs": [
        {
          "output_type": "stream",
          "name": "stdout",
          "text": [
            "Saved model to disk\n"
          ]
        }
      ],
      "source": [
        "# serialize weights to HDF5\n",
        "model1.save(\"Model1.h5\")\n",
        "print(\"Saved model to disk\")"
      ]
    },
    {
      "cell_type": "markdown",
      "source": [
        "# Skenario 3 Pengujian Optimizer"
      ],
      "metadata": {
        "id": "2r6IZqz1xvnd"
      }
    },
    {
      "cell_type": "markdown",
      "source": [
        "Skenario pengujian 3 menggunakan splitting data yang menghasilkan akurasi terbaik diantara skenario 1 dan 2. \n",
        "Skenario yang lebih unggul adalah skenario 2 yaitu dengan splitting data 80 : 20 %. Optimizer yang digunakan pada skenario ke 3 adalah Adam dan RMSprop"
      ],
      "metadata": {
        "id": "3ACwXr0Jx1bp"
      }
    },
    {
      "cell_type": "markdown",
      "source": [
        "**AKURASI -> RMSprop= 97.01 % : ADAM= 97.42 %**"
      ],
      "metadata": {
        "id": "6D3xsdLG2va9"
      }
    },
    {
      "cell_type": "markdown",
      "source": [
        "**Optimizer RMSProp**"
      ],
      "metadata": {
        "id": "kw1lDBLW1D10"
      }
    },
    {
      "cell_type": "code",
      "source": [
        "import tensorflow as tf\n",
        "from tensorflow.keras.models import Sequential, load_model\n",
        "from tensorflow.keras.optimizers import RMSprop\n",
        "from tensorflow.keras.layers import Dense, Conv2D, AveragePooling2D, MaxPooling2D, Flatten, BatchNormalization, Dropout\n",
        "model1 = tf.keras.models.Sequential([\n",
        "    tf.keras.layers.Conv2D(16, (3,3), activation='relu', padding='same', input_shape=(64, 64, 3)),\n",
        "    tf.keras.layers.BatchNormalization(),\n",
        "    tf.keras.layers.MaxPooling2D(2, 2),\n",
        "    \n",
        "    tf.keras.layers.Conv2D(32, (3,3), activation='relu', padding='same'),\n",
        "    tf.keras.layers.BatchNormalization(),\n",
        "    tf.keras.layers.MaxPooling2D(2, 2),\n",
        "    \n",
        "    tf.keras.layers.Conv2D(64, (3,3), activation='relu', padding='same'),\n",
        "    tf.keras.layers.BatchNormalization(),\n",
        "    tf.keras.layers.MaxPooling2D(2, 2),\n",
        "    \n",
        "    tf.keras.layers.Conv2D(128, (3,3), activation='relu', padding='same'),\n",
        "    tf.keras.layers.BatchNormalization(),\n",
        "    tf.keras.layers.MaxPooling2D(2, 2), \n",
        "    \n",
        "    tf.keras.layers.Flatten(),\n",
        "    \n",
        "    tf.keras.layers.Dense(512, activation='relu'),\n",
        "    tf.keras.layers.BatchNormalization(),\n",
        "    tf.keras.layers.Dropout(0.1),\n",
        "    \n",
        "    tf.keras.layers.Dense(1, activation='sigmoid')\n",
        "])\n",
        "\n",
        "model1.compile(loss='binary_crossentropy',\n",
        "              optimizer=RMSprop(lr=0.001),\n",
        "              metrics=['acc'])"
      ],
      "metadata": {
        "colab": {
          "base_uri": "https://localhost:8080/"
        },
        "outputId": "b6528020-7e75-430c-c447-c3802e4b861f",
        "id": "146_36x21LB4"
      },
      "execution_count": null,
      "outputs": [
        {
          "output_type": "stream",
          "name": "stderr",
          "text": [
            "/usr/local/lib/python3.7/dist-packages/keras/optimizer_v2/rmsprop.py:130: UserWarning: The `lr` argument is deprecated, use `learning_rate` instead.\n",
            "  super(RMSprop, self).__init__(name, **kwargs)\n"
          ]
        }
      ]
    },
    {
      "cell_type": "code",
      "source": [
        "# Print model summary\n",
        "print(model1.summary())"
      ],
      "metadata": {
        "colab": {
          "base_uri": "https://localhost:8080/"
        },
        "outputId": "2deb4de1-01b6-4048-98eb-da661b61b0a7",
        "id": "U0GZPYyz1LB8"
      },
      "execution_count": null,
      "outputs": [
        {
          "output_type": "stream",
          "name": "stdout",
          "text": [
            "Model: \"sequential\"\n",
            "_________________________________________________________________\n",
            " Layer (type)                Output Shape              Param #   \n",
            "=================================================================\n",
            " conv2d (Conv2D)             (None, 64, 64, 16)        448       \n",
            "                                                                 \n",
            " batch_normalization (BatchN  (None, 64, 64, 16)       64        \n",
            " ormalization)                                                   \n",
            "                                                                 \n",
            " max_pooling2d (MaxPooling2D  (None, 32, 32, 16)       0         \n",
            " )                                                               \n",
            "                                                                 \n",
            " conv2d_1 (Conv2D)           (None, 32, 32, 32)        4640      \n",
            "                                                                 \n",
            " batch_normalization_1 (Batc  (None, 32, 32, 32)       128       \n",
            " hNormalization)                                                 \n",
            "                                                                 \n",
            " max_pooling2d_1 (MaxPooling  (None, 16, 16, 32)       0         \n",
            " 2D)                                                             \n",
            "                                                                 \n",
            " conv2d_2 (Conv2D)           (None, 16, 16, 64)        18496     \n",
            "                                                                 \n",
            " batch_normalization_2 (Batc  (None, 16, 16, 64)       256       \n",
            " hNormalization)                                                 \n",
            "                                                                 \n",
            " max_pooling2d_2 (MaxPooling  (None, 8, 8, 64)         0         \n",
            " 2D)                                                             \n",
            "                                                                 \n",
            " conv2d_3 (Conv2D)           (None, 8, 8, 128)         73856     \n",
            "                                                                 \n",
            " batch_normalization_3 (Batc  (None, 8, 8, 128)        512       \n",
            " hNormalization)                                                 \n",
            "                                                                 \n",
            " max_pooling2d_3 (MaxPooling  (None, 4, 4, 128)        0         \n",
            " 2D)                                                             \n",
            "                                                                 \n",
            " flatten (Flatten)           (None, 2048)              0         \n",
            "                                                                 \n",
            " dense (Dense)               (None, 512)               1049088   \n",
            "                                                                 \n",
            " batch_normalization_4 (Batc  (None, 512)              2048      \n",
            " hNormalization)                                                 \n",
            "                                                                 \n",
            " dropout (Dropout)           (None, 512)               0         \n",
            "                                                                 \n",
            " dense_1 (Dense)             (None, 1)                 513       \n",
            "                                                                 \n",
            "=================================================================\n",
            "Total params: 1,150,049\n",
            "Trainable params: 1,148,545\n",
            "Non-trainable params: 1,504\n",
            "_________________________________________________________________\n",
            "None\n"
          ]
        }
      ]
    },
    {
      "cell_type": "code",
      "source": [
        ""
      ],
      "metadata": {
        "id": "RZoK4D836esa"
      },
      "execution_count": null,
      "outputs": []
    },
    {
      "cell_type": "code",
      "source": [
        "history1 = model1.fit_generator(\n",
        "        train_generator,\n",
        "        epochs=100,\n",
        "        validation_data=test_generator,\n",
        "        )"
      ],
      "metadata": {
        "colab": {
          "base_uri": "https://localhost:8080/"
        },
        "outputId": "40d1ad6a-7ca7-4224-d6fa-e26fdf4300a3",
        "id": "MngXL-TT6fDm"
      },
      "execution_count": null,
      "outputs": [
        {
          "output_type": "stream",
          "name": "stdout",
          "text": [
            "Epoch 1/100\n"
          ]
        },
        {
          "output_type": "stream",
          "name": "stderr",
          "text": [
            "/usr/local/lib/python3.7/dist-packages/ipykernel_launcher.py:4: UserWarning: `Model.fit_generator` is deprecated and will be removed in a future version. Please use `Model.fit`, which supports generators.\n",
            "  after removing the cwd from sys.path.\n"
          ]
        },
        {
          "output_type": "stream",
          "name": "stdout",
          "text": [
            "689/689 [==============================] - 71s 84ms/step - loss: 0.2953 - acc: 0.8874 - val_loss: 0.2025 - val_acc: 0.9298\n",
            "Epoch 2/100\n",
            "689/689 [==============================] - 52s 75ms/step - loss: 0.1691 - acc: 0.9462 - val_loss: 0.1659 - val_acc: 0.9416\n",
            "Epoch 3/100\n",
            "689/689 [==============================] - 50s 73ms/step - loss: 0.1479 - acc: 0.9517 - val_loss: 0.1205 - val_acc: 0.9601\n",
            "Epoch 4/100\n",
            "689/689 [==============================] - 51s 74ms/step - loss: 0.1459 - acc: 0.9529 - val_loss: 0.1662 - val_acc: 0.9505\n",
            "Epoch 5/100\n",
            "689/689 [==============================] - 50s 73ms/step - loss: 0.1404 - acc: 0.9532 - val_loss: 0.1587 - val_acc: 0.9470\n",
            "Epoch 6/100\n",
            "689/689 [==============================] - 51s 74ms/step - loss: 0.1353 - acc: 0.9572 - val_loss: 0.1310 - val_acc: 0.9555\n",
            "Epoch 7/100\n",
            "689/689 [==============================] - 50s 73ms/step - loss: 0.1321 - acc: 0.9551 - val_loss: 0.1227 - val_acc: 0.9603\n",
            "Epoch 8/100\n",
            "689/689 [==============================] - 51s 74ms/step - loss: 0.1279 - acc: 0.9580 - val_loss: 0.1834 - val_acc: 0.9430\n",
            "Epoch 9/100\n",
            "689/689 [==============================] - 50s 73ms/step - loss: 0.1268 - acc: 0.9575 - val_loss: 0.1174 - val_acc: 0.9608\n",
            "Epoch 10/100\n",
            "689/689 [==============================] - 50s 72ms/step - loss: 0.1245 - acc: 0.9604 - val_loss: 0.1893 - val_acc: 0.9347\n",
            "Epoch 11/100\n",
            "689/689 [==============================] - 50s 73ms/step - loss: 0.1261 - acc: 0.9585 - val_loss: 0.1062 - val_acc: 0.9628\n",
            "Epoch 12/100\n",
            "689/689 [==============================] - 50s 72ms/step - loss: 0.1187 - acc: 0.9615 - val_loss: 0.1627 - val_acc: 0.9477\n",
            "Epoch 13/100\n",
            "689/689 [==============================] - 50s 73ms/step - loss: 0.1175 - acc: 0.9616 - val_loss: 0.1318 - val_acc: 0.9599\n",
            "Epoch 14/100\n",
            "689/689 [==============================] - 50s 73ms/step - loss: 0.1165 - acc: 0.9625 - val_loss: 0.1907 - val_acc: 0.9368\n",
            "Epoch 15/100\n",
            "689/689 [==============================] - 49s 71ms/step - loss: 0.1171 - acc: 0.9628 - val_loss: 0.1204 - val_acc: 0.9557\n",
            "Epoch 16/100\n",
            "689/689 [==============================] - 49s 71ms/step - loss: 0.1156 - acc: 0.9629 - val_loss: 0.1129 - val_acc: 0.9606\n",
            "Epoch 17/100\n",
            "689/689 [==============================] - 49s 71ms/step - loss: 0.1119 - acc: 0.9628 - val_loss: 0.1303 - val_acc: 0.9670\n",
            "Epoch 18/100\n",
            "689/689 [==============================] - 49s 71ms/step - loss: 0.1125 - acc: 0.9629 - val_loss: 0.0948 - val_acc: 0.9697\n",
            "Epoch 19/100\n",
            "689/689 [==============================] - 49s 71ms/step - loss: 0.1129 - acc: 0.9627 - val_loss: 0.0968 - val_acc: 0.9670\n",
            "Epoch 20/100\n",
            "689/689 [==============================] - 49s 72ms/step - loss: 0.1153 - acc: 0.9640 - val_loss: 0.1120 - val_acc: 0.9608\n",
            "Epoch 21/100\n",
            "689/689 [==============================] - 49s 71ms/step - loss: 0.1114 - acc: 0.9641 - val_loss: 0.0861 - val_acc: 0.9693\n",
            "Epoch 22/100\n",
            "689/689 [==============================] - 49s 71ms/step - loss: 0.1094 - acc: 0.9634 - val_loss: 0.0942 - val_acc: 0.9686\n",
            "Epoch 23/100\n",
            "689/689 [==============================] - 49s 71ms/step - loss: 0.1095 - acc: 0.9636 - val_loss: 0.1020 - val_acc: 0.9650\n",
            "Epoch 24/100\n",
            "689/689 [==============================] - 49s 71ms/step - loss: 0.1101 - acc: 0.9641 - val_loss: 0.0965 - val_acc: 0.9661\n",
            "Epoch 25/100\n",
            "689/689 [==============================] - 49s 71ms/step - loss: 0.1067 - acc: 0.9652 - val_loss: 0.0930 - val_acc: 0.9688\n",
            "Epoch 26/100\n",
            "689/689 [==============================] - 49s 71ms/step - loss: 0.1045 - acc: 0.9660 - val_loss: 0.1444 - val_acc: 0.9588\n",
            "Epoch 27/100\n",
            "689/689 [==============================] - 49s 71ms/step - loss: 0.1071 - acc: 0.9644 - val_loss: 0.0844 - val_acc: 0.9704\n",
            "Epoch 28/100\n",
            "689/689 [==============================] - 49s 71ms/step - loss: 0.1065 - acc: 0.9649 - val_loss: 0.0975 - val_acc: 0.9690\n",
            "Epoch 29/100\n",
            "689/689 [==============================] - 49s 72ms/step - loss: 0.1062 - acc: 0.9646 - val_loss: 0.1452 - val_acc: 0.9506\n",
            "Epoch 30/100\n",
            "689/689 [==============================] - 49s 71ms/step - loss: 0.1068 - acc: 0.9665 - val_loss: 0.0953 - val_acc: 0.9681\n",
            "Epoch 31/100\n",
            "689/689 [==============================] - 49s 72ms/step - loss: 0.1046 - acc: 0.9663 - val_loss: 0.1091 - val_acc: 0.9672\n",
            "Epoch 32/100\n",
            "689/689 [==============================] - 49s 72ms/step - loss: 0.1030 - acc: 0.9667 - val_loss: 0.0968 - val_acc: 0.9679\n",
            "Epoch 33/100\n",
            "689/689 [==============================] - 50s 72ms/step - loss: 0.1018 - acc: 0.9656 - val_loss: 0.1133 - val_acc: 0.9664\n",
            "Epoch 34/100\n",
            "689/689 [==============================] - 49s 71ms/step - loss: 0.1059 - acc: 0.9657 - val_loss: 0.1000 - val_acc: 0.9657\n",
            "Epoch 35/100\n",
            "689/689 [==============================] - 49s 72ms/step - loss: 0.1039 - acc: 0.9659 - val_loss: 0.1072 - val_acc: 0.9632\n",
            "Epoch 36/100\n",
            "689/689 [==============================] - 49s 71ms/step - loss: 0.1002 - acc: 0.9672 - val_loss: 0.1068 - val_acc: 0.9650\n",
            "Epoch 37/100\n",
            "689/689 [==============================] - 49s 71ms/step - loss: 0.1034 - acc: 0.9652 - val_loss: 0.0899 - val_acc: 0.9693\n",
            "Epoch 38/100\n",
            "689/689 [==============================] - 50s 72ms/step - loss: 0.1024 - acc: 0.9671 - val_loss: 0.1016 - val_acc: 0.9657\n",
            "Epoch 39/100\n",
            "689/689 [==============================] - 49s 72ms/step - loss: 0.0973 - acc: 0.9679 - val_loss: 0.1621 - val_acc: 0.9510\n",
            "Epoch 40/100\n",
            "689/689 [==============================] - 49s 72ms/step - loss: 0.0999 - acc: 0.9668 - val_loss: 0.0847 - val_acc: 0.9699\n",
            "Epoch 41/100\n",
            "689/689 [==============================] - 50s 72ms/step - loss: 0.0993 - acc: 0.9681 - val_loss: 0.0864 - val_acc: 0.9704\n",
            "Epoch 42/100\n",
            "689/689 [==============================] - 49s 71ms/step - loss: 0.0991 - acc: 0.9670 - val_loss: 0.1188 - val_acc: 0.9630\n",
            "Epoch 43/100\n",
            "689/689 [==============================] - 50s 72ms/step - loss: 0.0988 - acc: 0.9679 - val_loss: 0.0951 - val_acc: 0.9684\n",
            "Epoch 44/100\n",
            "689/689 [==============================] - 50s 72ms/step - loss: 0.1038 - acc: 0.9663 - val_loss: 0.1029 - val_acc: 0.9677\n",
            "Epoch 45/100\n",
            "689/689 [==============================] - 50s 73ms/step - loss: 0.1005 - acc: 0.9672 - val_loss: 0.0962 - val_acc: 0.9673\n",
            "Epoch 46/100\n",
            "689/689 [==============================] - 50s 72ms/step - loss: 0.0965 - acc: 0.9686 - val_loss: 0.1065 - val_acc: 0.9657\n",
            "Epoch 47/100\n",
            "689/689 [==============================] - 50s 72ms/step - loss: 0.0957 - acc: 0.9687 - val_loss: 0.1070 - val_acc: 0.9659\n",
            "Epoch 48/100\n",
            "689/689 [==============================] - 50s 72ms/step - loss: 0.0976 - acc: 0.9688 - val_loss: 0.0853 - val_acc: 0.9708\n",
            "Epoch 49/100\n",
            "689/689 [==============================] - 50s 73ms/step - loss: 0.0946 - acc: 0.9693 - val_loss: 0.1031 - val_acc: 0.9679\n",
            "Epoch 50/100\n",
            "689/689 [==============================] - 50s 72ms/step - loss: 0.0960 - acc: 0.9684 - val_loss: 0.0950 - val_acc: 0.9682\n",
            "Epoch 51/100\n",
            "689/689 [==============================] - 49s 72ms/step - loss: 0.0989 - acc: 0.9672 - val_loss: 0.0913 - val_acc: 0.9711\n",
            "Epoch 52/100\n",
            "689/689 [==============================] - 50s 73ms/step - loss: 0.0934 - acc: 0.9705 - val_loss: 0.0863 - val_acc: 0.9699\n",
            "Epoch 53/100\n",
            "689/689 [==============================] - 50s 73ms/step - loss: 0.0916 - acc: 0.9701 - val_loss: 0.0930 - val_acc: 0.9719\n",
            "Epoch 54/100\n",
            "689/689 [==============================] - 50s 72ms/step - loss: 0.0959 - acc: 0.9684 - val_loss: 0.0846 - val_acc: 0.9710\n",
            "Epoch 55/100\n",
            "689/689 [==============================] - 49s 72ms/step - loss: 0.0937 - acc: 0.9697 - val_loss: 0.2344 - val_acc: 0.9348\n",
            "Epoch 56/100\n",
            "689/689 [==============================] - 50s 72ms/step - loss: 0.0936 - acc: 0.9685 - val_loss: 0.0995 - val_acc: 0.9673\n",
            "Epoch 57/100\n",
            "689/689 [==============================] - 50s 72ms/step - loss: 0.0940 - acc: 0.9697 - val_loss: 0.0838 - val_acc: 0.9719\n",
            "Epoch 58/100\n",
            "689/689 [==============================] - 50s 72ms/step - loss: 0.0938 - acc: 0.9697 - val_loss: 0.0959 - val_acc: 0.9668\n",
            "Epoch 59/100\n",
            "689/689 [==============================] - 50s 72ms/step - loss: 0.0936 - acc: 0.9693 - val_loss: 0.0888 - val_acc: 0.9702\n",
            "Epoch 60/100\n",
            "689/689 [==============================] - 50s 72ms/step - loss: 0.0917 - acc: 0.9695 - val_loss: 0.1032 - val_acc: 0.9686\n",
            "Epoch 61/100\n",
            "689/689 [==============================] - 50s 72ms/step - loss: 0.0938 - acc: 0.9704 - val_loss: 0.0874 - val_acc: 0.9690\n",
            "Epoch 62/100\n",
            "689/689 [==============================] - 50s 72ms/step - loss: 0.0893 - acc: 0.9712 - val_loss: 0.1449 - val_acc: 0.9563\n",
            "Epoch 63/100\n",
            "689/689 [==============================] - 50s 72ms/step - loss: 0.0919 - acc: 0.9696 - val_loss: 0.1669 - val_acc: 0.9577\n",
            "Epoch 64/100\n",
            "689/689 [==============================] - 50s 72ms/step - loss: 0.0925 - acc: 0.9691 - val_loss: 0.0970 - val_acc: 0.9682\n",
            "Epoch 65/100\n",
            "689/689 [==============================] - 50s 72ms/step - loss: 0.0930 - acc: 0.9704 - val_loss: 0.0934 - val_acc: 0.9677\n",
            "Epoch 66/100\n",
            "689/689 [==============================] - 50s 73ms/step - loss: 0.0907 - acc: 0.9703 - val_loss: 0.0970 - val_acc: 0.9695\n",
            "Epoch 67/100\n",
            "689/689 [==============================] - 50s 73ms/step - loss: 0.0879 - acc: 0.9717 - val_loss: 0.0820 - val_acc: 0.9715\n",
            "Epoch 68/100\n",
            "689/689 [==============================] - 50s 72ms/step - loss: 0.0882 - acc: 0.9710 - val_loss: 0.0876 - val_acc: 0.9721\n",
            "Epoch 69/100\n",
            "689/689 [==============================] - 50s 72ms/step - loss: 0.0910 - acc: 0.9707 - val_loss: 0.1034 - val_acc: 0.9686\n",
            "Epoch 70/100\n",
            "689/689 [==============================] - 49s 72ms/step - loss: 0.0905 - acc: 0.9694 - val_loss: 0.1010 - val_acc: 0.9682\n",
            "Epoch 71/100\n",
            "689/689 [==============================] - 50s 72ms/step - loss: 0.0901 - acc: 0.9708 - val_loss: 0.0843 - val_acc: 0.9722\n",
            "Epoch 72/100\n",
            "689/689 [==============================] - 49s 71ms/step - loss: 0.0905 - acc: 0.9701 - val_loss: 0.1020 - val_acc: 0.9695\n",
            "Epoch 73/100\n",
            "689/689 [==============================] - 49s 71ms/step - loss: 0.0895 - acc: 0.9697 - val_loss: 0.1183 - val_acc: 0.9637\n",
            "Epoch 74/100\n",
            "689/689 [==============================] - 50s 72ms/step - loss: 0.0915 - acc: 0.9704 - val_loss: 0.1302 - val_acc: 0.9628\n",
            "Epoch 75/100\n",
            "689/689 [==============================] - 50s 72ms/step - loss: 0.0895 - acc: 0.9698 - val_loss: 0.0851 - val_acc: 0.9715\n",
            "Epoch 76/100\n",
            "689/689 [==============================] - 49s 71ms/step - loss: 0.0868 - acc: 0.9713 - val_loss: 0.1005 - val_acc: 0.9693\n",
            "Epoch 77/100\n",
            "689/689 [==============================] - 50s 72ms/step - loss: 0.0876 - acc: 0.9723 - val_loss: 0.0881 - val_acc: 0.9706\n",
            "Epoch 78/100\n",
            "689/689 [==============================] - 49s 71ms/step - loss: 0.0882 - acc: 0.9705 - val_loss: 0.0841 - val_acc: 0.9711\n",
            "Epoch 79/100\n",
            "689/689 [==============================] - 50s 72ms/step - loss: 0.0885 - acc: 0.9709 - val_loss: 0.0898 - val_acc: 0.9697\n",
            "Epoch 80/100\n",
            "689/689 [==============================] - 50s 72ms/step - loss: 0.0868 - acc: 0.9704 - val_loss: 0.0921 - val_acc: 0.9693\n",
            "Epoch 81/100\n",
            "689/689 [==============================] - 50s 72ms/step - loss: 0.0868 - acc: 0.9718 - val_loss: 0.1066 - val_acc: 0.9626\n",
            "Epoch 82/100\n",
            "689/689 [==============================] - 50s 72ms/step - loss: 0.0899 - acc: 0.9702 - val_loss: 0.0870 - val_acc: 0.9701\n",
            "Epoch 83/100\n",
            "689/689 [==============================] - 50s 73ms/step - loss: 0.0879 - acc: 0.9717 - val_loss: 0.0860 - val_acc: 0.9726\n",
            "Epoch 84/100\n",
            "689/689 [==============================] - 50s 73ms/step - loss: 0.0886 - acc: 0.9720 - val_loss: 0.0863 - val_acc: 0.9704\n",
            "Epoch 85/100\n",
            "689/689 [==============================] - 50s 72ms/step - loss: 0.0869 - acc: 0.9726 - val_loss: 0.0969 - val_acc: 0.9684\n",
            "Epoch 86/100\n",
            "689/689 [==============================] - 50s 72ms/step - loss: 0.0881 - acc: 0.9706 - val_loss: 0.1245 - val_acc: 0.9584\n",
            "Epoch 87/100\n",
            "689/689 [==============================] - 50s 72ms/step - loss: 0.0874 - acc: 0.9713 - val_loss: 0.0855 - val_acc: 0.9715\n",
            "Epoch 88/100\n",
            "689/689 [==============================] - 50s 73ms/step - loss: 0.0864 - acc: 0.9717 - val_loss: 0.0863 - val_acc: 0.9726\n",
            "Epoch 89/100\n",
            "689/689 [==============================] - 51s 73ms/step - loss: 0.0892 - acc: 0.9703 - val_loss: 0.0867 - val_acc: 0.9722\n",
            "Epoch 90/100\n",
            "689/689 [==============================] - 51s 73ms/step - loss: 0.0827 - acc: 0.9726 - val_loss: 0.1009 - val_acc: 0.9672\n",
            "Epoch 91/100\n",
            "689/689 [==============================] - 51s 74ms/step - loss: 0.0833 - acc: 0.9727 - val_loss: 0.0891 - val_acc: 0.9715\n",
            "Epoch 92/100\n",
            "689/689 [==============================] - 51s 74ms/step - loss: 0.0837 - acc: 0.9717 - val_loss: 0.0860 - val_acc: 0.9713\n",
            "Epoch 93/100\n",
            "689/689 [==============================] - 51s 74ms/step - loss: 0.0863 - acc: 0.9710 - val_loss: 0.0964 - val_acc: 0.9693\n",
            "Epoch 94/100\n",
            "689/689 [==============================] - 51s 74ms/step - loss: 0.0826 - acc: 0.9728 - val_loss: 0.0832 - val_acc: 0.9731\n",
            "Epoch 95/100\n",
            "689/689 [==============================] - 51s 74ms/step - loss: 0.0840 - acc: 0.9730 - val_loss: 0.0864 - val_acc: 0.9731\n",
            "Epoch 96/100\n",
            "689/689 [==============================] - 51s 74ms/step - loss: 0.0825 - acc: 0.9720 - val_loss: 0.1046 - val_acc: 0.9635\n",
            "Epoch 97/100\n",
            "689/689 [==============================] - 51s 74ms/step - loss: 0.0848 - acc: 0.9708 - val_loss: 0.1404 - val_acc: 0.9621\n",
            "Epoch 98/100\n",
            "689/689 [==============================] - 50s 73ms/step - loss: 0.0880 - acc: 0.9719 - val_loss: 0.0781 - val_acc: 0.9742\n",
            "Epoch 99/100\n",
            "689/689 [==============================] - 50s 72ms/step - loss: 0.0806 - acc: 0.9733 - val_loss: 0.0935 - val_acc: 0.9690\n",
            "Epoch 100/100\n",
            "689/689 [==============================] - 50s 73ms/step - loss: 0.0819 - acc: 0.9743 - val_loss: 0.0880 - val_acc: 0.9699\n"
          ]
        }
      ]
    },
    {
      "cell_type": "code",
      "source": [
        "model1.evaluate_generator(test_generator, verbose=1)"
      ],
      "metadata": {
        "colab": {
          "base_uri": "https://localhost:8080/"
        },
        "outputId": "2dcf0a47-cb02-4b4c-d5a4-26623435e76b",
        "id": "mrrZ3Kpl6fDo"
      },
      "execution_count": null,
      "outputs": [
        {
          "output_type": "stream",
          "name": "stdout",
          "text": [
            "  3/173 [..............................] - ETA: 5s - loss: 0.0535 - acc: 0.9896 "
          ]
        },
        {
          "output_type": "stream",
          "name": "stderr",
          "text": [
            "/usr/local/lib/python3.7/dist-packages/ipykernel_launcher.py:1: UserWarning: `Model.evaluate_generator` is deprecated and will be removed in a future version. Please use `Model.evaluate`, which supports generators.\n",
            "  \"\"\"Entry point for launching an IPython kernel.\n"
          ]
        },
        {
          "output_type": "stream",
          "name": "stdout",
          "text": [
            "173/173 [==============================] - 5s 31ms/step - loss: 0.0880 - acc: 0.9699\n"
          ]
        },
        {
          "output_type": "execute_result",
          "data": {
            "text/plain": [
              "[0.08800936490297318, 0.9698729515075684]"
            ]
          },
          "metadata": {},
          "execution_count": 9
        }
      ]
    },
    {
      "cell_type": "code",
      "execution_count": null,
      "metadata": {
        "colab": {
          "base_uri": "https://localhost:8080/"
        },
        "outputId": "ac5e6ff0-8567-4363-8f37-87c2671fa590",
        "id": "4-bKjm_B6fDp"
      },
      "outputs": [
        {
          "output_type": "stream",
          "name": "stdout",
          "text": [
            "Train Accuracy : \n",
            "689/689 [==============================] - 42s 62ms/step - loss: 0.0800 - acc: 0.9742\n"
          ]
        },
        {
          "output_type": "execute_result",
          "data": {
            "text/plain": [
              "[0.08004247397184372, 0.9742380380630493]"
            ]
          },
          "metadata": {},
          "execution_count": 10
        }
      ],
      "source": [
        "print(\"Train Accuracy : \")\n",
        "model1.evaluate(train_generator)"
      ]
    },
    {
      "cell_type": "code",
      "source": [
        "print(\"Test Accuracy : \")\n",
        "model1.evaluate(test_generator)"
      ],
      "metadata": {
        "colab": {
          "base_uri": "https://localhost:8080/"
        },
        "outputId": "641998b5-8a09-4ebe-edeb-ca6954767ef3",
        "id": "_w1tmIvB6fDr"
      },
      "execution_count": null,
      "outputs": [
        {
          "output_type": "stream",
          "name": "stdout",
          "text": [
            "Test Accuracy : \n",
            "173/173 [==============================] - 5s 31ms/step - loss: 0.0880 - acc: 0.9699\n"
          ]
        },
        {
          "output_type": "execute_result",
          "data": {
            "text/plain": [
              "[0.08800939470529556, 0.9698729515075684]"
            ]
          },
          "metadata": {},
          "execution_count": 11
        }
      ]
    },
    {
      "cell_type": "code",
      "execution_count": null,
      "metadata": {
        "id": "6MgvXrL76fDs"
      },
      "outputs": [],
      "source": [
        "from sklearn.metrics import classification_report, confusion_matrix\n",
        "import seaborn as sns\n",
        "import matplotlib.pyplot as plt\n",
        "\n",
        "def evaluate(model1):\n",
        "  test_generator = test_datagen.flow_from_directory(\n",
        "      TEST_DIR, \n",
        "      target_size=(64,64), \n",
        "      batch_size=32, \n",
        "      class_mode='binary',\n",
        "      shuffle = False)\n",
        "\n",
        "  Y_pred = model1.predict_generator(test_generator)\n",
        "  y_pred = np.round(Y_pred).astype(int)\n",
        "\n",
        "  print('\\nConfusion Matrix\\n')\n",
        "  cm = confusion_matrix(test_generator.classes, y_pred)\n",
        "  plt.figure(figsize=(8, 8))\n",
        "  sns.heatmap(cm, annot=True, fmt='g', vmin=0, cmap='Blues', cbar=False)\n",
        "  plt.xticks(ticks=[0.5, 1.5], labels=['Parasitized','Uninfected'])\n",
        "  plt.yticks(ticks=[0.5, 1.5], labels=['Parasitized','Uninfected'])\n",
        "  plt.xlabel(\"Predicted\")\n",
        "  plt.ylabel(\"Actual\")\n",
        "  plt.title(\"Confusion Matrix\")\n",
        "  plt.show()\n",
        "\n",
        "  print('\\n\\nClassification Report\\n')\n",
        "  target_names = ['Parasitized','Uninfected']\n",
        "  print(classification_report(test_generator.classes, y_pred, target_names=target_names))\n",
        "\n",
        "  tn, fp, fn, tp = cm.ravel()\n",
        "\n",
        "  precision = tp/(tp+fp)\n",
        "  recall = tp/(tp+fn)\n",
        "  f = 2*((precision*recall)/(precision+recall))\n",
        "\n",
        "  print(\"recall of the model is \", recall)\n",
        "  print(\"precision of the model is \", precision)\n",
        "  print(\"F1-Score of the model is \", f)"
      ]
    },
    {
      "cell_type": "code",
      "execution_count": null,
      "metadata": {
        "colab": {
          "base_uri": "https://localhost:8080/",
          "height": 915
        },
        "outputId": "cd7682ac-bd41-437a-a6f7-b09789282746",
        "id": "EBNz7HKx6fDt"
      },
      "outputs": [
        {
          "output_type": "stream",
          "name": "stdout",
          "text": [
            "Found 5510 images belonging to 2 classes.\n"
          ]
        },
        {
          "output_type": "stream",
          "name": "stderr",
          "text": [
            "/usr/local/lib/python3.7/dist-packages/ipykernel_launcher.py:13: UserWarning: `Model.predict_generator` is deprecated and will be removed in a future version. Please use `Model.predict`, which supports generators.\n",
            "  del sys.path[0]\n"
          ]
        },
        {
          "output_type": "stream",
          "name": "stdout",
          "text": [
            "\n",
            "Confusion Matrix\n",
            "\n"
          ]
        },
        {
          "output_type": "display_data",
          "data": {
            "text/plain": [
              "<Figure size 576x576 with 1 Axes>"
            ],
            "image/png": "[encoded data removed]"
          },
          "metadata": {
            "needs_background": "light"
          }
        },
        {
          "output_type": "stream",
          "name": "stdout",
          "text": [
            "\n",
            "\n",
            "Classification Report\n",
            "\n",
            "              precision    recall  f1-score   support\n",
            "\n",
            " Parasitized       0.97      0.97      0.97      2755\n",
            "  Uninfected       0.97      0.97      0.97      2755\n",
            "\n",
            "    accuracy                           0.97      5510\n",
            "   macro avg       0.97      0.97      0.97      5510\n",
            "weighted avg       0.97      0.97      0.97      5510\n",
            "\n",
            "recall of the model is  0.9666061705989111\n",
            "precision of the model is  0.9729630982827914\n",
            "F1-Score of the model is  0.9697742170429717\n"
          ]
        }
      ],
      "source": [
        "evaluate(model1)"
      ]
    },
    {
      "cell_type": "code",
      "source": [
        "import matplotlib.pyplot as plt\n",
        "def eval_plot(history1):\n",
        "\n",
        "  plt.figure(figsize=(14, 5))\n",
        "\n",
        "  # Accuracy plot\n",
        "  plt.subplot(1, 2, 1)\n",
        "  acc = history1.history['acc']\n",
        "  val_acc = history1.history['val_acc']\n",
        "  epochs = range(len(acc))\n",
        "  acc_plot, = plt.plot(epochs, acc, 'r')\n",
        "  val_acc_plot, = plt.plot(epochs, val_acc, 'b')\n",
        "  plt.title('Training and Validation Accuracy')\n",
        "  plt.legend([acc_plot, val_acc_plot], ['Training Accuracy', 'Validation Accuracy'])\n",
        "  plt.savefig(\"Accuracy1 Plot.svg\", format=\"svg\", dpi=1200)\n",
        "\n",
        "  # Loss plot\n",
        "  plt.subplot(1, 2, 2)\n",
        "  loss = history1.history['loss']\n",
        "  val_loss = history1.history['val_loss']\n",
        "  epochs = range(len(loss))\n",
        "  loss_plot, = plt.plot(epochs, loss, 'r')\n",
        "  val_loss_plot, = plt.plot(epochs, val_loss, 'b')\n",
        "  plt.title('Training and Validation Loss')\n",
        "  plt.legend([loss_plot, val_loss_plot], ['Training Loss', 'Validation Loss'])\n",
        "  plt.savefig(\"Loss1 Plot.svg\", format=\"svg\", dpi=1200)"
      ],
      "metadata": {
        "id": "UCC1PAMt6fDv"
      },
      "execution_count": null,
      "outputs": []
    },
    {
      "cell_type": "code",
      "source": [
        "eval_plot(history1)"
      ],
      "metadata": {
        "colab": {
          "base_uri": "https://localhost:8080/",
          "height": 336
        },
        "outputId": "8a913cd7-041f-4a05-f081-63bc354c95c2",
        "id": "dvYuUcqW6fDw"
      },
      "execution_count": null,
      "outputs": [
        {
          "output_type": "display_data",
          "data": {
            "text/plain": [
              "<Figure size 1008x360 with 2 Axes>"
            ],
            "image/png": "[encoded data removed]"
          },
          "metadata": {
            "needs_background": "light"
          }
        }
      ]
    },
    {
      "cell_type": "markdown",
      "source": [
        "**Optimizer Adam**"
      ],
      "metadata": {
        "id": "xosyPu3G1IQL"
      }
    },
    {
      "cell_type": "code",
      "source": [
        "import tensorflow as tf\n",
        "from tensorflow.keras.models import Sequential, load_model\n",
        "from tensorflow.keras.optimizers import Adam\n",
        "from tensorflow.keras.layers import Dense, Conv2D, AveragePooling2D, MaxPooling2D, Flatten, BatchNormalization, Dropout\n",
        "model2 = tf.keras.models.Sequential([\n",
        "    tf.keras.layers.Conv2D(16, (3,3), activation='relu', padding='same', input_shape=(64, 64, 3)),\n",
        "    tf.keras.layers.BatchNormalization(),\n",
        "    tf.keras.layers.MaxPooling2D(2, 2),\n",
        "    \n",
        "    tf.keras.layers.Conv2D(32, (3,3), activation='relu', padding='same'),\n",
        "    tf.keras.layers.BatchNormalization(),\n",
        "    tf.keras.layers.MaxPooling2D(2, 2),\n",
        "    \n",
        "    tf.keras.layers.Conv2D(64, (3,3), activation='relu', padding='same'),\n",
        "    tf.keras.layers.BatchNormalization(),\n",
        "    tf.keras.layers.MaxPooling2D(2, 2),\n",
        "    \n",
        "    tf.keras.layers.Conv2D(128, (3,3), activation='relu', padding='same'),\n",
        "    tf.keras.layers.BatchNormalization(),\n",
        "    tf.keras.layers.MaxPooling2D(2, 2), \n",
        "    \n",
        "    tf.keras.layers.Flatten(),\n",
        "    \n",
        "    tf.keras.layers.Dense(512, activation='relu'),\n",
        "    tf.keras.layers.BatchNormalization(),\n",
        "    tf.keras.layers.Dropout(0.1),\n",
        "    \n",
        "    tf.keras.layers.Dense(1, activation='sigmoid')\n",
        "])\n",
        "\n",
        "model2.compile(loss='binary_crossentropy',\n",
        "              optimizer=Adam(lr=0.001),\n",
        "              metrics=['acc'])"
      ],
      "metadata": {
        "colab": {
          "base_uri": "https://localhost:8080/"
        },
        "outputId": "76602c42-4e1a-4498-c13d-d925fed76f5d",
        "id": "iNUsj_KPId0j"
      },
      "execution_count": null,
      "outputs": [
        {
          "output_type": "stream",
          "name": "stderr",
          "text": [
            "/usr/local/lib/python3.7/dist-packages/keras/optimizer_v2/adam.py:105: UserWarning: The `lr` argument is deprecated, use `learning_rate` instead.\n",
            "  super(Adam, self).__init__(name, **kwargs)\n"
          ]
        }
      ]
    },
    {
      "cell_type": "code",
      "source": [
        "# Print model summary\n",
        "print(model2.summary())"
      ],
      "metadata": {
        "colab": {
          "base_uri": "https://localhost:8080/"
        },
        "outputId": "3b470994-323d-49c0-fe02-7ed6b41fbf66",
        "id": "LCciARYyId0l"
      },
      "execution_count": null,
      "outputs": [
        {
          "output_type": "stream",
          "name": "stdout",
          "text": [
            "Model: \"sequential_1\"\n",
            "_________________________________________________________________\n",
            " Layer (type)                Output Shape              Param #   \n",
            "=================================================================\n",
            " conv2d_4 (Conv2D)           (None, 64, 64, 16)        448       \n",
            "                                                                 \n",
            " batch_normalization_5 (Batc  (None, 64, 64, 16)       64        \n",
            " hNormalization)                                                 \n",
            "                                                                 \n",
            " max_pooling2d_4 (MaxPooling  (None, 32, 32, 16)       0         \n",
            " 2D)                                                             \n",
            "                                                                 \n",
            " conv2d_5 (Conv2D)           (None, 32, 32, 32)        4640      \n",
            "                                                                 \n",
            " batch_normalization_6 (Batc  (None, 32, 32, 32)       128       \n",
            " hNormalization)                                                 \n",
            "                                                                 \n",
            " max_pooling2d_5 (MaxPooling  (None, 16, 16, 32)       0         \n",
            " 2D)                                                             \n",
            "                                                                 \n",
            " conv2d_6 (Conv2D)           (None, 16, 16, 64)        18496     \n",
            "                                                                 \n",
            " batch_normalization_7 (Batc  (None, 16, 16, 64)       256       \n",
            " hNormalization)                                                 \n",
            "                                                                 \n",
            " max_pooling2d_6 (MaxPooling  (None, 8, 8, 64)         0         \n",
            " 2D)                                                             \n",
            "                                                                 \n",
            " conv2d_7 (Conv2D)           (None, 8, 8, 128)         73856     \n",
            "                                                                 \n",
            " batch_normalization_8 (Batc  (None, 8, 8, 128)        512       \n",
            " hNormalization)                                                 \n",
            "                                                                 \n",
            " max_pooling2d_7 (MaxPooling  (None, 4, 4, 128)        0         \n",
            " 2D)                                                             \n",
            "                                                                 \n",
            " flatten_1 (Flatten)         (None, 2048)              0         \n",
            "                                                                 \n",
            " dense_2 (Dense)             (None, 512)               1049088   \n",
            "                                                                 \n",
            " batch_normalization_9 (Batc  (None, 512)              2048      \n",
            " hNormalization)                                                 \n",
            "                                                                 \n",
            " dropout_1 (Dropout)         (None, 512)               0         \n",
            "                                                                 \n",
            " dense_3 (Dense)             (None, 1)                 513       \n",
            "                                                                 \n",
            "=================================================================\n",
            "Total params: 1,150,049\n",
            "Trainable params: 1,148,545\n",
            "Non-trainable params: 1,504\n",
            "_________________________________________________________________\n",
            "None\n"
          ]
        }
      ]
    },
    {
      "cell_type": "code",
      "source": [
        "history2 = model2.fit_generator(\n",
        "        train_generator,\n",
        "        epochs=100,\n",
        "        validation_data=test_generator,\n",
        "        )"
      ],
      "metadata": {
        "colab": {
          "base_uri": "https://localhost:8080/"
        },
        "outputId": "85162a5e-9799-4172-ee9c-c15865bdbdb4",
        "id": "ioZu_cdOJgC1"
      },
      "execution_count": null,
      "outputs": [
        {
          "output_type": "stream",
          "name": "stdout",
          "text": [
            "Epoch 1/100\n"
          ]
        },
        {
          "output_type": "stream",
          "name": "stderr",
          "text": [
            "/usr/local/lib/python3.7/dist-packages/ipykernel_launcher.py:4: UserWarning: `Model.fit_generator` is deprecated and will be removed in a future version. Please use `Model.fit`, which supports generators.\n",
            "  after removing the cwd from sys.path.\n"
          ]
        },
        {
          "output_type": "stream",
          "name": "stdout",
          "text": [
            "689/689 [==============================] - 53s 75ms/step - loss: 0.2634 - acc: 0.8962 - val_loss: 0.1406 - val_acc: 0.9546\n",
            "Epoch 2/100\n",
            "689/689 [==============================] - 50s 72ms/step - loss: 0.1547 - acc: 0.9474 - val_loss: 0.1783 - val_acc: 0.9343\n",
            "Epoch 3/100\n",
            "689/689 [==============================] - 48s 70ms/step - loss: 0.1470 - acc: 0.9514 - val_loss: 0.2055 - val_acc: 0.9279\n",
            "Epoch 4/100\n",
            "689/689 [==============================] - 49s 70ms/step - loss: 0.1441 - acc: 0.9518 - val_loss: 0.1879 - val_acc: 0.9352\n",
            "Epoch 5/100\n",
            "689/689 [==============================] - 49s 71ms/step - loss: 0.1351 - acc: 0.9531 - val_loss: 0.1234 - val_acc: 0.9552\n",
            "Epoch 6/100\n",
            "689/689 [==============================] - 49s 70ms/step - loss: 0.1325 - acc: 0.9551 - val_loss: 0.1208 - val_acc: 0.9608\n",
            "Epoch 7/100\n",
            "689/689 [==============================] - 52s 76ms/step - loss: 0.1308 - acc: 0.9552 - val_loss: 0.1140 - val_acc: 0.9581\n",
            "Epoch 8/100\n",
            "689/689 [==============================] - 49s 70ms/step - loss: 0.1272 - acc: 0.9557 - val_loss: 0.1220 - val_acc: 0.9595\n",
            "Epoch 9/100\n",
            "689/689 [==============================] - 50s 73ms/step - loss: 0.1248 - acc: 0.9571 - val_loss: 0.1109 - val_acc: 0.9635\n",
            "Epoch 10/100\n",
            "689/689 [==============================] - 49s 71ms/step - loss: 0.1222 - acc: 0.9590 - val_loss: 0.1158 - val_acc: 0.9613\n",
            "Epoch 11/100\n",
            "689/689 [==============================] - 49s 71ms/step - loss: 0.1171 - acc: 0.9599 - val_loss: 0.1006 - val_acc: 0.9655\n",
            "Epoch 12/100\n",
            "689/689 [==============================] - 48s 70ms/step - loss: 0.1190 - acc: 0.9593 - val_loss: 0.1212 - val_acc: 0.9619\n",
            "Epoch 13/100\n",
            "689/689 [==============================] - 49s 71ms/step - loss: 0.1174 - acc: 0.9597 - val_loss: 0.0983 - val_acc: 0.9653\n",
            "Epoch 14/100\n",
            "689/689 [==============================] - 49s 71ms/step - loss: 0.1156 - acc: 0.9603 - val_loss: 0.1393 - val_acc: 0.9544\n",
            "Epoch 15/100\n",
            "689/689 [==============================] - 49s 71ms/step - loss: 0.1099 - acc: 0.9624 - val_loss: 0.0974 - val_acc: 0.9666\n",
            "Epoch 16/100\n",
            "689/689 [==============================] - 48s 70ms/step - loss: 0.1111 - acc: 0.9625 - val_loss: 0.0981 - val_acc: 0.9670\n",
            "Epoch 17/100\n",
            "689/689 [==============================] - 48s 70ms/step - loss: 0.1122 - acc: 0.9614 - val_loss: 0.1517 - val_acc: 0.9563\n",
            "Epoch 18/100\n",
            "689/689 [==============================] - 48s 70ms/step - loss: 0.1075 - acc: 0.9639 - val_loss: 0.0969 - val_acc: 0.9690\n",
            "Epoch 19/100\n",
            "689/689 [==============================] - 48s 70ms/step - loss: 0.1097 - acc: 0.9621 - val_loss: 0.0984 - val_acc: 0.9673\n",
            "Epoch 20/100\n",
            "689/689 [==============================] - 49s 71ms/step - loss: 0.1078 - acc: 0.9643 - val_loss: 0.1508 - val_acc: 0.9583\n",
            "Epoch 21/100\n",
            "689/689 [==============================] - 48s 70ms/step - loss: 0.1091 - acc: 0.9634 - val_loss: 0.0965 - val_acc: 0.9662\n",
            "Epoch 22/100\n",
            "689/689 [==============================] - 49s 70ms/step - loss: 0.1083 - acc: 0.9627 - val_loss: 0.0951 - val_acc: 0.9666\n",
            "Epoch 23/100\n",
            "689/689 [==============================] - 48s 70ms/step - loss: 0.1039 - acc: 0.9632 - val_loss: 0.1031 - val_acc: 0.9659\n",
            "Epoch 24/100\n",
            "689/689 [==============================] - 49s 71ms/step - loss: 0.1050 - acc: 0.9644 - val_loss: 0.0880 - val_acc: 0.9686\n",
            "Epoch 25/100\n",
            "689/689 [==============================] - 49s 70ms/step - loss: 0.1013 - acc: 0.9644 - val_loss: 0.1042 - val_acc: 0.9662\n",
            "Epoch 26/100\n",
            "689/689 [==============================] - 48s 70ms/step - loss: 0.1005 - acc: 0.9658 - val_loss: 0.0896 - val_acc: 0.9679\n",
            "Epoch 27/100\n",
            "689/689 [==============================] - 49s 70ms/step - loss: 0.1017 - acc: 0.9661 - val_loss: 0.0906 - val_acc: 0.9682\n",
            "Epoch 28/100\n",
            "689/689 [==============================] - 48s 70ms/step - loss: 0.1000 - acc: 0.9658 - val_loss: 0.1012 - val_acc: 0.9672\n",
            "Epoch 29/100\n",
            "689/689 [==============================] - 49s 70ms/step - loss: 0.1013 - acc: 0.9663 - val_loss: 0.0956 - val_acc: 0.9681\n",
            "Epoch 30/100\n",
            "689/689 [==============================] - 48s 70ms/step - loss: 0.1000 - acc: 0.9661 - val_loss: 0.0954 - val_acc: 0.9691\n",
            "Epoch 31/100\n",
            "689/689 [==============================] - 48s 70ms/step - loss: 0.0976 - acc: 0.9669 - val_loss: 0.0941 - val_acc: 0.9706\n",
            "Epoch 32/100\n",
            "689/689 [==============================] - 48s 70ms/step - loss: 0.0962 - acc: 0.9673 - val_loss: 0.1021 - val_acc: 0.9684\n",
            "Epoch 33/100\n",
            "689/689 [==============================] - 48s 70ms/step - loss: 0.0983 - acc: 0.9665 - val_loss: 0.0864 - val_acc: 0.9711\n",
            "Epoch 34/100\n",
            "689/689 [==============================] - 49s 70ms/step - loss: 0.0981 - acc: 0.9667 - val_loss: 0.0917 - val_acc: 0.9702\n",
            "Epoch 35/100\n",
            "689/689 [==============================] - 48s 70ms/step - loss: 0.0938 - acc: 0.9683 - val_loss: 0.1215 - val_acc: 0.9613\n",
            "Epoch 36/100\n",
            "689/689 [==============================] - 48s 70ms/step - loss: 0.0989 - acc: 0.9664 - val_loss: 0.0911 - val_acc: 0.9695\n",
            "Epoch 37/100\n",
            "689/689 [==============================] - 48s 70ms/step - loss: 0.0949 - acc: 0.9668 - val_loss: 0.0963 - val_acc: 0.9672\n",
            "Epoch 38/100\n",
            "689/689 [==============================] - 48s 70ms/step - loss: 0.0963 - acc: 0.9669 - val_loss: 0.0880 - val_acc: 0.9722\n",
            "Epoch 39/100\n",
            "689/689 [==============================] - 48s 70ms/step - loss: 0.0957 - acc: 0.9677 - val_loss: 0.0965 - val_acc: 0.9684\n",
            "Epoch 40/100\n",
            "689/689 [==============================] - 48s 70ms/step - loss: 0.0967 - acc: 0.9675 - val_loss: 0.0981 - val_acc: 0.9686\n",
            "Epoch 41/100\n",
            "689/689 [==============================] - 48s 70ms/step - loss: 0.0901 - acc: 0.9691 - val_loss: 0.0948 - val_acc: 0.9681\n",
            "Epoch 42/100\n",
            "689/689 [==============================] - 49s 71ms/step - loss: 0.0936 - acc: 0.9689 - val_loss: 0.0830 - val_acc: 0.9733\n",
            "Epoch 43/100\n",
            "689/689 [==============================] - 50s 72ms/step - loss: 0.0922 - acc: 0.9684 - val_loss: 0.1204 - val_acc: 0.9601\n",
            "Epoch 44/100\n",
            "689/689 [==============================] - 50s 72ms/step - loss: 0.0909 - acc: 0.9676 - val_loss: 0.0880 - val_acc: 0.9719\n",
            "Epoch 45/100\n",
            "689/689 [==============================] - 50s 72ms/step - loss: 0.0914 - acc: 0.9687 - val_loss: 0.1039 - val_acc: 0.9682\n",
            "Epoch 46/100\n",
            "689/689 [==============================] - 50s 72ms/step - loss: 0.0899 - acc: 0.9682 - val_loss: 0.0958 - val_acc: 0.9686\n",
            "Epoch 47/100\n",
            "689/689 [==============================] - 49s 71ms/step - loss: 0.0882 - acc: 0.9696 - val_loss: 0.0950 - val_acc: 0.9695\n",
            "Epoch 48/100\n",
            "689/689 [==============================] - 49s 71ms/step - loss: 0.0917 - acc: 0.9691 - val_loss: 0.0893 - val_acc: 0.9706\n",
            "Epoch 49/100\n",
            "689/689 [==============================] - 49s 71ms/step - loss: 0.0945 - acc: 0.9682 - val_loss: 0.0919 - val_acc: 0.9724\n",
            "Epoch 50/100\n",
            "689/689 [==============================] - 49s 70ms/step - loss: 0.0885 - acc: 0.9696 - val_loss: 0.0903 - val_acc: 0.9708\n",
            "Epoch 51/100\n",
            "689/689 [==============================] - 49s 71ms/step - loss: 0.0891 - acc: 0.9692 - val_loss: 0.0848 - val_acc: 0.9715\n",
            "Epoch 52/100\n",
            "689/689 [==============================] - 49s 72ms/step - loss: 0.0853 - acc: 0.9704 - val_loss: 0.0908 - val_acc: 0.9699\n",
            "Epoch 53/100\n",
            "689/689 [==============================] - 49s 71ms/step - loss: 0.0856 - acc: 0.9705 - val_loss: 0.0852 - val_acc: 0.9708\n",
            "Epoch 54/100\n",
            "689/689 [==============================] - 49s 71ms/step - loss: 0.0882 - acc: 0.9701 - val_loss: 0.0861 - val_acc: 0.9719\n",
            "Epoch 55/100\n",
            "689/689 [==============================] - 49s 71ms/step - loss: 0.0851 - acc: 0.9700 - val_loss: 0.0881 - val_acc: 0.9717\n",
            "Epoch 56/100\n",
            "689/689 [==============================] - 49s 71ms/step - loss: 0.0843 - acc: 0.9709 - val_loss: 0.0922 - val_acc: 0.9686\n",
            "Epoch 57/100\n",
            "689/689 [==============================] - 49s 71ms/step - loss: 0.0863 - acc: 0.9710 - val_loss: 0.0856 - val_acc: 0.9710\n",
            "Epoch 58/100\n",
            "689/689 [==============================] - 49s 71ms/step - loss: 0.0842 - acc: 0.9705 - val_loss: 0.0860 - val_acc: 0.9739\n",
            "Epoch 59/100\n",
            "689/689 [==============================] - 50s 72ms/step - loss: 0.0877 - acc: 0.9695 - val_loss: 0.0847 - val_acc: 0.9726\n",
            "Epoch 60/100\n",
            "689/689 [==============================] - 50s 73ms/step - loss: 0.0892 - acc: 0.9683 - val_loss: 0.0807 - val_acc: 0.9740\n",
            "Epoch 61/100\n",
            "689/689 [==============================] - 49s 72ms/step - loss: 0.0843 - acc: 0.9708 - val_loss: 0.0807 - val_acc: 0.9730\n",
            "Epoch 62/100\n",
            "689/689 [==============================] - 50s 72ms/step - loss: 0.0844 - acc: 0.9719 - val_loss: 0.0807 - val_acc: 0.9748\n",
            "Epoch 63/100\n",
            "689/689 [==============================] - 49s 72ms/step - loss: 0.0833 - acc: 0.9712 - val_loss: 0.0967 - val_acc: 0.9677\n",
            "Epoch 64/100\n",
            "689/689 [==============================] - 49s 71ms/step - loss: 0.0860 - acc: 0.9693 - val_loss: 0.0835 - val_acc: 0.9735\n",
            "Epoch 65/100\n",
            "689/689 [==============================] - 49s 71ms/step - loss: 0.0837 - acc: 0.9712 - val_loss: 0.0862 - val_acc: 0.9713\n",
            "Epoch 66/100\n",
            "689/689 [==============================] - 49s 72ms/step - loss: 0.0821 - acc: 0.9711 - val_loss: 0.0941 - val_acc: 0.9695\n",
            "Epoch 67/100\n",
            "689/689 [==============================] - 49s 72ms/step - loss: 0.0839 - acc: 0.9709 - val_loss: 0.1182 - val_acc: 0.9621\n",
            "Epoch 68/100\n",
            "689/689 [==============================] - 49s 72ms/step - loss: 0.0857 - acc: 0.9696 - val_loss: 0.0866 - val_acc: 0.9735\n",
            "Epoch 69/100\n",
            "689/689 [==============================] - 49s 71ms/step - loss: 0.0810 - acc: 0.9712 - val_loss: 0.0761 - val_acc: 0.9755\n",
            "Epoch 70/100\n",
            "689/689 [==============================] - 49s 72ms/step - loss: 0.0810 - acc: 0.9713 - val_loss: 0.0863 - val_acc: 0.9742\n",
            "Epoch 71/100\n",
            "689/689 [==============================] - 49s 72ms/step - loss: 0.0821 - acc: 0.9713 - val_loss: 0.1120 - val_acc: 0.9599\n",
            "Epoch 72/100\n",
            "689/689 [==============================] - 49s 72ms/step - loss: 0.0844 - acc: 0.9707 - val_loss: 0.0864 - val_acc: 0.9726\n",
            "Epoch 73/100\n",
            "689/689 [==============================] - 50s 72ms/step - loss: 0.0817 - acc: 0.9719 - val_loss: 0.0768 - val_acc: 0.9733\n",
            "Epoch 74/100\n",
            "689/689 [==============================] - 49s 71ms/step - loss: 0.0789 - acc: 0.9733 - val_loss: 0.0849 - val_acc: 0.9735\n",
            "Epoch 75/100\n",
            "689/689 [==============================] - 48s 70ms/step - loss: 0.0800 - acc: 0.9719 - val_loss: 0.0832 - val_acc: 0.9735\n",
            "Epoch 76/100\n",
            "689/689 [==============================] - 48s 70ms/step - loss: 0.0798 - acc: 0.9724 - val_loss: 0.0840 - val_acc: 0.9750\n",
            "Epoch 77/100\n",
            "689/689 [==============================] - 48s 70ms/step - loss: 0.0829 - acc: 0.9725 - val_loss: 0.1147 - val_acc: 0.9613\n",
            "Epoch 78/100\n",
            "689/689 [==============================] - 49s 71ms/step - loss: 0.0792 - acc: 0.9726 - val_loss: 0.0863 - val_acc: 0.9721\n",
            "Epoch 79/100\n",
            "689/689 [==============================] - 49s 70ms/step - loss: 0.0799 - acc: 0.9726 - val_loss: 0.0916 - val_acc: 0.9730\n",
            "Epoch 80/100\n",
            "689/689 [==============================] - 59s 86ms/step - loss: 0.0778 - acc: 0.9727 - val_loss: 0.0846 - val_acc: 0.9724\n",
            "Epoch 81/100\n",
            "689/689 [==============================] - 63s 91ms/step - loss: 0.0827 - acc: 0.9703 - val_loss: 0.0821 - val_acc: 0.9735\n",
            "Epoch 82/100\n",
            "689/689 [==============================] - 49s 70ms/step - loss: 0.0802 - acc: 0.9721 - val_loss: 0.0857 - val_acc: 0.9686\n",
            "Epoch 83/100\n",
            "689/689 [==============================] - 50s 72ms/step - loss: 0.0770 - acc: 0.9734 - val_loss: 0.0824 - val_acc: 0.9739\n",
            "Epoch 84/100\n",
            "689/689 [==============================] - 49s 71ms/step - loss: 0.0803 - acc: 0.9729 - val_loss: 0.0893 - val_acc: 0.9690\n",
            "Epoch 85/100\n",
            "689/689 [==============================] - 49s 71ms/step - loss: 0.0756 - acc: 0.9733 - val_loss: 0.0905 - val_acc: 0.9691\n",
            "Epoch 86/100\n",
            "689/689 [==============================] - 48s 70ms/step - loss: 0.0785 - acc: 0.9736 - val_loss: 0.1182 - val_acc: 0.9670\n",
            "Epoch 87/100\n",
            "689/689 [==============================] - 49s 71ms/step - loss: 0.0812 - acc: 0.9712 - val_loss: 0.0946 - val_acc: 0.9706\n",
            "Epoch 88/100\n",
            "689/689 [==============================] - 49s 71ms/step - loss: 0.0750 - acc: 0.9735 - val_loss: 0.0829 - val_acc: 0.9728\n",
            "Epoch 89/100\n",
            "689/689 [==============================] - 50s 73ms/step - loss: 0.0740 - acc: 0.9746 - val_loss: 0.0779 - val_acc: 0.9757\n",
            "Epoch 90/100\n",
            "689/689 [==============================] - 49s 71ms/step - loss: 0.0792 - acc: 0.9730 - val_loss: 0.0834 - val_acc: 0.9710\n",
            "Epoch 91/100\n",
            "689/689 [==============================] - 48s 70ms/step - loss: 0.0770 - acc: 0.9736 - val_loss: 0.0849 - val_acc: 0.9715\n",
            "Epoch 92/100\n",
            "689/689 [==============================] - 48s 70ms/step - loss: 0.0796 - acc: 0.9724 - val_loss: 0.0892 - val_acc: 0.9726\n",
            "Epoch 93/100\n",
            "689/689 [==============================] - 48s 70ms/step - loss: 0.0751 - acc: 0.9737 - val_loss: 0.0820 - val_acc: 0.9740\n",
            "Epoch 94/100\n",
            "689/689 [==============================] - 48s 70ms/step - loss: 0.0796 - acc: 0.9716 - val_loss: 0.0848 - val_acc: 0.9724\n",
            "Epoch 95/100\n",
            "689/689 [==============================] - 49s 71ms/step - loss: 0.0733 - acc: 0.9741 - val_loss: 0.0843 - val_acc: 0.9730\n",
            "Epoch 96/100\n",
            "689/689 [==============================] - 51s 74ms/step - loss: 0.0753 - acc: 0.9733 - val_loss: 0.0873 - val_acc: 0.9724\n",
            "Epoch 97/100\n",
            "689/689 [==============================] - 49s 70ms/step - loss: 0.0766 - acc: 0.9736 - val_loss: 0.0800 - val_acc: 0.9753\n",
            "Epoch 98/100\n",
            "689/689 [==============================] - 48s 70ms/step - loss: 0.0724 - acc: 0.9755 - val_loss: 0.0890 - val_acc: 0.9733\n",
            "Epoch 99/100\n",
            "689/689 [==============================] - 49s 71ms/step - loss: 0.0740 - acc: 0.9740 - val_loss: 0.0852 - val_acc: 0.9704\n",
            "Epoch 100/100\n",
            "689/689 [==============================] - 50s 72ms/step - loss: 0.0735 - acc: 0.9750 - val_loss: 0.0857 - val_acc: 0.9742\n"
          ]
        }
      ]
    },
    {
      "cell_type": "code",
      "source": [
        "model2.evaluate_generator(test_generator, verbose=1)"
      ],
      "metadata": {
        "colab": {
          "base_uri": "https://localhost:8080/"
        },
        "outputId": "691946fb-9968-49bb-fb5c-ef5b4187c71f",
        "id": "WBYN_9urJgC2"
      },
      "execution_count": null,
      "outputs": [
        {
          "output_type": "stream",
          "name": "stdout",
          "text": [
            "  3/173 [..............................] - ETA: 5s - loss: 0.1299 - acc: 0.9792 "
          ]
        },
        {
          "output_type": "stream",
          "name": "stderr",
          "text": [
            "/usr/local/lib/python3.7/dist-packages/ipykernel_launcher.py:1: UserWarning: `Model.evaluate_generator` is deprecated and will be removed in a future version. Please use `Model.evaluate`, which supports generators.\n",
            "  \"\"\"Entry point for launching an IPython kernel.\n"
          ]
        },
        {
          "output_type": "stream",
          "name": "stdout",
          "text": [
            "173/173 [==============================] - 5s 31ms/step - loss: 0.0857 - acc: 0.9742\n"
          ]
        },
        {
          "output_type": "execute_result",
          "data": {
            "text/plain": [
              "[0.08571338653564453, 0.9742286801338196]"
            ]
          },
          "metadata": {},
          "execution_count": 22
        }
      ]
    },
    {
      "cell_type": "code",
      "execution_count": null,
      "metadata": {
        "colab": {
          "base_uri": "https://localhost:8080/"
        },
        "outputId": "1d56c19b-bb4e-4cc0-9a01-34e84deda80e",
        "id": "P3_0NETjJgC3"
      },
      "outputs": [
        {
          "output_type": "stream",
          "name": "stdout",
          "text": [
            "Train Accuracy : \n",
            "689/689 [==============================] - 42s 61ms/step - loss: 0.0720 - acc: 0.9758\n"
          ]
        },
        {
          "output_type": "execute_result",
          "data": {
            "text/plain": [
              "[0.07195986807346344, 0.9758254885673523]"
            ]
          },
          "metadata": {},
          "execution_count": 23
        }
      ],
      "source": [
        "print(\"Train Accuracy : \")\n",
        "model2.evaluate(train_generator)"
      ]
    },
    {
      "cell_type": "code",
      "execution_count": null,
      "metadata": {
        "colab": {
          "base_uri": "https://localhost:8080/"
        },
        "outputId": "891291c2-e8cc-46c3-bacb-280b2934d67b",
        "id": "kQEwc-wcJgC4"
      },
      "outputs": [
        {
          "output_type": "stream",
          "name": "stdout",
          "text": [
            "Test Accuracy : \n",
            "173/173 [==============================] - 5s 31ms/step - loss: 0.0857 - acc: 0.9742\n"
          ]
        },
        {
          "output_type": "execute_result",
          "data": {
            "text/plain": [
              "[0.08571340143680573, 0.9742286801338196]"
            ]
          },
          "metadata": {},
          "execution_count": 24
        }
      ],
      "source": [
        "print(\"Test Accuracy : \")\n",
        "model2.evaluate(test_generator)"
      ]
    },
    {
      "cell_type": "code",
      "execution_count": null,
      "metadata": {
        "id": "wYVs7B9_YnQD"
      },
      "outputs": [],
      "source": [
        "from sklearn.metrics import classification_report, confusion_matrix\n",
        "import seaborn as sns\n",
        "import matplotlib.pyplot as plt\n",
        "\n",
        "def evaluate(model2):\n",
        "  test_generator = test_datagen.flow_from_directory(\n",
        "      TEST_DIR, \n",
        "      target_size=(64,64), \n",
        "      batch_size=32, \n",
        "      class_mode='binary',\n",
        "      shuffle = False)\n",
        "\n",
        "  Y_pred = model2.predict_generator(test_generator)\n",
        "  y_pred = np.round(Y_pred).astype(int)\n",
        "\n",
        "  print('\\nConfusion Matrix\\n')\n",
        "  cm = confusion_matrix(test_generator.classes, y_pred)\n",
        "  plt.figure(figsize=(8, 8))\n",
        "  sns.heatmap(cm, annot=True, fmt='g', vmin=0, cmap='Blues', cbar=False)\n",
        "  plt.xticks(ticks=[0.5, 1.5], labels=['Parasitized','Uninfected'])\n",
        "  plt.yticks(ticks=[0.5, 1.5], labels=['Parasitized','Uninfected'])\n",
        "  plt.xlabel(\"Predicted\")\n",
        "  plt.ylabel(\"Actual\")\n",
        "  plt.title(\"Confusion Matrix\")\n",
        "  plt.show()\n",
        "\n",
        "  print('\\n\\nClassification Report\\n')\n",
        "  target_names = ['Parasitized','Uninfected']\n",
        "  print(classification_report(test_generator.classes, y_pred, target_names=target_names))\n",
        "\n",
        "  tn, fp, fn, tp = cm.ravel()\n",
        "\n",
        "  precision = tp/(tp+fp)\n",
        "  recall = tp/(tp+fn)\n",
        "  f = 2*((precision*recall)/(precision+recall))\n",
        "\n",
        "  print(\"Recall of the model is {:.2f}\".format(recall))\n",
        "  print(\"Precision of the model is {:.2f}\".format(precision))\n",
        "  print(\"F-1 Score of the model is {:.2f}\".format(f)) "
      ]
    },
    {
      "cell_type": "code",
      "source": [
        "evaluate(model2)"
      ],
      "metadata": {
        "colab": {
          "base_uri": "https://localhost:8080/",
          "height": 915
        },
        "id": "cRklPtjQiOPV",
        "outputId": "9f46ab14-e909-423e-9957-46e4ef460ac9"
      },
      "execution_count": null,
      "outputs": [
        {
          "output_type": "stream",
          "name": "stdout",
          "text": [
            "Found 5509 images belonging to 2 classes.\n"
          ]
        },
        {
          "output_type": "stream",
          "name": "stderr",
          "text": [
            "/usr/local/lib/python3.7/dist-packages/ipykernel_launcher.py:13: UserWarning: `Model.predict_generator` is deprecated and will be removed in a future version. Please use `Model.predict`, which supports generators.\n",
            "  del sys.path[0]\n"
          ]
        },
        {
          "output_type": "stream",
          "name": "stdout",
          "text": [
            "\n",
            "Confusion Matrix\n",
            "\n"
          ]
        },
        {
          "output_type": "display_data",
          "data": {
            "text/plain": [
              "<Figure size 576x576 with 1 Axes>"
            ],
            "image/png": "[encoded data removed]"
          },
          "metadata": {
            "needs_background": "light"
          }
        },
        {
          "output_type": "stream",
          "name": "stdout",
          "text": [
            "\n",
            "\n",
            "Classification Report\n",
            "\n",
            "              precision    recall  f1-score   support\n",
            "\n",
            " Parasitized       0.98      0.97      0.97      2754\n",
            "  Uninfected       0.97      0.98      0.97      2755\n",
            "\n",
            "    accuracy                           0.97      5509\n",
            "   macro avg       0.97      0.97      0.97      5509\n",
            "weighted avg       0.97      0.97      0.97      5509\n",
            "\n",
            "recall of the model is  0.9814882032667877\n",
            "precision of the model is  0.9674418604651163\n",
            "F1-Score of the model is  0.9744144144144143\n"
          ]
        }
      ]
    },
    {
      "cell_type": "code",
      "source": [
        "import matplotlib.pyplot as plt\n",
        "def eval_plot(history2):\n",
        "\n",
        "  plt.figure(figsize=(14, 5))\n",
        "\n",
        "  # Accuracy plot\n",
        "  plt.subplot(1, 2, 1)\n",
        "  acc = history2.history['acc']\n",
        "  val_acc = history2.history['val_acc']\n",
        "  epochs = range(len(acc))\n",
        "  acc_plot, = plt.plot(epochs, acc, 'r')\n",
        "  val_acc_plot, = plt.plot(epochs, val_acc, 'b')\n",
        "  plt.title('Training and Validation Accuracy')\n",
        "  plt.legend([acc_plot, val_acc_plot], ['Training Accuracy', 'Validation Accuracy'])\n",
        "  plt.savefig(\"Accuracy2 Plot.svg\", format=\"svg\", dpi=1200)\n",
        "\n",
        "  # Loss plot\n",
        "  plt.subplot(1, 2, 2)\n",
        "  loss = history2.history['loss']\n",
        "  val_loss = history2.history['val_loss']\n",
        "  epochs = range(len(loss))\n",
        "  loss_plot, = plt.plot(epochs, loss, 'r')\n",
        "  val_loss_plot, = plt.plot(epochs, val_loss, 'b')\n",
        "  plt.title('Training and Validation Loss')\n",
        "  plt.legend([loss_plot, val_loss_plot], ['Training Loss', 'Validation Loss'])\n",
        "  plt.savefig(\"Loss2 Plot.svg\", format=\"svg\", dpi=1200)"
      ],
      "metadata": {
        "id": "6_7usVDlO_jR"
      },
      "execution_count": null,
      "outputs": []
    },
    {
      "cell_type": "code",
      "source": [
        "eval_plot(history2)"
      ],
      "metadata": {
        "colab": {
          "base_uri": "https://localhost:8080/",
          "height": 336
        },
        "outputId": "cedf1d34-418f-4690-d263-2227368b69ab",
        "id": "bb594AMiO_jS"
      },
      "execution_count": null,
      "outputs": [
        {
          "output_type": "display_data",
          "data": {
            "text/plain": [
              "<Figure size 1008x360 with 2 Axes>"
            ],
            "image/png": "[encoded data removed]"
          },
          "metadata": {
            "needs_background": "light"
          }
        }
      ]
    },
    {
      "cell_type": "markdown",
      "source": [
        "# Skenario 4 Model CNN : Pretrained"
      ],
      "metadata": {
        "id": "RJaSs8QayVLW"
      }
    },
    {
      "cell_type": "markdown",
      "source": [
        "Skenario pengujian 4 yaitu membandingkan model CNN yang menghasilkan akurasi terbaik diantara 3 skenario sebelumnya dengan pretrained VGG-19.\n",
        "Skenario 3 dengan Adam optimizer terbukti menghasilkan akurasi yang paling unggul sehingga skenario 3 akan dibandingkan dengan VGG-19."
      ],
      "metadata": {
        "id": "m8nDaLJqyaRu"
      }
    },
    {
      "cell_type": "markdown",
      "source": [
        "**AKURASI -> CNN= 97.42% : VGG-19= 93.12%**"
      ],
      "metadata": {
        "id": "6lfP47iK2Bg-"
      }
    },
    {
      "cell_type": "code",
      "source": [
        "import tensorflow as tf\n",
        "from tensorflow.keras.models import Sequential, load_model\n",
        "from tensorflow.keras.optimizers import Adam\n",
        "from tensorflow.keras.layers import Dense, Conv2D, AveragePooling2D, MaxPooling2D, Flatten, BatchNormalization, Dropout\n",
        "model2 = tf.keras.models.Sequential([\n",
        "    tf.keras.layers.Conv2D(16, (3,3), activation='relu', padding='same', input_shape=(64, 64, 3)),\n",
        "    tf.keras.layers.BatchNormalization(),\n",
        "    tf.keras.layers.MaxPooling2D(2, 2),\n",
        "    \n",
        "    tf.keras.layers.Conv2D(32, (3,3), activation='relu', padding='same'),\n",
        "    tf.keras.layers.BatchNormalization(),\n",
        "    tf.keras.layers.MaxPooling2D(2, 2),\n",
        "    \n",
        "    tf.keras.layers.Conv2D(64, (3,3), activation='relu', padding='same'),\n",
        "    tf.keras.layers.BatchNormalization(),\n",
        "    tf.keras.layers.MaxPooling2D(2, 2),\n",
        "    \n",
        "    tf.keras.layers.Conv2D(128, (3,3), activation='relu', padding='same'),\n",
        "    tf.keras.layers.BatchNormalization(),\n",
        "    tf.keras.layers.MaxPooling2D(2, 2), \n",
        "    \n",
        "    tf.keras.layers.Flatten(),\n",
        "    \n",
        "    tf.keras.layers.Dense(512, activation='relu'),\n",
        "    tf.keras.layers.BatchNormalization(),\n",
        "    tf.keras.layers.Dropout(0.1),\n",
        "    \n",
        "    tf.keras.layers.Dense(1, activation='sigmoid')\n",
        "])\n",
        "\n",
        "model2.compile(loss='binary_crossentropy',\n",
        "              optimizer=Adam(lr=0.001),\n",
        "              metrics=['acc'])"
      ],
      "metadata": {
        "colab": {
          "base_uri": "https://localhost:8080/"
        },
        "outputId": "76602c42-4e1a-4498-c13d-d925fed76f5d",
        "id": "YKNcnpwU15wm"
      },
      "execution_count": null,
      "outputs": [
        {
          "output_type": "stream",
          "name": "stderr",
          "text": [
            "/usr/local/lib/python3.7/dist-packages/keras/optimizer_v2/adam.py:105: UserWarning: The `lr` argument is deprecated, use `learning_rate` instead.\n",
            "  super(Adam, self).__init__(name, **kwargs)\n"
          ]
        }
      ]
    },
    {
      "cell_type": "code",
      "source": [
        "# Print model summary\n",
        "print(model2.summary())"
      ],
      "metadata": {
        "colab": {
          "base_uri": "https://localhost:8080/"
        },
        "outputId": "3b470994-323d-49c0-fe02-7ed6b41fbf66",
        "id": "gUuWPCjp15wp"
      },
      "execution_count": null,
      "outputs": [
        {
          "output_type": "stream",
          "name": "stdout",
          "text": [
            "Model: \"sequential_1\"\n",
            "_________________________________________________________________\n",
            " Layer (type)                Output Shape              Param #   \n",
            "=================================================================\n",
            " conv2d_4 (Conv2D)           (None, 64, 64, 16)        448       \n",
            "                                                                 \n",
            " batch_normalization_5 (Batc  (None, 64, 64, 16)       64        \n",
            " hNormalization)                                                 \n",
            "                                                                 \n",
            " max_pooling2d_4 (MaxPooling  (None, 32, 32, 16)       0         \n",
            " 2D)                                                             \n",
            "                                                                 \n",
            " conv2d_5 (Conv2D)           (None, 32, 32, 32)        4640      \n",
            "                                                                 \n",
            " batch_normalization_6 (Batc  (None, 32, 32, 32)       128       \n",
            " hNormalization)                                                 \n",
            "                                                                 \n",
            " max_pooling2d_5 (MaxPooling  (None, 16, 16, 32)       0         \n",
            " 2D)                                                             \n",
            "                                                                 \n",
            " conv2d_6 (Conv2D)           (None, 16, 16, 64)        18496     \n",
            "                                                                 \n",
            " batch_normalization_7 (Batc  (None, 16, 16, 64)       256       \n",
            " hNormalization)                                                 \n",
            "                                                                 \n",
            " max_pooling2d_6 (MaxPooling  (None, 8, 8, 64)         0         \n",
            " 2D)                                                             \n",
            "                                                                 \n",
            " conv2d_7 (Conv2D)           (None, 8, 8, 128)         73856     \n",
            "                                                                 \n",
            " batch_normalization_8 (Batc  (None, 8, 8, 128)        512       \n",
            " hNormalization)                                                 \n",
            "                                                                 \n",
            " max_pooling2d_7 (MaxPooling  (None, 4, 4, 128)        0         \n",
            " 2D)                                                             \n",
            "                                                                 \n",
            " flatten_1 (Flatten)         (None, 2048)              0         \n",
            "                                                                 \n",
            " dense_2 (Dense)             (None, 512)               1049088   \n",
            "                                                                 \n",
            " batch_normalization_9 (Batc  (None, 512)              2048      \n",
            " hNormalization)                                                 \n",
            "                                                                 \n",
            " dropout_1 (Dropout)         (None, 512)               0         \n",
            "                                                                 \n",
            " dense_3 (Dense)             (None, 1)                 513       \n",
            "                                                                 \n",
            "=================================================================\n",
            "Total params: 1,150,049\n",
            "Trainable params: 1,148,545\n",
            "Non-trainable params: 1,504\n",
            "_________________________________________________________________\n",
            "None\n"
          ]
        }
      ]
    },
    {
      "cell_type": "code",
      "source": [
        "history2 = model2.fit_generator(\n",
        "        train_generator,\n",
        "        epochs=100,\n",
        "        validation_data=test_generator,\n",
        "        )"
      ],
      "metadata": {
        "colab": {
          "base_uri": "https://localhost:8080/"
        },
        "outputId": "85162a5e-9799-4172-ee9c-c15865bdbdb4",
        "id": "8UXfQW1N15wp"
      },
      "execution_count": null,
      "outputs": [
        {
          "output_type": "stream",
          "name": "stdout",
          "text": [
            "Epoch 1/100\n"
          ]
        },
        {
          "output_type": "stream",
          "name": "stderr",
          "text": [
            "/usr/local/lib/python3.7/dist-packages/ipykernel_launcher.py:4: UserWarning: `Model.fit_generator` is deprecated and will be removed in a future version. Please use `Model.fit`, which supports generators.\n",
            "  after removing the cwd from sys.path.\n"
          ]
        },
        {
          "output_type": "stream",
          "name": "stdout",
          "text": [
            "689/689 [==============================] - 53s 75ms/step - loss: 0.2634 - acc: 0.8962 - val_loss: 0.1406 - val_acc: 0.9546\n",
            "Epoch 2/100\n",
            "689/689 [==============================] - 50s 72ms/step - loss: 0.1547 - acc: 0.9474 - val_loss: 0.1783 - val_acc: 0.9343\n",
            "Epoch 3/100\n",
            "689/689 [==============================] - 48s 70ms/step - loss: 0.1470 - acc: 0.9514 - val_loss: 0.2055 - val_acc: 0.9279\n",
            "Epoch 4/100\n",
            "689/689 [==============================] - 49s 70ms/step - loss: 0.1441 - acc: 0.9518 - val_loss: 0.1879 - val_acc: 0.9352\n",
            "Epoch 5/100\n",
            "689/689 [==============================] - 49s 71ms/step - loss: 0.1351 - acc: 0.9531 - val_loss: 0.1234 - val_acc: 0.9552\n",
            "Epoch 6/100\n",
            "689/689 [==============================] - 49s 70ms/step - loss: 0.1325 - acc: 0.9551 - val_loss: 0.1208 - val_acc: 0.9608\n",
            "Epoch 7/100\n",
            "689/689 [==============================] - 52s 76ms/step - loss: 0.1308 - acc: 0.9552 - val_loss: 0.1140 - val_acc: 0.9581\n",
            "Epoch 8/100\n",
            "689/689 [==============================] - 49s 70ms/step - loss: 0.1272 - acc: 0.9557 - val_loss: 0.1220 - val_acc: 0.9595\n",
            "Epoch 9/100\n",
            "689/689 [==============================] - 50s 73ms/step - loss: 0.1248 - acc: 0.9571 - val_loss: 0.1109 - val_acc: 0.9635\n",
            "Epoch 10/100\n",
            "689/689 [==============================] - 49s 71ms/step - loss: 0.1222 - acc: 0.9590 - val_loss: 0.1158 - val_acc: 0.9613\n",
            "Epoch 11/100\n",
            "689/689 [==============================] - 49s 71ms/step - loss: 0.1171 - acc: 0.9599 - val_loss: 0.1006 - val_acc: 0.9655\n",
            "Epoch 12/100\n",
            "689/689 [==============================] - 48s 70ms/step - loss: 0.1190 - acc: 0.9593 - val_loss: 0.1212 - val_acc: 0.9619\n",
            "Epoch 13/100\n",
            "689/689 [==============================] - 49s 71ms/step - loss: 0.1174 - acc: 0.9597 - val_loss: 0.0983 - val_acc: 0.9653\n",
            "Epoch 14/100\n",
            "689/689 [==============================] - 49s 71ms/step - loss: 0.1156 - acc: 0.9603 - val_loss: 0.1393 - val_acc: 0.9544\n",
            "Epoch 15/100\n",
            "689/689 [==============================] - 49s 71ms/step - loss: 0.1099 - acc: 0.9624 - val_loss: 0.0974 - val_acc: 0.9666\n",
            "Epoch 16/100\n",
            "689/689 [==============================] - 48s 70ms/step - loss: 0.1111 - acc: 0.9625 - val_loss: 0.0981 - val_acc: 0.9670\n",
            "Epoch 17/100\n",
            "689/689 [==============================] - 48s 70ms/step - loss: 0.1122 - acc: 0.9614 - val_loss: 0.1517 - val_acc: 0.9563\n",
            "Epoch 18/100\n",
            "689/689 [==============================] - 48s 70ms/step - loss: 0.1075 - acc: 0.9639 - val_loss: 0.0969 - val_acc: 0.9690\n",
            "Epoch 19/100\n",
            "689/689 [==============================] - 48s 70ms/step - loss: 0.1097 - acc: 0.9621 - val_loss: 0.0984 - val_acc: 0.9673\n",
            "Epoch 20/100\n",
            "689/689 [==============================] - 49s 71ms/step - loss: 0.1078 - acc: 0.9643 - val_loss: 0.1508 - val_acc: 0.9583\n",
            "Epoch 21/100\n",
            "689/689 [==============================] - 48s 70ms/step - loss: 0.1091 - acc: 0.9634 - val_loss: 0.0965 - val_acc: 0.9662\n",
            "Epoch 22/100\n",
            "689/689 [==============================] - 49s 70ms/step - loss: 0.1083 - acc: 0.9627 - val_loss: 0.0951 - val_acc: 0.9666\n",
            "Epoch 23/100\n",
            "689/689 [==============================] - 48s 70ms/step - loss: 0.1039 - acc: 0.9632 - val_loss: 0.1031 - val_acc: 0.9659\n",
            "Epoch 24/100\n",
            "689/689 [==============================] - 49s 71ms/step - loss: 0.1050 - acc: 0.9644 - val_loss: 0.0880 - val_acc: 0.9686\n",
            "Epoch 25/100\n",
            "689/689 [==============================] - 49s 70ms/step - loss: 0.1013 - acc: 0.9644 - val_loss: 0.1042 - val_acc: 0.9662\n",
            "Epoch 26/100\n",
            "689/689 [==============================] - 48s 70ms/step - loss: 0.1005 - acc: 0.9658 - val_loss: 0.0896 - val_acc: 0.9679\n",
            "Epoch 27/100\n",
            "689/689 [==============================] - 49s 70ms/step - loss: 0.1017 - acc: 0.9661 - val_loss: 0.0906 - val_acc: 0.9682\n",
            "Epoch 28/100\n",
            "689/689 [==============================] - 48s 70ms/step - loss: 0.1000 - acc: 0.9658 - val_loss: 0.1012 - val_acc: 0.9672\n",
            "Epoch 29/100\n",
            "689/689 [==============================] - 49s 70ms/step - loss: 0.1013 - acc: 0.9663 - val_loss: 0.0956 - val_acc: 0.9681\n",
            "Epoch 30/100\n",
            "689/689 [==============================] - 48s 70ms/step - loss: 0.1000 - acc: 0.9661 - val_loss: 0.0954 - val_acc: 0.9691\n",
            "Epoch 31/100\n",
            "689/689 [==============================] - 48s 70ms/step - loss: 0.0976 - acc: 0.9669 - val_loss: 0.0941 - val_acc: 0.9706\n",
            "Epoch 32/100\n",
            "689/689 [==============================] - 48s 70ms/step - loss: 0.0962 - acc: 0.9673 - val_loss: 0.1021 - val_acc: 0.9684\n",
            "Epoch 33/100\n",
            "689/689 [==============================] - 48s 70ms/step - loss: 0.0983 - acc: 0.9665 - val_loss: 0.0864 - val_acc: 0.9711\n",
            "Epoch 34/100\n",
            "689/689 [==============================] - 49s 70ms/step - loss: 0.0981 - acc: 0.9667 - val_loss: 0.0917 - val_acc: 0.9702\n",
            "Epoch 35/100\n",
            "689/689 [==============================] - 48s 70ms/step - loss: 0.0938 - acc: 0.9683 - val_loss: 0.1215 - val_acc: 0.9613\n",
            "Epoch 36/100\n",
            "689/689 [==============================] - 48s 70ms/step - loss: 0.0989 - acc: 0.9664 - val_loss: 0.0911 - val_acc: 0.9695\n",
            "Epoch 37/100\n",
            "689/689 [==============================] - 48s 70ms/step - loss: 0.0949 - acc: 0.9668 - val_loss: 0.0963 - val_acc: 0.9672\n",
            "Epoch 38/100\n",
            "689/689 [==============================] - 48s 70ms/step - loss: 0.0963 - acc: 0.9669 - val_loss: 0.0880 - val_acc: 0.9722\n",
            "Epoch 39/100\n",
            "689/689 [==============================] - 48s 70ms/step - loss: 0.0957 - acc: 0.9677 - val_loss: 0.0965 - val_acc: 0.9684\n",
            "Epoch 40/100\n",
            "689/689 [==============================] - 48s 70ms/step - loss: 0.0967 - acc: 0.9675 - val_loss: 0.0981 - val_acc: 0.9686\n",
            "Epoch 41/100\n",
            "689/689 [==============================] - 48s 70ms/step - loss: 0.0901 - acc: 0.9691 - val_loss: 0.0948 - val_acc: 0.9681\n",
            "Epoch 42/100\n",
            "689/689 [==============================] - 49s 71ms/step - loss: 0.0936 - acc: 0.9689 - val_loss: 0.0830 - val_acc: 0.9733\n",
            "Epoch 43/100\n",
            "689/689 [==============================] - 50s 72ms/step - loss: 0.0922 - acc: 0.9684 - val_loss: 0.1204 - val_acc: 0.9601\n",
            "Epoch 44/100\n",
            "689/689 [==============================] - 50s 72ms/step - loss: 0.0909 - acc: 0.9676 - val_loss: 0.0880 - val_acc: 0.9719\n",
            "Epoch 45/100\n",
            "689/689 [==============================] - 50s 72ms/step - loss: 0.0914 - acc: 0.9687 - val_loss: 0.1039 - val_acc: 0.9682\n",
            "Epoch 46/100\n",
            "689/689 [==============================] - 50s 72ms/step - loss: 0.0899 - acc: 0.9682 - val_loss: 0.0958 - val_acc: 0.9686\n",
            "Epoch 47/100\n",
            "689/689 [==============================] - 49s 71ms/step - loss: 0.0882 - acc: 0.9696 - val_loss: 0.0950 - val_acc: 0.9695\n",
            "Epoch 48/100\n",
            "689/689 [==============================] - 49s 71ms/step - loss: 0.0917 - acc: 0.9691 - val_loss: 0.0893 - val_acc: 0.9706\n",
            "Epoch 49/100\n",
            "689/689 [==============================] - 49s 71ms/step - loss: 0.0945 - acc: 0.9682 - val_loss: 0.0919 - val_acc: 0.9724\n",
            "Epoch 50/100\n",
            "689/689 [==============================] - 49s 70ms/step - loss: 0.0885 - acc: 0.9696 - val_loss: 0.0903 - val_acc: 0.9708\n",
            "Epoch 51/100\n",
            "689/689 [==============================] - 49s 71ms/step - loss: 0.0891 - acc: 0.9692 - val_loss: 0.0848 - val_acc: 0.9715\n",
            "Epoch 52/100\n",
            "689/689 [==============================] - 49s 72ms/step - loss: 0.0853 - acc: 0.9704 - val_loss: 0.0908 - val_acc: 0.9699\n",
            "Epoch 53/100\n",
            "689/689 [==============================] - 49s 71ms/step - loss: 0.0856 - acc: 0.9705 - val_loss: 0.0852 - val_acc: 0.9708\n",
            "Epoch 54/100\n",
            "689/689 [==============================] - 49s 71ms/step - loss: 0.0882 - acc: 0.9701 - val_loss: 0.0861 - val_acc: 0.9719\n",
            "Epoch 55/100\n",
            "689/689 [==============================] - 49s 71ms/step - loss: 0.0851 - acc: 0.9700 - val_loss: 0.0881 - val_acc: 0.9717\n",
            "Epoch 56/100\n",
            "689/689 [==============================] - 49s 71ms/step - loss: 0.0843 - acc: 0.9709 - val_loss: 0.0922 - val_acc: 0.9686\n",
            "Epoch 57/100\n",
            "689/689 [==============================] - 49s 71ms/step - loss: 0.0863 - acc: 0.9710 - val_loss: 0.0856 - val_acc: 0.9710\n",
            "Epoch 58/100\n",
            "689/689 [==============================] - 49s 71ms/step - loss: 0.0842 - acc: 0.9705 - val_loss: 0.0860 - val_acc: 0.9739\n",
            "Epoch 59/100\n",
            "689/689 [==============================] - 50s 72ms/step - loss: 0.0877 - acc: 0.9695 - val_loss: 0.0847 - val_acc: 0.9726\n",
            "Epoch 60/100\n",
            "689/689 [==============================] - 50s 73ms/step - loss: 0.0892 - acc: 0.9683 - val_loss: 0.0807 - val_acc: 0.9740\n",
            "Epoch 61/100\n",
            "689/689 [==============================] - 49s 72ms/step - loss: 0.0843 - acc: 0.9708 - val_loss: 0.0807 - val_acc: 0.9730\n",
            "Epoch 62/100\n",
            "689/689 [==============================] - 50s 72ms/step - loss: 0.0844 - acc: 0.9719 - val_loss: 0.0807 - val_acc: 0.9748\n",
            "Epoch 63/100\n",
            "689/689 [==============================] - 49s 72ms/step - loss: 0.0833 - acc: 0.9712 - val_loss: 0.0967 - val_acc: 0.9677\n",
            "Epoch 64/100\n",
            "689/689 [==============================] - 49s 71ms/step - loss: 0.0860 - acc: 0.9693 - val_loss: 0.0835 - val_acc: 0.9735\n",
            "Epoch 65/100\n",
            "689/689 [==============================] - 49s 71ms/step - loss: 0.0837 - acc: 0.9712 - val_loss: 0.0862 - val_acc: 0.9713\n",
            "Epoch 66/100\n",
            "689/689 [==============================] - 49s 72ms/step - loss: 0.0821 - acc: 0.9711 - val_loss: 0.0941 - val_acc: 0.9695\n",
            "Epoch 67/100\n",
            "689/689 [==============================] - 49s 72ms/step - loss: 0.0839 - acc: 0.9709 - val_loss: 0.1182 - val_acc: 0.9621\n",
            "Epoch 68/100\n",
            "689/689 [==============================] - 49s 72ms/step - loss: 0.0857 - acc: 0.9696 - val_loss: 0.0866 - val_acc: 0.9735\n",
            "Epoch 69/100\n",
            "689/689 [==============================] - 49s 71ms/step - loss: 0.0810 - acc: 0.9712 - val_loss: 0.0761 - val_acc: 0.9755\n",
            "Epoch 70/100\n",
            "689/689 [==============================] - 49s 72ms/step - loss: 0.0810 - acc: 0.9713 - val_loss: 0.0863 - val_acc: 0.9742\n",
            "Epoch 71/100\n",
            "689/689 [==============================] - 49s 72ms/step - loss: 0.0821 - acc: 0.9713 - val_loss: 0.1120 - val_acc: 0.9599\n",
            "Epoch 72/100\n",
            "689/689 [==============================] - 49s 72ms/step - loss: 0.0844 - acc: 0.9707 - val_loss: 0.0864 - val_acc: 0.9726\n",
            "Epoch 73/100\n",
            "689/689 [==============================] - 50s 72ms/step - loss: 0.0817 - acc: 0.9719 - val_loss: 0.0768 - val_acc: 0.9733\n",
            "Epoch 74/100\n",
            "689/689 [==============================] - 49s 71ms/step - loss: 0.0789 - acc: 0.9733 - val_loss: 0.0849 - val_acc: 0.9735\n",
            "Epoch 75/100\n",
            "689/689 [==============================] - 48s 70ms/step - loss: 0.0800 - acc: 0.9719 - val_loss: 0.0832 - val_acc: 0.9735\n",
            "Epoch 76/100\n",
            "689/689 [==============================] - 48s 70ms/step - loss: 0.0798 - acc: 0.9724 - val_loss: 0.0840 - val_acc: 0.9750\n",
            "Epoch 77/100\n",
            "689/689 [==============================] - 48s 70ms/step - loss: 0.0829 - acc: 0.9725 - val_loss: 0.1147 - val_acc: 0.9613\n",
            "Epoch 78/100\n",
            "689/689 [==============================] - 49s 71ms/step - loss: 0.0792 - acc: 0.9726 - val_loss: 0.0863 - val_acc: 0.9721\n",
            "Epoch 79/100\n",
            "689/689 [==============================] - 49s 70ms/step - loss: 0.0799 - acc: 0.9726 - val_loss: 0.0916 - val_acc: 0.9730\n",
            "Epoch 80/100\n",
            "689/689 [==============================] - 59s 86ms/step - loss: 0.0778 - acc: 0.9727 - val_loss: 0.0846 - val_acc: 0.9724\n",
            "Epoch 81/100\n",
            "689/689 [==============================] - 63s 91ms/step - loss: 0.0827 - acc: 0.9703 - val_loss: 0.0821 - val_acc: 0.9735\n",
            "Epoch 82/100\n",
            "689/689 [==============================] - 49s 70ms/step - loss: 0.0802 - acc: 0.9721 - val_loss: 0.0857 - val_acc: 0.9686\n",
            "Epoch 83/100\n",
            "689/689 [==============================] - 50s 72ms/step - loss: 0.0770 - acc: 0.9734 - val_loss: 0.0824 - val_acc: 0.9739\n",
            "Epoch 84/100\n",
            "689/689 [==============================] - 49s 71ms/step - loss: 0.0803 - acc: 0.9729 - val_loss: 0.0893 - val_acc: 0.9690\n",
            "Epoch 85/100\n",
            "689/689 [==============================] - 49s 71ms/step - loss: 0.0756 - acc: 0.9733 - val_loss: 0.0905 - val_acc: 0.9691\n",
            "Epoch 86/100\n",
            "689/689 [==============================] - 48s 70ms/step - loss: 0.0785 - acc: 0.9736 - val_loss: 0.1182 - val_acc: 0.9670\n",
            "Epoch 87/100\n",
            "689/689 [==============================] - 49s 71ms/step - loss: 0.0812 - acc: 0.9712 - val_loss: 0.0946 - val_acc: 0.9706\n",
            "Epoch 88/100\n",
            "689/689 [==============================] - 49s 71ms/step - loss: 0.0750 - acc: 0.9735 - val_loss: 0.0829 - val_acc: 0.9728\n",
            "Epoch 89/100\n",
            "689/689 [==============================] - 50s 73ms/step - loss: 0.0740 - acc: 0.9746 - val_loss: 0.0779 - val_acc: 0.9757\n",
            "Epoch 90/100\n",
            "689/689 [==============================] - 49s 71ms/step - loss: 0.0792 - acc: 0.9730 - val_loss: 0.0834 - val_acc: 0.9710\n",
            "Epoch 91/100\n",
            "689/689 [==============================] - 48s 70ms/step - loss: 0.0770 - acc: 0.9736 - val_loss: 0.0849 - val_acc: 0.9715\n",
            "Epoch 92/100\n",
            "689/689 [==============================] - 48s 70ms/step - loss: 0.0796 - acc: 0.9724 - val_loss: 0.0892 - val_acc: 0.9726\n",
            "Epoch 93/100\n",
            "689/689 [==============================] - 48s 70ms/step - loss: 0.0751 - acc: 0.9737 - val_loss: 0.0820 - val_acc: 0.9740\n",
            "Epoch 94/100\n",
            "689/689 [==============================] - 48s 70ms/step - loss: 0.0796 - acc: 0.9716 - val_loss: 0.0848 - val_acc: 0.9724\n",
            "Epoch 95/100\n",
            "689/689 [==============================] - 49s 71ms/step - loss: 0.0733 - acc: 0.9741 - val_loss: 0.0843 - val_acc: 0.9730\n",
            "Epoch 96/100\n",
            "689/689 [==============================] - 51s 74ms/step - loss: 0.0753 - acc: 0.9733 - val_loss: 0.0873 - val_acc: 0.9724\n",
            "Epoch 97/100\n",
            "689/689 [==============================] - 49s 70ms/step - loss: 0.0766 - acc: 0.9736 - val_loss: 0.0800 - val_acc: 0.9753\n",
            "Epoch 98/100\n",
            "689/689 [==============================] - 48s 70ms/step - loss: 0.0724 - acc: 0.9755 - val_loss: 0.0890 - val_acc: 0.9733\n",
            "Epoch 99/100\n",
            "689/689 [==============================] - 49s 71ms/step - loss: 0.0740 - acc: 0.9740 - val_loss: 0.0852 - val_acc: 0.9704\n",
            "Epoch 100/100\n",
            "689/689 [==============================] - 50s 72ms/step - loss: 0.0735 - acc: 0.9750 - val_loss: 0.0857 - val_acc: 0.9742\n"
          ]
        }
      ]
    },
    {
      "cell_type": "code",
      "source": [
        "model2.evaluate_generator(test_generator, verbose=1)"
      ],
      "metadata": {
        "colab": {
          "base_uri": "https://localhost:8080/"
        },
        "outputId": "691946fb-9968-49bb-fb5c-ef5b4187c71f",
        "id": "6ihZL3J915wq"
      },
      "execution_count": null,
      "outputs": [
        {
          "output_type": "stream",
          "name": "stdout",
          "text": [
            "  3/173 [..............................] - ETA: 5s - loss: 0.1299 - acc: 0.9792 "
          ]
        },
        {
          "output_type": "stream",
          "name": "stderr",
          "text": [
            "/usr/local/lib/python3.7/dist-packages/ipykernel_launcher.py:1: UserWarning: `Model.evaluate_generator` is deprecated and will be removed in a future version. Please use `Model.evaluate`, which supports generators.\n",
            "  \"\"\"Entry point for launching an IPython kernel.\n"
          ]
        },
        {
          "output_type": "stream",
          "name": "stdout",
          "text": [
            "173/173 [==============================] - 5s 31ms/step - loss: 0.0857 - acc: 0.9742\n"
          ]
        },
        {
          "output_type": "execute_result",
          "data": {
            "text/plain": [
              "[0.08571338653564453, 0.9742286801338196]"
            ]
          },
          "metadata": {},
          "execution_count": 22
        }
      ]
    },
    {
      "cell_type": "code",
      "execution_count": null,
      "metadata": {
        "colab": {
          "base_uri": "https://localhost:8080/"
        },
        "outputId": "1d56c19b-bb4e-4cc0-9a01-34e84deda80e",
        "id": "TI4SlsiR15wq"
      },
      "outputs": [
        {
          "output_type": "stream",
          "name": "stdout",
          "text": [
            "Train Accuracy : \n",
            "689/689 [==============================] - 42s 61ms/step - loss: 0.0720 - acc: 0.9758\n"
          ]
        },
        {
          "output_type": "execute_result",
          "data": {
            "text/plain": [
              "[0.07195986807346344, 0.9758254885673523]"
            ]
          },
          "metadata": {},
          "execution_count": 23
        }
      ],
      "source": [
        "print(\"Train Accuracy : \")\n",
        "model2.evaluate(train_generator)"
      ]
    },
    {
      "cell_type": "code",
      "execution_count": null,
      "metadata": {
        "colab": {
          "base_uri": "https://localhost:8080/"
        },
        "outputId": "891291c2-e8cc-46c3-bacb-280b2934d67b",
        "id": "yEE3-rie15wq"
      },
      "outputs": [
        {
          "output_type": "stream",
          "name": "stdout",
          "text": [
            "Test Accuracy : \n",
            "173/173 [==============================] - 5s 31ms/step - loss: 0.0857 - acc: 0.9742\n"
          ]
        },
        {
          "output_type": "execute_result",
          "data": {
            "text/plain": [
              "[0.08571340143680573, 0.9742286801338196]"
            ]
          },
          "metadata": {},
          "execution_count": 24
        }
      ],
      "source": [
        "print(\"Test Accuracy : \")\n",
        "model2.evaluate(test_generator)"
      ]
    },
    {
      "cell_type": "code",
      "execution_count": null,
      "metadata": {
        "id": "WpE0kiz815wr"
      },
      "outputs": [],
      "source": [
        "from sklearn.metrics import classification_report, confusion_matrix\n",
        "import seaborn as sns\n",
        "import matplotlib.pyplot as plt\n",
        "\n",
        "def evaluate(model2):\n",
        "  test_generator = test_datagen.flow_from_directory(\n",
        "      TEST_DIR, \n",
        "      target_size=(64,64), \n",
        "      batch_size=32, \n",
        "      class_mode='binary',\n",
        "      shuffle = False)\n",
        "\n",
        "  Y_pred = model2.predict_generator(test_generator)\n",
        "  y_pred = np.round(Y_pred).astype(int)\n",
        "\n",
        "  print('\\nConfusion Matrix\\n')\n",
        "  cm = confusion_matrix(test_generator.classes, y_pred)\n",
        "  plt.figure(figsize=(8, 8))\n",
        "  sns.heatmap(cm, annot=True, fmt='g', vmin=0, cmap='Blues', cbar=False)\n",
        "  plt.xticks(ticks=[0.5, 1.5], labels=['Parasitized','Uninfected'])\n",
        "  plt.yticks(ticks=[0.5, 1.5], labels=['Parasitized','Uninfected'])\n",
        "  plt.xlabel(\"Predicted\")\n",
        "  plt.ylabel(\"Actual\")\n",
        "  plt.title(\"Confusion Matrix\")\n",
        "  plt.show()\n",
        "\n",
        "  print('\\n\\nClassification Report\\n')\n",
        "  target_names = ['Parasitized','Uninfected']\n",
        "  print(classification_report(test_generator.classes, y_pred, target_names=target_names))\n",
        "\n",
        "  tn, fp, fn, tp = cm.ravel()\n",
        "\n",
        "  precision = tp/(tp+fp)\n",
        "  recall = tp/(tp+fn)\n",
        "  f = 2*((precision*recall)/(precision+recall))\n",
        "\n",
        "  print(\"Recall of the model is {:.2f}\".format(recall))\n",
        "  print(\"Precision of the model is {:.2f}\".format(precision))\n",
        "  print(\"F-1 Score of the model is {:.2f}\".format(f)) "
      ]
    },
    {
      "cell_type": "code",
      "source": [
        "evaluate(model2)"
      ],
      "metadata": {
        "colab": {
          "base_uri": "https://localhost:8080/",
          "height": 915
        },
        "outputId": "9f46ab14-e909-423e-9957-46e4ef460ac9",
        "id": "hHpn11K968DI"
      },
      "execution_count": null,
      "outputs": [
        {
          "output_type": "stream",
          "name": "stdout",
          "text": [
            "Found 5509 images belonging to 2 classes.\n"
          ]
        },
        {
          "output_type": "stream",
          "name": "stderr",
          "text": [
            "/usr/local/lib/python3.7/dist-packages/ipykernel_launcher.py:13: UserWarning: `Model.predict_generator` is deprecated and will be removed in a future version. Please use `Model.predict`, which supports generators.\n",
            "  del sys.path[0]\n"
          ]
        },
        {
          "output_type": "stream",
          "name": "stdout",
          "text": [
            "\n",
            "Confusion Matrix\n",
            "\n"
          ]
        },
        {
          "output_type": "display_data",
          "data": {
            "text/plain": [
              "<Figure size 576x576 with 1 Axes>"
            ],
            "image/png": "[encoded data removed]"
          },
          "metadata": {
            "needs_background": "light"
          }
        },
        {
          "output_type": "stream",
          "name": "stdout",
          "text": [
            "\n",
            "\n",
            "Classification Report\n",
            "\n",
            "              precision    recall  f1-score   support\n",
            "\n",
            " Parasitized       0.98      0.97      0.97      2754\n",
            "  Uninfected       0.97      0.98      0.97      2755\n",
            "\n",
            "    accuracy                           0.97      5509\n",
            "   macro avg       0.97      0.97      0.97      5509\n",
            "weighted avg       0.97      0.97      0.97      5509\n",
            "\n",
            "recall of the model is  0.9814882032667877\n",
            "precision of the model is  0.9674418604651163\n",
            "F1-Score of the model is  0.9744144144144143\n"
          ]
        }
      ]
    },
    {
      "cell_type": "code",
      "source": [
        "import matplotlib.pyplot as plt\n",
        "def eval_plot(history2):\n",
        "\n",
        "  plt.figure(figsize=(14, 5))\n",
        "\n",
        "  # Accuracy plot\n",
        "  plt.subplot(1, 2, 1)\n",
        "  acc = history2.history['acc']\n",
        "  val_acc = history2.history['val_acc']\n",
        "  epochs = range(len(acc))\n",
        "  acc_plot, = plt.plot(epochs, acc, 'r')\n",
        "  val_acc_plot, = plt.plot(epochs, val_acc, 'b')\n",
        "  plt.title('Training and Validation Accuracy')\n",
        "  plt.legend([acc_plot, val_acc_plot], ['Training Accuracy', 'Validation Accuracy'])\n",
        "  plt.savefig(\"Accuracy2 Plot.svg\", format=\"svg\", dpi=1200)\n",
        "\n",
        "  # Loss plot\n",
        "  plt.subplot(1, 2, 2)\n",
        "  loss = history2.history['loss']\n",
        "  val_loss = history2.history['val_loss']\n",
        "  epochs = range(len(loss))\n",
        "  loss_plot, = plt.plot(epochs, loss, 'r')\n",
        "  val_loss_plot, = plt.plot(epochs, val_loss, 'b')\n",
        "  plt.title('Training and Validation Loss')\n",
        "  plt.legend([loss_plot, val_loss_plot], ['Training Loss', 'Validation Loss'])\n",
        "  plt.savefig(\"Loss2 Plot.svg\", format=\"svg\", dpi=1200)"
      ],
      "metadata": {
        "id": "CBdUe8Ze15wr"
      },
      "execution_count": null,
      "outputs": []
    },
    {
      "cell_type": "code",
      "source": [
        "eval_plot(history2)"
      ],
      "metadata": {
        "colab": {
          "base_uri": "https://localhost:8080/",
          "height": 336
        },
        "outputId": "cedf1d34-418f-4690-d263-2227368b69ab",
        "id": "km5FRa7s15ws"
      },
      "execution_count": null,
      "outputs": [
        {
          "output_type": "display_data",
          "data": {
            "text/plain": [
              "<Figure size 1008x360 with 2 Axes>"
            ],
            "image/png": "[encoded data removed]"
          },
          "metadata": {
            "needs_background": "light"
          }
        }
      ]
    },
    {
      "cell_type": "markdown",
      "source": [
        "**VGG-19**"
      ],
      "metadata": {
        "id": "_1fB4iVg00r3"
      }
    },
    {
      "cell_type": "code",
      "execution_count": null,
      "metadata": {
        "colab": {
          "base_uri": "https://localhost:8080/"
        },
        "outputId": "d33228be-38b0-42da-c375-380fcf15c790",
        "id": "cqfMXQtD03r2"
      },
      "outputs": [
        {
          "output_type": "stream",
          "name": "stdout",
          "text": [
            "Cloning into 'Malaria-Classification'...\n",
            "remote: Enumerating objects: 27571, done.\u001b[K\n",
            "remote: Counting objects: 100% (6/6), done.\u001b[K\n",
            "remote: Compressing objects: 100% (5/5), done.\u001b[K\n",
            "remote: Total 27571 (delta 1), reused 6 (delta 1), pack-reused 27565\u001b[K\n",
            "Receiving objects: 100% (27571/27571), 331.87 MiB | 45.06 MiB/s, done.\n",
            "Resolving deltas: 100% (1/1), done.\n",
            "Checking out files: 100% (27561/27561), done.\n"
          ]
        }
      ],
      "source": [
        "!git clone https://github.com/chacacaliza/Malaria-Classification.git"
      ]
    },
    {
      "cell_type": "code",
      "execution_count": null,
      "metadata": {
        "id": "aXfYcigT03r6"
      },
      "outputs": [],
      "source": [
        "import numpy as np\n",
        "import pandas as pd\n",
        "import os\n",
        "from shutil import copyfile\n",
        "\n",
        "TRAIN_DIR = \"/content/train/\"\n",
        "TEST_DIR =\"/content/test/\"\n",
        "\n",
        "os.mkdir(TRAIN_DIR)\n",
        "os.mkdir(TEST_DIR)\n",
        "\n",
        "for label in ['Uninfected', 'Parasitized']:\n",
        "    os.mkdir(TRAIN_DIR+label)\n",
        "    os.mkdir(TEST_DIR+label)"
      ]
    },
    {
      "cell_type": "code",
      "execution_count": null,
      "metadata": {
        "colab": {
          "base_uri": "https://localhost:8080/"
        },
        "outputId": "185b343b-b995-4134-d523-c5e4bd1ab93c",
        "id": "HyvQxahD03r7"
      },
      "outputs": [
        {
          "output_type": "stream",
          "name": "stdout",
          "text": [
            "Uninfected\n",
            "11025\n",
            "2755\n",
            "Parasitized\n",
            "11025\n",
            "2755\n"
          ]
        }
      ],
      "source": [
        "import random\n",
        "def train_valid_test_split(source, train_dir, test_dir,train_size, test_size):\n",
        "    # get files\n",
        "    files = []\n",
        "    for filename in os.listdir(source):\n",
        "        file = source + filename\n",
        "        if os.path.getsize(file) > 0:\n",
        "            files.append(filename)\n",
        "    \n",
        "    # train valid split\n",
        "    train_size = int(len(files) * (1-train_size))\n",
        "    test_size = int(len(files) * (train_size))\n",
        "  \n",
        "    # shuffle the dataset\n",
        "    shuffled_files = random.sample(files, len(files))\n",
        "    \n",
        "    train_set = shuffled_files[train_size:]\n",
        "    test_set = shuffled_files[:train_size]\n",
        "    \n",
        "    for filename in train_set:\n",
        "        filepath = source + filename\n",
        "        destination = train_dir + filename\n",
        "        copyfile(filepath, destination)    \n",
        "    \n",
        "    for filename in test_set:\n",
        "        filepath = source + filename\n",
        "        destination = test_dir + filename\n",
        "        copyfile(filepath, destination)\n",
        "\n",
        "SOURCE = \"/content/Malaria-Classification/Dataset/\"\n",
        "\n",
        "for label in ['Uninfected', 'Parasitized']:\n",
        "    print(label)\n",
        "    train_valid_test_split(SOURCE+label+'/', TRAIN_DIR +label+'/', TEST_DIR +label+'/', train_size=0.8, test_size=0.2)\n",
        "    print(len(os.listdir(TRAIN_DIR +label+'/')))\n",
        "    print(len(os.listdir(TEST_DIR +label+'/')))"
      ]
    },
    {
      "cell_type": "code",
      "source": [
        "from keras.preprocessing.image import ImageDataGenerator\n",
        "train_datagen = ImageDataGenerator(\n",
        "        rescale=1./255,\n",
        "        rotation_range=45,\n",
        "        shear_range=0.2,\n",
        "        vertical_flip=True,\n",
        "        horizontal_flip=True,\n",
        "        )\n",
        "\n",
        "train_generator = train_datagen.flow_from_directory(\n",
        "        TRAIN_DIR,  \n",
        "        target_size = (64, 64),\n",
        "        batch_size=32,\n",
        "        color_mode='rgb',\n",
        "        class_mode = 'binary',\n",
        "        shuffle=True,\n",
        "        )"
      ],
      "metadata": {
        "colab": {
          "base_uri": "https://localhost:8080/"
        },
        "outputId": "25b702b1-6d80-42c4-9adc-bd03d5395aaf",
        "id": "iL5Kg7Vc03r8"
      },
      "execution_count": null,
      "outputs": [
        {
          "output_type": "stream",
          "name": "stdout",
          "text": [
            "Found 22049 images belonging to 2 classes.\n"
          ]
        }
      ]
    },
    {
      "cell_type": "code",
      "source": [
        "test_datagen = ImageDataGenerator(\n",
        "        rescale=1./255)\n",
        "\n",
        "test_generator = test_datagen.flow_from_directory(\n",
        "        TEST_DIR,\n",
        "        target_size = (64, 64),\n",
        "        batch_size=32,\n",
        "        color_mode='rgb',\n",
        "        class_mode = 'binary',\n",
        "        shuffle=True,\n",
        ")"
      ],
      "metadata": {
        "colab": {
          "base_uri": "https://localhost:8080/"
        },
        "outputId": "59570d40-941a-48f1-dcf3-2b5be3ce3502",
        "id": "hKW_UIJB03r-"
      },
      "execution_count": null,
      "outputs": [
        {
          "output_type": "stream",
          "name": "stdout",
          "text": [
            "Found 5509 images belonging to 2 classes.\n"
          ]
        }
      ]
    },
    {
      "cell_type": "code",
      "execution_count": null,
      "metadata": {
        "id": "sLgXRkCpUv7n"
      },
      "outputs": [],
      "source": [
        "from keras.applications.vgg16 import VGG16\n",
        "from tensorflow.keras.applications import EfficientNetB5\n",
        "from keras.applications.inception_v3 import InceptionV3\n",
        "from tensorflow.keras.applications import DenseNet169\n",
        "from tensorflow.keras.applications.resnet50 import ResNet50\n",
        "from keras.applications.vgg19 import VGG19\n",
        "from keras.models import Model\n",
        "from keras.preprocessing import image\n",
        "from tensorflow.keras.layers import Input, Lambda ,Dense ,Flatten ,Dropout, BatchNormalization\n",
        "import numpy as np\n",
        "import tensorflow as tf\n",
        "import matplotlib.pyplot as plt\n",
        "%matplotlib inline\n",
        "import os\n",
        "import cv2"
      ]
    },
    {
      "cell_type": "code",
      "execution_count": null,
      "metadata": {
        "colab": {
          "base_uri": "https://localhost:8080/"
        },
        "id": "Wgy7T4XkT5uh",
        "outputId": "c94c7878-e4ae-415a-f308-01a4321489ce"
      },
      "outputs": [
        {
          "output_type": "stream",
          "name": "stdout",
          "text": [
            "Downloading data from https://storage.googleapis.com/tensorflow/keras-applications/vgg19/vgg19_weights_tf_dim_ordering_tf_kernels_notop.h5\n",
            "80142336/80134624 [==============================] - 0s 0us/step\n",
            "80150528/80134624 [==============================] - 0s 0us/step\n"
          ]
        }
      ],
      "source": [
        "classifier_vgg19 = VGG19(input_shape= (64,64,3),include_top=False,weights='imagenet')"
      ]
    },
    {
      "cell_type": "code",
      "execution_count": null,
      "metadata": {
        "id": "4lWCAG7EUBl1"
      },
      "outputs": [],
      "source": [
        "for layer in classifier_vgg19.layers:\n",
        "    layer.trainable = False"
      ]
    },
    {
      "cell_type": "code",
      "execution_count": null,
      "metadata": {
        "id": "Dps7g9k5dpr4"
      },
      "outputs": [],
      "source": [
        "classifier1 = classifier_vgg19.output#head mode\n",
        "classifier1 = Flatten()(classifier1)#adding layer of flatten\n",
        "classifier1 = Dense(units=512, activation='relu')(classifier1)\n",
        "classifier1 = Dropout(0.1)(classifier1)\n",
        "classifier1 = BatchNormalization()(classifier1)\n",
        "classifier1 = Dense(units=1, activation='sigmoid')(classifier1)\n",
        "\n",
        "model2 = Model(inputs = classifier_vgg19.input , outputs = classifier1)\n",
        "model2.compile(optimizer=tf.keras.optimizers.Adam(learning_rate=0.001), loss='binary_crossentropy', metrics=['accuracy'])"
      ]
    },
    {
      "cell_type": "code",
      "execution_count": null,
      "metadata": {
        "colab": {
          "base_uri": "https://localhost:8080/"
        },
        "outputId": "ba4b39cf-ef2f-4657-8b80-4adfe61965f1",
        "id": "FDZ-B9WYdpr5"
      },
      "outputs": [
        {
          "output_type": "stream",
          "name": "stdout",
          "text": [
            "Model: \"model_1\"\n",
            "_________________________________________________________________\n",
            " Layer (type)                Output Shape              Param #   \n",
            "=================================================================\n",
            " input_1 (InputLayer)        [(None, 64, 64, 3)]       0         \n",
            "                                                                 \n",
            " block1_conv1 (Conv2D)       (None, 64, 64, 64)        1792      \n",
            "                                                                 \n",
            " block1_conv2 (Conv2D)       (None, 64, 64, 64)        36928     \n",
            "                                                                 \n",
            " block1_pool (MaxPooling2D)  (None, 32, 32, 64)        0         \n",
            "                                                                 \n",
            " block2_conv1 (Conv2D)       (None, 32, 32, 128)       73856     \n",
            "                                                                 \n",
            " block2_conv2 (Conv2D)       (None, 32, 32, 128)       147584    \n",
            "                                                                 \n",
            " block2_pool (MaxPooling2D)  (None, 16, 16, 128)       0         \n",
            "                                                                 \n",
            " block3_conv1 (Conv2D)       (None, 16, 16, 256)       295168    \n",
            "                                                                 \n",
            " block3_conv2 (Conv2D)       (None, 16, 16, 256)       590080    \n",
            "                                                                 \n",
            " block3_conv3 (Conv2D)       (None, 16, 16, 256)       590080    \n",
            "                                                                 \n",
            " block3_conv4 (Conv2D)       (None, 16, 16, 256)       590080    \n",
            "                                                                 \n",
            " block3_pool (MaxPooling2D)  (None, 8, 8, 256)         0         \n",
            "                                                                 \n",
            " block4_conv1 (Conv2D)       (None, 8, 8, 512)         1180160   \n",
            "                                                                 \n",
            " block4_conv2 (Conv2D)       (None, 8, 8, 512)         2359808   \n",
            "                                                                 \n",
            " block4_conv3 (Conv2D)       (None, 8, 8, 512)         2359808   \n",
            "                                                                 \n",
            " block4_conv4 (Conv2D)       (None, 8, 8, 512)         2359808   \n",
            "                                                                 \n",
            " block4_pool (MaxPooling2D)  (None, 4, 4, 512)         0         \n",
            "                                                                 \n",
            " block5_conv1 (Conv2D)       (None, 4, 4, 512)         2359808   \n",
            "                                                                 \n",
            " block5_conv2 (Conv2D)       (None, 4, 4, 512)         2359808   \n",
            "                                                                 \n",
            " block5_conv3 (Conv2D)       (None, 4, 4, 512)         2359808   \n",
            "                                                                 \n",
            " block5_conv4 (Conv2D)       (None, 4, 4, 512)         2359808   \n",
            "                                                                 \n",
            " block5_pool (MaxPooling2D)  (None, 2, 2, 512)         0         \n",
            "                                                                 \n",
            " flatten_1 (Flatten)         (None, 2048)              0         \n",
            "                                                                 \n",
            " dense_2 (Dense)             (None, 512)               1049088   \n",
            "                                                                 \n",
            " dropout_1 (Dropout)         (None, 512)               0         \n",
            "                                                                 \n",
            " batch_normalization_1 (Batc  (None, 512)              2048      \n",
            " hNormalization)                                                 \n",
            "                                                                 \n",
            " dense_3 (Dense)             (None, 1)                 513       \n",
            "                                                                 \n",
            "=================================================================\n",
            "Total params: 21,076,033\n",
            "Trainable params: 1,050,625\n",
            "Non-trainable params: 20,025,408\n",
            "_________________________________________________________________\n"
          ]
        }
      ],
      "source": [
        "model2.summary()"
      ]
    },
    {
      "cell_type": "code",
      "source": [
        "history2 = model2.fit_generator(\n",
        "        train_generator,\n",
        "        epochs=100,\n",
        "        validation_data=test_generator,\n",
        "        )"
      ],
      "metadata": {
        "colab": {
          "base_uri": "https://localhost:8080/"
        },
        "outputId": "d60a7e3d-b5d1-4462-b03a-c20823e3bfaa",
        "id": "J1-bQPbHdpr5"
      },
      "execution_count": null,
      "outputs": [
        {
          "output_type": "stream",
          "name": "stdout",
          "text": [
            "Epoch 1/100\n"
          ]
        },
        {
          "output_type": "stream",
          "name": "stderr",
          "text": [
            "/usr/local/lib/python3.7/dist-packages/ipykernel_launcher.py:4: UserWarning: `Model.fit_generator` is deprecated and will be removed in a future version. Please use `Model.fit`, which supports generators.\n",
            "  after removing the cwd from sys.path.\n"
          ]
        },
        {
          "output_type": "stream",
          "name": "stdout",
          "text": [
            "690/690 [==============================] - 56s 80ms/step - loss: 0.3057 - accuracy: 0.8738 - val_loss: 0.2601 - val_accuracy: 0.9118\n",
            "Epoch 2/100\n",
            "690/690 [==============================] - 56s 81ms/step - loss: 0.2710 - accuracy: 0.8926 - val_loss: 0.4498 - val_accuracy: 0.7869\n",
            "Epoch 3/100\n",
            "690/690 [==============================] - 56s 81ms/step - loss: 0.2525 - accuracy: 0.9012 - val_loss: 0.2243 - val_accuracy: 0.9118\n",
            "Epoch 4/100\n",
            "690/690 [==============================] - 55s 80ms/step - loss: 0.2470 - accuracy: 0.9026 - val_loss: 0.2745 - val_accuracy: 0.8851\n",
            "Epoch 5/100\n",
            "690/690 [==============================] - 55s 79ms/step - loss: 0.2464 - accuracy: 0.9035 - val_loss: 0.2213 - val_accuracy: 0.9158\n",
            "Epoch 6/100\n",
            "690/690 [==============================] - 55s 80ms/step - loss: 0.2401 - accuracy: 0.9043 - val_loss: 0.2196 - val_accuracy: 0.9150\n",
            "Epoch 7/100\n",
            "690/690 [==============================] - 55s 79ms/step - loss: 0.2336 - accuracy: 0.9088 - val_loss: 0.2078 - val_accuracy: 0.9205\n",
            "Epoch 8/100\n",
            "690/690 [==============================] - 54s 79ms/step - loss: 0.2346 - accuracy: 0.9084 - val_loss: 0.1984 - val_accuracy: 0.9249\n",
            "Epoch 9/100\n",
            "690/690 [==============================] - 54s 79ms/step - loss: 0.2324 - accuracy: 0.9088 - val_loss: 0.2815 - val_accuracy: 0.8876\n",
            "Epoch 10/100\n",
            "690/690 [==============================] - 54s 79ms/step - loss: 0.2289 - accuracy: 0.9101 - val_loss: 0.2072 - val_accuracy: 0.9221\n",
            "Epoch 11/100\n",
            "690/690 [==============================] - 55s 79ms/step - loss: 0.2330 - accuracy: 0.9087 - val_loss: 0.2285 - val_accuracy: 0.9103\n",
            "Epoch 12/100\n",
            "690/690 [==============================] - 55s 80ms/step - loss: 0.2336 - accuracy: 0.9075 - val_loss: 0.2353 - val_accuracy: 0.9114\n",
            "Epoch 13/100\n",
            "690/690 [==============================] - 54s 78ms/step - loss: 0.2275 - accuracy: 0.9086 - val_loss: 0.3306 - val_accuracy: 0.8602\n",
            "Epoch 14/100\n",
            "690/690 [==============================] - 54s 78ms/step - loss: 0.2246 - accuracy: 0.9125 - val_loss: 0.1969 - val_accuracy: 0.9265\n",
            "Epoch 15/100\n",
            "690/690 [==============================] - 54s 78ms/step - loss: 0.2257 - accuracy: 0.9113 - val_loss: 0.1994 - val_accuracy: 0.9221\n",
            "Epoch 16/100\n",
            "690/690 [==============================] - 54s 78ms/step - loss: 0.2216 - accuracy: 0.9147 - val_loss: 0.2499 - val_accuracy: 0.9052\n",
            "Epoch 17/100\n",
            "690/690 [==============================] - 54s 78ms/step - loss: 0.2249 - accuracy: 0.9124 - val_loss: 0.2805 - val_accuracy: 0.8934\n",
            "Epoch 18/100\n",
            "690/690 [==============================] - 54s 78ms/step - loss: 0.2289 - accuracy: 0.9100 - val_loss: 0.2052 - val_accuracy: 0.9205\n",
            "Epoch 19/100\n",
            "690/690 [==============================] - 54s 78ms/step - loss: 0.2249 - accuracy: 0.9117 - val_loss: 0.1978 - val_accuracy: 0.9247\n",
            "Epoch 20/100\n",
            "690/690 [==============================] - 54s 78ms/step - loss: 0.2214 - accuracy: 0.9140 - val_loss: 0.3799 - val_accuracy: 0.8659\n",
            "Epoch 21/100\n",
            "690/690 [==============================] - 54s 78ms/step - loss: 0.2270 - accuracy: 0.9113 - val_loss: 0.2207 - val_accuracy: 0.9074\n",
            "Epoch 22/100\n",
            "690/690 [==============================] - 54s 78ms/step - loss: 0.2242 - accuracy: 0.9122 - val_loss: 0.2504 - val_accuracy: 0.8885\n",
            "Epoch 23/100\n",
            "690/690 [==============================] - 54s 78ms/step - loss: 0.2159 - accuracy: 0.9144 - val_loss: 0.2053 - val_accuracy: 0.9223\n",
            "Epoch 24/100\n",
            "690/690 [==============================] - 54s 78ms/step - loss: 0.2183 - accuracy: 0.9166 - val_loss: 0.2022 - val_accuracy: 0.9236\n",
            "Epoch 25/100\n",
            "690/690 [==============================] - 54s 78ms/step - loss: 0.2212 - accuracy: 0.9132 - val_loss: 0.1953 - val_accuracy: 0.9276\n",
            "Epoch 26/100\n",
            "690/690 [==============================] - 54s 78ms/step - loss: 0.2216 - accuracy: 0.9139 - val_loss: 0.1966 - val_accuracy: 0.9247\n",
            "Epoch 27/100\n",
            "690/690 [==============================] - 54s 78ms/step - loss: 0.2172 - accuracy: 0.9130 - val_loss: 0.2271 - val_accuracy: 0.9120\n",
            "Epoch 28/100\n",
            "690/690 [==============================] - 54s 78ms/step - loss: 0.2246 - accuracy: 0.9135 - val_loss: 0.2023 - val_accuracy: 0.9238\n",
            "Epoch 29/100\n",
            "690/690 [==============================] - 54s 79ms/step - loss: 0.2180 - accuracy: 0.9142 - val_loss: 0.1976 - val_accuracy: 0.9232\n",
            "Epoch 30/100\n",
            "690/690 [==============================] - 54s 78ms/step - loss: 0.2192 - accuracy: 0.9130 - val_loss: 0.1993 - val_accuracy: 0.9216\n",
            "Epoch 31/100\n",
            "690/690 [==============================] - 54s 78ms/step - loss: 0.2176 - accuracy: 0.9135 - val_loss: 0.1892 - val_accuracy: 0.9272\n",
            "Epoch 32/100\n",
            "690/690 [==============================] - 54s 78ms/step - loss: 0.2266 - accuracy: 0.9118 - val_loss: 0.2119 - val_accuracy: 0.9156\n",
            "Epoch 33/100\n",
            "690/690 [==============================] - 54s 78ms/step - loss: 0.2221 - accuracy: 0.9156 - val_loss: 0.2196 - val_accuracy: 0.9138\n",
            "Epoch 34/100\n",
            "690/690 [==============================] - 54s 78ms/step - loss: 0.2225 - accuracy: 0.9127 - val_loss: 0.1933 - val_accuracy: 0.9268\n",
            "Epoch 35/100\n",
            "690/690 [==============================] - 54s 78ms/step - loss: 0.2255 - accuracy: 0.9120 - val_loss: 0.1868 - val_accuracy: 0.9294\n",
            "Epoch 36/100\n",
            "690/690 [==============================] - 53s 77ms/step - loss: 0.2245 - accuracy: 0.9132 - val_loss: 0.1917 - val_accuracy: 0.9283\n",
            "Epoch 37/100\n",
            "690/690 [==============================] - 54s 78ms/step - loss: 0.2180 - accuracy: 0.9144 - val_loss: 0.2209 - val_accuracy: 0.9178\n",
            "Epoch 38/100\n",
            "690/690 [==============================] - 54s 78ms/step - loss: 0.2228 - accuracy: 0.9128 - val_loss: 0.1965 - val_accuracy: 0.9274\n",
            "Epoch 39/100\n",
            "690/690 [==============================] - 54s 78ms/step - loss: 0.2158 - accuracy: 0.9163 - val_loss: 0.1913 - val_accuracy: 0.9298\n",
            "Epoch 40/100\n",
            "690/690 [==============================] - 54s 78ms/step - loss: 0.2169 - accuracy: 0.9139 - val_loss: 0.1985 - val_accuracy: 0.9281\n",
            "Epoch 41/100\n",
            "690/690 [==============================] - 54s 78ms/step - loss: 0.2154 - accuracy: 0.9178 - val_loss: 0.1885 - val_accuracy: 0.9314\n",
            "Epoch 42/100\n",
            "690/690 [==============================] - 55s 79ms/step - loss: 0.2171 - accuracy: 0.9141 - val_loss: 0.1892 - val_accuracy: 0.9250\n",
            "Epoch 43/100\n",
            "690/690 [==============================] - 55s 80ms/step - loss: 0.2110 - accuracy: 0.9170 - val_loss: 0.1923 - val_accuracy: 0.9256\n",
            "Epoch 44/100\n",
            "690/690 [==============================] - 55s 79ms/step - loss: 0.2203 - accuracy: 0.9154 - val_loss: 0.1950 - val_accuracy: 0.9249\n",
            "Epoch 45/100\n",
            "690/690 [==============================] - 55s 80ms/step - loss: 0.2141 - accuracy: 0.9147 - val_loss: 0.2143 - val_accuracy: 0.9129\n",
            "Epoch 46/100\n",
            "690/690 [==============================] - 54s 79ms/step - loss: 0.2162 - accuracy: 0.9149 - val_loss: 0.1857 - val_accuracy: 0.9301\n",
            "Epoch 47/100\n",
            "690/690 [==============================] - 54s 79ms/step - loss: 0.2202 - accuracy: 0.9149 - val_loss: 0.2135 - val_accuracy: 0.9163\n",
            "Epoch 48/100\n",
            "690/690 [==============================] - 55s 79ms/step - loss: 0.2157 - accuracy: 0.9159 - val_loss: 0.1828 - val_accuracy: 0.9321\n",
            "Epoch 49/100\n",
            "690/690 [==============================] - 55s 80ms/step - loss: 0.2152 - accuracy: 0.9143 - val_loss: 0.2042 - val_accuracy: 0.9163\n",
            "Epoch 50/100\n",
            "690/690 [==============================] - 54s 79ms/step - loss: 0.2183 - accuracy: 0.9159 - val_loss: 0.1897 - val_accuracy: 0.9296\n",
            "Epoch 51/100\n",
            "690/690 [==============================] - 54s 79ms/step - loss: 0.2098 - accuracy: 0.9186 - val_loss: 0.1867 - val_accuracy: 0.9312\n",
            "Epoch 52/100\n",
            "690/690 [==============================] - 54s 78ms/step - loss: 0.2113 - accuracy: 0.9192 - val_loss: 0.1912 - val_accuracy: 0.9292\n",
            "Epoch 53/100\n",
            "690/690 [==============================] - 54s 78ms/step - loss: 0.2140 - accuracy: 0.9171 - val_loss: 0.1888 - val_accuracy: 0.9250\n",
            "Epoch 54/100\n",
            "690/690 [==============================] - 54s 78ms/step - loss: 0.2104 - accuracy: 0.9182 - val_loss: 0.2013 - val_accuracy: 0.9192\n",
            "Epoch 55/100\n",
            "690/690 [==============================] - 54s 78ms/step - loss: 0.2100 - accuracy: 0.9190 - val_loss: 0.2217 - val_accuracy: 0.9189\n",
            "Epoch 56/100\n",
            "690/690 [==============================] - 54s 78ms/step - loss: 0.2104 - accuracy: 0.9183 - val_loss: 0.2587 - val_accuracy: 0.9045\n",
            "Epoch 57/100\n",
            "690/690 [==============================] - 54s 78ms/step - loss: 0.2120 - accuracy: 0.9173 - val_loss: 0.1953 - val_accuracy: 0.9267\n",
            "Epoch 58/100\n",
            "690/690 [==============================] - 54s 79ms/step - loss: 0.2092 - accuracy: 0.9175 - val_loss: 0.2162 - val_accuracy: 0.9169\n",
            "Epoch 59/100\n",
            "690/690 [==============================] - 54s 78ms/step - loss: 0.2096 - accuracy: 0.9188 - val_loss: 0.2195 - val_accuracy: 0.9170\n",
            "Epoch 60/100\n",
            "690/690 [==============================] - 54s 78ms/step - loss: 0.2112 - accuracy: 0.9184 - val_loss: 0.2146 - val_accuracy: 0.9174\n",
            "Epoch 61/100\n",
            "690/690 [==============================] - 54s 78ms/step - loss: 0.2111 - accuracy: 0.9186 - val_loss: 0.1880 - val_accuracy: 0.9316\n",
            "Epoch 62/100\n",
            "690/690 [==============================] - 54s 78ms/step - loss: 0.2086 - accuracy: 0.9171 - val_loss: 0.1815 - val_accuracy: 0.9299\n",
            "Epoch 63/100\n",
            "690/690 [==============================] - 54s 78ms/step - loss: 0.2073 - accuracy: 0.9200 - val_loss: 0.1994 - val_accuracy: 0.9199\n",
            "Epoch 64/100\n",
            "690/690 [==============================] - 54s 79ms/step - loss: 0.2102 - accuracy: 0.9184 - val_loss: 0.2125 - val_accuracy: 0.9190\n",
            "Epoch 65/100\n",
            "690/690 [==============================] - 54s 79ms/step - loss: 0.2106 - accuracy: 0.9181 - val_loss: 0.1845 - val_accuracy: 0.9288\n",
            "Epoch 66/100\n",
            "690/690 [==============================] - 54s 78ms/step - loss: 0.2056 - accuracy: 0.9218 - val_loss: 0.2201 - val_accuracy: 0.9150\n",
            "Epoch 67/100\n",
            "690/690 [==============================] - 54s 79ms/step - loss: 0.2070 - accuracy: 0.9208 - val_loss: 0.1802 - val_accuracy: 0.9303\n",
            "Epoch 68/100\n",
            "690/690 [==============================] - 54s 78ms/step - loss: 0.2045 - accuracy: 0.9209 - val_loss: 0.2026 - val_accuracy: 0.9241\n",
            "Epoch 69/100\n",
            "690/690 [==============================] - 59s 85ms/step - loss: 0.2074 - accuracy: 0.9187 - val_loss: 0.2548 - val_accuracy: 0.8934\n",
            "Epoch 70/100\n",
            "690/690 [==============================] - 54s 78ms/step - loss: 0.2086 - accuracy: 0.9205 - val_loss: 0.2231 - val_accuracy: 0.9134\n",
            "Epoch 71/100\n",
            "690/690 [==============================] - 54s 78ms/step - loss: 0.2042 - accuracy: 0.9203 - val_loss: 0.1850 - val_accuracy: 0.9308\n",
            "Epoch 72/100\n",
            "690/690 [==============================] - 54s 78ms/step - loss: 0.2097 - accuracy: 0.9182 - val_loss: 0.1989 - val_accuracy: 0.9249\n",
            "Epoch 73/100\n",
            "690/690 [==============================] - 54s 78ms/step - loss: 0.2027 - accuracy: 0.9212 - val_loss: 0.1860 - val_accuracy: 0.9301\n",
            "Epoch 74/100\n",
            "690/690 [==============================] - 54s 78ms/step - loss: 0.2068 - accuracy: 0.9209 - val_loss: 0.1885 - val_accuracy: 0.9301\n",
            "Epoch 75/100\n",
            "690/690 [==============================] - 54s 78ms/step - loss: 0.2030 - accuracy: 0.9219 - val_loss: 0.1911 - val_accuracy: 0.9258\n",
            "Epoch 76/100\n",
            "690/690 [==============================] - 54s 78ms/step - loss: 0.2088 - accuracy: 0.9176 - val_loss: 0.1853 - val_accuracy: 0.9334\n",
            "Epoch 77/100\n",
            "690/690 [==============================] - 54s 79ms/step - loss: 0.2140 - accuracy: 0.9180 - val_loss: 0.1860 - val_accuracy: 0.9321\n",
            "Epoch 78/100\n",
            "690/690 [==============================] - 54s 78ms/step - loss: 0.2143 - accuracy: 0.9159 - val_loss: 0.1814 - val_accuracy: 0.9325\n",
            "Epoch 79/100\n",
            "690/690 [==============================] - 54s 78ms/step - loss: 0.2132 - accuracy: 0.9173 - val_loss: 0.1899 - val_accuracy: 0.9301\n",
            "Epoch 80/100\n",
            "690/690 [==============================] - 54s 78ms/step - loss: 0.2115 - accuracy: 0.9196 - val_loss: 0.1917 - val_accuracy: 0.9276\n",
            "Epoch 81/100\n",
            "690/690 [==============================] - 54s 79ms/step - loss: 0.2164 - accuracy: 0.9161 - val_loss: 0.1881 - val_accuracy: 0.9274\n",
            "Epoch 82/100\n",
            "690/690 [==============================] - 54s 79ms/step - loss: 0.2120 - accuracy: 0.9190 - val_loss: 0.2111 - val_accuracy: 0.9198\n",
            "Epoch 83/100\n",
            "690/690 [==============================] - 54s 79ms/step - loss: 0.2129 - accuracy: 0.9184 - val_loss: 0.2203 - val_accuracy: 0.9098\n",
            "Epoch 84/100\n",
            "690/690 [==============================] - 54s 78ms/step - loss: 0.2102 - accuracy: 0.9191 - val_loss: 0.1838 - val_accuracy: 0.9281\n",
            "Epoch 85/100\n",
            "690/690 [==============================] - 54s 78ms/step - loss: 0.2105 - accuracy: 0.9172 - val_loss: 0.1850 - val_accuracy: 0.9283\n",
            "Epoch 86/100\n",
            "690/690 [==============================] - 54s 78ms/step - loss: 0.2110 - accuracy: 0.9182 - val_loss: 0.1999 - val_accuracy: 0.9167\n",
            "Epoch 87/100\n",
            "690/690 [==============================] - 54s 78ms/step - loss: 0.2118 - accuracy: 0.9164 - val_loss: 0.2087 - val_accuracy: 0.9111\n",
            "Epoch 88/100\n",
            "690/690 [==============================] - 54s 78ms/step - loss: 0.2065 - accuracy: 0.9190 - val_loss: 0.1923 - val_accuracy: 0.9241\n",
            "Epoch 89/100\n",
            "690/690 [==============================] - 54s 78ms/step - loss: 0.2120 - accuracy: 0.9185 - val_loss: 0.1965 - val_accuracy: 0.9223\n",
            "Epoch 90/100\n",
            "690/690 [==============================] - 55s 79ms/step - loss: 0.2048 - accuracy: 0.9201 - val_loss: 0.1957 - val_accuracy: 0.9276\n",
            "Epoch 91/100\n",
            "690/690 [==============================] - 54s 79ms/step - loss: 0.2068 - accuracy: 0.9190 - val_loss: 0.1903 - val_accuracy: 0.9288\n",
            "Epoch 92/100\n",
            "690/690 [==============================] - 54s 78ms/step - loss: 0.2073 - accuracy: 0.9198 - val_loss: 0.2200 - val_accuracy: 0.9199\n",
            "Epoch 93/100\n",
            "690/690 [==============================] - 54s 78ms/step - loss: 0.2080 - accuracy: 0.9215 - val_loss: 0.1939 - val_accuracy: 0.9245\n",
            "Epoch 94/100\n",
            "690/690 [==============================] - 54s 79ms/step - loss: 0.2049 - accuracy: 0.9196 - val_loss: 0.1804 - val_accuracy: 0.9314\n",
            "Epoch 95/100\n",
            "690/690 [==============================] - 54s 78ms/step - loss: 0.2078 - accuracy: 0.9200 - val_loss: 0.1850 - val_accuracy: 0.9316\n",
            "Epoch 96/100\n",
            "690/690 [==============================] - 54s 79ms/step - loss: 0.2060 - accuracy: 0.9219 - val_loss: 0.1826 - val_accuracy: 0.9292\n",
            "Epoch 97/100\n",
            "690/690 [==============================] - 54s 79ms/step - loss: 0.2090 - accuracy: 0.9173 - val_loss: 0.1974 - val_accuracy: 0.9210\n",
            "Epoch 98/100\n",
            "690/690 [==============================] - 54s 78ms/step - loss: 0.2034 - accuracy: 0.9233 - val_loss: 0.2185 - val_accuracy: 0.9129\n",
            "Epoch 99/100\n",
            "690/690 [==============================] - 61s 88ms/step - loss: 0.2093 - accuracy: 0.9200 - val_loss: 0.2002 - val_accuracy: 0.9201\n",
            "Epoch 100/100\n",
            "690/690 [==============================] - 54s 79ms/step - loss: 0.2132 - accuracy: 0.9152 - val_loss: 0.1818 - val_accuracy: 0.9312\n"
          ]
        }
      ]
    },
    {
      "cell_type": "code",
      "source": [
        "model2.evaluate_generator(test_generator, verbose=1)"
      ],
      "metadata": {
        "colab": {
          "base_uri": "https://localhost:8080/"
        },
        "outputId": "a859b16e-ab3c-40ed-d04b-1c07a8a4dc3a",
        "id": "nVxvvMfEdpr6"
      },
      "execution_count": null,
      "outputs": [
        {
          "output_type": "stream",
          "name": "stdout",
          "text": [
            "\r  1/173 [..............................] - ETA: 15s - loss: 0.0634 - accuracy: 1.0000"
          ]
        },
        {
          "output_type": "stream",
          "name": "stderr",
          "text": [
            "/usr/local/lib/python3.7/dist-packages/ipykernel_launcher.py:1: UserWarning: `Model.evaluate_generator` is deprecated and will be removed in a future version. Please use `Model.evaluate`, which supports generators.\n",
            "  \"\"\"Entry point for launching an IPython kernel.\n"
          ]
        },
        {
          "output_type": "stream",
          "name": "stdout",
          "text": [
            "173/173 [==============================] - 7s 40ms/step - loss: 0.1818 - accuracy: 0.9312\n"
          ]
        },
        {
          "output_type": "execute_result",
          "data": {
            "text/plain": [
              "[0.18183347582817078, 0.9312034845352173]"
            ]
          },
          "metadata": {},
          "execution_count": 25
        }
      ]
    },
    {
      "cell_type": "code",
      "execution_count": null,
      "metadata": {
        "colab": {
          "base_uri": "https://localhost:8080/"
        },
        "outputId": "3ae3f877-7e17-407b-ece3-2c7009de6b96",
        "id": "mHSWaPdXdpr6"
      },
      "outputs": [
        {
          "output_type": "stream",
          "name": "stdout",
          "text": [
            "Train Accuracy : \n",
            "690/690 [==============================] - 48s 70ms/step - loss: 0.1886 - accuracy: 0.9274\n"
          ]
        },
        {
          "output_type": "execute_result",
          "data": {
            "text/plain": [
              "[0.18864579498767853, 0.9274343252182007]"
            ]
          },
          "metadata": {},
          "execution_count": 26
        }
      ],
      "source": [
        "print(\"Train Accuracy : \")\n",
        "model2.evaluate(train_generator)"
      ]
    },
    {
      "cell_type": "code",
      "execution_count": null,
      "metadata": {
        "colab": {
          "base_uri": "https://localhost:8080/"
        },
        "outputId": "83cf6ba8-e36b-447f-c0c5-8f3cb72f6ad3",
        "id": "92kw2D_idpr6"
      },
      "outputs": [
        {
          "output_type": "stream",
          "name": "stdout",
          "text": [
            "Test Accuracy : \n",
            "173/173 [==============================] - 7s 39ms/step - loss: 0.1818 - accuracy: 0.9312\n"
          ]
        },
        {
          "output_type": "execute_result",
          "data": {
            "text/plain": [
              "[0.1818334013223648, 0.9312034845352173]"
            ]
          },
          "metadata": {},
          "execution_count": 27
        }
      ],
      "source": [
        "print(\"Test Accuracy : \")\n",
        "model2.evaluate(test_generator)"
      ]
    },
    {
      "cell_type": "code",
      "execution_count": null,
      "metadata": {
        "id": "lKCQyLltyxpi"
      },
      "outputs": [],
      "source": [
        "from sklearn.metrics import classification_report, confusion_matrix\n",
        "import seaborn as sns\n",
        "import matplotlib.pyplot as plt\n",
        "\n",
        "def evaluate(model2):\n",
        "  test_generator = test_datagen.flow_from_directory(\n",
        "      TEST_DIR, \n",
        "      target_size=(64,64), \n",
        "      batch_size=32, \n",
        "      class_mode='binary',\n",
        "      shuffle = False)\n",
        "\n",
        "  Y_pred = model2.predict_generator(test_generator)\n",
        "  y_pred = np.round(Y_pred).astype(int)\n",
        "\n",
        "  print('\\nConfusion Matrix\\n')\n",
        "  cm = confusion_matrix(test_generator.classes, y_pred)\n",
        "  plt.figure(figsize=(8, 8))\n",
        "  sns.heatmap(cm, annot=True, fmt='g', vmin=0, cmap='Blues', cbar=False)\n",
        "  plt.xticks(ticks=[0.5, 1.5], labels=['Parasitized','Uninfected'])\n",
        "  plt.yticks(ticks=[0.5, 1.5], labels=['Parasitized','Uninfected'])\n",
        "  plt.xlabel(\"Predicted\")\n",
        "  plt.ylabel(\"Actual\")\n",
        "  plt.title(\"Confusion Matrix\")\n",
        "  plt.show()\n",
        "\n",
        "  print('\\n\\nClassification Report\\n')\n",
        "  target_names = ['Parasitized','Uninfected']\n",
        "  print(classification_report(test_generator.classes, y_pred, target_names=target_names))\n",
        "\n",
        "  tn, fp, fn, tp = cm.ravel()\n",
        "\n",
        "  precision = tp/(tp+fp)\n",
        "  recall = tp/(tp+fn)\n",
        "  f = 2*((precision*recall)/(precision+recall))\n",
        "\n",
        "  print(\"Recall of the model is {:.2f}\".format(recall))\n",
        "  print(\"Precision of the model is {:.2f}\".format(precision))\n",
        "  print(\"F-1 Score of the model is {:.2f}\".format(f)) "
      ]
    },
    {
      "cell_type": "code",
      "execution_count": null,
      "metadata": {
        "colab": {
          "base_uri": "https://localhost:8080/",
          "height": 915
        },
        "outputId": "508041ba-5322-44ff-eb82-9a4d85eebd07",
        "id": "wZnimXlHyxpl"
      },
      "outputs": [
        {
          "output_type": "stream",
          "name": "stdout",
          "text": [
            "Found 5509 images belonging to 2 classes.\n"
          ]
        },
        {
          "output_type": "stream",
          "name": "stderr",
          "text": [
            "/usr/local/lib/python3.7/dist-packages/ipykernel_launcher.py:13: UserWarning: `Model.predict_generator` is deprecated and will be removed in a future version. Please use `Model.predict`, which supports generators.\n",
            "  del sys.path[0]\n"
          ]
        },
        {
          "output_type": "stream",
          "name": "stdout",
          "text": [
            "\n",
            "Confusion Matrix\n",
            "\n"
          ]
        },
        {
          "output_type": "display_data",
          "data": {
            "text/plain": [
              "<Figure size 576x576 with 1 Axes>"
            ],
            "image/png": "[encoded data removed]"
          },
          "metadata": {
            "needs_background": "light"
          }
        },
        {
          "output_type": "stream",
          "name": "stdout",
          "text": [
            "\n",
            "\n",
            "Classification Report\n",
            "\n",
            "              precision    recall  f1-score   support\n",
            "\n",
            " Parasitized       0.95      0.91      0.93      2754\n",
            "  Uninfected       0.92      0.95      0.93      2755\n",
            "\n",
            "    accuracy                           0.93      5509\n",
            "   macro avg       0.93      0.93      0.93      5509\n",
            "weighted avg       0.93      0.93      0.93      5509\n",
            "\n",
            "Recall of the model is 0.95\n",
            "Precision of the model is 0.92\n",
            "F-1 Score of the model is 0.93\n"
          ]
        }
      ],
      "source": [
        "evaluate(model2)"
      ]
    },
    {
      "cell_type": "code",
      "source": [
        "import matplotlib.pyplot as plt\n",
        "def eval_plot(history2):\n",
        "\n",
        "  plt.figure(figsize=(14, 5))\n",
        "\n",
        "  # Accuracy plot\n",
        "  plt.subplot(1, 2, 1)\n",
        "  acc = history2.history['accuracy']\n",
        "  val_acc = history2.history['val_accuracy']\n",
        "  epochs = range(len(acc))\n",
        "  acc_plot, = plt.plot(epochs, acc, 'r')\n",
        "  val_acc_plot, = plt.plot(epochs, val_acc, 'b')\n",
        "  plt.title('Training and Validation Accuracy')\n",
        "  plt.legend([acc_plot, val_acc_plot], ['Training Accuracy', 'Validation Accuracy'])\n",
        "  plt.savefig(\"Accuracy2 Plot.svg\", format=\"svg\", dpi=1200)\n",
        "\n",
        "  # Loss plot\n",
        "  plt.subplot(1, 2, 2)\n",
        "  loss = history2.history['loss']\n",
        "  val_loss = history2.history['val_loss']\n",
        "  epochs = range(len(loss))\n",
        "  loss_plot, = plt.plot(epochs, loss, 'r')\n",
        "  val_loss_plot, = plt.plot(epochs, val_loss, 'b')\n",
        "  plt.title('Training and Validation Loss')\n",
        "  plt.legend([loss_plot, val_loss_plot], ['Training Loss', 'Validation Loss'])\n",
        "  plt.savefig(\"Loss2 Plot.svg\", format=\"svg\", dpi=1200)"
      ],
      "metadata": {
        "id": "husNVUgoyxpn"
      },
      "execution_count": null,
      "outputs": []
    },
    {
      "cell_type": "code",
      "source": [
        "eval_plot(history2)"
      ],
      "metadata": {
        "colab": {
          "base_uri": "https://localhost:8080/",
          "height": 336
        },
        "outputId": "2494b34f-3e09-406b-ed14-56d8328c7447",
        "id": "hXSXYkKsyxpp"
      },
      "execution_count": null,
      "outputs": [
        {
          "output_type": "display_data",
          "data": {
            "text/plain": [
              "<Figure size 1008x360 with 2 Axes>"
            ],
            "image/png": "[encoded data removed]"
          },
          "metadata": {
            "needs_background": "light"
          }
        }
      ]
    },
    {
      "cell_type": "code",
      "execution_count": null,
      "metadata": {
        "colab": {
          "base_uri": "https://localhost:8080/"
        },
        "outputId": "0ac8ac96-2cca-4f07-9958-08a43c39424f",
        "id": "Qw-LUQGCzzL3"
      },
      "outputs": [
        {
          "output_type": "stream",
          "name": "stdout",
          "text": [
            "Saved model to disk\n"
          ]
        }
      ],
      "source": [
        "model2.save_weights(\"Model2.h5\")\n",
        "print(\"Saved model to disk\")"
      ]
    },
    {
      "cell_type": "code",
      "execution_count": null,
      "metadata": {
        "id": "EwhgshJczzL5"
      },
      "outputs": [],
      "source": [
        "# serialize model to JSON\n",
        "model2_json = model2.to_json()\n",
        "with open(\"Model2.json\", \"w\") as json_file: json_file.write(model2_json)"
      ]
    },
    {
      "cell_type": "code",
      "execution_count": null,
      "metadata": {
        "colab": {
          "base_uri": "https://localhost:8080/"
        },
        "outputId": "4a2d6d4f-dcda-4313-c469-a2bab8dfcb76",
        "id": "XgiEJaYTzzL7"
      },
      "outputs": [
        {
          "output_type": "stream",
          "name": "stdout",
          "text": [
            "Saved model to disk\n"
          ]
        }
      ],
      "source": [
        "# serialize weights to HDF5\n",
        "model2.save(\"Model2.h5\")\n",
        "print(\"Saved model to disk\")"
      ]
    }
  ]
}