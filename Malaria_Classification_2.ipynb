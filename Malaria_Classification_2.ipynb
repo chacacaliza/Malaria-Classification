{
  "nbformat": 4,
  "nbformat_minor": 0,
  "metadata": {
    "colab": {
      "provenance": [],
      "collapsed_sections": [
        "efHv6Ak01kss"
      ],
      "include_colab_link": true
    },
    "kernelspec": {
      "name": "python3",
      "display_name": "Python 3"
    },
    "language_info": {
      "name": "python"
    },
    "accelerator": "GPU"
  },
  "cells": [
    {
      "cell_type": "markdown",
      "metadata": {
        "id": "view-in-github",
        "colab_type": "text"
      },
      "source": [
        "<a href=\"https://colab.research.google.com/github/chacacaliza/Malaria-Classification/blob/main/Malaria_Classification_2.ipynb\" target=\"_parent\"><img src=\"https://colab.research.google.com/assets/colab-badge.svg\" alt=\"Open In Colab\"/></a>"
      ]
    },
    {
      "cell_type": "markdown",
      "source": [
        "# Scenario 1 Splitting 75 : 25"
      ],
      "metadata": {
        "id": "efHv6Ak01kss"
      }
    },
    {
      "cell_type": "code",
      "execution_count": null,
      "metadata": {
        "colab": {
          "base_uri": "https://localhost:8080/"
        },
        "outputId": "93d151a5-0691-46a8-e6bc-ba2efed41d24",
        "id": "yrdUjpNk1y6e"
      },
      "outputs": [
        {
          "output_type": "stream",
          "name": "stdout",
          "text": [
            "Cloning into 'Malaria-Classification'...\n",
            "remote: Enumerating objects: 27571, done.\u001b[K\n",
            "remote: Counting objects: 100% (27571/27571), done.\u001b[K\n",
            "remote: Compressing objects: 100% (27570/27570), done.\u001b[K\n",
            "remote: Total 27571 (delta 1), reused 27565 (delta 0), pack-reused 0\n",
            "Receiving objects: 100% (27571/27571), 331.87 MiB | 26.90 MiB/s, done.\n",
            "Resolving deltas: 100% (1/1), done.\n",
            "Checking out files: 100% (27561/27561), done.\n"
          ]
        }
      ],
      "source": [
        "!git clone https://github.com/chacacaliza/Malaria-Classification.git"
      ]
    },
    {
      "cell_type": "code",
      "execution_count": null,
      "metadata": {
        "id": "EBbsVHpC1y67"
      },
      "outputs": [],
      "source": [
        "import numpy as np\n",
        "import pandas as pd\n",
        "import os\n",
        "from shutil import copyfile\n",
        "\n",
        "TRAIN_DIR = \"/content/train/\"\n",
        "TEST_DIR =\"/content/test/\"\n",
        "\n",
        "os.mkdir(TRAIN_DIR)\n",
        "os.mkdir(TEST_DIR)\n",
        "\n",
        "for label in ['Uninfected', 'Parasitized']:\n",
        "    os.mkdir(TRAIN_DIR+label)\n",
        "    os.mkdir(TEST_DIR+label)"
      ]
    },
    {
      "cell_type": "code",
      "execution_count": null,
      "metadata": {
        "colab": {
          "base_uri": "https://localhost:8080/"
        },
        "outputId": "c1a8b2ff-bd0d-43f0-bce9-03a819b015fa",
        "id": "XZB1CqZy1y69"
      },
      "outputs": [
        {
          "output_type": "stream",
          "name": "stdout",
          "text": [
            "Uninfected\n",
            "10335\n",
            "3445\n",
            "Parasitized\n",
            "10335\n",
            "3445\n"
          ]
        }
      ],
      "source": [
        "import random\n",
        "def train_valid_test_split(source, train_dir, test_dir,train_size, test_size):\n",
        "    # get files\n",
        "    files = []\n",
        "    for filename in os.listdir(source):\n",
        "        file = source + filename\n",
        "        if os.path.getsize(file) > 0:\n",
        "            files.append(filename)\n",
        "    \n",
        "    # train valid split\n",
        "    train_size = int(len(files) * (1-train_size))\n",
        "    test_size = int(len(files) * (train_size))\n",
        "  \n",
        "    # shuffle the dataset\n",
        "    shuffled_files = random.sample(files, len(files))\n",
        "    \n",
        "    train_set = shuffled_files[train_size:]\n",
        "    test_set = shuffled_files[:train_size]\n",
        "    \n",
        "    for filename in train_set:\n",
        "        filepath = source + filename\n",
        "        destination = train_dir + filename\n",
        "        copyfile(filepath, destination)    \n",
        "    \n",
        "    for filename in test_set:\n",
        "        filepath = source + filename\n",
        "        destination = test_dir + filename\n",
        "        copyfile(filepath, destination)\n",
        "\n",
        "SOURCE = \"/content/Malaria-Classification/Dataset/\"\n",
        "\n",
        "for label in ['Uninfected', 'Parasitized']:\n",
        "    print(label)\n",
        "    train_valid_test_split(SOURCE+label+'/', TRAIN_DIR +label+'/', TEST_DIR +label+'/', train_size=0.75, test_size=0.25)\n",
        "    print(len(os.listdir(TRAIN_DIR +label+'/')))\n",
        "    print(len(os.listdir(TEST_DIR +label+'/')))"
      ]
    },
    {
      "cell_type": "code",
      "source": [
        "from keras.preprocessing.image import ImageDataGenerator\n",
        "train_datagen = ImageDataGenerator(\n",
        "        rescale=1./255,\n",
        "        rotation_range=45,\n",
        "        shear_range=0.2,\n",
        "        vertical_flip=True,\n",
        "        horizontal_flip=True,\n",
        "        )\n",
        "\n",
        "train_generator = train_datagen.flow_from_directory(\n",
        "        TRAIN_DIR,  \n",
        "        target_size = (64, 64),\n",
        "        batch_size=32,\n",
        "        color_mode='rgb',\n",
        "        class_mode = 'binary',\n",
        "        shuffle=True,\n",
        "        )"
      ],
      "metadata": {
        "colab": {
          "base_uri": "https://localhost:8080/"
        },
        "outputId": "015e542e-ce14-4a30-9335-4a11d86818c2",
        "id": "pGQ2w9Mt1y6_"
      },
      "execution_count": null,
      "outputs": [
        {
          "output_type": "stream",
          "name": "stdout",
          "text": [
            "Found 20668 images belonging to 2 classes.\n"
          ]
        }
      ]
    },
    {
      "cell_type": "code",
      "source": [
        "test_datagen = ImageDataGenerator(\n",
        "        rescale=1./255)\n",
        "\n",
        "test_generator = test_datagen.flow_from_directory(\n",
        "        TEST_DIR,\n",
        "        target_size = (64, 64),\n",
        "        batch_size=32,\n",
        "        color_mode='rgb',\n",
        "        class_mode = 'binary',\n",
        "        shuffle=True,\n",
        ")"
      ],
      "metadata": {
        "colab": {
          "base_uri": "https://localhost:8080/"
        },
        "id": "BDIuWTXcOUUm",
        "outputId": "d49bcac2-ebf0-4073-83af-715d041907f1"
      },
      "execution_count": null,
      "outputs": [
        {
          "output_type": "stream",
          "name": "stdout",
          "text": [
            "Found 6890 images belonging to 2 classes.\n"
          ]
        }
      ]
    },
    {
      "cell_type": "markdown",
      "source": [
        "**RMSprop Optimizer**"
      ],
      "metadata": {
        "id": "-oNtYr9NgmkO"
      }
    },
    {
      "cell_type": "code",
      "source": [
        "import tensorflow as tf\n",
        "from tensorflow.keras.models import Sequential, load_model\n",
        "from tensorflow.keras.optimizers import RMSprop\n",
        "from tensorflow.keras.layers import Dense, Conv2D, AveragePooling2D, MaxPooling2D, Flatten, BatchNormalization, Dropout\n",
        "model1 = tf.keras.models.Sequential([\n",
        "    tf.keras.layers.Conv2D(16, (3,3), activation='relu', padding='same', input_shape=(64, 64, 3)),\n",
        "    tf.keras.layers.BatchNormalization(),\n",
        "    tf.keras.layers.MaxPooling2D(2, 2),\n",
        "    \n",
        "    tf.keras.layers.Conv2D(32, (3,3), activation='relu', padding='same'),\n",
        "    tf.keras.layers.BatchNormalization(),\n",
        "    tf.keras.layers.MaxPooling2D(2, 2),\n",
        "    \n",
        "    tf.keras.layers.Conv2D(64, (3,3), activation='relu', padding='same'),\n",
        "    tf.keras.layers.BatchNormalization(),\n",
        "    tf.keras.layers.MaxPooling2D(2, 2),\n",
        "    \n",
        "    tf.keras.layers.Conv2D(128, (3,3), activation='relu', padding='same'),\n",
        "    tf.keras.layers.BatchNormalization(),\n",
        "    tf.keras.layers.MaxPooling2D(2, 2), \n",
        "    \n",
        "    tf.keras.layers.Flatten(),\n",
        "    \n",
        "    tf.keras.layers.Dense(512, activation='relu'),\n",
        "    tf.keras.layers.BatchNormalization(),\n",
        "    tf.keras.layers.Dropout(0.1),\n",
        "    \n",
        "    tf.keras.layers.Dense(1, activation='sigmoid')\n",
        "])\n",
        "\n",
        "model1.compile(loss='binary_crossentropy',\n",
        "              optimizer=RMSprop(lr=0.001),\n",
        "              metrics=['acc'])"
      ],
      "metadata": {
        "id": "MIE6SARFSNOh",
        "colab": {
          "base_uri": "https://localhost:8080/"
        },
        "outputId": "b7aa63e8-543d-435e-c92d-48fb6e2f22e9"
      },
      "execution_count": null,
      "outputs": [
        {
          "output_type": "stream",
          "name": "stderr",
          "text": [
            "/usr/local/lib/python3.7/dist-packages/keras/optimizer_v2/rmsprop.py:130: UserWarning: The `lr` argument is deprecated, use `learning_rate` instead.\n",
            "  super(RMSprop, self).__init__(name, **kwargs)\n"
          ]
        }
      ]
    },
    {
      "cell_type": "code",
      "source": [
        "# Print model summary\n",
        "print(model1.summary())"
      ],
      "metadata": {
        "id": "czbFKLwqmaMu",
        "colab": {
          "base_uri": "https://localhost:8080/"
        },
        "outputId": "355301b9-9ff9-400c-b4f4-b858c39af919"
      },
      "execution_count": null,
      "outputs": [
        {
          "output_type": "stream",
          "name": "stdout",
          "text": [
            "Model: \"sequential_1\"\n",
            "_________________________________________________________________\n",
            " Layer (type)                Output Shape              Param #   \n",
            "=================================================================\n",
            " conv2d_4 (Conv2D)           (None, 64, 64, 16)        448       \n",
            "                                                                 \n",
            " batch_normalization_5 (Batc  (None, 64, 64, 16)       64        \n",
            " hNormalization)                                                 \n",
            "                                                                 \n",
            " max_pooling2d_4 (MaxPooling  (None, 32, 32, 16)       0         \n",
            " 2D)                                                             \n",
            "                                                                 \n",
            " conv2d_5 (Conv2D)           (None, 32, 32, 32)        4640      \n",
            "                                                                 \n",
            " batch_normalization_6 (Batc  (None, 32, 32, 32)       128       \n",
            " hNormalization)                                                 \n",
            "                                                                 \n",
            " max_pooling2d_5 (MaxPooling  (None, 16, 16, 32)       0         \n",
            " 2D)                                                             \n",
            "                                                                 \n",
            " conv2d_6 (Conv2D)           (None, 16, 16, 64)        18496     \n",
            "                                                                 \n",
            " batch_normalization_7 (Batc  (None, 16, 16, 64)       256       \n",
            " hNormalization)                                                 \n",
            "                                                                 \n",
            " max_pooling2d_6 (MaxPooling  (None, 8, 8, 64)         0         \n",
            " 2D)                                                             \n",
            "                                                                 \n",
            " conv2d_7 (Conv2D)           (None, 8, 8, 128)         73856     \n",
            "                                                                 \n",
            " batch_normalization_8 (Batc  (None, 8, 8, 128)        512       \n",
            " hNormalization)                                                 \n",
            "                                                                 \n",
            " max_pooling2d_7 (MaxPooling  (None, 4, 4, 128)        0         \n",
            " 2D)                                                             \n",
            "                                                                 \n",
            " flatten_1 (Flatten)         (None, 2048)              0         \n",
            "                                                                 \n",
            " dense_2 (Dense)             (None, 512)               1049088   \n",
            "                                                                 \n",
            " batch_normalization_9 (Batc  (None, 512)              2048      \n",
            " hNormalization)                                                 \n",
            "                                                                 \n",
            " dropout_1 (Dropout)         (None, 512)               0         \n",
            "                                                                 \n",
            " dense_3 (Dense)             (None, 1)                 513       \n",
            "                                                                 \n",
            "=================================================================\n",
            "Total params: 1,150,049\n",
            "Trainable params: 1,148,545\n",
            "Non-trainable params: 1,504\n",
            "_________________________________________________________________\n",
            "None\n"
          ]
        }
      ]
    },
    {
      "cell_type": "code",
      "source": [
        "history1 = model1.fit_generator(\n",
        "        train_generator,\n",
        "        epochs=100,\n",
        "        validation_data=test_generator,\n",
        "        )"
      ],
      "metadata": {
        "colab": {
          "base_uri": "https://localhost:8080/"
        },
        "id": "NHgoU0SmS09V",
        "outputId": "5e9d699f-cc82-4913-e67f-e80054018dbd"
      },
      "execution_count": null,
      "outputs": [
        {
          "output_type": "stream",
          "name": "stderr",
          "text": [
            "/usr/local/lib/python3.7/dist-packages/ipykernel_launcher.py:4: UserWarning: `Model.fit_generator` is deprecated and will be removed in a future version. Please use `Model.fit`, which supports generators.\n",
            "  after removing the cwd from sys.path.\n"
          ]
        },
        {
          "output_type": "stream",
          "name": "stdout",
          "text": [
            "Epoch 1/100\n",
            "646/646 [==============================] - 80s 106ms/step - loss: 0.2899 - acc: 0.8891 - val_loss: 0.1699 - val_acc: 0.9367\n",
            "Epoch 2/100\n",
            "646/646 [==============================] - 58s 90ms/step - loss: 0.1617 - acc: 0.9476 - val_loss: 0.1358 - val_acc: 0.9541\n",
            "Epoch 3/100\n",
            "646/646 [==============================] - 58s 90ms/step - loss: 0.1436 - acc: 0.9526 - val_loss: 0.1493 - val_acc: 0.9466\n",
            "Epoch 4/100\n",
            "646/646 [==============================] - 58s 89ms/step - loss: 0.1400 - acc: 0.9538 - val_loss: 0.1324 - val_acc: 0.9591\n",
            "Epoch 5/100\n",
            "646/646 [==============================] - 59s 91ms/step - loss: 0.1376 - acc: 0.9551 - val_loss: 0.1740 - val_acc: 0.9392\n",
            "Epoch 6/100\n",
            "646/646 [==============================] - 60s 92ms/step - loss: 0.1333 - acc: 0.9555 - val_loss: 0.2502 - val_acc: 0.9248\n",
            "Epoch 7/100\n",
            "646/646 [==============================] - 58s 90ms/step - loss: 0.1273 - acc: 0.9568 - val_loss: 0.1191 - val_acc: 0.9579\n",
            "Epoch 8/100\n",
            "646/646 [==============================] - 58s 89ms/step - loss: 0.1283 - acc: 0.9582 - val_loss: 0.1148 - val_acc: 0.9624\n",
            "Epoch 9/100\n",
            "646/646 [==============================] - 58s 90ms/step - loss: 0.1240 - acc: 0.9588 - val_loss: 0.1433 - val_acc: 0.9502\n",
            "Epoch 10/100\n",
            "646/646 [==============================] - 58s 90ms/step - loss: 0.1207 - acc: 0.9599 - val_loss: 0.1179 - val_acc: 0.9611\n",
            "Epoch 11/100\n",
            "646/646 [==============================] - 58s 90ms/step - loss: 0.1203 - acc: 0.9596 - val_loss: 0.1169 - val_acc: 0.9633\n",
            "Epoch 12/100\n",
            "646/646 [==============================] - 58s 89ms/step - loss: 0.1200 - acc: 0.9615 - val_loss: 0.1164 - val_acc: 0.9591\n",
            "Epoch 13/100\n",
            "646/646 [==============================] - 58s 89ms/step - loss: 0.1164 - acc: 0.9614 - val_loss: 0.1127 - val_acc: 0.9614\n",
            "Epoch 14/100\n",
            "646/646 [==============================] - 58s 90ms/step - loss: 0.1168 - acc: 0.9613 - val_loss: 0.1082 - val_acc: 0.9614\n",
            "Epoch 15/100\n",
            "646/646 [==============================] - 59s 91ms/step - loss: 0.1150 - acc: 0.9617 - val_loss: 0.1434 - val_acc: 0.9615\n",
            "Epoch 16/100\n",
            "646/646 [==============================] - 58s 89ms/step - loss: 0.1131 - acc: 0.9625 - val_loss: 0.1357 - val_acc: 0.9556\n",
            "Epoch 17/100\n",
            "646/646 [==============================] - 58s 89ms/step - loss: 0.1105 - acc: 0.9629 - val_loss: 0.1306 - val_acc: 0.9541\n",
            "Epoch 18/100\n",
            "646/646 [==============================] - 58s 90ms/step - loss: 0.1097 - acc: 0.9632 - val_loss: 0.1319 - val_acc: 0.9591\n",
            "Epoch 19/100\n",
            "646/646 [==============================] - 59s 92ms/step - loss: 0.1077 - acc: 0.9636 - val_loss: 0.1268 - val_acc: 0.9573\n",
            "Epoch 20/100\n",
            "646/646 [==============================] - 59s 91ms/step - loss: 0.1078 - acc: 0.9644 - val_loss: 0.1296 - val_acc: 0.9576\n",
            "Epoch 21/100\n",
            "646/646 [==============================] - 60s 93ms/step - loss: 0.1089 - acc: 0.9640 - val_loss: 0.1114 - val_acc: 0.9634\n",
            "Epoch 22/100\n",
            "646/646 [==============================] - 59s 91ms/step - loss: 0.1087 - acc: 0.9636 - val_loss: 0.1144 - val_acc: 0.9636\n",
            "Epoch 23/100\n",
            "646/646 [==============================] - 61s 95ms/step - loss: 0.1055 - acc: 0.9643 - val_loss: 0.1138 - val_acc: 0.9646\n",
            "Epoch 24/100\n",
            "646/646 [==============================] - 59s 91ms/step - loss: 0.1061 - acc: 0.9650 - val_loss: 0.1299 - val_acc: 0.9597\n",
            "Epoch 25/100\n",
            "646/646 [==============================] - 59s 91ms/step - loss: 0.1030 - acc: 0.9662 - val_loss: 0.1187 - val_acc: 0.9627\n",
            "Epoch 26/100\n",
            "646/646 [==============================] - 59s 92ms/step - loss: 0.1047 - acc: 0.9666 - val_loss: 0.1052 - val_acc: 0.9655\n",
            "Epoch 27/100\n",
            "646/646 [==============================] - 60s 93ms/step - loss: 0.1009 - acc: 0.9664 - val_loss: 0.1228 - val_acc: 0.9598\n",
            "Epoch 28/100\n",
            "646/646 [==============================] - 59s 91ms/step - loss: 0.1035 - acc: 0.9652 - val_loss: 0.1191 - val_acc: 0.9630\n",
            "Epoch 29/100\n",
            "646/646 [==============================] - 58s 90ms/step - loss: 0.1042 - acc: 0.9653 - val_loss: 0.1210 - val_acc: 0.9653\n",
            "Epoch 30/100\n",
            "646/646 [==============================] - 58s 90ms/step - loss: 0.1015 - acc: 0.9674 - val_loss: 0.1083 - val_acc: 0.9652\n",
            "Epoch 31/100\n",
            "646/646 [==============================] - 59s 91ms/step - loss: 0.1029 - acc: 0.9659 - val_loss: 0.1425 - val_acc: 0.9599\n",
            "Epoch 32/100\n",
            "646/646 [==============================] - 60s 93ms/step - loss: 0.1037 - acc: 0.9656 - val_loss: 0.1399 - val_acc: 0.9520\n",
            "Epoch 33/100\n",
            "646/646 [==============================] - 60s 93ms/step - loss: 0.0999 - acc: 0.9668 - val_loss: 0.1095 - val_acc: 0.9644\n",
            "Epoch 34/100\n",
            "646/646 [==============================] - 60s 93ms/step - loss: 0.0994 - acc: 0.9678 - val_loss: 0.1197 - val_acc: 0.9612\n",
            "Epoch 35/100\n",
            "646/646 [==============================] - 60s 93ms/step - loss: 0.1004 - acc: 0.9671 - val_loss: 0.1028 - val_acc: 0.9649\n",
            "Epoch 36/100\n",
            "646/646 [==============================] - 61s 95ms/step - loss: 0.0974 - acc: 0.9670 - val_loss: 0.1198 - val_acc: 0.9570\n",
            "Epoch 37/100\n",
            "646/646 [==============================] - 60s 93ms/step - loss: 0.0997 - acc: 0.9657 - val_loss: 0.1194 - val_acc: 0.9628\n",
            "Epoch 38/100\n",
            "646/646 [==============================] - 60s 93ms/step - loss: 0.0974 - acc: 0.9675 - val_loss: 0.1207 - val_acc: 0.9601\n",
            "Epoch 39/100\n",
            "646/646 [==============================] - 60s 93ms/step - loss: 0.0977 - acc: 0.9684 - val_loss: 0.1213 - val_acc: 0.9583\n",
            "Epoch 40/100\n",
            "646/646 [==============================] - 61s 94ms/step - loss: 0.0978 - acc: 0.9679 - val_loss: 0.1101 - val_acc: 0.9662\n",
            "Epoch 41/100\n",
            "646/646 [==============================] - 60s 93ms/step - loss: 0.0957 - acc: 0.9678 - val_loss: 0.1287 - val_acc: 0.9618\n",
            "Epoch 42/100\n",
            "646/646 [==============================] - 60s 93ms/step - loss: 0.0936 - acc: 0.9681 - val_loss: 0.0925 - val_acc: 0.9702\n",
            "Epoch 43/100\n",
            "646/646 [==============================] - 61s 94ms/step - loss: 0.1002 - acc: 0.9666 - val_loss: 0.0957 - val_acc: 0.9685\n",
            "Epoch 44/100\n",
            "646/646 [==============================] - 60s 93ms/step - loss: 0.0965 - acc: 0.9676 - val_loss: 0.0974 - val_acc: 0.9692\n",
            "Epoch 45/100\n",
            "646/646 [==============================] - 60s 94ms/step - loss: 0.0967 - acc: 0.9691 - val_loss: 0.1137 - val_acc: 0.9608\n",
            "Epoch 46/100\n",
            "646/646 [==============================] - 60s 93ms/step - loss: 0.0954 - acc: 0.9692 - val_loss: 0.1179 - val_acc: 0.9614\n",
            "Epoch 47/100\n",
            "646/646 [==============================] - 60s 93ms/step - loss: 0.0976 - acc: 0.9675 - val_loss: 0.0921 - val_acc: 0.9701\n",
            "Epoch 48/100\n",
            "646/646 [==============================] - 60s 92ms/step - loss: 0.0959 - acc: 0.9688 - val_loss: 0.1069 - val_acc: 0.9649\n",
            "Epoch 49/100\n",
            "646/646 [==============================] - 60s 93ms/step - loss: 0.0966 - acc: 0.9679 - val_loss: 0.1012 - val_acc: 0.9669\n",
            "Epoch 50/100\n",
            "646/646 [==============================] - 60s 93ms/step - loss: 0.0922 - acc: 0.9690 - val_loss: 0.0948 - val_acc: 0.9701\n",
            "Epoch 51/100\n",
            "646/646 [==============================] - 60s 93ms/step - loss: 0.0955 - acc: 0.9677 - val_loss: 0.1100 - val_acc: 0.9659\n",
            "Epoch 52/100\n",
            "646/646 [==============================] - 60s 92ms/step - loss: 0.0968 - acc: 0.9676 - val_loss: 0.1031 - val_acc: 0.9644\n",
            "Epoch 53/100\n",
            "646/646 [==============================] - 60s 93ms/step - loss: 0.0931 - acc: 0.9696 - val_loss: 0.1168 - val_acc: 0.9633\n",
            "Epoch 54/100\n",
            "646/646 [==============================] - 60s 93ms/step - loss: 0.0912 - acc: 0.9696 - val_loss: 0.1552 - val_acc: 0.9541\n",
            "Epoch 55/100\n",
            "646/646 [==============================] - 60s 93ms/step - loss: 0.0926 - acc: 0.9692 - val_loss: 0.1221 - val_acc: 0.9640\n",
            "Epoch 56/100\n",
            "646/646 [==============================] - 60s 93ms/step - loss: 0.0920 - acc: 0.9690 - val_loss: 0.1825 - val_acc: 0.9350\n",
            "Epoch 57/100\n",
            "646/646 [==============================] - 61s 94ms/step - loss: 0.0932 - acc: 0.9693 - val_loss: 0.1301 - val_acc: 0.9614\n",
            "Epoch 58/100\n",
            "646/646 [==============================] - 60s 93ms/step - loss: 0.0942 - acc: 0.9684 - val_loss: 0.1288 - val_acc: 0.9646\n",
            "Epoch 59/100\n",
            "646/646 [==============================] - 60s 92ms/step - loss: 0.0948 - acc: 0.9696 - val_loss: 0.1019 - val_acc: 0.9684\n",
            "Epoch 60/100\n",
            "646/646 [==============================] - 60s 93ms/step - loss: 0.0927 - acc: 0.9701 - val_loss: 0.1412 - val_acc: 0.9601\n",
            "Epoch 61/100\n",
            "646/646 [==============================] - 60s 93ms/step - loss: 0.0916 - acc: 0.9706 - val_loss: 0.1081 - val_acc: 0.9647\n",
            "Epoch 62/100\n",
            "646/646 [==============================] - 60s 93ms/step - loss: 0.0886 - acc: 0.9704 - val_loss: 0.1136 - val_acc: 0.9655\n",
            "Epoch 63/100\n",
            "646/646 [==============================] - 60s 92ms/step - loss: 0.0916 - acc: 0.9707 - val_loss: 0.0987 - val_acc: 0.9687\n",
            "Epoch 64/100\n",
            "646/646 [==============================] - 60s 92ms/step - loss: 0.0932 - acc: 0.9695 - val_loss: 0.1327 - val_acc: 0.9591\n",
            "Epoch 65/100\n",
            "646/646 [==============================] - 60s 93ms/step - loss: 0.0876 - acc: 0.9705 - val_loss: 0.1240 - val_acc: 0.9636\n",
            "Epoch 66/100\n",
            "646/646 [==============================] - 61s 94ms/step - loss: 0.0923 - acc: 0.9693 - val_loss: 0.1294 - val_acc: 0.9612\n",
            "Epoch 67/100\n",
            "646/646 [==============================] - 61s 95ms/step - loss: 0.0928 - acc: 0.9688 - val_loss: 0.1150 - val_acc: 0.9646\n",
            "Epoch 68/100\n",
            "646/646 [==============================] - 61s 95ms/step - loss: 0.0914 - acc: 0.9694 - val_loss: 0.0996 - val_acc: 0.9698\n",
            "Epoch 69/100\n",
            "646/646 [==============================] - 61s 94ms/step - loss: 0.0898 - acc: 0.9703 - val_loss: 0.1333 - val_acc: 0.9493\n",
            "Epoch 70/100\n",
            "646/646 [==============================] - 61s 94ms/step - loss: 0.0906 - acc: 0.9699 - val_loss: 0.1018 - val_acc: 0.9650\n",
            "Epoch 71/100\n",
            "646/646 [==============================] - 61s 95ms/step - loss: 0.0890 - acc: 0.9705 - val_loss: 0.1217 - val_acc: 0.9644\n",
            "Epoch 72/100\n",
            "646/646 [==============================] - 60s 93ms/step - loss: 0.0911 - acc: 0.9698 - val_loss: 0.0992 - val_acc: 0.9685\n",
            "Epoch 73/100\n",
            "646/646 [==============================] - 60s 93ms/step - loss: 0.0890 - acc: 0.9706 - val_loss: 0.1102 - val_acc: 0.9656\n",
            "Epoch 74/100\n",
            "646/646 [==============================] - 60s 93ms/step - loss: 0.0907 - acc: 0.9705 - val_loss: 0.0961 - val_acc: 0.9692\n",
            "Epoch 75/100\n",
            "646/646 [==============================] - 60s 93ms/step - loss: 0.0909 - acc: 0.9703 - val_loss: 0.1220 - val_acc: 0.9605\n",
            "Epoch 76/100\n",
            "646/646 [==============================] - 63s 98ms/step - loss: 0.0890 - acc: 0.9703 - val_loss: 0.1016 - val_acc: 0.9671\n",
            "Epoch 77/100\n",
            "646/646 [==============================] - 60s 93ms/step - loss: 0.0869 - acc: 0.9721 - val_loss: 0.0989 - val_acc: 0.9673\n",
            "Epoch 78/100\n",
            "646/646 [==============================] - 60s 93ms/step - loss: 0.0866 - acc: 0.9715 - val_loss: 0.1190 - val_acc: 0.9695\n",
            "Epoch 79/100\n",
            "646/646 [==============================] - 60s 93ms/step - loss: 0.0870 - acc: 0.9708 - val_loss: 0.1979 - val_acc: 0.9515\n",
            "Epoch 80/100\n",
            "646/646 [==============================] - 60s 93ms/step - loss: 0.0880 - acc: 0.9711 - val_loss: 0.0955 - val_acc: 0.9688\n",
            "Epoch 81/100\n",
            "646/646 [==============================] - 60s 93ms/step - loss: 0.0879 - acc: 0.9708 - val_loss: 0.1054 - val_acc: 0.9621\n",
            "Epoch 82/100\n",
            "646/646 [==============================] - 60s 93ms/step - loss: 0.0890 - acc: 0.9700 - val_loss: 0.1243 - val_acc: 0.9627\n",
            "Epoch 83/100\n",
            "646/646 [==============================] - 60s 93ms/step - loss: 0.0884 - acc: 0.9701 - val_loss: 0.1059 - val_acc: 0.9675\n",
            "Epoch 84/100\n",
            "646/646 [==============================] - 60s 93ms/step - loss: 0.0857 - acc: 0.9715 - val_loss: 0.1098 - val_acc: 0.9666\n",
            "Epoch 85/100\n",
            "646/646 [==============================] - 60s 93ms/step - loss: 0.0883 - acc: 0.9714 - val_loss: 0.1139 - val_acc: 0.9657\n",
            "Epoch 86/100\n",
            "646/646 [==============================] - 60s 92ms/step - loss: 0.0882 - acc: 0.9714 - val_loss: 0.0975 - val_acc: 0.9689\n",
            "Epoch 87/100\n",
            "646/646 [==============================] - 59s 92ms/step - loss: 0.0860 - acc: 0.9710 - val_loss: 0.1185 - val_acc: 0.9647\n",
            "Epoch 88/100\n",
            "646/646 [==============================] - 60s 92ms/step - loss: 0.0884 - acc: 0.9714 - val_loss: 0.0979 - val_acc: 0.9685\n",
            "Epoch 89/100\n",
            "646/646 [==============================] - 60s 93ms/step - loss: 0.0858 - acc: 0.9729 - val_loss: 0.1031 - val_acc: 0.9688\n",
            "Epoch 90/100\n",
            "646/646 [==============================] - 59s 92ms/step - loss: 0.0824 - acc: 0.9719 - val_loss: 0.1132 - val_acc: 0.9660\n",
            "Epoch 91/100\n",
            "646/646 [==============================] - 60s 93ms/step - loss: 0.0879 - acc: 0.9720 - val_loss: 0.1019 - val_acc: 0.9640\n",
            "Epoch 92/100\n",
            "646/646 [==============================] - 60s 93ms/step - loss: 0.0877 - acc: 0.9696 - val_loss: 0.0934 - val_acc: 0.9714\n",
            "Epoch 93/100\n",
            "646/646 [==============================] - 60s 93ms/step - loss: 0.0867 - acc: 0.9712 - val_loss: 0.1131 - val_acc: 0.9618\n",
            "Epoch 94/100\n",
            "646/646 [==============================] - 60s 93ms/step - loss: 0.0829 - acc: 0.9716 - val_loss: 0.1039 - val_acc: 0.9679\n",
            "Epoch 95/100\n",
            "646/646 [==============================] - 60s 93ms/step - loss: 0.0847 - acc: 0.9719 - val_loss: 0.0975 - val_acc: 0.9698\n",
            "Epoch 96/100\n",
            "646/646 [==============================] - 60s 93ms/step - loss: 0.0855 - acc: 0.9722 - val_loss: 0.1022 - val_acc: 0.9687\n",
            "Epoch 97/100\n",
            "646/646 [==============================] - 61s 95ms/step - loss: 0.0828 - acc: 0.9728 - val_loss: 0.0970 - val_acc: 0.9691\n",
            "Epoch 98/100\n",
            "646/646 [==============================] - 60s 93ms/step - loss: 0.0836 - acc: 0.9731 - val_loss: 0.1167 - val_acc: 0.9642\n",
            "Epoch 99/100\n",
            "646/646 [==============================] - 61s 94ms/step - loss: 0.0854 - acc: 0.9719 - val_loss: 0.1054 - val_acc: 0.9644\n",
            "Epoch 100/100\n",
            "646/646 [==============================] - 61s 94ms/step - loss: 0.0825 - acc: 0.9723 - val_loss: 0.0994 - val_acc: 0.9701\n"
          ]
        }
      ]
    },
    {
      "cell_type": "code",
      "source": [
        "model1.evaluate_generator(test_generator, verbose=1)"
      ],
      "metadata": {
        "colab": {
          "base_uri": "https://localhost:8080/"
        },
        "outputId": "01a90583-ae16-4ce1-9cf0-9b321b42bd2e",
        "id": "A2-Zj6zfE70F"
      },
      "execution_count": null,
      "outputs": [
        {
          "output_type": "stream",
          "name": "stdout",
          "text": [
            "\r  1/216 [..............................] - ETA: 16s - loss: 0.1202 - acc: 0.9688"
          ]
        },
        {
          "output_type": "stream",
          "name": "stderr",
          "text": [
            "/usr/local/lib/python3.7/dist-packages/ipykernel_launcher.py:1: UserWarning: `Model.evaluate_generator` is deprecated and will be removed in a future version. Please use `Model.evaluate`, which supports generators.\n",
            "  \"\"\"Entry point for launching an IPython kernel.\n"
          ]
        },
        {
          "output_type": "stream",
          "name": "stdout",
          "text": [
            "216/216 [==============================] - 8s 37ms/step - loss: 0.0994 - acc: 0.9701\n"
          ]
        },
        {
          "output_type": "execute_result",
          "data": {
            "text/plain": [
              "[0.0993586853146553, 0.9701015949249268]"
            ]
          },
          "metadata": {},
          "execution_count": 10
        }
      ]
    },
    {
      "cell_type": "code",
      "execution_count": null,
      "metadata": {
        "colab": {
          "base_uri": "https://localhost:8080/"
        },
        "outputId": "ea7f5a07-467d-40a8-c867-d2d78d33afc9",
        "id": "k4kT5UChE70H"
      },
      "outputs": [
        {
          "output_type": "stream",
          "name": "stdout",
          "text": [
            "Train Accuracy : \n",
            "646/646 [==============================] - 49s 76ms/step - loss: 0.0766 - acc: 0.9740\n"
          ]
        },
        {
          "output_type": "execute_result",
          "data": {
            "text/plain": [
              "[0.07663412392139435, 0.9740177989006042]"
            ]
          },
          "metadata": {},
          "execution_count": 11
        }
      ],
      "source": [
        "print(\"Train Accuracy : \")\n",
        "model1.evaluate(train_generator)"
      ]
    },
    {
      "cell_type": "code",
      "execution_count": null,
      "metadata": {
        "colab": {
          "base_uri": "https://localhost:8080/"
        },
        "outputId": "317b3253-4614-4bc8-e7fb-fdec6303837f",
        "id": "Bdw5wgCBE70I"
      },
      "outputs": [
        {
          "output_type": "stream",
          "name": "stdout",
          "text": [
            "Test Accuracy : \n",
            "216/216 [==============================] - 8s 37ms/step - loss: 0.0994 - acc: 0.9701\n"
          ]
        },
        {
          "output_type": "execute_result",
          "data": {
            "text/plain": [
              "[0.09935867786407471, 0.9701015949249268]"
            ]
          },
          "metadata": {},
          "execution_count": 12
        }
      ],
      "source": [
        "print(\"Test Accuracy : \")\n",
        "model1.evaluate(test_generator)"
      ]
    },
    {
      "cell_type": "code",
      "execution_count": null,
      "metadata": {
        "id": "WZ0mGNHJcOr3"
      },
      "outputs": [],
      "source": [
        "from sklearn.metrics import classification_report, confusion_matrix\n",
        "import seaborn as sns\n",
        "import matplotlib.pyplot as plt\n",
        "\n",
        "def evaluate(model1):\n",
        "  test_generator = test_datagen.flow_from_directory(\n",
        "      TEST_DIR, \n",
        "      target_size=(64,64), \n",
        "      batch_size=32, \n",
        "      class_mode='binary',\n",
        "      shuffle = False)\n",
        "\n",
        "  Y_pred = model1.predict_generator(test_generator)\n",
        "  y_pred = np.round(Y_pred).astype(int)\n",
        "\n",
        "  print('\\nConfusion Matrix\\n')\n",
        "  cm = confusion_matrix(test_generator.classes, y_pred)\n",
        "  plt.figure(figsize=(8, 8))\n",
        "  sns.heatmap(cm, annot=True, fmt='g', vmin=0, cmap='Blues', cbar=False)\n",
        "  plt.xticks(ticks=[0.5, 1.5], labels=['Parasitized','Uninfected'])\n",
        "  plt.yticks(ticks=[0.5, 1.5], labels=['Parasitized','Uninfected'])\n",
        "  plt.xlabel(\"Predicted\")\n",
        "  plt.ylabel(\"Actual\")\n",
        "  plt.title(\"Confusion Matrix\")\n",
        "  plt.show()\n",
        "\n",
        "  print('\\n\\nClassification Report\\n')\n",
        "  target_names = ['Parasitized','Uninfected']\n",
        "  print(classification_report(test_generator.classes, y_pred, target_names=target_names))\n",
        "\n",
        "  tn, fp, fn, tp = cm.ravel()\n",
        "\n",
        "  precision = tp/(tp+fp)\n",
        "  recall = tp/(tp+fn)\n",
        "  f = 2*((precision*recall)/(precision+recall))\n",
        "\n",
        "  print(\"Recall of the model is {:.2f}\".format(recall))\n",
        "  print(\"Precision of the model is {:.2f}\".format(precision))\n",
        "  print(\"F-1 Score of the model is {:.2f}\".format(f)) "
      ]
    },
    {
      "cell_type": "code",
      "execution_count": null,
      "metadata": {
        "colab": {
          "base_uri": "https://localhost:8080/",
          "height": 915
        },
        "outputId": "d257b885-b028-4b48-ffe3-d1e487e0406b",
        "id": "6CpEMaNJcOsW"
      },
      "outputs": [
        {
          "output_type": "stream",
          "name": "stdout",
          "text": [
            "Found 6890 images belonging to 2 classes.\n"
          ]
        },
        {
          "output_type": "stream",
          "name": "stderr",
          "text": [
            "/usr/local/lib/python3.7/dist-packages/ipykernel_launcher.py:13: UserWarning: `Model.predict_generator` is deprecated and will be removed in a future version. Please use `Model.predict`, which supports generators.\n",
            "  del sys.path[0]\n"
          ]
        },
        {
          "output_type": "stream",
          "name": "stdout",
          "text": [
            "\n",
            "Confusion Matrix\n",
            "\n"
          ]
        },
        {
          "output_type": "display_data",
          "data": {
            "text/plain": [
              "<Figure size 576x576 with 1 Axes>"
            ],
            "image/png": "[encoded data removed]"
          },
          "metadata": {
            "needs_background": "light"
          }
        },
        {
          "output_type": "stream",
          "name": "stdout",
          "text": [
            "\n",
            "\n",
            "Classification Report\n",
            "\n",
            "              precision    recall  f1-score   support\n",
            "\n",
            " Parasitized       0.98      0.96      0.97      3445\n",
            "  Uninfected       0.97      0.98      0.97      3445\n",
            "\n",
            "    accuracy                           0.97      6890\n",
            "   macro avg       0.97      0.97      0.97      6890\n",
            "weighted avg       0.97      0.97      0.97      6890\n",
            "\n",
            "Recall of the model is 0.98\n",
            "Precision of the model is 0.97\n",
            "F-1 Score of the model is 0.97\n"
          ]
        }
      ],
      "source": [
        "evaluate(model1)"
      ]
    },
    {
      "cell_type": "code",
      "source": [
        "plt.plot(history1.history['acc'])\n",
        "plt.plot(history1.history['val_acc'])\n",
        "plt.title('model accuracy')\n",
        "plt.ylabel('accuracy')\n",
        "plt.xlabel('epoch')\n",
        "plt.legend(['train', 'test'], loc='upper left')\n",
        "plt.show()\n",
        "plt.savefig(\"Accuracy Plot.svg\", format=\"svg\", dpi=1200)"
      ],
      "metadata": {
        "colab": {
          "base_uri": "https://localhost:8080/",
          "height": 312
        },
        "outputId": "2e2d1180-83da-49b5-b11b-faf9893ee531",
        "id": "imQMLM8fcOsY"
      },
      "execution_count": null,
      "outputs": [
        {
          "output_type": "display_data",
          "data": {
            "text/plain": [
              "<Figure size 432x288 with 1 Axes>"
            ],
            "image/png": "[encoded data removed]"
          },
          "metadata": {
            "needs_background": "light"
          }
        },
        {
          "output_type": "display_data",
          "data": {
            "text/plain": [
              "<Figure size 432x288 with 0 Axes>"
            ]
          },
          "metadata": {}
        }
      ]
    },
    {
      "cell_type": "code",
      "source": [
        "plt.plot(history1.history['loss'])\n",
        "plt.plot(history1.history['val_loss'])\n",
        "plt.title('model loss')\n",
        "plt.ylabel('loss')\n",
        "plt.xlabel('epoch')\n",
        "plt.legend(['train', 'test'], loc='upper left')\n",
        "plt.show()\n",
        "plt.savefig(\"Loss Plot.svg\", format=\"svg\", dpi=1200)"
      ],
      "metadata": {
        "colab": {
          "base_uri": "https://localhost:8080/",
          "height": 312
        },
        "outputId": "c613dd14-e0fb-41f5-cd8a-bb1652d62f7e",
        "id": "JTe2znfHcOsa"
      },
      "execution_count": null,
      "outputs": [
        {
          "output_type": "display_data",
          "data": {
            "text/plain": [
              "<Figure size 432x288 with 1 Axes>"
            ],
            "image/png": "[encoded data removed]"
          },
          "metadata": {
            "needs_background": "light"
          }
        },
        {
          "output_type": "display_data",
          "data": {
            "text/plain": [
              "<Figure size 432x288 with 0 Axes>"
            ]
          },
          "metadata": {}
        }
      ]
    },
    {
      "cell_type": "code",
      "execution_count": null,
      "metadata": {
        "colab": {
          "base_uri": "https://localhost:8080/"
        },
        "outputId": "ff563439-caff-4655-de22-07310b9f154a",
        "id": "xoJ9JR-ucOsb"
      },
      "outputs": [
        {
          "output_type": "stream",
          "name": "stdout",
          "text": [
            "Saved model to disk\n"
          ]
        }
      ],
      "source": [
        "model1.save_weights(\"Model1.h5\")\n",
        "print(\"Saved model to disk\")"
      ]
    },
    {
      "cell_type": "code",
      "execution_count": null,
      "metadata": {
        "id": "kdZYtTvRcOsc"
      },
      "outputs": [],
      "source": [
        "# serialize model to JSON\n",
        "model1_json = model1.to_json()\n",
        "with open(\"Model1.json\", \"w\") as json_file: json_file.write(model1_json)"
      ]
    },
    {
      "cell_type": "code",
      "execution_count": null,
      "metadata": {
        "colab": {
          "base_uri": "https://localhost:8080/"
        },
        "outputId": "9627e674-6a92-44c4-d367-5e11541ccd28",
        "id": "lhy2UtOIcOse"
      },
      "outputs": [
        {
          "output_type": "stream",
          "name": "stdout",
          "text": [
            "Saved model to disk\n"
          ]
        }
      ],
      "source": [
        "# serialize weights to HDF5\n",
        "model1.save(\"Model1.h5\")\n",
        "print(\"Saved model to disk\")"
      ]
    },
    {
      "cell_type": "markdown",
      "source": [
        "**Adam Optimizer**"
      ],
      "metadata": {
        "id": "q4DWu5uBgstE"
      }
    },
    {
      "cell_type": "code",
      "source": [
        "import tensorflow as tf\n",
        "from tensorflow.keras.models import Sequential, load_model\n",
        "from tensorflow.keras.optimizers import Adam\n",
        "from tensorflow.keras.layers import Dense, Conv2D, AveragePooling2D, MaxPooling2D, Flatten, BatchNormalization, Dropout\n",
        "model2 = tf.keras.models.Sequential([\n",
        "    tf.keras.layers.Conv2D(16, (3,3), activation='relu', padding='same', input_shape=(64, 64, 3)),\n",
        "    tf.keras.layers.BatchNormalization(),\n",
        "    tf.keras.layers.MaxPooling2D(2, 2),\n",
        "    \n",
        "    tf.keras.layers.Conv2D(32, (3,3), activation='relu', padding='same'),\n",
        "    tf.keras.layers.BatchNormalization(),\n",
        "    tf.keras.layers.MaxPooling2D(2, 2),\n",
        "    \n",
        "    tf.keras.layers.Conv2D(64, (3,3), activation='relu', padding='same'),\n",
        "    tf.keras.layers.BatchNormalization(),\n",
        "    tf.keras.layers.MaxPooling2D(2, 2),\n",
        "    \n",
        "    tf.keras.layers.Conv2D(128, (3,3), activation='relu', padding='same'),\n",
        "    tf.keras.layers.BatchNormalization(),\n",
        "    tf.keras.layers.MaxPooling2D(2, 2), \n",
        "    \n",
        "    tf.keras.layers.Flatten(),\n",
        "    \n",
        "    tf.keras.layers.Dense(512, activation='relu'),\n",
        "    tf.keras.layers.BatchNormalization(),\n",
        "    tf.keras.layers.Dropout(0.1),\n",
        "    \n",
        "    tf.keras.layers.Dense(1, activation='sigmoid')\n",
        "])\n",
        "\n",
        "model2.compile(loss='binary_crossentropy',\n",
        "              optimizer=Adam(lr=0.001),\n",
        "              metrics=['acc'])"
      ],
      "metadata": {
        "colab": {
          "base_uri": "https://localhost:8080/"
        },
        "outputId": "4efd8ea0-9b47-4e22-ff29-2990285ec3a9",
        "id": "ipiLh2Mkgwqb"
      },
      "execution_count": null,
      "outputs": [
        {
          "output_type": "stream",
          "name": "stderr",
          "text": [
            "/usr/local/lib/python3.7/dist-packages/keras/optimizer_v2/adam.py:105: UserWarning: The `lr` argument is deprecated, use `learning_rate` instead.\n",
            "  super(Adam, self).__init__(name, **kwargs)\n"
          ]
        }
      ]
    },
    {
      "cell_type": "code",
      "source": [
        "# Print model summary\n",
        "print(model2.summary())"
      ],
      "metadata": {
        "colab": {
          "base_uri": "https://localhost:8080/"
        },
        "outputId": "08aef835-edff-4f75-f655-5ea35c3813bb",
        "id": "q7ul6PVtgwqd"
      },
      "execution_count": null,
      "outputs": [
        {
          "output_type": "stream",
          "name": "stdout",
          "text": [
            "Model: \"sequential\"\n",
            "_________________________________________________________________\n",
            " Layer (type)                Output Shape              Param #   \n",
            "=================================================================\n",
            " conv2d (Conv2D)             (None, 64, 64, 16)        448       \n",
            "                                                                 \n",
            " batch_normalization (BatchN  (None, 64, 64, 16)       64        \n",
            " ormalization)                                                   \n",
            "                                                                 \n",
            " max_pooling2d (MaxPooling2D  (None, 32, 32, 16)       0         \n",
            " )                                                               \n",
            "                                                                 \n",
            " conv2d_1 (Conv2D)           (None, 32, 32, 32)        4640      \n",
            "                                                                 \n",
            " batch_normalization_1 (Batc  (None, 32, 32, 32)       128       \n",
            " hNormalization)                                                 \n",
            "                                                                 \n",
            " max_pooling2d_1 (MaxPooling  (None, 16, 16, 32)       0         \n",
            " 2D)                                                             \n",
            "                                                                 \n",
            " conv2d_2 (Conv2D)           (None, 16, 16, 64)        18496     \n",
            "                                                                 \n",
            " batch_normalization_2 (Batc  (None, 16, 16, 64)       256       \n",
            " hNormalization)                                                 \n",
            "                                                                 \n",
            " max_pooling2d_2 (MaxPooling  (None, 8, 8, 64)         0         \n",
            " 2D)                                                             \n",
            "                                                                 \n",
            " conv2d_3 (Conv2D)           (None, 8, 8, 128)         73856     \n",
            "                                                                 \n",
            " batch_normalization_3 (Batc  (None, 8, 8, 128)        512       \n",
            " hNormalization)                                                 \n",
            "                                                                 \n",
            " max_pooling2d_3 (MaxPooling  (None, 4, 4, 128)        0         \n",
            " 2D)                                                             \n",
            "                                                                 \n",
            " flatten (Flatten)           (None, 2048)              0         \n",
            "                                                                 \n",
            " dense (Dense)               (None, 512)               1049088   \n",
            "                                                                 \n",
            " batch_normalization_4 (Batc  (None, 512)              2048      \n",
            " hNormalization)                                                 \n",
            "                                                                 \n",
            " dropout (Dropout)           (None, 512)               0         \n",
            "                                                                 \n",
            " dense_1 (Dense)             (None, 1)                 513       \n",
            "                                                                 \n",
            "=================================================================\n",
            "Total params: 1,150,049\n",
            "Trainable params: 1,148,545\n",
            "Non-trainable params: 1,504\n",
            "_________________________________________________________________\n",
            "None\n"
          ]
        }
      ]
    },
    {
      "cell_type": "code",
      "source": [
        "history2 = model2.fit_generator(\n",
        "        train_generator,\n",
        "        epochs=100,\n",
        "        validation_data=test_generator,\n",
        "        )"
      ],
      "metadata": {
        "colab": {
          "base_uri": "https://localhost:8080/"
        },
        "outputId": "ec8997b5-88e7-4d7f-e504-038de86b6358",
        "id": "k-k5sj1agwqe"
      },
      "execution_count": null,
      "outputs": [
        {
          "output_type": "stream",
          "name": "stderr",
          "text": [
            "/usr/local/lib/python3.7/dist-packages/ipykernel_launcher.py:4: UserWarning: `Model.fit_generator` is deprecated and will be removed in a future version. Please use `Model.fit`, which supports generators.\n",
            "  after removing the cwd from sys.path.\n"
          ]
        },
        {
          "output_type": "stream",
          "name": "stdout",
          "text": [
            "Epoch 1/100\n",
            "646/646 [==============================] - 100s 137ms/step - loss: 0.2999 - acc: 0.8760 - val_loss: 0.2047 - val_acc: 0.9248\n",
            "Epoch 2/100\n",
            "646/646 [==============================] - 62s 96ms/step - loss: 0.1615 - acc: 0.9451 - val_loss: 0.1392 - val_acc: 0.9524\n",
            "Epoch 3/100\n",
            "646/646 [==============================] - 64s 99ms/step - loss: 0.1540 - acc: 0.9475 - val_loss: 0.1414 - val_acc: 0.9554\n",
            "Epoch 4/100\n",
            "646/646 [==============================] - 61s 94ms/step - loss: 0.1439 - acc: 0.9522 - val_loss: 0.1282 - val_acc: 0.9572\n",
            "Epoch 5/100\n",
            "646/646 [==============================] - 60s 92ms/step - loss: 0.1416 - acc: 0.9516 - val_loss: 0.1393 - val_acc: 0.9514\n",
            "Epoch 6/100\n",
            "646/646 [==============================] - 62s 95ms/step - loss: 0.1351 - acc: 0.9553 - val_loss: 0.5649 - val_acc: 0.8010\n",
            "Epoch 7/100\n",
            "646/646 [==============================] - 62s 95ms/step - loss: 0.1333 - acc: 0.9536 - val_loss: 0.1449 - val_acc: 0.9524\n",
            "Epoch 8/100\n",
            "646/646 [==============================] - 62s 96ms/step - loss: 0.1290 - acc: 0.9556 - val_loss: 0.1477 - val_acc: 0.9533\n",
            "Epoch 9/100\n",
            "646/646 [==============================] - 62s 95ms/step - loss: 0.1300 - acc: 0.9565 - val_loss: 0.1498 - val_acc: 0.9470\n",
            "Epoch 10/100\n",
            "646/646 [==============================] - 61s 95ms/step - loss: 0.1239 - acc: 0.9580 - val_loss: 0.1428 - val_acc: 0.9550\n",
            "Epoch 11/100\n",
            "646/646 [==============================] - 62s 96ms/step - loss: 0.1219 - acc: 0.9570 - val_loss: 0.1576 - val_acc: 0.9557\n",
            "Epoch 12/100\n",
            "646/646 [==============================] - 62s 96ms/step - loss: 0.1193 - acc: 0.9591 - val_loss: 0.1188 - val_acc: 0.9599\n",
            "Epoch 13/100\n",
            "646/646 [==============================] - 62s 96ms/step - loss: 0.1131 - acc: 0.9608 - val_loss: 0.1275 - val_acc: 0.9595\n",
            "Epoch 14/100\n",
            "646/646 [==============================] - 62s 95ms/step - loss: 0.1176 - acc: 0.9604 - val_loss: 0.1181 - val_acc: 0.9602\n",
            "Epoch 15/100\n",
            "646/646 [==============================] - 61s 94ms/step - loss: 0.1200 - acc: 0.9591 - val_loss: 0.1161 - val_acc: 0.9604\n",
            "Epoch 16/100\n",
            "646/646 [==============================] - 61s 95ms/step - loss: 0.1134 - acc: 0.9626 - val_loss: 0.1357 - val_acc: 0.9554\n",
            "Epoch 17/100\n",
            "646/646 [==============================] - 61s 94ms/step - loss: 0.1119 - acc: 0.9612 - val_loss: 0.2489 - val_acc: 0.9431\n",
            "Epoch 18/100\n",
            "646/646 [==============================] - 61s 95ms/step - loss: 0.1085 - acc: 0.9635 - val_loss: 0.1140 - val_acc: 0.9604\n",
            "Epoch 19/100\n",
            "646/646 [==============================] - 62s 96ms/step - loss: 0.1088 - acc: 0.9633 - val_loss: 0.1309 - val_acc: 0.9567\n",
            "Epoch 20/100\n",
            "646/646 [==============================] - 62s 95ms/step - loss: 0.1077 - acc: 0.9624 - val_loss: 0.1333 - val_acc: 0.9518\n",
            "Epoch 21/100\n",
            "646/646 [==============================] - 61s 95ms/step - loss: 0.1076 - acc: 0.9628 - val_loss: 0.1319 - val_acc: 0.9599\n",
            "Epoch 22/100\n",
            "646/646 [==============================] - 61s 95ms/step - loss: 0.1077 - acc: 0.9638 - val_loss: 0.1069 - val_acc: 0.9604\n",
            "Epoch 23/100\n",
            "646/646 [==============================] - 62s 95ms/step - loss: 0.1055 - acc: 0.9655 - val_loss: 0.1053 - val_acc: 0.9627\n",
            "Epoch 24/100\n",
            "646/646 [==============================] - 62s 95ms/step - loss: 0.1057 - acc: 0.9651 - val_loss: 0.3180 - val_acc: 0.8493\n",
            "Epoch 25/100\n",
            "646/646 [==============================] - 61s 95ms/step - loss: 0.1040 - acc: 0.9634 - val_loss: 0.1404 - val_acc: 0.9575\n",
            "Epoch 26/100\n",
            "646/646 [==============================] - 62s 95ms/step - loss: 0.1039 - acc: 0.9638 - val_loss: 0.1138 - val_acc: 0.9614\n",
            "Epoch 27/100\n",
            "646/646 [==============================] - 62s 96ms/step - loss: 0.1042 - acc: 0.9641 - val_loss: 0.1248 - val_acc: 0.9602\n",
            "Epoch 28/100\n",
            "646/646 [==============================] - 62s 95ms/step - loss: 0.1017 - acc: 0.9655 - val_loss: 0.1237 - val_acc: 0.9592\n",
            "Epoch 29/100\n",
            "646/646 [==============================] - 62s 96ms/step - loss: 0.1024 - acc: 0.9665 - val_loss: 0.1035 - val_acc: 0.9636\n",
            "Epoch 30/100\n",
            "646/646 [==============================] - 62s 95ms/step - loss: 0.1024 - acc: 0.9651 - val_loss: 0.1091 - val_acc: 0.9637\n",
            "Epoch 31/100\n",
            "646/646 [==============================] - 62s 96ms/step - loss: 0.1062 - acc: 0.9642 - val_loss: 0.2815 - val_acc: 0.8743\n",
            "Epoch 32/100\n",
            "646/646 [==============================] - 62s 96ms/step - loss: 0.1060 - acc: 0.9651 - val_loss: 0.1384 - val_acc: 0.9572\n",
            "Epoch 33/100\n",
            "646/646 [==============================] - 62s 95ms/step - loss: 0.1046 - acc: 0.9649 - val_loss: 0.1042 - val_acc: 0.9639\n",
            "Epoch 34/100\n",
            "646/646 [==============================] - 62s 96ms/step - loss: 0.0986 - acc: 0.9664 - val_loss: 0.1143 - val_acc: 0.9628\n",
            "Epoch 35/100\n",
            "646/646 [==============================] - 62s 96ms/step - loss: 0.0984 - acc: 0.9662 - val_loss: 0.1306 - val_acc: 0.9550\n",
            "Epoch 36/100\n",
            "646/646 [==============================] - 62s 96ms/step - loss: 0.1010 - acc: 0.9647 - val_loss: 0.1064 - val_acc: 0.9634\n",
            "Epoch 37/100\n",
            "646/646 [==============================] - 62s 96ms/step - loss: 0.0985 - acc: 0.9662 - val_loss: 0.0989 - val_acc: 0.9643\n",
            "Epoch 38/100\n",
            "646/646 [==============================] - 62s 96ms/step - loss: 0.0961 - acc: 0.9674 - val_loss: 0.1047 - val_acc: 0.9630\n",
            "Epoch 39/100\n",
            "646/646 [==============================] - 62s 96ms/step - loss: 0.0964 - acc: 0.9665 - val_loss: 0.0975 - val_acc: 0.9663\n",
            "Epoch 40/100\n",
            "646/646 [==============================] - 62s 97ms/step - loss: 0.0964 - acc: 0.9676 - val_loss: 0.1084 - val_acc: 0.9639\n",
            "Epoch 41/100\n",
            "646/646 [==============================] - 62s 96ms/step - loss: 0.0928 - acc: 0.9679 - val_loss: 0.1014 - val_acc: 0.9643\n",
            "Epoch 42/100\n",
            "646/646 [==============================] - 62s 97ms/step - loss: 0.0913 - acc: 0.9683 - val_loss: 0.0995 - val_acc: 0.9643\n",
            "Epoch 43/100\n",
            "646/646 [==============================] - 62s 96ms/step - loss: 0.0991 - acc: 0.9667 - val_loss: 0.1005 - val_acc: 0.9678\n",
            "Epoch 44/100\n",
            "646/646 [==============================] - 64s 99ms/step - loss: 0.0906 - acc: 0.9678 - val_loss: 0.1049 - val_acc: 0.9630\n",
            "Epoch 45/100\n",
            "646/646 [==============================] - 62s 95ms/step - loss: 0.0933 - acc: 0.9673 - val_loss: 0.0981 - val_acc: 0.9660\n",
            "Epoch 46/100\n",
            "646/646 [==============================] - 61s 95ms/step - loss: 0.0904 - acc: 0.9696 - val_loss: 0.1123 - val_acc: 0.9615\n",
            "Epoch 47/100\n",
            "646/646 [==============================] - 62s 95ms/step - loss: 0.0938 - acc: 0.9687 - val_loss: 0.1043 - val_acc: 0.9649\n",
            "Epoch 48/100\n",
            "646/646 [==============================] - 62s 96ms/step - loss: 0.0935 - acc: 0.9695 - val_loss: 0.1109 - val_acc: 0.9608\n",
            "Epoch 49/100\n",
            "646/646 [==============================] - 62s 96ms/step - loss: 0.0876 - acc: 0.9691 - val_loss: 0.1147 - val_acc: 0.9578\n",
            "Epoch 50/100\n",
            "646/646 [==============================] - 62s 96ms/step - loss: 0.0905 - acc: 0.9700 - val_loss: 0.1001 - val_acc: 0.9666\n",
            "Epoch 51/100\n",
            "646/646 [==============================] - 62s 96ms/step - loss: 0.0878 - acc: 0.9698 - val_loss: 0.1045 - val_acc: 0.9643\n",
            "Epoch 52/100\n",
            "646/646 [==============================] - 62s 96ms/step - loss: 0.0898 - acc: 0.9698 - val_loss: 0.1087 - val_acc: 0.9611\n",
            "Epoch 53/100\n",
            "646/646 [==============================] - 64s 100ms/step - loss: 0.0901 - acc: 0.9694 - val_loss: 0.0959 - val_acc: 0.9665\n",
            "Epoch 54/100\n",
            "646/646 [==============================] - 62s 96ms/step - loss: 0.0867 - acc: 0.9701 - val_loss: 0.1055 - val_acc: 0.9646\n",
            "Epoch 55/100\n",
            "646/646 [==============================] - 62s 96ms/step - loss: 0.0909 - acc: 0.9689 - val_loss: 0.0980 - val_acc: 0.9671\n",
            "Epoch 56/100\n",
            "646/646 [==============================] - 62s 96ms/step - loss: 0.0913 - acc: 0.9677 - val_loss: 0.1060 - val_acc: 0.9653\n",
            "Epoch 57/100\n",
            "646/646 [==============================] - 62s 96ms/step - loss: 0.0883 - acc: 0.9699 - val_loss: 0.1004 - val_acc: 0.9642\n",
            "Epoch 58/100\n",
            "646/646 [==============================] - 62s 96ms/step - loss: 0.0849 - acc: 0.9715 - val_loss: 0.0955 - val_acc: 0.9668\n",
            "Epoch 59/100\n",
            "646/646 [==============================] - 62s 96ms/step - loss: 0.0827 - acc: 0.9721 - val_loss: 0.0974 - val_acc: 0.9687\n",
            "Epoch 60/100\n",
            "646/646 [==============================] - 62s 96ms/step - loss: 0.0848 - acc: 0.9709 - val_loss: 0.1148 - val_acc: 0.9586\n",
            "Epoch 61/100\n",
            "646/646 [==============================] - 62s 96ms/step - loss: 0.0857 - acc: 0.9706 - val_loss: 0.1030 - val_acc: 0.9642\n",
            "Epoch 62/100\n",
            "646/646 [==============================] - 62s 96ms/step - loss: 0.0878 - acc: 0.9704 - val_loss: 0.0991 - val_acc: 0.9671\n",
            "Epoch 63/100\n",
            "646/646 [==============================] - 62s 96ms/step - loss: 0.0848 - acc: 0.9715 - val_loss: 0.0969 - val_acc: 0.9679\n",
            "Epoch 64/100\n",
            "646/646 [==============================] - 62s 96ms/step - loss: 0.0884 - acc: 0.9708 - val_loss: 0.1008 - val_acc: 0.9665\n",
            "Epoch 65/100\n",
            "646/646 [==============================] - 63s 97ms/step - loss: 0.0858 - acc: 0.9695 - val_loss: 0.1144 - val_acc: 0.9601\n",
            "Epoch 66/100\n",
            "646/646 [==============================] - 63s 97ms/step - loss: 0.0845 - acc: 0.9720 - val_loss: 0.1005 - val_acc: 0.9675\n",
            "Epoch 67/100\n",
            "646/646 [==============================] - 62s 96ms/step - loss: 0.0834 - acc: 0.9723 - val_loss: 0.1030 - val_acc: 0.9650\n",
            "Epoch 68/100\n",
            "646/646 [==============================] - 62s 96ms/step - loss: 0.0826 - acc: 0.9721 - val_loss: 0.0944 - val_acc: 0.9698\n",
            "Epoch 69/100\n",
            "646/646 [==============================] - 62s 96ms/step - loss: 0.0834 - acc: 0.9706 - val_loss: 0.1036 - val_acc: 0.9628\n",
            "Epoch 70/100\n",
            "646/646 [==============================] - 62s 96ms/step - loss: 0.0808 - acc: 0.9718 - val_loss: 0.0934 - val_acc: 0.9676\n",
            "Epoch 71/100\n",
            "646/646 [==============================] - 62s 96ms/step - loss: 0.0826 - acc: 0.9714 - val_loss: 0.0940 - val_acc: 0.9689\n",
            "Epoch 72/100\n",
            "646/646 [==============================] - 62s 96ms/step - loss: 0.0798 - acc: 0.9728 - val_loss: 0.0916 - val_acc: 0.9685\n",
            "Epoch 73/100\n",
            "646/646 [==============================] - 62s 96ms/step - loss: 0.0814 - acc: 0.9714 - val_loss: 0.1014 - val_acc: 0.9659\n",
            "Epoch 74/100\n",
            "646/646 [==============================] - 62s 96ms/step - loss: 0.0822 - acc: 0.9719 - val_loss: 0.1000 - val_acc: 0.9672\n",
            "Epoch 75/100\n",
            "646/646 [==============================] - 62s 96ms/step - loss: 0.0782 - acc: 0.9717 - val_loss: 0.1184 - val_acc: 0.9566\n",
            "Epoch 76/100\n",
            "646/646 [==============================] - 62s 96ms/step - loss: 0.0776 - acc: 0.9720 - val_loss: 0.1031 - val_acc: 0.9657\n",
            "Epoch 77/100\n",
            "646/646 [==============================] - 62s 96ms/step - loss: 0.0797 - acc: 0.9732 - val_loss: 0.1030 - val_acc: 0.9660\n",
            "Epoch 78/100\n",
            "646/646 [==============================] - 62s 96ms/step - loss: 0.0792 - acc: 0.9734 - val_loss: 0.0906 - val_acc: 0.9695\n",
            "Epoch 79/100\n",
            "646/646 [==============================] - 62s 96ms/step - loss: 0.0789 - acc: 0.9716 - val_loss: 0.1014 - val_acc: 0.9656\n",
            "Epoch 80/100\n",
            "646/646 [==============================] - 62s 97ms/step - loss: 0.0807 - acc: 0.9728 - val_loss: 0.1030 - val_acc: 0.9646\n",
            "Epoch 81/100\n",
            "646/646 [==============================] - 62s 96ms/step - loss: 0.0800 - acc: 0.9730 - val_loss: 0.1055 - val_acc: 0.9628\n",
            "Epoch 82/100\n",
            "646/646 [==============================] - 62s 96ms/step - loss: 0.0790 - acc: 0.9729 - val_loss: 0.0984 - val_acc: 0.9662\n",
            "Epoch 83/100\n",
            "646/646 [==============================] - 62s 96ms/step - loss: 0.0772 - acc: 0.9721 - val_loss: 0.1028 - val_acc: 0.9657\n",
            "Epoch 84/100\n",
            "646/646 [==============================] - 62s 96ms/step - loss: 0.0742 - acc: 0.9739 - val_loss: 0.1009 - val_acc: 0.9669\n",
            "Epoch 85/100\n",
            "646/646 [==============================] - 62s 97ms/step - loss: 0.0797 - acc: 0.9726 - val_loss: 0.0920 - val_acc: 0.9695\n",
            "Epoch 86/100\n",
            "646/646 [==============================] - 62s 96ms/step - loss: 0.0791 - acc: 0.9733 - val_loss: 0.0912 - val_acc: 0.9675\n",
            "Epoch 87/100\n",
            "646/646 [==============================] - 62s 96ms/step - loss: 0.0789 - acc: 0.9737 - val_loss: 0.0985 - val_acc: 0.9682\n",
            "Epoch 88/100\n",
            "646/646 [==============================] - 62s 96ms/step - loss: 0.0808 - acc: 0.9727 - val_loss: 0.0960 - val_acc: 0.9688\n",
            "Epoch 89/100\n",
            "646/646 [==============================] - 62s 96ms/step - loss: 0.0799 - acc: 0.9734 - val_loss: 0.0988 - val_acc: 0.9666\n",
            "Epoch 90/100\n",
            "646/646 [==============================] - 62s 96ms/step - loss: 0.0791 - acc: 0.9716 - val_loss: 0.1071 - val_acc: 0.9646\n",
            "Epoch 91/100\n",
            "646/646 [==============================] - 62s 97ms/step - loss: 0.0826 - acc: 0.9719 - val_loss: 0.1013 - val_acc: 0.9671\n",
            "Epoch 92/100\n",
            "646/646 [==============================] - 62s 96ms/step - loss: 0.0790 - acc: 0.9725 - val_loss: 0.0926 - val_acc: 0.9687\n",
            "Epoch 93/100\n",
            "646/646 [==============================] - 62s 96ms/step - loss: 0.0798 - acc: 0.9727 - val_loss: 0.0952 - val_acc: 0.9687\n",
            "Epoch 94/100\n",
            "646/646 [==============================] - 62s 96ms/step - loss: 0.0788 - acc: 0.9727 - val_loss: 0.1119 - val_acc: 0.9662\n",
            "Epoch 95/100\n",
            "646/646 [==============================] - 62s 96ms/step - loss: 0.0799 - acc: 0.9728 - val_loss: 0.0906 - val_acc: 0.9705\n",
            "Epoch 96/100\n",
            "646/646 [==============================] - 62s 96ms/step - loss: 0.0765 - acc: 0.9739 - val_loss: 0.0971 - val_acc: 0.9682\n",
            "Epoch 97/100\n",
            "646/646 [==============================] - 62s 96ms/step - loss: 0.0789 - acc: 0.9731 - val_loss: 0.0937 - val_acc: 0.9698\n",
            "Epoch 98/100\n",
            "646/646 [==============================] - 62s 96ms/step - loss: 0.0759 - acc: 0.9735 - val_loss: 0.0916 - val_acc: 0.9700\n",
            "Epoch 99/100\n",
            "646/646 [==============================] - 62s 96ms/step - loss: 0.0739 - acc: 0.9753 - val_loss: 0.0958 - val_acc: 0.9676\n",
            "Epoch 100/100\n",
            "646/646 [==============================] - 62s 96ms/step - loss: 0.0749 - acc: 0.9739 - val_loss: 0.1026 - val_acc: 0.9666\n"
          ]
        }
      ]
    },
    {
      "cell_type": "code",
      "source": [
        "model2.evaluate_generator(test_generator, verbose=1)"
      ],
      "metadata": {
        "colab": {
          "base_uri": "https://localhost:8080/"
        },
        "outputId": "1ed2e333-dda9-4322-fb6c-afda31f1194e",
        "id": "icmEDsjBgwqf"
      },
      "execution_count": null,
      "outputs": [
        {
          "output_type": "stream",
          "name": "stdout",
          "text": [
            "\r  1/216 [..............................] - ETA: 18s - loss: 0.0818 - acc: 0.9688"
          ]
        },
        {
          "output_type": "stream",
          "name": "stderr",
          "text": [
            "/usr/local/lib/python3.7/dist-packages/ipykernel_launcher.py:1: UserWarning: `Model.evaluate_generator` is deprecated and will be removed in a future version. Please use `Model.evaluate`, which supports generators.\n",
            "  \"\"\"Entry point for launching an IPython kernel.\n"
          ]
        },
        {
          "output_type": "stream",
          "name": "stdout",
          "text": [
            "216/216 [==============================] - 9s 40ms/step - loss: 0.1026 - acc: 0.9666\n"
          ]
        },
        {
          "output_type": "execute_result",
          "data": {
            "text/plain": [
              "[0.10256937891244888, 0.9666182994842529]"
            ]
          },
          "metadata": {},
          "execution_count": 9
        }
      ]
    },
    {
      "cell_type": "code",
      "execution_count": null,
      "metadata": {
        "colab": {
          "base_uri": "https://localhost:8080/"
        },
        "outputId": "a81c466c-c851-473f-99bb-fca10d60d081",
        "id": "sQqK_F8Dgwqg"
      },
      "outputs": [
        {
          "output_type": "stream",
          "name": "stdout",
          "text": [
            "Train Accuracy : \n",
            "646/646 [==============================] - 51s 79ms/step - loss: 0.0781 - acc: 0.9725\n"
          ]
        },
        {
          "output_type": "execute_result",
          "data": {
            "text/plain": [
              "[0.0780971571803093, 0.9724695086479187]"
            ]
          },
          "metadata": {},
          "execution_count": 10
        }
      ],
      "source": [
        "print(\"Train Accuracy : \")\n",
        "model2.evaluate(train_generator)"
      ]
    },
    {
      "cell_type": "code",
      "execution_count": null,
      "metadata": {
        "colab": {
          "base_uri": "https://localhost:8080/"
        },
        "outputId": "bfe04e9e-ec03-4aad-b1a5-43498abeb1ed",
        "id": "jWJBgQskgwqg"
      },
      "outputs": [
        {
          "output_type": "stream",
          "name": "stdout",
          "text": [
            "Test Accuracy : \n",
            "216/216 [==============================] - 9s 39ms/step - loss: 0.1026 - acc: 0.9666\n"
          ]
        },
        {
          "output_type": "execute_result",
          "data": {
            "text/plain": [
              "[0.10256937891244888, 0.9666182994842529]"
            ]
          },
          "metadata": {},
          "execution_count": 11
        }
      ],
      "source": [
        "print(\"Test Accuracy : \")\n",
        "model2.evaluate(test_generator)"
      ]
    },
    {
      "cell_type": "code",
      "execution_count": null,
      "metadata": {
        "id": "cv3tXl7qgwqh"
      },
      "outputs": [],
      "source": [
        "from sklearn.metrics import classification_report, confusion_matrix\n",
        "import seaborn as sns\n",
        "import matplotlib.pyplot as plt\n",
        "\n",
        "def evaluate(model2):\n",
        "  test_generator = test_datagen.flow_from_directory(\n",
        "      TEST_DIR, \n",
        "      target_size=(64,64), \n",
        "      batch_size=32, \n",
        "      class_mode='binary',\n",
        "      shuffle = False)\n",
        "\n",
        "  Y_pred = model2.predict_generator(test_generator)\n",
        "  y_pred = np.round(Y_pred).astype(int)\n",
        "\n",
        "  print('\\nConfusion Matrix\\n')\n",
        "  cm = confusion_matrix(test_generator.classes, y_pred)\n",
        "  plt.figure(figsize=(8, 8))\n",
        "  sns.heatmap(cm, annot=True, fmt='g', vmin=0, cmap='Blues', cbar=False)\n",
        "  plt.xticks(ticks=[0.5, 1.5], labels=['Parasitized','Uninfected'])\n",
        "  plt.yticks(ticks=[0.5, 1.5], labels=['Parasitized','Uninfected'])\n",
        "  plt.xlabel(\"Predicted\")\n",
        "  plt.ylabel(\"Actual\")\n",
        "  plt.title(\"Confusion Matrix\")\n",
        "  plt.show()\n",
        "\n",
        "  print('\\n\\nClassification Report\\n')\n",
        "  target_names = ['Parasitized','Uninfected']\n",
        "  print(classification_report(test_generator.classes, y_pred, target_names=target_names))\n",
        "\n",
        "  tn, fp, fn, tp = cm.ravel()\n",
        "\n",
        "  precision = tp/(tp+fp)\n",
        "  recall = tp/(tp+fn)\n",
        "  f = 2*((precision*recall)/(precision+recall))\n",
        "\n",
        "  print(\"Recall of the model is {:.2f}\".format(recall))\n",
        "  print(\"Precision of the model is {:.2f}\".format(precision))\n",
        "  print(\"F-1 Score of the model is {:.2f}\".format(f)) "
      ]
    },
    {
      "cell_type": "code",
      "execution_count": null,
      "metadata": {
        "colab": {
          "base_uri": "https://localhost:8080/",
          "height": 915
        },
        "outputId": "8fffa82a-125e-4992-80ab-1e50069e1f14",
        "id": "wd5YQ0Ksgwqi"
      },
      "outputs": [
        {
          "output_type": "stream",
          "name": "stdout",
          "text": [
            "Found 6890 images belonging to 2 classes.\n"
          ]
        },
        {
          "output_type": "stream",
          "name": "stderr",
          "text": [
            "/usr/local/lib/python3.7/dist-packages/ipykernel_launcher.py:13: UserWarning: `Model.predict_generator` is deprecated and will be removed in a future version. Please use `Model.predict`, which supports generators.\n",
            "  del sys.path[0]\n"
          ]
        },
        {
          "output_type": "stream",
          "name": "stdout",
          "text": [
            "\n",
            "Confusion Matrix\n",
            "\n"
          ]
        },
        {
          "output_type": "display_data",
          "data": {
            "text/plain": [
              "<Figure size 576x576 with 1 Axes>"
            ],
            "image/png": "[encoded data removed]"
          },
          "metadata": {
            "needs_background": "light"
          }
        },
        {
          "output_type": "stream",
          "name": "stdout",
          "text": [
            "\n",
            "\n",
            "Classification Report\n",
            "\n",
            "              precision    recall  f1-score   support\n",
            "\n",
            " Parasitized       0.98      0.96      0.97      3445\n",
            "  Uninfected       0.96      0.98      0.97      3445\n",
            "\n",
            "    accuracy                           0.97      6890\n",
            "   macro avg       0.97      0.97      0.97      6890\n",
            "weighted avg       0.97      0.97      0.97      6890\n",
            "\n",
            "Recall of the model is 0.98\n",
            "Precision of the model is 0.96\n",
            "F-1 Score of the model is 0.97\n"
          ]
        }
      ],
      "source": [
        "evaluate(model2)"
      ]
    },
    {
      "cell_type": "code",
      "source": [
        "plt.plot(history2.history['acc'])\n",
        "plt.plot(history2.history['val_acc'])\n",
        "plt.title('model accuracy')\n",
        "plt.ylabel('accuracy')\n",
        "plt.xlabel('epoch')\n",
        "plt.legend(['train', 'test'], loc='upper left')\n",
        "plt.show()\n",
        "plt.savefig(\"Accuracy Plot.svg\", format=\"svg\", dpi=1200)"
      ],
      "metadata": {
        "colab": {
          "base_uri": "https://localhost:8080/",
          "height": 312
        },
        "outputId": "344bbb4f-49c6-4e86-c5ee-006d378ab2cf",
        "id": "XmXabgxEgwqj"
      },
      "execution_count": null,
      "outputs": [
        {
          "output_type": "display_data",
          "data": {
            "text/plain": [
              "<Figure size 432x288 with 1 Axes>"
            ],
            "image/png": "[encoded data removed]"
          },
          "metadata": {
            "needs_background": "light"
          }
        },
        {
          "output_type": "display_data",
          "data": {
            "text/plain": [
              "<Figure size 432x288 with 0 Axes>"
            ]
          },
          "metadata": {}
        }
      ]
    },
    {
      "cell_type": "code",
      "source": [
        "plt.plot(history2.history['loss'])\n",
        "plt.plot(history2.history['val_loss'])\n",
        "plt.title('model loss')\n",
        "plt.ylabel('loss')\n",
        "plt.xlabel('epoch')\n",
        "plt.legend(['train', 'test'], loc='upper left')\n",
        "plt.show()\n",
        "plt.savefig(\"Loss Plot.svg\", format=\"svg\", dpi=1200)"
      ],
      "metadata": {
        "colab": {
          "base_uri": "https://localhost:8080/",
          "height": 312
        },
        "outputId": "73ac42dc-c9a4-4d28-94c8-558da03af382",
        "id": "2_PyPZKYgwqj"
      },
      "execution_count": null,
      "outputs": [
        {
          "output_type": "display_data",
          "data": {
            "text/plain": [
              "<Figure size 432x288 with 1 Axes>"
            ],
            "image/png": "[encoded data removed]"
          },
          "metadata": {
            "needs_background": "light"
          }
        },
        {
          "output_type": "display_data",
          "data": {
            "text/plain": [
              "<Figure size 432x288 with 0 Axes>"
            ]
          },
          "metadata": {}
        }
      ]
    },
    {
      "cell_type": "code",
      "execution_count": null,
      "metadata": {
        "colab": {
          "base_uri": "https://localhost:8080/"
        },
        "outputId": "cbe8db6a-c7ce-4590-a206-90e0f6a74c0a",
        "id": "LSvvcsFEgwqk"
      },
      "outputs": [
        {
          "output_type": "stream",
          "name": "stdout",
          "text": [
            "Saved model to disk\n"
          ]
        }
      ],
      "source": [
        "model2.save_weights(\"Model2.h5\")\n",
        "print(\"Saved model to disk\")"
      ]
    },
    {
      "cell_type": "code",
      "execution_count": null,
      "metadata": {
        "id": "L8nke_6kgwql"
      },
      "outputs": [],
      "source": [
        "# serialize model to JSON\n",
        "model2_json = model2.to_json()\n",
        "with open(\"Model2.json\", \"w\") as json_file: json_file.write(model2_json)"
      ]
    },
    {
      "cell_type": "code",
      "execution_count": null,
      "metadata": {
        "colab": {
          "base_uri": "https://localhost:8080/"
        },
        "outputId": "1dc972de-dd36-401e-8f49-d2f0285a716e",
        "id": "Zb7poJHwgwql"
      },
      "outputs": [
        {
          "output_type": "stream",
          "name": "stdout",
          "text": [
            "Saved model to disk\n"
          ]
        }
      ],
      "source": [
        "# serialize weights to HDF5\n",
        "model2.save(\"Model2.h5\")\n",
        "print(\"Saved model to disk\")"
      ]
    },
    {
      "cell_type": "markdown",
      "source": [
        "**PRE TRAINED MODEL VGG**"
      ],
      "metadata": {
        "id": "-3xR1Lc3rC_W"
      }
    },
    {
      "cell_type": "code",
      "execution_count": null,
      "metadata": {
        "id": "sLgXRkCpUv7n"
      },
      "outputs": [],
      "source": [
        "from keras.applications.vgg16 import VGG16\n",
        "from tensorflow.keras.applications import EfficientNetB5\n",
        "from keras.applications.inception_v3 import InceptionV3\n",
        "from tensorflow.keras.applications import DenseNet169\n",
        "from tensorflow.keras.applications.resnet50 import ResNet50\n",
        "from keras.applications.vgg19 import VGG19\n",
        "from keras.models import Model\n",
        "from keras.preprocessing import image\n",
        "from tensorflow.keras.layers import Input, Lambda ,Dense ,Flatten ,Dropout, BatchNormalization\n",
        "import numpy as np\n",
        "import tensorflow as tf\n",
        "import matplotlib.pyplot as plt\n",
        "%matplotlib inline\n",
        "import os\n",
        "import cv2"
      ]
    },
    {
      "cell_type": "code",
      "execution_count": null,
      "metadata": {
        "colab": {
          "base_uri": "https://localhost:8080/"
        },
        "id": "Wgy7T4XkT5uh",
        "outputId": "d5b977a0-726e-47b5-a5e8-7e1893fb248c"
      },
      "outputs": [
        {
          "output_type": "stream",
          "name": "stdout",
          "text": [
            "Downloading data from https://storage.googleapis.com/tensorflow/keras-applications/vgg19/vgg19_weights_tf_dim_ordering_tf_kernels_notop.h5\n",
            "80142336/80134624 [==============================] - 1s 0us/step\n",
            "80150528/80134624 [==============================] - 1s 0us/step\n"
          ]
        }
      ],
      "source": [
        "classifier_vgg19 = VGG19(input_shape= (64,64,3),include_top=False,weights='imagenet')"
      ]
    },
    {
      "cell_type": "code",
      "execution_count": null,
      "metadata": {
        "id": "4lWCAG7EUBl1"
      },
      "outputs": [],
      "source": [
        "for layer in classifier_vgg19.layers:\n",
        "    layer.trainable = False"
      ]
    },
    {
      "cell_type": "code",
      "execution_count": null,
      "metadata": {
        "id": "cnI7YHShUBsE"
      },
      "outputs": [],
      "source": [
        "classifier1 = classifier_vgg19.output#head mode\n",
        "classifier1 = Flatten()(classifier1)#adding layer of flatten\n",
        "classifier1 = Dense(units=512, activation='relu')(classifier1)\n",
        "classifier1 = Dropout(0.2)(classifier1)\n",
        "classifier1 = BatchNormalization()(classifier1)\n",
        "classifier1 = Dense(units=1, activation='sigmoid')(classifier1)\n",
        "\n",
        "model = Model(inputs = classifier_vgg19.input , outputs = classifier1)\n",
        "model.compile(optimizer=tf.keras.optimizers.RMSprop(learning_rate=0.001), loss='binary_crossentropy', metrics=['accuracy'])"
      ]
    },
    {
      "cell_type": "code",
      "execution_count": null,
      "metadata": {
        "colab": {
          "base_uri": "https://localhost:8080/"
        },
        "id": "KF27dFwtUqXt",
        "outputId": "7267a02f-e538-4516-f88d-06885ae95e28"
      },
      "outputs": [
        {
          "output_type": "stream",
          "name": "stdout",
          "text": [
            "Model: \"model\"\n",
            "_________________________________________________________________\n",
            " Layer (type)                Output Shape              Param #   \n",
            "=================================================================\n",
            " input_1 (InputLayer)        [(None, 64, 64, 3)]       0         \n",
            "                                                                 \n",
            " block1_conv1 (Conv2D)       (None, 64, 64, 64)        1792      \n",
            "                                                                 \n",
            " block1_conv2 (Conv2D)       (None, 64, 64, 64)        36928     \n",
            "                                                                 \n",
            " block1_pool (MaxPooling2D)  (None, 32, 32, 64)        0         \n",
            "                                                                 \n",
            " block2_conv1 (Conv2D)       (None, 32, 32, 128)       73856     \n",
            "                                                                 \n",
            " block2_conv2 (Conv2D)       (None, 32, 32, 128)       147584    \n",
            "                                                                 \n",
            " block2_pool (MaxPooling2D)  (None, 16, 16, 128)       0         \n",
            "                                                                 \n",
            " block3_conv1 (Conv2D)       (None, 16, 16, 256)       295168    \n",
            "                                                                 \n",
            " block3_conv2 (Conv2D)       (None, 16, 16, 256)       590080    \n",
            "                                                                 \n",
            " block3_conv3 (Conv2D)       (None, 16, 16, 256)       590080    \n",
            "                                                                 \n",
            " block3_conv4 (Conv2D)       (None, 16, 16, 256)       590080    \n",
            "                                                                 \n",
            " block3_pool (MaxPooling2D)  (None, 8, 8, 256)         0         \n",
            "                                                                 \n",
            " block4_conv1 (Conv2D)       (None, 8, 8, 512)         1180160   \n",
            "                                                                 \n",
            " block4_conv2 (Conv2D)       (None, 8, 8, 512)         2359808   \n",
            "                                                                 \n",
            " block4_conv3 (Conv2D)       (None, 8, 8, 512)         2359808   \n",
            "                                                                 \n",
            " block4_conv4 (Conv2D)       (None, 8, 8, 512)         2359808   \n",
            "                                                                 \n",
            " block4_pool (MaxPooling2D)  (None, 4, 4, 512)         0         \n",
            "                                                                 \n",
            " block5_conv1 (Conv2D)       (None, 4, 4, 512)         2359808   \n",
            "                                                                 \n",
            " block5_conv2 (Conv2D)       (None, 4, 4, 512)         2359808   \n",
            "                                                                 \n",
            " block5_conv3 (Conv2D)       (None, 4, 4, 512)         2359808   \n",
            "                                                                 \n",
            " block5_conv4 (Conv2D)       (None, 4, 4, 512)         2359808   \n",
            "                                                                 \n",
            " block5_pool (MaxPooling2D)  (None, 2, 2, 512)         0         \n",
            "                                                                 \n",
            " flatten (Flatten)           (None, 2048)              0         \n",
            "                                                                 \n",
            " dense (Dense)               (None, 512)               1049088   \n",
            "                                                                 \n",
            " dropout (Dropout)           (None, 512)               0         \n",
            "                                                                 \n",
            " batch_normalization (BatchN  (None, 512)              2048      \n",
            " ormalization)                                                   \n",
            "                                                                 \n",
            " dense_1 (Dense)             (None, 1)                 513       \n",
            "                                                                 \n",
            "=================================================================\n",
            "Total params: 21,076,033\n",
            "Trainable params: 1,050,625\n",
            "Non-trainable params: 20,025,408\n",
            "_________________________________________________________________\n"
          ]
        }
      ],
      "source": [
        "model.summary()"
      ]
    },
    {
      "cell_type": "code",
      "source": [
        "history1 = model.fit_generator(\n",
        "        train_generator,\n",
        "        epochs=100,\n",
        "        validation_data=test_generator,\n",
        "        )"
      ],
      "metadata": {
        "colab": {
          "base_uri": "https://localhost:8080/"
        },
        "id": "W7H3d_dwmfqN",
        "outputId": "d41f51b3-9bd4-4ac9-da65-455f0d067831"
      },
      "execution_count": null,
      "outputs": [
        {
          "output_type": "stream",
          "name": "stderr",
          "text": [
            "/usr/local/lib/python3.7/dist-packages/ipykernel_launcher.py:4: UserWarning: `Model.fit_generator` is deprecated and will be removed in a future version. Please use `Model.fit`, which supports generators.\n",
            "  after removing the cwd from sys.path.\n"
          ]
        },
        {
          "output_type": "stream",
          "name": "stdout",
          "text": [
            "Epoch 1/100\n",
            "646/646 [==============================] - 69s 89ms/step - loss: 0.2806 - accuracy: 0.8866 - val_loss: 0.3078 - val_accuracy: 0.8749\n",
            "Epoch 2/100\n",
            "646/646 [==============================] - 55s 85ms/step - loss: 0.2301 - accuracy: 0.9106 - val_loss: 0.2447 - val_accuracy: 0.8977\n",
            "Epoch 3/100\n",
            "646/646 [==============================] - 54s 84ms/step - loss: 0.2195 - accuracy: 0.9160 - val_loss: 0.2019 - val_accuracy: 0.9287\n",
            "Epoch 4/100\n",
            "646/646 [==============================] - 54s 84ms/step - loss: 0.2129 - accuracy: 0.9192 - val_loss: 0.2613 - val_accuracy: 0.8958\n",
            "Epoch 5/100\n",
            "646/646 [==============================] - 54s 84ms/step - loss: 0.2157 - accuracy: 0.9171 - val_loss: 0.2118 - val_accuracy: 0.9269\n",
            "Epoch 6/100\n",
            "646/646 [==============================] - 54s 84ms/step - loss: 0.2170 - accuracy: 0.9179 - val_loss: 0.2204 - val_accuracy: 0.9144\n",
            "Epoch 7/100\n",
            "646/646 [==============================] - 55s 84ms/step - loss: 0.2127 - accuracy: 0.9208 - val_loss: 0.1978 - val_accuracy: 0.9299\n",
            "Epoch 8/100\n",
            "646/646 [==============================] - 54s 84ms/step - loss: 0.2135 - accuracy: 0.9212 - val_loss: 0.1989 - val_accuracy: 0.9295\n",
            "Epoch 9/100\n",
            "646/646 [==============================] - 54s 84ms/step - loss: 0.2100 - accuracy: 0.9232 - val_loss: 0.2095 - val_accuracy: 0.9186\n",
            "Epoch 10/100\n",
            "646/646 [==============================] - 54s 84ms/step - loss: 0.2070 - accuracy: 0.9244 - val_loss: 0.1960 - val_accuracy: 0.9279\n",
            "Epoch 11/100\n",
            "646/646 [==============================] - 54s 84ms/step - loss: 0.2064 - accuracy: 0.9240 - val_loss: 0.2214 - val_accuracy: 0.9122\n",
            "Epoch 12/100\n",
            "646/646 [==============================] - 54s 84ms/step - loss: 0.2083 - accuracy: 0.9242 - val_loss: 0.2274 - val_accuracy: 0.9197\n",
            "Epoch 13/100\n",
            "646/646 [==============================] - 55s 85ms/step - loss: 0.2098 - accuracy: 0.9219 - val_loss: 0.2106 - val_accuracy: 0.9205\n",
            "Epoch 14/100\n",
            "646/646 [==============================] - 54s 84ms/step - loss: 0.2010 - accuracy: 0.9250 - val_loss: 0.2766 - val_accuracy: 0.8972\n",
            "Epoch 15/100\n",
            "646/646 [==============================] - 54s 84ms/step - loss: 0.2024 - accuracy: 0.9240 - val_loss: 0.2001 - val_accuracy: 0.9295\n",
            "Epoch 16/100\n",
            "646/646 [==============================] - 54s 84ms/step - loss: 0.2036 - accuracy: 0.9237 - val_loss: 0.2149 - val_accuracy: 0.9247\n",
            "Epoch 17/100\n",
            "646/646 [==============================] - 54s 84ms/step - loss: 0.2042 - accuracy: 0.9252 - val_loss: 0.1998 - val_accuracy: 0.9309\n",
            "Epoch 18/100\n",
            "646/646 [==============================] - 55s 85ms/step - loss: 0.2002 - accuracy: 0.9281 - val_loss: 0.1977 - val_accuracy: 0.9328\n",
            "Epoch 19/100\n",
            "646/646 [==============================] - 55s 84ms/step - loss: 0.2066 - accuracy: 0.9256 - val_loss: 0.2008 - val_accuracy: 0.9237\n",
            "Epoch 20/100\n",
            "646/646 [==============================] - 55s 84ms/step - loss: 0.2057 - accuracy: 0.9256 - val_loss: 0.2008 - val_accuracy: 0.9269\n",
            "Epoch 21/100\n",
            "646/646 [==============================] - 54s 84ms/step - loss: 0.2019 - accuracy: 0.9273 - val_loss: 0.2045 - val_accuracy: 0.9209\n",
            "Epoch 22/100\n",
            "646/646 [==============================] - 55s 84ms/step - loss: 0.2033 - accuracy: 0.9267 - val_loss: 0.2111 - val_accuracy: 0.9226\n",
            "Epoch 23/100\n",
            "646/646 [==============================] - 55s 85ms/step - loss: 0.1994 - accuracy: 0.9289 - val_loss: 0.1983 - val_accuracy: 0.9337\n",
            "Epoch 24/100\n",
            "646/646 [==============================] - 55s 85ms/step - loss: 0.2017 - accuracy: 0.9265 - val_loss: 0.1945 - val_accuracy: 0.9276\n",
            "Epoch 25/100\n",
            "646/646 [==============================] - 55s 85ms/step - loss: 0.1960 - accuracy: 0.9280 - val_loss: 0.2048 - val_accuracy: 0.9283\n",
            "Epoch 26/100\n",
            "646/646 [==============================] - 55s 85ms/step - loss: 0.1966 - accuracy: 0.9288 - val_loss: 0.1968 - val_accuracy: 0.9321\n",
            "Epoch 27/100\n",
            "646/646 [==============================] - 55s 85ms/step - loss: 0.1956 - accuracy: 0.9301 - val_loss: 0.2921 - val_accuracy: 0.8913\n",
            "Epoch 28/100\n",
            "646/646 [==============================] - 55s 85ms/step - loss: 0.1994 - accuracy: 0.9289 - val_loss: 0.2041 - val_accuracy: 0.9250\n",
            "Epoch 29/100\n",
            "646/646 [==============================] - 55s 84ms/step - loss: 0.1946 - accuracy: 0.9302 - val_loss: 0.1974 - val_accuracy: 0.9315\n",
            "Epoch 30/100\n",
            "646/646 [==============================] - 54s 84ms/step - loss: 0.1941 - accuracy: 0.9293 - val_loss: 0.2079 - val_accuracy: 0.9287\n",
            "Epoch 31/100\n",
            "646/646 [==============================] - 55s 85ms/step - loss: 0.1927 - accuracy: 0.9304 - val_loss: 0.1989 - val_accuracy: 0.9319\n",
            "Epoch 32/100\n",
            "646/646 [==============================] - 55s 85ms/step - loss: 0.1910 - accuracy: 0.9310 - val_loss: 0.2098 - val_accuracy: 0.9222\n",
            "Epoch 33/100\n",
            "646/646 [==============================] - 55s 85ms/step - loss: 0.1870 - accuracy: 0.9316 - val_loss: 0.2148 - val_accuracy: 0.9271\n",
            "Epoch 34/100\n",
            "646/646 [==============================] - 55s 85ms/step - loss: 0.1944 - accuracy: 0.9292 - val_loss: 0.2078 - val_accuracy: 0.9254\n",
            "Epoch 35/100\n",
            "646/646 [==============================] - 55s 85ms/step - loss: 0.1910 - accuracy: 0.9341 - val_loss: 0.2520 - val_accuracy: 0.9089\n",
            "Epoch 36/100\n",
            "646/646 [==============================] - 55s 85ms/step - loss: 0.1950 - accuracy: 0.9295 - val_loss: 0.1973 - val_accuracy: 0.9306\n",
            "Epoch 37/100\n",
            "646/646 [==============================] - 55s 85ms/step - loss: 0.1929 - accuracy: 0.9308 - val_loss: 0.2060 - val_accuracy: 0.9303\n",
            "Epoch 38/100\n",
            "646/646 [==============================] - 55s 85ms/step - loss: 0.1910 - accuracy: 0.9329 - val_loss: 0.2057 - val_accuracy: 0.9253\n",
            "Epoch 39/100\n",
            "646/646 [==============================] - 55s 85ms/step - loss: 0.1869 - accuracy: 0.9319 - val_loss: 0.2024 - val_accuracy: 0.9295\n",
            "Epoch 40/100\n",
            "646/646 [==============================] - 55s 84ms/step - loss: 0.1867 - accuracy: 0.9330 - val_loss: 0.1981 - val_accuracy: 0.9293\n",
            "Epoch 41/100\n",
            "646/646 [==============================] - 55s 84ms/step - loss: 0.1892 - accuracy: 0.9333 - val_loss: 0.2033 - val_accuracy: 0.9261\n",
            "Epoch 42/100\n",
            "646/646 [==============================] - 55s 85ms/step - loss: 0.1856 - accuracy: 0.9344 - val_loss: 0.2090 - val_accuracy: 0.9250\n",
            "Epoch 43/100\n",
            "646/646 [==============================] - 55s 85ms/step - loss: 0.1911 - accuracy: 0.9320 - val_loss: 0.1979 - val_accuracy: 0.9298\n",
            "Epoch 44/100\n",
            "646/646 [==============================] - 55s 85ms/step - loss: 0.1895 - accuracy: 0.9328 - val_loss: 0.2494 - val_accuracy: 0.9060\n",
            "Epoch 45/100\n",
            "646/646 [==============================] - 55s 85ms/step - loss: 0.1867 - accuracy: 0.9328 - val_loss: 0.1971 - val_accuracy: 0.9289\n",
            "Epoch 46/100\n",
            "646/646 [==============================] - 55s 86ms/step - loss: 0.1850 - accuracy: 0.9322 - val_loss: 0.1962 - val_accuracy: 0.9298\n",
            "Epoch 47/100\n",
            "646/646 [==============================] - 55s 85ms/step - loss: 0.1941 - accuracy: 0.9290 - val_loss: 0.2190 - val_accuracy: 0.9280\n",
            "Epoch 48/100\n",
            "646/646 [==============================] - 55s 85ms/step - loss: 0.1855 - accuracy: 0.9346 - val_loss: 0.1992 - val_accuracy: 0.9303\n",
            "Epoch 49/100\n",
            "646/646 [==============================] - 55s 85ms/step - loss: 0.1881 - accuracy: 0.9333 - val_loss: 0.2074 - val_accuracy: 0.9289\n",
            "Epoch 50/100\n",
            "646/646 [==============================] - 55s 85ms/step - loss: 0.1850 - accuracy: 0.9347 - val_loss: 0.2193 - val_accuracy: 0.9155\n",
            "Epoch 51/100\n",
            "646/646 [==============================] - 55s 85ms/step - loss: 0.1869 - accuracy: 0.9357 - val_loss: 0.2030 - val_accuracy: 0.9331\n",
            "Epoch 52/100\n",
            "646/646 [==============================] - 55s 85ms/step - loss: 0.1882 - accuracy: 0.9345 - val_loss: 0.2052 - val_accuracy: 0.9302\n",
            "Epoch 53/100\n",
            "646/646 [==============================] - 55s 85ms/step - loss: 0.1895 - accuracy: 0.9326 - val_loss: 0.2490 - val_accuracy: 0.9089\n",
            "Epoch 54/100\n",
            "646/646 [==============================] - 55s 85ms/step - loss: 0.1946 - accuracy: 0.9304 - val_loss: 0.2567 - val_accuracy: 0.9106\n",
            "Epoch 55/100\n",
            "646/646 [==============================] - 55s 85ms/step - loss: 0.1954 - accuracy: 0.9296 - val_loss: 0.2736 - val_accuracy: 0.9062\n",
            "Epoch 56/100\n",
            "646/646 [==============================] - 55s 85ms/step - loss: 0.1961 - accuracy: 0.9311 - val_loss: 0.2034 - val_accuracy: 0.9290\n",
            "Epoch 57/100\n",
            "646/646 [==============================] - 55s 85ms/step - loss: 0.1953 - accuracy: 0.9314 - val_loss: 0.2514 - val_accuracy: 0.9212\n",
            "Epoch 58/100\n",
            "646/646 [==============================] - 55s 85ms/step - loss: 0.1975 - accuracy: 0.9318 - val_loss: 0.2305 - val_accuracy: 0.9139\n",
            "Epoch 59/100\n",
            "646/646 [==============================] - 55s 85ms/step - loss: 0.1942 - accuracy: 0.9321 - val_loss: 0.2049 - val_accuracy: 0.9309\n",
            "Epoch 60/100\n",
            "646/646 [==============================] - 55s 85ms/step - loss: 0.1963 - accuracy: 0.9307 - val_loss: 0.2086 - val_accuracy: 0.9295\n",
            "Epoch 61/100\n",
            "646/646 [==============================] - 55s 85ms/step - loss: 0.1942 - accuracy: 0.9327 - val_loss: 0.2150 - val_accuracy: 0.9225\n",
            "Epoch 62/100\n",
            "646/646 [==============================] - 55s 85ms/step - loss: 0.1910 - accuracy: 0.9322 - val_loss: 0.2020 - val_accuracy: 0.9298\n",
            "Epoch 63/100\n",
            "646/646 [==============================] - 55s 85ms/step - loss: 0.1940 - accuracy: 0.9319 - val_loss: 0.2181 - val_accuracy: 0.9221\n",
            "Epoch 64/100\n",
            "646/646 [==============================] - 55s 85ms/step - loss: 0.1922 - accuracy: 0.9345 - val_loss: 0.2206 - val_accuracy: 0.9273\n",
            "Epoch 65/100\n",
            "646/646 [==============================] - 55s 85ms/step - loss: 0.1951 - accuracy: 0.9325 - val_loss: 0.2057 - val_accuracy: 0.9280\n",
            "Epoch 66/100\n",
            "646/646 [==============================] - 55s 85ms/step - loss: 0.1900 - accuracy: 0.9337 - val_loss: 0.2023 - val_accuracy: 0.9302\n",
            "Epoch 67/100\n",
            "646/646 [==============================] - 55s 85ms/step - loss: 0.1921 - accuracy: 0.9338 - val_loss: 0.2242 - val_accuracy: 0.9261\n",
            "Epoch 68/100\n",
            "646/646 [==============================] - 55s 85ms/step - loss: 0.1973 - accuracy: 0.9305 - val_loss: 0.2265 - val_accuracy: 0.9261\n",
            "Epoch 69/100\n",
            "646/646 [==============================] - 55s 85ms/step - loss: 0.1897 - accuracy: 0.9337 - val_loss: 0.2072 - val_accuracy: 0.9298\n",
            "Epoch 70/100\n",
            "646/646 [==============================] - 55s 85ms/step - loss: 0.1920 - accuracy: 0.9338 - val_loss: 0.2136 - val_accuracy: 0.9232\n",
            "Epoch 71/100\n",
            "646/646 [==============================] - 55s 85ms/step - loss: 0.1869 - accuracy: 0.9340 - val_loss: 0.2157 - val_accuracy: 0.9248\n",
            "Epoch 72/100\n",
            "646/646 [==============================] - 55s 85ms/step - loss: 0.1953 - accuracy: 0.9325 - val_loss: 0.2087 - val_accuracy: 0.9311\n",
            "Epoch 73/100\n",
            "646/646 [==============================] - 55s 85ms/step - loss: 0.1926 - accuracy: 0.9353 - val_loss: 0.2130 - val_accuracy: 0.9303\n",
            "Epoch 74/100\n",
            "646/646 [==============================] - 55s 85ms/step - loss: 0.1926 - accuracy: 0.9323 - val_loss: 0.2140 - val_accuracy: 0.9312\n",
            "Epoch 75/100\n",
            "646/646 [==============================] - 55s 85ms/step - loss: 0.1898 - accuracy: 0.9341 - val_loss: 0.2093 - val_accuracy: 0.9250\n",
            "Epoch 76/100\n",
            "646/646 [==============================] - 55s 85ms/step - loss: 0.1932 - accuracy: 0.9326 - val_loss: 0.2173 - val_accuracy: 0.9308\n",
            "Epoch 77/100\n",
            "646/646 [==============================] - 55s 85ms/step - loss: 0.1864 - accuracy: 0.9355 - val_loss: 0.2066 - val_accuracy: 0.9277\n",
            "Epoch 78/100\n",
            "646/646 [==============================] - 55s 85ms/step - loss: 0.1916 - accuracy: 0.9317 - val_loss: 0.2148 - val_accuracy: 0.9253\n",
            "Epoch 79/100\n",
            "646/646 [==============================] - 55s 84ms/step - loss: 0.1909 - accuracy: 0.9336 - val_loss: 0.2128 - val_accuracy: 0.9264\n",
            "Epoch 80/100\n",
            "646/646 [==============================] - 55s 85ms/step - loss: 0.1864 - accuracy: 0.9359 - val_loss: 0.2074 - val_accuracy: 0.9282\n",
            "Epoch 81/100\n",
            "646/646 [==============================] - 55s 84ms/step - loss: 0.1864 - accuracy: 0.9357 - val_loss: 0.2116 - val_accuracy: 0.9299\n",
            "Epoch 82/100\n",
            "646/646 [==============================] - 55s 85ms/step - loss: 0.1869 - accuracy: 0.9362 - val_loss: 0.2228 - val_accuracy: 0.9215\n",
            "Epoch 83/100\n",
            "646/646 [==============================] - 55s 85ms/step - loss: 0.1868 - accuracy: 0.9354 - val_loss: 0.2117 - val_accuracy: 0.9302\n",
            "Epoch 84/100\n",
            "646/646 [==============================] - 55s 85ms/step - loss: 0.1908 - accuracy: 0.9342 - val_loss: 0.2176 - val_accuracy: 0.9273\n",
            "Epoch 85/100\n",
            "646/646 [==============================] - 55s 84ms/step - loss: 0.1845 - accuracy: 0.9366 - val_loss: 0.2134 - val_accuracy: 0.9293\n",
            "Epoch 86/100\n",
            "646/646 [==============================] - 55s 85ms/step - loss: 0.1799 - accuracy: 0.9373 - val_loss: 0.2191 - val_accuracy: 0.9257\n",
            "Epoch 87/100\n",
            "646/646 [==============================] - 55s 85ms/step - loss: 0.1867 - accuracy: 0.9356 - val_loss: 0.2129 - val_accuracy: 0.9280\n",
            "Epoch 88/100\n",
            "646/646 [==============================] - 55s 85ms/step - loss: 0.1848 - accuracy: 0.9367 - val_loss: 0.2111 - val_accuracy: 0.9280\n",
            "Epoch 89/100\n",
            "646/646 [==============================] - 55s 84ms/step - loss: 0.1889 - accuracy: 0.9344 - val_loss: 0.2074 - val_accuracy: 0.9292\n",
            "Epoch 90/100\n",
            "646/646 [==============================] - 55s 84ms/step - loss: 0.1888 - accuracy: 0.9337 - val_loss: 0.2421 - val_accuracy: 0.9237\n",
            "Epoch 91/100\n",
            "646/646 [==============================] - 56s 86ms/step - loss: 0.1826 - accuracy: 0.9382 - val_loss: 0.2167 - val_accuracy: 0.9299\n",
            "Epoch 92/100\n",
            "646/646 [==============================] - 55s 85ms/step - loss: 0.1782 - accuracy: 0.9393 - val_loss: 0.2198 - val_accuracy: 0.9308\n",
            "Epoch 93/100\n",
            "646/646 [==============================] - 55s 85ms/step - loss: 0.1890 - accuracy: 0.9338 - val_loss: 0.2138 - val_accuracy: 0.9248\n",
            "Epoch 94/100\n",
            "646/646 [==============================] - 55s 86ms/step - loss: 0.1857 - accuracy: 0.9365 - val_loss: 0.2195 - val_accuracy: 0.9289\n",
            "Epoch 95/100\n",
            "646/646 [==============================] - 55s 85ms/step - loss: 0.1856 - accuracy: 0.9371 - val_loss: 0.3023 - val_accuracy: 0.9046\n",
            "Epoch 96/100\n",
            "646/646 [==============================] - 55s 85ms/step - loss: 0.1838 - accuracy: 0.9366 - val_loss: 0.2253 - val_accuracy: 0.9267\n",
            "Epoch 97/100\n",
            "646/646 [==============================] - 55s 86ms/step - loss: 0.1834 - accuracy: 0.9393 - val_loss: 0.2604 - val_accuracy: 0.9094\n",
            "Epoch 98/100\n",
            "646/646 [==============================] - 55s 86ms/step - loss: 0.1869 - accuracy: 0.9353 - val_loss: 0.2180 - val_accuracy: 0.9289\n",
            "Epoch 99/100\n",
            "646/646 [==============================] - 55s 86ms/step - loss: 0.1852 - accuracy: 0.9353 - val_loss: 0.2095 - val_accuracy: 0.9298\n",
            "Epoch 100/100\n",
            "646/646 [==============================] - 55s 85ms/step - loss: 0.1846 - accuracy: 0.9375 - val_loss: 0.2108 - val_accuracy: 0.9303\n"
          ]
        }
      ]
    },
    {
      "cell_type": "code",
      "source": [
        "model.evaluate_generator(test_generator, verbose=1)"
      ],
      "metadata": {
        "colab": {
          "base_uri": "https://localhost:8080/"
        },
        "outputId": "5dfd6115-214e-4918-b471-5b93c6b3aede",
        "id": "EhBbjbTDB1AU"
      },
      "execution_count": null,
      "outputs": [
        {
          "output_type": "stream",
          "name": "stdout",
          "text": [
            "\r  1/216 [..............................] - ETA: 28s - loss: 0.1938 - accuracy: 0.9375"
          ]
        },
        {
          "output_type": "stream",
          "name": "stderr",
          "text": [
            "/usr/local/lib/python3.7/dist-packages/ipykernel_launcher.py:1: UserWarning: `Model.evaluate_generator` is deprecated and will be removed in a future version. Please use `Model.evaluate`, which supports generators.\n",
            "  \"\"\"Entry point for launching an IPython kernel.\n"
          ]
        },
        {
          "output_type": "stream",
          "name": "stdout",
          "text": [
            "216/216 [==============================] - 14s 63ms/step - loss: 0.2108 - accuracy: 0.9303\n"
          ]
        },
        {
          "output_type": "execute_result",
          "data": {
            "text/plain": [
              "[0.2108335942029953, 0.9303337931632996]"
            ]
          },
          "metadata": {},
          "execution_count": 12
        }
      ]
    },
    {
      "cell_type": "code",
      "execution_count": null,
      "metadata": {
        "colab": {
          "base_uri": "https://localhost:8080/"
        },
        "outputId": "a959c7ba-c9dc-4f76-ab1b-262cddab5c64",
        "id": "bBmRZQTXB1AV"
      },
      "outputs": [
        {
          "output_type": "stream",
          "name": "stdout",
          "text": [
            "Train Accuracy : \n",
            "646/646 [==============================] - 41s 63ms/step - loss: 0.1230 - accuracy: 0.9601\n"
          ]
        },
        {
          "output_type": "execute_result",
          "data": {
            "text/plain": [
              "[0.1230277493596077, 0.9601315855979919]"
            ]
          },
          "metadata": {},
          "execution_count": 13
        }
      ],
      "source": [
        "print(\"Train Accuracy : \")\n",
        "model.evaluate(train_generator)"
      ]
    },
    {
      "cell_type": "code",
      "execution_count": null,
      "metadata": {
        "colab": {
          "base_uri": "https://localhost:8080/"
        },
        "outputId": "5ade3065-0553-4492-ae99-f29ea06eddab",
        "id": "3CGuU95kB1AW"
      },
      "outputs": [
        {
          "output_type": "stream",
          "name": "stdout",
          "text": [
            "Test Accuracy : \n",
            "216/216 [==============================] - 14s 63ms/step - loss: 0.2108 - accuracy: 0.9303\n"
          ]
        },
        {
          "output_type": "execute_result",
          "data": {
            "text/plain": [
              "[0.2108336240053177, 0.9303337931632996]"
            ]
          },
          "metadata": {},
          "execution_count": 14
        }
      ],
      "source": [
        "print(\"Test Accuracy : \")\n",
        "model.evaluate(test_generator)"
      ]
    },
    {
      "cell_type": "code",
      "execution_count": null,
      "metadata": {
        "id": "-YUaIXi3CLEB"
      },
      "outputs": [],
      "source": [
        "from sklearn.metrics import classification_report, confusion_matrix\n",
        "import seaborn as sns\n",
        "import matplotlib.pyplot as plt\n",
        "\n",
        "def evaluate(model2):\n",
        "  test_generator = test_datagen.flow_from_directory(\n",
        "      TEST_DIR, \n",
        "      target_size=(64,64), \n",
        "      batch_size=32, \n",
        "      class_mode='binary',\n",
        "      shuffle = False)\n",
        "\n",
        "  Y_pred = model2.predict_generator(test_generator)\n",
        "  y_pred = np.round(Y_pred).astype(int)\n",
        "\n",
        "  print('\\nConfusion Matrix\\n')\n",
        "  cm = confusion_matrix(test_generator.classes, y_pred)\n",
        "  plt.figure(figsize=(8, 8))\n",
        "  sns.heatmap(cm, annot=True, fmt='g', vmin=0, cmap='Blues', cbar=False)\n",
        "  plt.xticks(ticks=[0.5, 1.5], labels=['Parasitized','Uninfected'])\n",
        "  plt.yticks(ticks=[0.5, 1.5], labels=['Parasitized','Uninfected'])\n",
        "  plt.xlabel(\"Predicted\")\n",
        "  plt.ylabel(\"Actual\")\n",
        "  plt.title(\"Confusion Matrix\")\n",
        "  plt.show()\n",
        "\n",
        "  print('\\n\\nClassification Report\\n')\n",
        "  target_names = ['Parasitized','Uninfected']\n",
        "  print(classification_report(test_generator.classes, y_pred, target_names=target_names))\n",
        "\n",
        "  tn, fp, fn, tp = cm.ravel()\n",
        "\n",
        "  precision = tp/(tp+fp)\n",
        "  recall = tp/(tp+fn)\n",
        "  f = 2*((precision*recall)/(precision+recall))\n",
        "\n",
        "  print(\"Recall of the model is {:.2f}\".format(recall))\n",
        "  print(\"Precision of the model is {:.2f}\".format(precision))\n",
        "  print(\"F-1 Score of the model is {:.2f}\".format(f)) "
      ]
    },
    {
      "cell_type": "code",
      "execution_count": null,
      "metadata": {
        "colab": {
          "base_uri": "https://localhost:8080/",
          "height": 915
        },
        "outputId": "5d8fbb06-afb7-4766-8b8b-edf0379374dd",
        "id": "5FEDMXrMCLEC"
      },
      "outputs": [
        {
          "output_type": "stream",
          "name": "stdout",
          "text": [
            "Found 5510 images belonging to 2 classes.\n"
          ]
        },
        {
          "output_type": "stream",
          "name": "stderr",
          "text": [
            "/usr/local/lib/python3.7/dist-packages/ipykernel_launcher.py:13: UserWarning: `Model.predict_generator` is deprecated and will be removed in a future version. Please use `Model.predict`, which supports generators.\n",
            "  del sys.path[0]\n"
          ]
        },
        {
          "output_type": "stream",
          "name": "stdout",
          "text": [
            "\n",
            "Confusion Matrix\n",
            "\n"
          ]
        },
        {
          "output_type": "display_data",
          "data": {
            "text/plain": [
              "<Figure size 576x576 with 1 Axes>"
            ],
            "image/png": "[encoded data removed]"
          },
          "metadata": {
            "needs_background": "light"
          }
        },
        {
          "output_type": "stream",
          "name": "stdout",
          "text": [
            "\n",
            "\n",
            "Classification Report\n",
            "\n",
            "              precision    recall  f1-score   support\n",
            "\n",
            " Parasitized       0.97      0.88      0.92      2755\n",
            "  Uninfected       0.89      0.97      0.93      2755\n",
            "\n",
            "    accuracy                           0.93      5510\n",
            "   macro avg       0.93      0.93      0.93      5510\n",
            "weighted avg       0.93      0.93      0.93      5510\n",
            "\n",
            "Recall of the model is 0.97\n",
            "Precision of the model is 0.89\n",
            "F-1 Score of the model is 0.93\n"
          ]
        }
      ],
      "source": [
        "evaluate(model2)"
      ]
    },
    {
      "cell_type": "code",
      "source": [
        "import matplotlib.pyplot as plt\n",
        "def eval_plot(history2):\n",
        "\n",
        "  plt.figure(figsize=(14, 5))\n",
        "\n",
        "  # Accuracy plot\n",
        "  plt.subplot(1, 2, 1)\n",
        "  acc = history2.history['accuracy']\n",
        "  val_acc = history2.history['val_accuracy']\n",
        "  epochs = range(len(acc))\n",
        "  acc_plot, = plt.plot(epochs, acc, 'r')\n",
        "  val_acc_plot, = plt.plot(epochs, val_acc, 'b')\n",
        "  plt.title('Training and Validation Accuracy')\n",
        "  plt.legend([acc_plot, val_acc_plot], ['Training Accuracy', 'Validation Accuracy'])\n",
        "  plt.savefig(\"Accuracy Plot.svg\", format=\"svg\", dpi=1200)\n",
        "\n",
        "  # Loss plot\n",
        "  plt.subplot(1, 2, 2)\n",
        "  loss = history2.history['loss']\n",
        "  val_loss = history2.history['val_loss']\n",
        "  epochs = range(len(loss))\n",
        "  loss_plot, = plt.plot(epochs, loss, 'r')\n",
        "  val_loss_plot, = plt.plot(epochs, val_loss, 'b')\n",
        "  plt.title('Training and Validation Loss')\n",
        "  plt.legend([loss_plot, val_loss_plot], ['Training Loss', 'Validation Loss'])\n",
        "  plt.savefig(\"Loss Plot.svg\", format=\"svg\", dpi=1200)"
      ],
      "metadata": {
        "id": "52Q6Ny0lreC_"
      },
      "execution_count": null,
      "outputs": []
    },
    {
      "cell_type": "code",
      "source": [
        "eval_plot(history2)"
      ],
      "metadata": {
        "colab": {
          "base_uri": "https://localhost:8080/",
          "height": 336
        },
        "id": "1BayxNXQr4oi",
        "outputId": "84a6c309-d3b2-4b4b-e9ca-15426292bb68"
      },
      "execution_count": null,
      "outputs": [
        {
          "output_type": "display_data",
          "data": {
            "text/plain": [
              "<Figure size 1008x360 with 2 Axes>"
            ],
            "image/png": "[encoded data removed]"
          },
          "metadata": {
            "needs_background": "light"
          }
        }
      ]
    },
    {
      "cell_type": "code",
      "execution_count": null,
      "metadata": {
        "colab": {
          "base_uri": "https://localhost:8080/"
        },
        "outputId": "88ae2d82-d5ce-4df4-e09c-3085dbfe3f38",
        "id": "kV65gvzPCLEF"
      },
      "outputs": [
        {
          "output_type": "stream",
          "name": "stdout",
          "text": [
            "Saved model to disk\n"
          ]
        }
      ],
      "source": [
        "model2.save_weights(\"Model2.h5\")\n",
        "print(\"Saved model to disk\")"
      ]
    },
    {
      "cell_type": "code",
      "execution_count": null,
      "metadata": {
        "id": "lrwZdxjcCLEF"
      },
      "outputs": [],
      "source": [
        "# serialize model to JSON\n",
        "model2_json = model2.to_json()\n",
        "with open(\"Model2.json\", \"w\") as json_file: json_file.write(model2_json)"
      ]
    },
    {
      "cell_type": "code",
      "execution_count": null,
      "metadata": {
        "colab": {
          "base_uri": "https://localhost:8080/"
        },
        "outputId": "83597461-d922-4970-bb77-ff01c71f7895",
        "id": "zTNazbuKCLEG"
      },
      "outputs": [
        {
          "output_type": "stream",
          "name": "stdout",
          "text": [
            "Saved model to disk\n"
          ]
        }
      ],
      "source": [
        "# serialize weights to HDF5\n",
        "model2.save(\"Model2.h5\")\n",
        "print(\"Saved model to disk\")"
      ]
    },
    {
      "cell_type": "markdown",
      "source": [
        "# Scenario 2 Splitting 80 : 20"
      ],
      "metadata": {
        "id": "lsv2hKJO0vOe"
      }
    },
    {
      "cell_type": "code",
      "execution_count": null,
      "metadata": {
        "colab": {
          "base_uri": "https://localhost:8080/"
        },
        "id": "-f2dY5akqMcc",
        "outputId": "4d423ea6-18cc-46a5-bef0-4649f8fb0981"
      },
      "outputs": [
        {
          "output_type": "stream",
          "name": "stdout",
          "text": [
            "Cloning into 'Malaria-Classification'...\n",
            "remote: Enumerating objects: 27571, done.\u001b[K\n",
            "remote: Counting objects: 100% (27571/27571), done.\u001b[K\n",
            "remote: Compressing objects: 100% (27570/27570), done.\u001b[K\n",
            "remote: Total 27571 (delta 1), reused 27565 (delta 0), pack-reused 0\u001b[K\n",
            "Receiving objects: 100% (27571/27571), 331.87 MiB | 42.72 MiB/s, done.\n",
            "Resolving deltas: 100% (1/1), done.\n",
            "Checking out files: 100% (27561/27561), done.\n"
          ]
        }
      ],
      "source": [
        "!git clone https://github.com/chacacaliza/Malaria-Classification.git"
      ]
    },
    {
      "cell_type": "code",
      "execution_count": null,
      "metadata": {
        "id": "HExrb2GLmkyB"
      },
      "outputs": [],
      "source": [
        "import numpy as np\n",
        "import pandas as pd\n",
        "import os\n",
        "from shutil import copyfile\n",
        "\n",
        "TRAIN_DIR = \"/content/train/\"\n",
        "TEST_DIR =\"/content/test/\"\n",
        "\n",
        "os.mkdir(TRAIN_DIR)\n",
        "os.mkdir(TEST_DIR)\n",
        "\n",
        "for label in ['Uninfected', 'Parasitized']:\n",
        "    os.mkdir(TRAIN_DIR+label)\n",
        "    os.mkdir(TEST_DIR+label)"
      ]
    },
    {
      "cell_type": "code",
      "execution_count": null,
      "metadata": {
        "colab": {
          "base_uri": "https://localhost:8080/"
        },
        "id": "l-LngDpWjtTO",
        "outputId": "fb307b96-0c1d-4dd7-aeac-5c1b6b83cdf8"
      },
      "outputs": [
        {
          "output_type": "stream",
          "name": "stdout",
          "text": [
            "Uninfected\n",
            "11025\n",
            "2755\n",
            "Parasitized\n",
            "11025\n",
            "2755\n"
          ]
        }
      ],
      "source": [
        "import random\n",
        "def train_valid_test_split(source, train_dir, test_dir,train_size, test_size):\n",
        "    # get files\n",
        "    files = []\n",
        "    for filename in os.listdir(source):\n",
        "        file = source + filename\n",
        "        if os.path.getsize(file) > 0:\n",
        "            files.append(filename)\n",
        "    \n",
        "    # train valid split\n",
        "    train_size = int(len(files) * (1-train_size))\n",
        "    test_size = int(len(files) * (train_size))\n",
        "  \n",
        "    # shuffle the dataset\n",
        "    shuffled_files = random.sample(files, len(files))\n",
        "    \n",
        "    train_set = shuffled_files[train_size:]\n",
        "    test_set = shuffled_files[:train_size]\n",
        "    \n",
        "    for filename in train_set:\n",
        "        filepath = source + filename\n",
        "        destination = train_dir + filename\n",
        "        copyfile(filepath, destination)    \n",
        "    \n",
        "    for filename in test_set:\n",
        "        filepath = source + filename\n",
        "        destination = test_dir + filename\n",
        "        copyfile(filepath, destination)\n",
        "\n",
        "SOURCE = \"/content/Malaria-Classification/Dataset/\"\n",
        "\n",
        "for label in ['Uninfected', 'Parasitized']:\n",
        "    print(label)\n",
        "    train_valid_test_split(SOURCE+label+'/', TRAIN_DIR +label+'/', TEST_DIR +label+'/', train_size=0.8, test_size=0.2)\n",
        "    print(len(os.listdir(TRAIN_DIR +label+'/')))\n",
        "    print(len(os.listdir(TEST_DIR +label+'/')))"
      ]
    },
    {
      "cell_type": "code",
      "source": [
        "from keras.preprocessing.image import ImageDataGenerator\n",
        "train_datagen = ImageDataGenerator(\n",
        "        rescale=1./255,\n",
        "        rotation_range=45,\n",
        "        shear_range=0.2,\n",
        "        vertical_flip=True,\n",
        "        horizontal_flip=True,\n",
        "        )\n",
        "\n",
        "train_generator = train_datagen.flow_from_directory(\n",
        "        TRAIN_DIR,  \n",
        "        target_size = (64, 64),\n",
        "        batch_size=32,\n",
        "        color_mode='rgb',\n",
        "        class_mode = 'binary',\n",
        "        shuffle=True,\n",
        "        )"
      ],
      "metadata": {
        "colab": {
          "base_uri": "https://localhost:8080/"
        },
        "id": "Gfpa2XUnRN9k",
        "outputId": "480705eb-ab94-46a5-bbb7-9b6c01dff309"
      },
      "execution_count": null,
      "outputs": [
        {
          "output_type": "stream",
          "name": "stdout",
          "text": [
            "Found 22048 images belonging to 2 classes.\n"
          ]
        }
      ]
    },
    {
      "cell_type": "code",
      "source": [
        "test_datagen = ImageDataGenerator(\n",
        "      rescale=1./255)\n",
        "\n",
        "test_generator = test_datagen.flow_from_directory(\n",
        "        TEST_DIR,\n",
        "        target_size = (64, 64),\n",
        "        batch_size=32,\n",
        "        color_mode='rgb',\n",
        "        class_mode = 'binary',\n",
        "        shuffle=True,\n",
        ")"
      ],
      "metadata": {
        "colab": {
          "base_uri": "https://localhost:8080/"
        },
        "id": "ras4Ouf-o_x3",
        "outputId": "147a0773-693c-48c1-a42e-69be43966a23"
      },
      "execution_count": null,
      "outputs": [
        {
          "output_type": "stream",
          "name": "stdout",
          "text": [
            "Found 5510 images belonging to 2 classes.\n"
          ]
        }
      ]
    },
    {
      "cell_type": "code",
      "source": [
        "import tensorflow as tf\n",
        "from tensorflow.keras.models import Sequential, load_model\n",
        "from tensorflow.keras.optimizers import RMSprop\n",
        "from tensorflow.keras.layers import Dense, Conv2D, AveragePooling2D, MaxPooling2D, Flatten, BatchNormalization, Dropout\n",
        "model1 = tf.keras.models.Sequential([\n",
        "    tf.keras.layers.Conv2D(16, (3,3), activation='relu', padding='same', input_shape=(64, 64, 3)),\n",
        "    tf.keras.layers.BatchNormalization(),\n",
        "    tf.keras.layers.MaxPooling2D(2, 2),\n",
        "    \n",
        "    tf.keras.layers.Conv2D(32, (3,3), activation='relu', padding='same'),\n",
        "    tf.keras.layers.BatchNormalization(),\n",
        "    tf.keras.layers.MaxPooling2D(2, 2),\n",
        "    \n",
        "    tf.keras.layers.Conv2D(64, (3,3), activation='relu', padding='same'),\n",
        "    tf.keras.layers.BatchNormalization(),\n",
        "    tf.keras.layers.MaxPooling2D(2, 2),\n",
        "    \n",
        "    tf.keras.layers.Conv2D(128, (3,3), activation='relu', padding='same'),\n",
        "    tf.keras.layers.BatchNormalization(),\n",
        "    tf.keras.layers.MaxPooling2D(2, 2), \n",
        "    \n",
        "    tf.keras.layers.Flatten(),\n",
        "    \n",
        "    tf.keras.layers.Dense(512, activation='relu'),\n",
        "    tf.keras.layers.BatchNormalization(),\n",
        "    tf.keras.layers.Dropout(0.1),\n",
        "    \n",
        "    tf.keras.layers.Dense(1, activation='sigmoid')\n",
        "])\n",
        "\n",
        "model1.compile(loss='binary_crossentropy',\n",
        "              optimizer=RMSprop(lr=0.001),\n",
        "              metrics=['acc'])"
      ],
      "metadata": {
        "colab": {
          "base_uri": "https://localhost:8080/"
        },
        "outputId": "28054107-6bab-4ee9-8f6b-7ca57ed648c5",
        "id": "YJ-uHOnNkaXn"
      },
      "execution_count": null,
      "outputs": [
        {
          "output_type": "stream",
          "name": "stderr",
          "text": [
            "/usr/local/lib/python3.7/dist-packages/keras/optimizer_v2/rmsprop.py:130: UserWarning: The `lr` argument is deprecated, use `learning_rate` instead.\n",
            "  super(RMSprop, self).__init__(name, **kwargs)\n"
          ]
        }
      ]
    },
    {
      "cell_type": "code",
      "source": [
        "# Print model summary\n",
        "print(model1.summary())"
      ],
      "metadata": {
        "colab": {
          "base_uri": "https://localhost:8080/"
        },
        "outputId": "3d952466-d1fe-402d-ac1d-502d66259e8f",
        "id": "enChSf-HkaXp"
      },
      "execution_count": null,
      "outputs": [
        {
          "output_type": "stream",
          "name": "stdout",
          "text": [
            "Model: \"sequential\"\n",
            "_________________________________________________________________\n",
            " Layer (type)                Output Shape              Param #   \n",
            "=================================================================\n",
            " conv2d (Conv2D)             (None, 64, 64, 16)        448       \n",
            "                                                                 \n",
            " batch_normalization (BatchN  (None, 64, 64, 16)       64        \n",
            " ormalization)                                                   \n",
            "                                                                 \n",
            " max_pooling2d (MaxPooling2D  (None, 32, 32, 16)       0         \n",
            " )                                                               \n",
            "                                                                 \n",
            " conv2d_1 (Conv2D)           (None, 32, 32, 32)        4640      \n",
            "                                                                 \n",
            " batch_normalization_1 (Batc  (None, 32, 32, 32)       128       \n",
            " hNormalization)                                                 \n",
            "                                                                 \n",
            " max_pooling2d_1 (MaxPooling  (None, 16, 16, 32)       0         \n",
            " 2D)                                                             \n",
            "                                                                 \n",
            " conv2d_2 (Conv2D)           (None, 16, 16, 64)        18496     \n",
            "                                                                 \n",
            " batch_normalization_2 (Batc  (None, 16, 16, 64)       256       \n",
            " hNormalization)                                                 \n",
            "                                                                 \n",
            " max_pooling2d_2 (MaxPooling  (None, 8, 8, 64)         0         \n",
            " 2D)                                                             \n",
            "                                                                 \n",
            " conv2d_3 (Conv2D)           (None, 8, 8, 128)         73856     \n",
            "                                                                 \n",
            " batch_normalization_3 (Batc  (None, 8, 8, 128)        512       \n",
            " hNormalization)                                                 \n",
            "                                                                 \n",
            " max_pooling2d_3 (MaxPooling  (None, 4, 4, 128)        0         \n",
            " 2D)                                                             \n",
            "                                                                 \n",
            " flatten (Flatten)           (None, 2048)              0         \n",
            "                                                                 \n",
            " dense (Dense)               (None, 512)               1049088   \n",
            "                                                                 \n",
            " batch_normalization_4 (Batc  (None, 512)              2048      \n",
            " hNormalization)                                                 \n",
            "                                                                 \n",
            " dropout (Dropout)           (None, 512)               0         \n",
            "                                                                 \n",
            " dense_1 (Dense)             (None, 1)                 513       \n",
            "                                                                 \n",
            "=================================================================\n",
            "Total params: 1,150,049\n",
            "Trainable params: 1,148,545\n",
            "Non-trainable params: 1,504\n",
            "_________________________________________________________________\n",
            "None\n"
          ]
        }
      ]
    },
    {
      "cell_type": "code",
      "source": [
        "history1 = model1.fit_generator(\n",
        "        train_generator,\n",
        "        epochs=100,\n",
        "        validation_data=test_generator,\n",
        "        )"
      ],
      "metadata": {
        "colab": {
          "base_uri": "https://localhost:8080/"
        },
        "id": "VJHnTtlmpnSQ",
        "outputId": "6aa71eb6-ef4e-4918-c671-6990d1188dfe"
      },
      "execution_count": null,
      "outputs": [
        {
          "output_type": "stream",
          "name": "stderr",
          "text": [
            "/usr/local/lib/python3.7/dist-packages/ipykernel_launcher.py:4: UserWarning: `Model.fit_generator` is deprecated and will be removed in a future version. Please use `Model.fit`, which supports generators.\n",
            "  after removing the cwd from sys.path.\n"
          ]
        },
        {
          "output_type": "stream",
          "name": "stdout",
          "text": [
            "Epoch 1/100\n",
            "689/689 [==============================] - 75s 93ms/step - loss: 0.2972 - acc: 0.8865 - val_loss: 0.1679 - val_acc: 0.9479\n",
            "Epoch 2/100\n",
            "689/689 [==============================] - 64s 92ms/step - loss: 0.1593 - acc: 0.9468 - val_loss: 0.1662 - val_acc: 0.9523\n",
            "Epoch 3/100\n",
            "689/689 [==============================] - 64s 93ms/step - loss: 0.1459 - acc: 0.9498 - val_loss: 0.1301 - val_acc: 0.9575\n",
            "Epoch 4/100\n",
            "689/689 [==============================] - 63s 92ms/step - loss: 0.1435 - acc: 0.9514 - val_loss: 0.1553 - val_acc: 0.9454\n",
            "Epoch 5/100\n",
            "689/689 [==============================] - 63s 91ms/step - loss: 0.1368 - acc: 0.9544 - val_loss: 0.1399 - val_acc: 0.9530\n",
            "Epoch 6/100\n",
            "689/689 [==============================] - 63s 91ms/step - loss: 0.1330 - acc: 0.9553 - val_loss: 0.1230 - val_acc: 0.9595\n",
            "Epoch 7/100\n",
            "689/689 [==============================] - 67s 97ms/step - loss: 0.1301 - acc: 0.9562 - val_loss: 0.1242 - val_acc: 0.9557\n",
            "Epoch 8/100\n",
            "689/689 [==============================] - 63s 91ms/step - loss: 0.1227 - acc: 0.9581 - val_loss: 0.1221 - val_acc: 0.9626\n",
            "Epoch 9/100\n",
            "689/689 [==============================] - 64s 92ms/step - loss: 0.1244 - acc: 0.9575 - val_loss: 0.1460 - val_acc: 0.9541\n",
            "Epoch 10/100\n",
            "689/689 [==============================] - 63s 91ms/step - loss: 0.1214 - acc: 0.9593 - val_loss: 0.1264 - val_acc: 0.9559\n",
            "Epoch 11/100\n",
            "689/689 [==============================] - 63s 91ms/step - loss: 0.1206 - acc: 0.9609 - val_loss: 0.1288 - val_acc: 0.9623\n",
            "Epoch 12/100\n",
            "689/689 [==============================] - 67s 98ms/step - loss: 0.1199 - acc: 0.9600 - val_loss: 0.1559 - val_acc: 0.9410\n",
            "Epoch 13/100\n",
            "689/689 [==============================] - 64s 93ms/step - loss: 0.1177 - acc: 0.9604 - val_loss: 0.1149 - val_acc: 0.9623\n",
            "Epoch 14/100\n",
            "689/689 [==============================] - 64s 93ms/step - loss: 0.1174 - acc: 0.9619 - val_loss: 0.1082 - val_acc: 0.9639\n",
            "Epoch 15/100\n",
            "689/689 [==============================] - 63s 91ms/step - loss: 0.1132 - acc: 0.9626 - val_loss: 0.1440 - val_acc: 0.9514\n",
            "Epoch 16/100\n",
            "689/689 [==============================] - 63s 91ms/step - loss: 0.1159 - acc: 0.9616 - val_loss: 0.1090 - val_acc: 0.9621\n",
            "Epoch 17/100\n",
            "689/689 [==============================] - 63s 92ms/step - loss: 0.1147 - acc: 0.9620 - val_loss: 0.1102 - val_acc: 0.9652\n",
            "Epoch 18/100\n",
            "689/689 [==============================] - 63s 91ms/step - loss: 0.1119 - acc: 0.9625 - val_loss: 0.1059 - val_acc: 0.9653\n",
            "Epoch 19/100\n",
            "689/689 [==============================] - 63s 92ms/step - loss: 0.1104 - acc: 0.9630 - val_loss: 0.1617 - val_acc: 0.9477\n",
            "Epoch 20/100\n",
            "689/689 [==============================] - 62s 91ms/step - loss: 0.1086 - acc: 0.9642 - val_loss: 0.1542 - val_acc: 0.9519\n",
            "Epoch 21/100\n",
            "689/689 [==============================] - 64s 92ms/step - loss: 0.1095 - acc: 0.9646 - val_loss: 0.1709 - val_acc: 0.9521\n",
            "Epoch 22/100\n",
            "689/689 [==============================] - 63s 92ms/step - loss: 0.1086 - acc: 0.9644 - val_loss: 0.1228 - val_acc: 0.9623\n",
            "Epoch 23/100\n",
            "689/689 [==============================] - 63s 91ms/step - loss: 0.1125 - acc: 0.9627 - val_loss: 0.0998 - val_acc: 0.9690\n",
            "Epoch 24/100\n",
            "689/689 [==============================] - 63s 92ms/step - loss: 0.1093 - acc: 0.9644 - val_loss: 0.1236 - val_acc: 0.9597\n",
            "Epoch 25/100\n",
            "689/689 [==============================] - 64s 92ms/step - loss: 0.1067 - acc: 0.9656 - val_loss: 0.5303 - val_acc: 0.7530\n",
            "Epoch 26/100\n",
            "689/689 [==============================] - 63s 92ms/step - loss: 0.1102 - acc: 0.9631 - val_loss: 0.1102 - val_acc: 0.9664\n",
            "Epoch 27/100\n",
            "689/689 [==============================] - 63s 92ms/step - loss: 0.1071 - acc: 0.9647 - val_loss: 0.1005 - val_acc: 0.9684\n",
            "Epoch 28/100\n",
            "689/689 [==============================] - 64s 93ms/step - loss: 0.1053 - acc: 0.9648 - val_loss: 0.1040 - val_acc: 0.9655\n",
            "Epoch 29/100\n",
            "689/689 [==============================] - 64s 92ms/step - loss: 0.1059 - acc: 0.9657 - val_loss: 0.0984 - val_acc: 0.9668\n",
            "Epoch 30/100\n",
            "689/689 [==============================] - 63s 92ms/step - loss: 0.1060 - acc: 0.9651 - val_loss: 0.1153 - val_acc: 0.9672\n",
            "Epoch 31/100\n",
            "689/689 [==============================] - 64s 92ms/step - loss: 0.1049 - acc: 0.9654 - val_loss: 0.1040 - val_acc: 0.9659\n",
            "Epoch 32/100\n",
            "689/689 [==============================] - 63s 92ms/step - loss: 0.1055 - acc: 0.9650 - val_loss: 0.1439 - val_acc: 0.9584\n",
            "Epoch 33/100\n",
            "689/689 [==============================] - 63s 92ms/step - loss: 0.1022 - acc: 0.9653 - val_loss: 0.1157 - val_acc: 0.9615\n",
            "Epoch 34/100\n",
            "689/689 [==============================] - 63s 91ms/step - loss: 0.1033 - acc: 0.9649 - val_loss: 0.1012 - val_acc: 0.9639\n",
            "Epoch 35/100\n",
            "689/689 [==============================] - 63s 91ms/step - loss: 0.1036 - acc: 0.9653 - val_loss: 0.1080 - val_acc: 0.9646\n",
            "Epoch 36/100\n",
            "689/689 [==============================] - 64s 92ms/step - loss: 0.1023 - acc: 0.9665 - val_loss: 0.1168 - val_acc: 0.9597\n",
            "Epoch 37/100\n",
            "689/689 [==============================] - 63s 92ms/step - loss: 0.0992 - acc: 0.9669 - val_loss: 0.1840 - val_acc: 0.9534\n",
            "Epoch 38/100\n",
            "689/689 [==============================] - 63s 91ms/step - loss: 0.1010 - acc: 0.9664 - val_loss: 0.1126 - val_acc: 0.9615\n",
            "Epoch 39/100\n",
            "689/689 [==============================] - 63s 91ms/step - loss: 0.1020 - acc: 0.9658 - val_loss: 0.1229 - val_acc: 0.9617\n",
            "Epoch 40/100\n",
            "689/689 [==============================] - 63s 91ms/step - loss: 0.0998 - acc: 0.9672 - val_loss: 0.1110 - val_acc: 0.9639\n",
            "Epoch 41/100\n",
            "689/689 [==============================] - 63s 91ms/step - loss: 0.1036 - acc: 0.9664 - val_loss: 0.1117 - val_acc: 0.9613\n",
            "Epoch 42/100\n",
            "689/689 [==============================] - 64s 93ms/step - loss: 0.0998 - acc: 0.9671 - val_loss: 0.1232 - val_acc: 0.9657\n",
            "Epoch 43/100\n",
            "689/689 [==============================] - 64s 92ms/step - loss: 0.1021 - acc: 0.9673 - val_loss: 0.2135 - val_acc: 0.9468\n",
            "Epoch 44/100\n",
            "689/689 [==============================] - 64s 92ms/step - loss: 0.0997 - acc: 0.9678 - val_loss: 0.1061 - val_acc: 0.9621\n",
            "Epoch 45/100\n",
            "689/689 [==============================] - 63s 92ms/step - loss: 0.1000 - acc: 0.9675 - val_loss: 0.1077 - val_acc: 0.9646\n",
            "Epoch 46/100\n",
            "689/689 [==============================] - 63s 92ms/step - loss: 0.0980 - acc: 0.9675 - val_loss: 0.1042 - val_acc: 0.9644\n",
            "Epoch 47/100\n",
            "689/689 [==============================] - 63s 91ms/step - loss: 0.0970 - acc: 0.9675 - val_loss: 0.1007 - val_acc: 0.9664\n",
            "Epoch 48/100\n",
            "689/689 [==============================] - 63s 91ms/step - loss: 0.1012 - acc: 0.9672 - val_loss: 0.1451 - val_acc: 0.9543\n",
            "Epoch 49/100\n",
            "689/689 [==============================] - 63s 91ms/step - loss: 0.0984 - acc: 0.9676 - val_loss: 0.1210 - val_acc: 0.9590\n",
            "Epoch 50/100\n",
            "689/689 [==============================] - 68s 98ms/step - loss: 0.0989 - acc: 0.9670 - val_loss: 0.1271 - val_acc: 0.9619\n",
            "Epoch 51/100\n",
            "689/689 [==============================] - 63s 91ms/step - loss: 0.0960 - acc: 0.9683 - val_loss: 0.1174 - val_acc: 0.9626\n",
            "Epoch 52/100\n",
            "689/689 [==============================] - 63s 91ms/step - loss: 0.0978 - acc: 0.9677 - val_loss: 0.0991 - val_acc: 0.9688\n",
            "Epoch 53/100\n",
            "689/689 [==============================] - 63s 91ms/step - loss: 0.0958 - acc: 0.9683 - val_loss: 0.1572 - val_acc: 0.9523\n",
            "Epoch 54/100\n",
            "689/689 [==============================] - 63s 92ms/step - loss: 0.0983 - acc: 0.9674 - val_loss: 0.0996 - val_acc: 0.9686\n",
            "Epoch 55/100\n",
            "689/689 [==============================] - 63s 92ms/step - loss: 0.0971 - acc: 0.9668 - val_loss: 0.1132 - val_acc: 0.9608\n",
            "Epoch 56/100\n",
            "689/689 [==============================] - 63s 91ms/step - loss: 0.0934 - acc: 0.9696 - val_loss: 0.1223 - val_acc: 0.9624\n",
            "Epoch 57/100\n",
            "689/689 [==============================] - 63s 91ms/step - loss: 0.0954 - acc: 0.9678 - val_loss: 0.1145 - val_acc: 0.9675\n",
            "Epoch 58/100\n",
            "689/689 [==============================] - 63s 92ms/step - loss: 0.0969 - acc: 0.9683 - val_loss: 0.0994 - val_acc: 0.9664\n",
            "Epoch 59/100\n",
            "689/689 [==============================] - 63s 92ms/step - loss: 0.0936 - acc: 0.9690 - val_loss: 0.1011 - val_acc: 0.9672\n",
            "Epoch 60/100\n",
            "689/689 [==============================] - 63s 92ms/step - loss: 0.0945 - acc: 0.9706 - val_loss: 0.2604 - val_acc: 0.9334\n",
            "Epoch 61/100\n",
            "689/689 [==============================] - 63s 91ms/step - loss: 0.0963 - acc: 0.9677 - val_loss: 0.1191 - val_acc: 0.9644\n",
            "Epoch 62/100\n",
            "689/689 [==============================] - 62s 90ms/step - loss: 0.0930 - acc: 0.9687 - val_loss: 0.1352 - val_acc: 0.9613\n",
            "Epoch 63/100\n",
            "689/689 [==============================] - 62s 90ms/step - loss: 0.0963 - acc: 0.9685 - val_loss: 0.1080 - val_acc: 0.9684\n",
            "Epoch 64/100\n",
            "689/689 [==============================] - 62s 90ms/step - loss: 0.0938 - acc: 0.9697 - val_loss: 0.1104 - val_acc: 0.9668\n",
            "Epoch 65/100\n",
            "689/689 [==============================] - 62s 90ms/step - loss: 0.0916 - acc: 0.9686 - val_loss: 0.1446 - val_acc: 0.9557\n",
            "Epoch 66/100\n",
            "689/689 [==============================] - 63s 91ms/step - loss: 0.0940 - acc: 0.9690 - val_loss: 0.0975 - val_acc: 0.9657\n",
            "Epoch 67/100\n",
            "689/689 [==============================] - 62s 90ms/step - loss: 0.0946 - acc: 0.9687 - val_loss: 0.1224 - val_acc: 0.9641\n",
            "Epoch 68/100\n",
            "689/689 [==============================] - 62s 91ms/step - loss: 0.0915 - acc: 0.9696 - val_loss: 0.1019 - val_acc: 0.9661\n",
            "Epoch 69/100\n",
            "689/689 [==============================] - 62s 90ms/step - loss: 0.0939 - acc: 0.9690 - val_loss: 0.1568 - val_acc: 0.9535\n",
            "Epoch 70/100\n",
            "689/689 [==============================] - 62s 90ms/step - loss: 0.0931 - acc: 0.9693 - val_loss: 0.1164 - val_acc: 0.9621\n",
            "Epoch 71/100\n",
            "689/689 [==============================] - 62s 90ms/step - loss: 0.0922 - acc: 0.9695 - val_loss: 0.1238 - val_acc: 0.9646\n",
            "Epoch 72/100\n",
            "689/689 [==============================] - 62s 90ms/step - loss: 0.0923 - acc: 0.9695 - val_loss: 0.1188 - val_acc: 0.9644\n",
            "Epoch 73/100\n",
            "689/689 [==============================] - 62s 90ms/step - loss: 0.0923 - acc: 0.9690 - val_loss: 0.1022 - val_acc: 0.9628\n",
            "Epoch 74/100\n",
            "689/689 [==============================] - 62s 90ms/step - loss: 0.0927 - acc: 0.9690 - val_loss: 0.1144 - val_acc: 0.9653\n",
            "Epoch 75/100\n",
            "689/689 [==============================] - 62s 90ms/step - loss: 0.0902 - acc: 0.9708 - val_loss: 0.0975 - val_acc: 0.9691\n",
            "Epoch 76/100\n",
            "689/689 [==============================] - 62s 90ms/step - loss: 0.0918 - acc: 0.9702 - val_loss: 0.0959 - val_acc: 0.9652\n",
            "Epoch 77/100\n",
            "689/689 [==============================] - 62s 89ms/step - loss: 0.0938 - acc: 0.9703 - val_loss: 0.1091 - val_acc: 0.9646\n",
            "Epoch 78/100\n",
            "689/689 [==============================] - 62s 90ms/step - loss: 0.0909 - acc: 0.9701 - val_loss: 0.1005 - val_acc: 0.9681\n",
            "Epoch 79/100\n",
            "689/689 [==============================] - 62s 90ms/step - loss: 0.0910 - acc: 0.9691 - val_loss: 0.1547 - val_acc: 0.9572\n",
            "Epoch 80/100\n",
            "689/689 [==============================] - 62s 90ms/step - loss: 0.0896 - acc: 0.9694 - val_loss: 0.1331 - val_acc: 0.9597\n",
            "Epoch 81/100\n",
            "689/689 [==============================] - 62s 90ms/step - loss: 0.0914 - acc: 0.9703 - val_loss: 0.1121 - val_acc: 0.9679\n",
            "Epoch 82/100\n",
            "689/689 [==============================] - 62s 89ms/step - loss: 0.0904 - acc: 0.9696 - val_loss: 0.1142 - val_acc: 0.9641\n",
            "Epoch 83/100\n",
            "689/689 [==============================] - 62s 90ms/step - loss: 0.0867 - acc: 0.9711 - val_loss: 0.1923 - val_acc: 0.9481\n",
            "Epoch 84/100\n",
            "689/689 [==============================] - 62s 89ms/step - loss: 0.0871 - acc: 0.9711 - val_loss: 0.1051 - val_acc: 0.9655\n",
            "Epoch 85/100\n",
            "689/689 [==============================] - 62s 90ms/step - loss: 0.0905 - acc: 0.9720 - val_loss: 0.1199 - val_acc: 0.9673\n",
            "Epoch 86/100\n",
            "689/689 [==============================] - 63s 92ms/step - loss: 0.0887 - acc: 0.9708 - val_loss: 0.1254 - val_acc: 0.9648\n",
            "Epoch 87/100\n",
            "689/689 [==============================] - 64s 93ms/step - loss: 0.0903 - acc: 0.9701 - val_loss: 0.0990 - val_acc: 0.9666\n",
            "Epoch 88/100\n",
            "689/689 [==============================] - 64s 93ms/step - loss: 0.0847 - acc: 0.9726 - val_loss: 0.1039 - val_acc: 0.9677\n",
            "Epoch 89/100\n",
            "689/689 [==============================] - 64s 93ms/step - loss: 0.0874 - acc: 0.9709 - val_loss: 0.1251 - val_acc: 0.9639\n",
            "Epoch 90/100\n",
            "689/689 [==============================] - 65s 94ms/step - loss: 0.0861 - acc: 0.9718 - val_loss: 0.1546 - val_acc: 0.9601\n",
            "Epoch 91/100\n",
            "689/689 [==============================] - 63s 92ms/step - loss: 0.0911 - acc: 0.9710 - val_loss: 0.1083 - val_acc: 0.9644\n",
            "Epoch 92/100\n",
            "689/689 [==============================] - 64s 93ms/step - loss: 0.0864 - acc: 0.9711 - val_loss: 0.1260 - val_acc: 0.9628\n",
            "Epoch 93/100\n",
            "689/689 [==============================] - 63s 91ms/step - loss: 0.0882 - acc: 0.9708 - val_loss: 0.1043 - val_acc: 0.9681\n",
            "Epoch 94/100\n",
            "689/689 [==============================] - 63s 91ms/step - loss: 0.0876 - acc: 0.9711 - val_loss: 0.0995 - val_acc: 0.9675\n",
            "Epoch 95/100\n",
            "689/689 [==============================] - 63s 91ms/step - loss: 0.0885 - acc: 0.9713 - val_loss: 0.0964 - val_acc: 0.9688\n",
            "Epoch 96/100\n",
            "689/689 [==============================] - 62s 90ms/step - loss: 0.0871 - acc: 0.9717 - val_loss: 0.1247 - val_acc: 0.9633\n",
            "Epoch 97/100\n",
            "689/689 [==============================] - 62s 89ms/step - loss: 0.0919 - acc: 0.9698 - val_loss: 0.1017 - val_acc: 0.9657\n",
            "Epoch 98/100\n",
            "689/689 [==============================] - 64s 93ms/step - loss: 0.0851 - acc: 0.9715 - val_loss: 0.0992 - val_acc: 0.9675\n",
            "Epoch 99/100\n",
            "689/689 [==============================] - 62s 91ms/step - loss: 0.0857 - acc: 0.9703 - val_loss: 0.0996 - val_acc: 0.9672\n",
            "Epoch 100/100\n",
            "689/689 [==============================] - 62s 90ms/step - loss: 0.0832 - acc: 0.9724 - val_loss: 0.1121 - val_acc: 0.9691\n"
          ]
        }
      ]
    },
    {
      "cell_type": "code",
      "source": [
        "model1.evaluate_generator(test_generator, verbose=1)"
      ],
      "metadata": {
        "colab": {
          "base_uri": "https://localhost:8080/"
        },
        "outputId": "eb32fe29-bb6b-4479-bc84-c8023fa2be05",
        "id": "8nuKAcDXDiFy"
      },
      "execution_count": null,
      "outputs": [
        {
          "output_type": "stream",
          "name": "stderr",
          "text": [
            "/usr/local/lib/python3.7/dist-packages/ipykernel_launcher.py:1: UserWarning: `Model.evaluate_generator` is deprecated and will be removed in a future version. Please use `Model.evaluate`, which supports generators.\n",
            "  \"\"\"Entry point for launching an IPython kernel.\n"
          ]
        },
        {
          "output_type": "stream",
          "name": "stdout",
          "text": [
            "173/173 [==============================] - 7s 42ms/step - loss: 0.1121 - acc: 0.9691\n"
          ]
        },
        {
          "output_type": "execute_result",
          "data": {
            "text/plain": [
              "[0.11212174594402313, 0.9691470265388489]"
            ]
          },
          "metadata": {},
          "execution_count": 12
        }
      ]
    },
    {
      "cell_type": "code",
      "execution_count": null,
      "metadata": {
        "colab": {
          "base_uri": "https://localhost:8080/"
        },
        "outputId": "a8a7050c-9d48-417e-83de-c4c2a6791915",
        "id": "oENPVmyNDiF1"
      },
      "outputs": [
        {
          "output_type": "stream",
          "name": "stdout",
          "text": [
            "Train Accuracy : \n",
            "689/689 [==============================] - 56s 82ms/step - loss: 0.0960 - acc: 0.9717\n"
          ]
        },
        {
          "output_type": "execute_result",
          "data": {
            "text/plain": [
              "[0.09596766531467438, 0.9716981053352356]"
            ]
          },
          "metadata": {},
          "execution_count": 13
        }
      ],
      "source": [
        "print(\"Train Accuracy : \")\n",
        "model1.evaluate(train_generator)"
      ]
    },
    {
      "cell_type": "code",
      "execution_count": null,
      "metadata": {
        "colab": {
          "base_uri": "https://localhost:8080/"
        },
        "outputId": "846416e6-6fa8-4383-8528-c90ce69c0150",
        "id": "ULWRoXioDiF2"
      },
      "outputs": [
        {
          "output_type": "stream",
          "name": "stdout",
          "text": [
            "Test Accuracy : \n",
            "173/173 [==============================] - 8s 45ms/step - loss: 0.1121 - acc: 0.9691\n"
          ]
        },
        {
          "output_type": "execute_result",
          "data": {
            "text/plain": [
              "[0.11212173849344254, 0.9691470265388489]"
            ]
          },
          "metadata": {},
          "execution_count": 14
        }
      ],
      "source": [
        "print(\"Test Accuracy : \")\n",
        "model1.evaluate(test_generator)"
      ]
    },
    {
      "cell_type": "code",
      "execution_count": null,
      "metadata": {
        "id": "IXpmq_K1Dzb0"
      },
      "outputs": [],
      "source": [
        "from sklearn.metrics import classification_report, confusion_matrix\n",
        "import seaborn as sns\n",
        "import matplotlib.pyplot as plt\n",
        "\n",
        "def evaluate(model1):\n",
        "  test_generator = test_datagen.flow_from_directory(\n",
        "      TEST_DIR, \n",
        "      target_size=(64,64), \n",
        "      batch_size=32, \n",
        "      class_mode='binary',\n",
        "      shuffle = False)\n",
        "\n",
        "  Y_pred = model1.predict_generator(test_generator)\n",
        "  y_pred = np.round(Y_pred).astype(int)\n",
        "\n",
        "  print('\\nConfusion Matrix\\n')\n",
        "  cm = confusion_matrix(test_generator.classes, y_pred)\n",
        "  plt.figure(figsize=(8, 8))\n",
        "  sns.heatmap(cm, annot=True, fmt='g', vmin=0, cmap='Blues', cbar=False)\n",
        "  plt.xticks(ticks=[0.5, 1.5], labels=['Parasitized','Uninfected'])\n",
        "  plt.yticks(ticks=[0.5, 1.5], labels=['Parasitized','Uninfected'])\n",
        "  plt.xlabel(\"Predicted\")\n",
        "  plt.ylabel(\"Actual\")\n",
        "  plt.title(\"Confusion Matrix\")\n",
        "  plt.show()\n",
        "\n",
        "  print('\\n\\nClassification Report\\n')\n",
        "  target_names = ['Parasitized','Uninfected']\n",
        "  print(classification_report(test_generator.classes, y_pred, target_names=target_names))\n",
        "\n",
        "  tn, fp, fn, tp = cm.ravel()\n",
        "\n",
        "  precision = tp/(tp+fp)\n",
        "  recall = tp/(tp+fn)\n",
        "  f = 2*((precision*recall)/(precision+recall))\n",
        "\n",
        "  print(\"Recall of the model is {:.2f}\".format(recall))\n",
        "  print(\"Precision of the model is {:.2f}\".format(precision))\n",
        "  print(\"F-1 Score of the model is {:.2f}\".format(f)) "
      ]
    },
    {
      "cell_type": "code",
      "execution_count": null,
      "metadata": {
        "colab": {
          "base_uri": "https://localhost:8080/",
          "height": 915
        },
        "outputId": "1e3aeeae-50fe-444c-fbfd-f50f7eac392b",
        "id": "ytmJGRNcDzb2"
      },
      "outputs": [
        {
          "output_type": "stream",
          "name": "stdout",
          "text": [
            "Found 5510 images belonging to 2 classes.\n"
          ]
        },
        {
          "output_type": "stream",
          "name": "stderr",
          "text": [
            "/usr/local/lib/python3.7/dist-packages/ipykernel_launcher.py:13: UserWarning: `Model.predict_generator` is deprecated and will be removed in a future version. Please use `Model.predict`, which supports generators.\n",
            "  del sys.path[0]\n"
          ]
        },
        {
          "output_type": "stream",
          "name": "stdout",
          "text": [
            "\n",
            "Confusion Matrix\n",
            "\n"
          ]
        },
        {
          "output_type": "display_data",
          "data": {
            "text/plain": [
              "<Figure size 576x576 with 1 Axes>"
            ],
            "image/png": "[encoded data removed]"
          },
          "metadata": {
            "needs_background": "light"
          }
        },
        {
          "output_type": "stream",
          "name": "stdout",
          "text": [
            "\n",
            "\n",
            "Classification Report\n",
            "\n",
            "              precision    recall  f1-score   support\n",
            "\n",
            " Parasitized       0.98      0.96      0.97      2755\n",
            "  Uninfected       0.96      0.98      0.97      2755\n",
            "\n",
            "    accuracy                           0.97      5510\n",
            "   macro avg       0.97      0.97      0.97      5510\n",
            "weighted avg       0.97      0.97      0.97      5510\n",
            "\n",
            "Recall of the model is 0.98\n",
            "Precision of the model is 0.96\n",
            "F-1 Score of the model is 0.97\n"
          ]
        }
      ],
      "source": [
        "evaluate(model1)"
      ]
    },
    {
      "cell_type": "code",
      "source": [
        "plt.plot(history1.history['acc'])\n",
        "plt.plot(history1.history['val_acc'])\n",
        "plt.title('model accuracy')\n",
        "plt.ylabel('accuracy')\n",
        "plt.xlabel('epoch')\n",
        "plt.legend(['train', 'test'], loc='upper left')\n",
        "plt.show()\n",
        "plt.savefig(\"Accuracy Plot.svg\", format=\"svg\", dpi=1200)"
      ],
      "metadata": {
        "colab": {
          "base_uri": "https://localhost:8080/",
          "height": 312
        },
        "outputId": "b1bf374a-eb14-40ad-c04e-43c24feaccba",
        "id": "sOa7uQ2IDzb7"
      },
      "execution_count": null,
      "outputs": [
        {
          "output_type": "display_data",
          "data": {
            "text/plain": [
              "<Figure size 432x288 with 1 Axes>"
            ],
            "image/png": "[encoded data removed]"
          },
          "metadata": {
            "needs_background": "light"
          }
        },
        {
          "output_type": "display_data",
          "data": {
            "text/plain": [
              "<Figure size 432x288 with 0 Axes>"
            ]
          },
          "metadata": {}
        }
      ]
    },
    {
      "cell_type": "code",
      "source": [
        "plt.plot(history1.history['loss'])\n",
        "plt.plot(history1.history['val_loss'])\n",
        "plt.title('model loss')\n",
        "plt.ylabel('loss')\n",
        "plt.xlabel('epoch')\n",
        "plt.legend(['train', 'test'], loc='upper left')\n",
        "plt.show()\n",
        "plt.savefig(\"Loss Plot.svg\", format=\"svg\", dpi=1200)"
      ],
      "metadata": {
        "colab": {
          "base_uri": "https://localhost:8080/",
          "height": 312
        },
        "outputId": "e90d6dbf-e62f-4029-ac7d-f9079f1d83ad",
        "id": "N9eVq9WpDzb8"
      },
      "execution_count": null,
      "outputs": [
        {
          "output_type": "display_data",
          "data": {
            "text/plain": [
              "<Figure size 432x288 with 1 Axes>"
            ],
            "image/png": "[encoded data removed]"
          },
          "metadata": {
            "needs_background": "light"
          }
        },
        {
          "output_type": "display_data",
          "data": {
            "text/plain": [
              "<Figure size 432x288 with 0 Axes>"
            ]
          },
          "metadata": {}
        }
      ]
    },
    {
      "cell_type": "code",
      "execution_count": null,
      "metadata": {
        "colab": {
          "base_uri": "https://localhost:8080/"
        },
        "outputId": "812c6254-5ce0-451f-aa6d-5b84d87efecd",
        "id": "iQyaA8Q9Dzb9"
      },
      "outputs": [
        {
          "output_type": "stream",
          "name": "stdout",
          "text": [
            "Saved model to disk\n"
          ]
        }
      ],
      "source": [
        "model1.save_weights(\"Model1.h5\")\n",
        "print(\"Saved model to disk\")"
      ]
    },
    {
      "cell_type": "code",
      "execution_count": null,
      "metadata": {
        "id": "ScJFhe29Dzb-"
      },
      "outputs": [],
      "source": [
        "# serialize model to JSON\n",
        "model1_json = model1.to_json()\n",
        "with open(\"Model1.json\", \"w\") as json_file: json_file.write(model1_json)"
      ]
    },
    {
      "cell_type": "code",
      "execution_count": null,
      "metadata": {
        "colab": {
          "base_uri": "https://localhost:8080/"
        },
        "outputId": "28eab3e3-6be9-4c15-e5db-e83e70c9f61b",
        "id": "Zodf0UdHDzb-"
      },
      "outputs": [
        {
          "output_type": "stream",
          "name": "stdout",
          "text": [
            "Saved model to disk\n"
          ]
        }
      ],
      "source": [
        "# serialize weights to HDF5\n",
        "model1.save(\"Model1.h5\")\n",
        "print(\"Saved model to disk\")"
      ]
    },
    {
      "cell_type": "markdown",
      "source": [
        "**Adam Optimizer**"
      ],
      "metadata": {
        "id": "4T67jfCRLPGk"
      }
    },
    {
      "cell_type": "code",
      "source": [
        "import tensorflow as tf\n",
        "from tensorflow.keras.models import Sequential, load_model\n",
        "from tensorflow.keras.optimizers import Adam\n",
        "from tensorflow.keras.layers import Dense, Conv2D, AveragePooling2D, MaxPooling2D, Flatten, BatchNormalization, Dropout\n",
        "model2 = tf.keras.models.Sequential([\n",
        "    tf.keras.layers.Conv2D(16, (3,3), activation='relu', padding='same', input_shape=(64, 64, 3)),\n",
        "    tf.keras.layers.BatchNormalization(),\n",
        "    tf.keras.layers.MaxPooling2D(2, 2),\n",
        "    \n",
        "    tf.keras.layers.Conv2D(32, (3,3), activation='relu', padding='same'),\n",
        "    tf.keras.layers.BatchNormalization(),\n",
        "    tf.keras.layers.MaxPooling2D(2, 2),\n",
        "    \n",
        "    tf.keras.layers.Conv2D(64, (3,3), activation='relu', padding='same'),\n",
        "    tf.keras.layers.BatchNormalization(),\n",
        "    tf.keras.layers.MaxPooling2D(2, 2),\n",
        "    \n",
        "    tf.keras.layers.Conv2D(128, (3,3), activation='relu', padding='same'),\n",
        "    tf.keras.layers.BatchNormalization(),\n",
        "    tf.keras.layers.MaxPooling2D(2, 2), \n",
        "    \n",
        "    tf.keras.layers.Flatten(),\n",
        "    \n",
        "    tf.keras.layers.Dense(512, activation='relu'),\n",
        "    tf.keras.layers.BatchNormalization(),\n",
        "    tf.keras.layers.Dropout(0.1),\n",
        "    \n",
        "    tf.keras.layers.Dense(1, activation='sigmoid')\n",
        "])\n",
        "\n",
        "model2.compile(loss='binary_crossentropy',\n",
        "              optimizer=Adam(lr=0.001),\n",
        "              metrics=['acc'])"
      ],
      "metadata": {
        "colab": {
          "base_uri": "https://localhost:8080/"
        },
        "outputId": "76602c42-4e1a-4498-c13d-d925fed76f5d",
        "id": "iNUsj_KPId0j"
      },
      "execution_count": null,
      "outputs": [
        {
          "output_type": "stream",
          "name": "stderr",
          "text": [
            "/usr/local/lib/python3.7/dist-packages/keras/optimizer_v2/adam.py:105: UserWarning: The `lr` argument is deprecated, use `learning_rate` instead.\n",
            "  super(Adam, self).__init__(name, **kwargs)\n"
          ]
        }
      ]
    },
    {
      "cell_type": "code",
      "source": [
        "# Print model summary\n",
        "print(model2.summary())"
      ],
      "metadata": {
        "colab": {
          "base_uri": "https://localhost:8080/"
        },
        "outputId": "3b470994-323d-49c0-fe02-7ed6b41fbf66",
        "id": "LCciARYyId0l"
      },
      "execution_count": null,
      "outputs": [
        {
          "output_type": "stream",
          "name": "stdout",
          "text": [
            "Model: \"sequential_1\"\n",
            "_________________________________________________________________\n",
            " Layer (type)                Output Shape              Param #   \n",
            "=================================================================\n",
            " conv2d_4 (Conv2D)           (None, 64, 64, 16)        448       \n",
            "                                                                 \n",
            " batch_normalization_5 (Batc  (None, 64, 64, 16)       64        \n",
            " hNormalization)                                                 \n",
            "                                                                 \n",
            " max_pooling2d_4 (MaxPooling  (None, 32, 32, 16)       0         \n",
            " 2D)                                                             \n",
            "                                                                 \n",
            " conv2d_5 (Conv2D)           (None, 32, 32, 32)        4640      \n",
            "                                                                 \n",
            " batch_normalization_6 (Batc  (None, 32, 32, 32)       128       \n",
            " hNormalization)                                                 \n",
            "                                                                 \n",
            " max_pooling2d_5 (MaxPooling  (None, 16, 16, 32)       0         \n",
            " 2D)                                                             \n",
            "                                                                 \n",
            " conv2d_6 (Conv2D)           (None, 16, 16, 64)        18496     \n",
            "                                                                 \n",
            " batch_normalization_7 (Batc  (None, 16, 16, 64)       256       \n",
            " hNormalization)                                                 \n",
            "                                                                 \n",
            " max_pooling2d_6 (MaxPooling  (None, 8, 8, 64)         0         \n",
            " 2D)                                                             \n",
            "                                                                 \n",
            " conv2d_7 (Conv2D)           (None, 8, 8, 128)         73856     \n",
            "                                                                 \n",
            " batch_normalization_8 (Batc  (None, 8, 8, 128)        512       \n",
            " hNormalization)                                                 \n",
            "                                                                 \n",
            " max_pooling2d_7 (MaxPooling  (None, 4, 4, 128)        0         \n",
            " 2D)                                                             \n",
            "                                                                 \n",
            " flatten_1 (Flatten)         (None, 2048)              0         \n",
            "                                                                 \n",
            " dense_2 (Dense)             (None, 512)               1049088   \n",
            "                                                                 \n",
            " batch_normalization_9 (Batc  (None, 512)              2048      \n",
            " hNormalization)                                                 \n",
            "                                                                 \n",
            " dropout_1 (Dropout)         (None, 512)               0         \n",
            "                                                                 \n",
            " dense_3 (Dense)             (None, 1)                 513       \n",
            "                                                                 \n",
            "=================================================================\n",
            "Total params: 1,150,049\n",
            "Trainable params: 1,148,545\n",
            "Non-trainable params: 1,504\n",
            "_________________________________________________________________\n",
            "None\n"
          ]
        }
      ]
    },
    {
      "cell_type": "code",
      "source": [
        "history2 = model2.fit_generator(\n",
        "        train_generator,\n",
        "        epochs=100,\n",
        "        validation_data=test_generator,\n",
        "        )"
      ],
      "metadata": {
        "colab": {
          "base_uri": "https://localhost:8080/"
        },
        "outputId": "85162a5e-9799-4172-ee9c-c15865bdbdb4",
        "id": "ioZu_cdOJgC1"
      },
      "execution_count": null,
      "outputs": [
        {
          "output_type": "stream",
          "name": "stdout",
          "text": [
            "Epoch 1/100\n"
          ]
        },
        {
          "output_type": "stream",
          "name": "stderr",
          "text": [
            "/usr/local/lib/python3.7/dist-packages/ipykernel_launcher.py:4: UserWarning: `Model.fit_generator` is deprecated and will be removed in a future version. Please use `Model.fit`, which supports generators.\n",
            "  after removing the cwd from sys.path.\n"
          ]
        },
        {
          "output_type": "stream",
          "name": "stdout",
          "text": [
            "689/689 [==============================] - 53s 75ms/step - loss: 0.2634 - acc: 0.8962 - val_loss: 0.1406 - val_acc: 0.9546\n",
            "Epoch 2/100\n",
            "689/689 [==============================] - 50s 72ms/step - loss: 0.1547 - acc: 0.9474 - val_loss: 0.1783 - val_acc: 0.9343\n",
            "Epoch 3/100\n",
            "689/689 [==============================] - 48s 70ms/step - loss: 0.1470 - acc: 0.9514 - val_loss: 0.2055 - val_acc: 0.9279\n",
            "Epoch 4/100\n",
            "689/689 [==============================] - 49s 70ms/step - loss: 0.1441 - acc: 0.9518 - val_loss: 0.1879 - val_acc: 0.9352\n",
            "Epoch 5/100\n",
            "689/689 [==============================] - 49s 71ms/step - loss: 0.1351 - acc: 0.9531 - val_loss: 0.1234 - val_acc: 0.9552\n",
            "Epoch 6/100\n",
            "689/689 [==============================] - 49s 70ms/step - loss: 0.1325 - acc: 0.9551 - val_loss: 0.1208 - val_acc: 0.9608\n",
            "Epoch 7/100\n",
            "689/689 [==============================] - 52s 76ms/step - loss: 0.1308 - acc: 0.9552 - val_loss: 0.1140 - val_acc: 0.9581\n",
            "Epoch 8/100\n",
            "689/689 [==============================] - 49s 70ms/step - loss: 0.1272 - acc: 0.9557 - val_loss: 0.1220 - val_acc: 0.9595\n",
            "Epoch 9/100\n",
            "689/689 [==============================] - 50s 73ms/step - loss: 0.1248 - acc: 0.9571 - val_loss: 0.1109 - val_acc: 0.9635\n",
            "Epoch 10/100\n",
            "689/689 [==============================] - 49s 71ms/step - loss: 0.1222 - acc: 0.9590 - val_loss: 0.1158 - val_acc: 0.9613\n",
            "Epoch 11/100\n",
            "689/689 [==============================] - 49s 71ms/step - loss: 0.1171 - acc: 0.9599 - val_loss: 0.1006 - val_acc: 0.9655\n",
            "Epoch 12/100\n",
            "689/689 [==============================] - 48s 70ms/step - loss: 0.1190 - acc: 0.9593 - val_loss: 0.1212 - val_acc: 0.9619\n",
            "Epoch 13/100\n",
            "689/689 [==============================] - 49s 71ms/step - loss: 0.1174 - acc: 0.9597 - val_loss: 0.0983 - val_acc: 0.9653\n",
            "Epoch 14/100\n",
            "689/689 [==============================] - 49s 71ms/step - loss: 0.1156 - acc: 0.9603 - val_loss: 0.1393 - val_acc: 0.9544\n",
            "Epoch 15/100\n",
            "689/689 [==============================] - 49s 71ms/step - loss: 0.1099 - acc: 0.9624 - val_loss: 0.0974 - val_acc: 0.9666\n",
            "Epoch 16/100\n",
            "689/689 [==============================] - 48s 70ms/step - loss: 0.1111 - acc: 0.9625 - val_loss: 0.0981 - val_acc: 0.9670\n",
            "Epoch 17/100\n",
            "689/689 [==============================] - 48s 70ms/step - loss: 0.1122 - acc: 0.9614 - val_loss: 0.1517 - val_acc: 0.9563\n",
            "Epoch 18/100\n",
            "689/689 [==============================] - 48s 70ms/step - loss: 0.1075 - acc: 0.9639 - val_loss: 0.0969 - val_acc: 0.9690\n",
            "Epoch 19/100\n",
            "689/689 [==============================] - 48s 70ms/step - loss: 0.1097 - acc: 0.9621 - val_loss: 0.0984 - val_acc: 0.9673\n",
            "Epoch 20/100\n",
            "689/689 [==============================] - 49s 71ms/step - loss: 0.1078 - acc: 0.9643 - val_loss: 0.1508 - val_acc: 0.9583\n",
            "Epoch 21/100\n",
            "689/689 [==============================] - 48s 70ms/step - loss: 0.1091 - acc: 0.9634 - val_loss: 0.0965 - val_acc: 0.9662\n",
            "Epoch 22/100\n",
            "689/689 [==============================] - 49s 70ms/step - loss: 0.1083 - acc: 0.9627 - val_loss: 0.0951 - val_acc: 0.9666\n",
            "Epoch 23/100\n",
            "689/689 [==============================] - 48s 70ms/step - loss: 0.1039 - acc: 0.9632 - val_loss: 0.1031 - val_acc: 0.9659\n",
            "Epoch 24/100\n",
            "689/689 [==============================] - 49s 71ms/step - loss: 0.1050 - acc: 0.9644 - val_loss: 0.0880 - val_acc: 0.9686\n",
            "Epoch 25/100\n",
            "689/689 [==============================] - 49s 70ms/step - loss: 0.1013 - acc: 0.9644 - val_loss: 0.1042 - val_acc: 0.9662\n",
            "Epoch 26/100\n",
            "689/689 [==============================] - 48s 70ms/step - loss: 0.1005 - acc: 0.9658 - val_loss: 0.0896 - val_acc: 0.9679\n",
            "Epoch 27/100\n",
            "689/689 [==============================] - 49s 70ms/step - loss: 0.1017 - acc: 0.9661 - val_loss: 0.0906 - val_acc: 0.9682\n",
            "Epoch 28/100\n",
            "689/689 [==============================] - 48s 70ms/step - loss: 0.1000 - acc: 0.9658 - val_loss: 0.1012 - val_acc: 0.9672\n",
            "Epoch 29/100\n",
            "689/689 [==============================] - 49s 70ms/step - loss: 0.1013 - acc: 0.9663 - val_loss: 0.0956 - val_acc: 0.9681\n",
            "Epoch 30/100\n",
            "689/689 [==============================] - 48s 70ms/step - loss: 0.1000 - acc: 0.9661 - val_loss: 0.0954 - val_acc: 0.9691\n",
            "Epoch 31/100\n",
            "689/689 [==============================] - 48s 70ms/step - loss: 0.0976 - acc: 0.9669 - val_loss: 0.0941 - val_acc: 0.9706\n",
            "Epoch 32/100\n",
            "689/689 [==============================] - 48s 70ms/step - loss: 0.0962 - acc: 0.9673 - val_loss: 0.1021 - val_acc: 0.9684\n",
            "Epoch 33/100\n",
            "689/689 [==============================] - 48s 70ms/step - loss: 0.0983 - acc: 0.9665 - val_loss: 0.0864 - val_acc: 0.9711\n",
            "Epoch 34/100\n",
            "689/689 [==============================] - 49s 70ms/step - loss: 0.0981 - acc: 0.9667 - val_loss: 0.0917 - val_acc: 0.9702\n",
            "Epoch 35/100\n",
            "689/689 [==============================] - 48s 70ms/step - loss: 0.0938 - acc: 0.9683 - val_loss: 0.1215 - val_acc: 0.9613\n",
            "Epoch 36/100\n",
            "689/689 [==============================] - 48s 70ms/step - loss: 0.0989 - acc: 0.9664 - val_loss: 0.0911 - val_acc: 0.9695\n",
            "Epoch 37/100\n",
            "689/689 [==============================] - 48s 70ms/step - loss: 0.0949 - acc: 0.9668 - val_loss: 0.0963 - val_acc: 0.9672\n",
            "Epoch 38/100\n",
            "689/689 [==============================] - 48s 70ms/step - loss: 0.0963 - acc: 0.9669 - val_loss: 0.0880 - val_acc: 0.9722\n",
            "Epoch 39/100\n",
            "689/689 [==============================] - 48s 70ms/step - loss: 0.0957 - acc: 0.9677 - val_loss: 0.0965 - val_acc: 0.9684\n",
            "Epoch 40/100\n",
            "689/689 [==============================] - 48s 70ms/step - loss: 0.0967 - acc: 0.9675 - val_loss: 0.0981 - val_acc: 0.9686\n",
            "Epoch 41/100\n",
            "689/689 [==============================] - 48s 70ms/step - loss: 0.0901 - acc: 0.9691 - val_loss: 0.0948 - val_acc: 0.9681\n",
            "Epoch 42/100\n",
            "689/689 [==============================] - 49s 71ms/step - loss: 0.0936 - acc: 0.9689 - val_loss: 0.0830 - val_acc: 0.9733\n",
            "Epoch 43/100\n",
            "689/689 [==============================] - 50s 72ms/step - loss: 0.0922 - acc: 0.9684 - val_loss: 0.1204 - val_acc: 0.9601\n",
            "Epoch 44/100\n",
            "689/689 [==============================] - 50s 72ms/step - loss: 0.0909 - acc: 0.9676 - val_loss: 0.0880 - val_acc: 0.9719\n",
            "Epoch 45/100\n",
            "689/689 [==============================] - 50s 72ms/step - loss: 0.0914 - acc: 0.9687 - val_loss: 0.1039 - val_acc: 0.9682\n",
            "Epoch 46/100\n",
            "689/689 [==============================] - 50s 72ms/step - loss: 0.0899 - acc: 0.9682 - val_loss: 0.0958 - val_acc: 0.9686\n",
            "Epoch 47/100\n",
            "689/689 [==============================] - 49s 71ms/step - loss: 0.0882 - acc: 0.9696 - val_loss: 0.0950 - val_acc: 0.9695\n",
            "Epoch 48/100\n",
            "689/689 [==============================] - 49s 71ms/step - loss: 0.0917 - acc: 0.9691 - val_loss: 0.0893 - val_acc: 0.9706\n",
            "Epoch 49/100\n",
            "689/689 [==============================] - 49s 71ms/step - loss: 0.0945 - acc: 0.9682 - val_loss: 0.0919 - val_acc: 0.9724\n",
            "Epoch 50/100\n",
            "689/689 [==============================] - 49s 70ms/step - loss: 0.0885 - acc: 0.9696 - val_loss: 0.0903 - val_acc: 0.9708\n",
            "Epoch 51/100\n",
            "689/689 [==============================] - 49s 71ms/step - loss: 0.0891 - acc: 0.9692 - val_loss: 0.0848 - val_acc: 0.9715\n",
            "Epoch 52/100\n",
            "689/689 [==============================] - 49s 72ms/step - loss: 0.0853 - acc: 0.9704 - val_loss: 0.0908 - val_acc: 0.9699\n",
            "Epoch 53/100\n",
            "689/689 [==============================] - 49s 71ms/step - loss: 0.0856 - acc: 0.9705 - val_loss: 0.0852 - val_acc: 0.9708\n",
            "Epoch 54/100\n",
            "689/689 [==============================] - 49s 71ms/step - loss: 0.0882 - acc: 0.9701 - val_loss: 0.0861 - val_acc: 0.9719\n",
            "Epoch 55/100\n",
            "689/689 [==============================] - 49s 71ms/step - loss: 0.0851 - acc: 0.9700 - val_loss: 0.0881 - val_acc: 0.9717\n",
            "Epoch 56/100\n",
            "689/689 [==============================] - 49s 71ms/step - loss: 0.0843 - acc: 0.9709 - val_loss: 0.0922 - val_acc: 0.9686\n",
            "Epoch 57/100\n",
            "689/689 [==============================] - 49s 71ms/step - loss: 0.0863 - acc: 0.9710 - val_loss: 0.0856 - val_acc: 0.9710\n",
            "Epoch 58/100\n",
            "689/689 [==============================] - 49s 71ms/step - loss: 0.0842 - acc: 0.9705 - val_loss: 0.0860 - val_acc: 0.9739\n",
            "Epoch 59/100\n",
            "689/689 [==============================] - 50s 72ms/step - loss: 0.0877 - acc: 0.9695 - val_loss: 0.0847 - val_acc: 0.9726\n",
            "Epoch 60/100\n",
            "689/689 [==============================] - 50s 73ms/step - loss: 0.0892 - acc: 0.9683 - val_loss: 0.0807 - val_acc: 0.9740\n",
            "Epoch 61/100\n",
            "689/689 [==============================] - 49s 72ms/step - loss: 0.0843 - acc: 0.9708 - val_loss: 0.0807 - val_acc: 0.9730\n",
            "Epoch 62/100\n",
            "689/689 [==============================] - 50s 72ms/step - loss: 0.0844 - acc: 0.9719 - val_loss: 0.0807 - val_acc: 0.9748\n",
            "Epoch 63/100\n",
            "689/689 [==============================] - 49s 72ms/step - loss: 0.0833 - acc: 0.9712 - val_loss: 0.0967 - val_acc: 0.9677\n",
            "Epoch 64/100\n",
            "689/689 [==============================] - 49s 71ms/step - loss: 0.0860 - acc: 0.9693 - val_loss: 0.0835 - val_acc: 0.9735\n",
            "Epoch 65/100\n",
            "689/689 [==============================] - 49s 71ms/step - loss: 0.0837 - acc: 0.9712 - val_loss: 0.0862 - val_acc: 0.9713\n",
            "Epoch 66/100\n",
            "689/689 [==============================] - 49s 72ms/step - loss: 0.0821 - acc: 0.9711 - val_loss: 0.0941 - val_acc: 0.9695\n",
            "Epoch 67/100\n",
            "689/689 [==============================] - 49s 72ms/step - loss: 0.0839 - acc: 0.9709 - val_loss: 0.1182 - val_acc: 0.9621\n",
            "Epoch 68/100\n",
            "689/689 [==============================] - 49s 72ms/step - loss: 0.0857 - acc: 0.9696 - val_loss: 0.0866 - val_acc: 0.9735\n",
            "Epoch 69/100\n",
            "689/689 [==============================] - 49s 71ms/step - loss: 0.0810 - acc: 0.9712 - val_loss: 0.0761 - val_acc: 0.9755\n",
            "Epoch 70/100\n",
            "689/689 [==============================] - 49s 72ms/step - loss: 0.0810 - acc: 0.9713 - val_loss: 0.0863 - val_acc: 0.9742\n",
            "Epoch 71/100\n",
            "689/689 [==============================] - 49s 72ms/step - loss: 0.0821 - acc: 0.9713 - val_loss: 0.1120 - val_acc: 0.9599\n",
            "Epoch 72/100\n",
            "689/689 [==============================] - 49s 72ms/step - loss: 0.0844 - acc: 0.9707 - val_loss: 0.0864 - val_acc: 0.9726\n",
            "Epoch 73/100\n",
            "689/689 [==============================] - 50s 72ms/step - loss: 0.0817 - acc: 0.9719 - val_loss: 0.0768 - val_acc: 0.9733\n",
            "Epoch 74/100\n",
            "689/689 [==============================] - 49s 71ms/step - loss: 0.0789 - acc: 0.9733 - val_loss: 0.0849 - val_acc: 0.9735\n",
            "Epoch 75/100\n",
            "689/689 [==============================] - 48s 70ms/step - loss: 0.0800 - acc: 0.9719 - val_loss: 0.0832 - val_acc: 0.9735\n",
            "Epoch 76/100\n",
            "689/689 [==============================] - 48s 70ms/step - loss: 0.0798 - acc: 0.9724 - val_loss: 0.0840 - val_acc: 0.9750\n",
            "Epoch 77/100\n",
            "689/689 [==============================] - 48s 70ms/step - loss: 0.0829 - acc: 0.9725 - val_loss: 0.1147 - val_acc: 0.9613\n",
            "Epoch 78/100\n",
            "689/689 [==============================] - 49s 71ms/step - loss: 0.0792 - acc: 0.9726 - val_loss: 0.0863 - val_acc: 0.9721\n",
            "Epoch 79/100\n",
            "689/689 [==============================] - 49s 70ms/step - loss: 0.0799 - acc: 0.9726 - val_loss: 0.0916 - val_acc: 0.9730\n",
            "Epoch 80/100\n",
            "689/689 [==============================] - 59s 86ms/step - loss: 0.0778 - acc: 0.9727 - val_loss: 0.0846 - val_acc: 0.9724\n",
            "Epoch 81/100\n",
            "689/689 [==============================] - 63s 91ms/step - loss: 0.0827 - acc: 0.9703 - val_loss: 0.0821 - val_acc: 0.9735\n",
            "Epoch 82/100\n",
            "689/689 [==============================] - 49s 70ms/step - loss: 0.0802 - acc: 0.9721 - val_loss: 0.0857 - val_acc: 0.9686\n",
            "Epoch 83/100\n",
            "689/689 [==============================] - 50s 72ms/step - loss: 0.0770 - acc: 0.9734 - val_loss: 0.0824 - val_acc: 0.9739\n",
            "Epoch 84/100\n",
            "689/689 [==============================] - 49s 71ms/step - loss: 0.0803 - acc: 0.9729 - val_loss: 0.0893 - val_acc: 0.9690\n",
            "Epoch 85/100\n",
            "689/689 [==============================] - 49s 71ms/step - loss: 0.0756 - acc: 0.9733 - val_loss: 0.0905 - val_acc: 0.9691\n",
            "Epoch 86/100\n",
            "689/689 [==============================] - 48s 70ms/step - loss: 0.0785 - acc: 0.9736 - val_loss: 0.1182 - val_acc: 0.9670\n",
            "Epoch 87/100\n",
            "689/689 [==============================] - 49s 71ms/step - loss: 0.0812 - acc: 0.9712 - val_loss: 0.0946 - val_acc: 0.9706\n",
            "Epoch 88/100\n",
            "689/689 [==============================] - 49s 71ms/step - loss: 0.0750 - acc: 0.9735 - val_loss: 0.0829 - val_acc: 0.9728\n",
            "Epoch 89/100\n",
            "689/689 [==============================] - 50s 73ms/step - loss: 0.0740 - acc: 0.9746 - val_loss: 0.0779 - val_acc: 0.9757\n",
            "Epoch 90/100\n",
            "689/689 [==============================] - 49s 71ms/step - loss: 0.0792 - acc: 0.9730 - val_loss: 0.0834 - val_acc: 0.9710\n",
            "Epoch 91/100\n",
            "689/689 [==============================] - 48s 70ms/step - loss: 0.0770 - acc: 0.9736 - val_loss: 0.0849 - val_acc: 0.9715\n",
            "Epoch 92/100\n",
            "689/689 [==============================] - 48s 70ms/step - loss: 0.0796 - acc: 0.9724 - val_loss: 0.0892 - val_acc: 0.9726\n",
            "Epoch 93/100\n",
            "689/689 [==============================] - 48s 70ms/step - loss: 0.0751 - acc: 0.9737 - val_loss: 0.0820 - val_acc: 0.9740\n",
            "Epoch 94/100\n",
            "689/689 [==============================] - 48s 70ms/step - loss: 0.0796 - acc: 0.9716 - val_loss: 0.0848 - val_acc: 0.9724\n",
            "Epoch 95/100\n",
            "689/689 [==============================] - 49s 71ms/step - loss: 0.0733 - acc: 0.9741 - val_loss: 0.0843 - val_acc: 0.9730\n",
            "Epoch 96/100\n",
            "689/689 [==============================] - 51s 74ms/step - loss: 0.0753 - acc: 0.9733 - val_loss: 0.0873 - val_acc: 0.9724\n",
            "Epoch 97/100\n",
            "689/689 [==============================] - 49s 70ms/step - loss: 0.0766 - acc: 0.9736 - val_loss: 0.0800 - val_acc: 0.9753\n",
            "Epoch 98/100\n",
            "689/689 [==============================] - 48s 70ms/step - loss: 0.0724 - acc: 0.9755 - val_loss: 0.0890 - val_acc: 0.9733\n",
            "Epoch 99/100\n",
            "689/689 [==============================] - 49s 71ms/step - loss: 0.0740 - acc: 0.9740 - val_loss: 0.0852 - val_acc: 0.9704\n",
            "Epoch 100/100\n",
            "689/689 [==============================] - 50s 72ms/step - loss: 0.0735 - acc: 0.9750 - val_loss: 0.0857 - val_acc: 0.9742\n"
          ]
        }
      ]
    },
    {
      "cell_type": "code",
      "source": [
        "model2.evaluate_generator(test_generator, verbose=1)"
      ],
      "metadata": {
        "colab": {
          "base_uri": "https://localhost:8080/"
        },
        "outputId": "691946fb-9968-49bb-fb5c-ef5b4187c71f",
        "id": "WBYN_9urJgC2"
      },
      "execution_count": null,
      "outputs": [
        {
          "output_type": "stream",
          "name": "stdout",
          "text": [
            "  3/173 [..............................] - ETA: 5s - loss: 0.1299 - acc: 0.9792 "
          ]
        },
        {
          "output_type": "stream",
          "name": "stderr",
          "text": [
            "/usr/local/lib/python3.7/dist-packages/ipykernel_launcher.py:1: UserWarning: `Model.evaluate_generator` is deprecated and will be removed in a future version. Please use `Model.evaluate`, which supports generators.\n",
            "  \"\"\"Entry point for launching an IPython kernel.\n"
          ]
        },
        {
          "output_type": "stream",
          "name": "stdout",
          "text": [
            "173/173 [==============================] - 5s 31ms/step - loss: 0.0857 - acc: 0.9742\n"
          ]
        },
        {
          "output_type": "execute_result",
          "data": {
            "text/plain": [
              "[0.08571338653564453, 0.9742286801338196]"
            ]
          },
          "metadata": {},
          "execution_count": 22
        }
      ]
    },
    {
      "cell_type": "code",
      "execution_count": null,
      "metadata": {
        "colab": {
          "base_uri": "https://localhost:8080/"
        },
        "outputId": "1d56c19b-bb4e-4cc0-9a01-34e84deda80e",
        "id": "P3_0NETjJgC3"
      },
      "outputs": [
        {
          "output_type": "stream",
          "name": "stdout",
          "text": [
            "Train Accuracy : \n",
            "689/689 [==============================] - 42s 61ms/step - loss: 0.0720 - acc: 0.9758\n"
          ]
        },
        {
          "output_type": "execute_result",
          "data": {
            "text/plain": [
              "[0.07195986807346344, 0.9758254885673523]"
            ]
          },
          "metadata": {},
          "execution_count": 23
        }
      ],
      "source": [
        "print(\"Train Accuracy : \")\n",
        "model2.evaluate(train_generator)"
      ]
    },
    {
      "cell_type": "code",
      "execution_count": null,
      "metadata": {
        "colab": {
          "base_uri": "https://localhost:8080/"
        },
        "outputId": "891291c2-e8cc-46c3-bacb-280b2934d67b",
        "id": "kQEwc-wcJgC4"
      },
      "outputs": [
        {
          "output_type": "stream",
          "name": "stdout",
          "text": [
            "Test Accuracy : \n",
            "173/173 [==============================] - 5s 31ms/step - loss: 0.0857 - acc: 0.9742\n"
          ]
        },
        {
          "output_type": "execute_result",
          "data": {
            "text/plain": [
              "[0.08571340143680573, 0.9742286801338196]"
            ]
          },
          "metadata": {},
          "execution_count": 24
        }
      ],
      "source": [
        "print(\"Test Accuracy : \")\n",
        "model2.evaluate(test_generator)"
      ]
    },
    {
      "cell_type": "code",
      "execution_count": null,
      "metadata": {
        "id": "wYVs7B9_YnQD"
      },
      "outputs": [],
      "source": [
        "from sklearn.metrics import classification_report, confusion_matrix\n",
        "import seaborn as sns\n",
        "import matplotlib.pyplot as plt\n",
        "\n",
        "def evaluate(model2):\n",
        "  test_generator = test_datagen.flow_from_directory(\n",
        "      TEST_DIR, \n",
        "      target_size=(64,64), \n",
        "      batch_size=32, \n",
        "      class_mode='binary',\n",
        "      shuffle = False)\n",
        "\n",
        "  Y_pred = model2.predict_generator(test_generator)\n",
        "  y_pred = np.round(Y_pred).astype(int)\n",
        "\n",
        "  print('\\nConfusion Matrix\\n')\n",
        "  cm = confusion_matrix(test_generator.classes, y_pred)\n",
        "  plt.figure(figsize=(8, 8))\n",
        "  sns.heatmap(cm, annot=True, fmt='g', vmin=0, cmap='Blues', cbar=False)\n",
        "  plt.xticks(ticks=[0.5, 1.5], labels=['Parasitized','Uninfected'])\n",
        "  plt.yticks(ticks=[0.5, 1.5], labels=['Parasitized','Uninfected'])\n",
        "  plt.xlabel(\"Predicted\")\n",
        "  plt.ylabel(\"Actual\")\n",
        "  plt.title(\"Confusion Matrix\")\n",
        "  plt.show()\n",
        "\n",
        "  print('\\n\\nClassification Report\\n')\n",
        "  target_names = ['Parasitized','Uninfected']\n",
        "  print(classification_report(test_generator.classes, y_pred, target_names=target_names))\n",
        "\n",
        "  tn, fp, fn, tp = cm.ravel()\n",
        "\n",
        "  precision = tp/(tp+fp)\n",
        "  recall = tp/(tp+fn)\n",
        "  f = 2*((precision*recall)/(precision+recall))\n",
        "\n",
        "  print(\"Recall of the model is {:.2f}\".format(recall))\n",
        "  print(\"Precision of the model is {:.2f}\".format(precision))\n",
        "  print(\"F-1 Score of the model is {:.2f}\".format(f)) "
      ]
    },
    {
      "cell_type": "code",
      "execution_count": null,
      "metadata": {
        "colab": {
          "base_uri": "https://localhost:8080/",
          "height": 915
        },
        "outputId": "c4496098-fb00-4c3a-ffdd-8f23f6ae3bad",
        "id": "-S2WTZFTYnQF"
      },
      "outputs": [
        {
          "output_type": "stream",
          "name": "stdout",
          "text": [
            "Found 5510 images belonging to 2 classes.\n"
          ]
        },
        {
          "output_type": "stream",
          "name": "stderr",
          "text": [
            "/usr/local/lib/python3.7/dist-packages/ipykernel_launcher.py:13: UserWarning: `Model.predict_generator` is deprecated and will be removed in a future version. Please use `Model.predict`, which supports generators.\n",
            "  del sys.path[0]\n"
          ]
        },
        {
          "output_type": "stream",
          "name": "stdout",
          "text": [
            "\n",
            "Confusion Matrix\n",
            "\n"
          ]
        },
        {
          "output_type": "display_data",
          "data": {
            "text/plain": [
              "<Figure size 576x576 with 1 Axes>"
            ],
            "image/png": "[encoded data removed]"
          },
          "metadata": {
            "needs_background": "light"
          }
        },
        {
          "output_type": "stream",
          "name": "stdout",
          "text": [
            "\n",
            "\n",
            "Classification Report\n",
            "\n",
            "              precision    recall  f1-score   support\n",
            "\n",
            " Parasitized       0.98      0.97      0.97      2755\n",
            "  Uninfected       0.97      0.98      0.97      2755\n",
            "\n",
            "    accuracy                           0.97      5510\n",
            "   macro avg       0.97      0.97      0.97      5510\n",
            "weighted avg       0.97      0.97      0.97      5510\n",
            "\n",
            "Recall of the model is 0.98\n",
            "Precision of the model is 0.97\n",
            "F-1 Score of the model is 0.97\n"
          ]
        }
      ],
      "source": [
        "evaluate(model2)"
      ]
    },
    {
      "cell_type": "code",
      "source": [
        "plt.plot(history2.history['acc'])\n",
        "plt.plot(history2.history['val_acc'])\n",
        "plt.title('model accuracy')\n",
        "plt.ylabel('accuracy')\n",
        "plt.xlabel('epoch')\n",
        "plt.legend(['train', 'test'], loc='upper left')\n",
        "plt.show()\n",
        "plt.savefig(\"Accuracy Plot.svg\", format=\"svg\", dpi=1200)"
      ],
      "metadata": {
        "colab": {
          "base_uri": "https://localhost:8080/",
          "height": 312
        },
        "outputId": "0fe3af34-7a4e-4d33-94a3-1b1d53095b37",
        "id": "Rm1FLSeFYnQG"
      },
      "execution_count": null,
      "outputs": [
        {
          "output_type": "display_data",
          "data": {
            "text/plain": [
              "<Figure size 432x288 with 1 Axes>"
            ],
            "image/png": "[encoded data removed]"
          },
          "metadata": {
            "needs_background": "light"
          }
        },
        {
          "output_type": "display_data",
          "data": {
            "text/plain": [
              "<Figure size 432x288 with 0 Axes>"
            ]
          },
          "metadata": {}
        }
      ]
    },
    {
      "cell_type": "code",
      "source": [
        "plt.plot(history2.history['loss'])\n",
        "plt.plot(history2.history['val_loss'])\n",
        "plt.title('model loss')\n",
        "plt.ylabel('loss')\n",
        "plt.xlabel('epoch')\n",
        "plt.legend(['train', 'test'], loc='upper left')\n",
        "plt.show()\n",
        "plt.savefig(\"Loss Plot.svg\", format=\"svg\", dpi=1200)"
      ],
      "metadata": {
        "colab": {
          "base_uri": "https://localhost:8080/",
          "height": 312
        },
        "outputId": "350e3dd8-d5e8-4c7b-a0aa-52d12ea89a79",
        "id": "B68pgL6iYnQH"
      },
      "execution_count": null,
      "outputs": [
        {
          "output_type": "display_data",
          "data": {
            "text/plain": [
              "<Figure size 432x288 with 1 Axes>"
            ],
            "image/png": "[encoded data removed]"
          },
          "metadata": {
            "needs_background": "light"
          }
        },
        {
          "output_type": "display_data",
          "data": {
            "text/plain": [
              "<Figure size 432x288 with 0 Axes>"
            ]
          },
          "metadata": {}
        }
      ]
    },
    {
      "cell_type": "code",
      "execution_count": null,
      "metadata": {
        "colab": {
          "base_uri": "https://localhost:8080/"
        },
        "outputId": "848f43b5-2642-4943-b1f0-eb859e6f211e",
        "id": "qrUm09-bYx5t"
      },
      "outputs": [
        {
          "output_type": "stream",
          "name": "stdout",
          "text": [
            "Saved model to disk\n"
          ]
        }
      ],
      "source": [
        "model2.save_weights(\"Model2.h5\")\n",
        "print(\"Saved model to disk\")"
      ]
    },
    {
      "cell_type": "code",
      "execution_count": null,
      "metadata": {
        "id": "tyJ6Ju_cYx5v"
      },
      "outputs": [],
      "source": [
        "# serialize model to JSON\n",
        "model2_json = model2.to_json()\n",
        "with open(\"Model2.json\", \"w\") as json_file: json_file.write(model2_json)"
      ]
    },
    {
      "cell_type": "code",
      "execution_count": null,
      "metadata": {
        "colab": {
          "base_uri": "https://localhost:8080/"
        },
        "outputId": "758155e8-eddb-4d54-b627-841ac7b84c02",
        "id": "Idi9tXVaYx5w"
      },
      "outputs": [
        {
          "output_type": "stream",
          "name": "stdout",
          "text": [
            "Saved model to disk\n"
          ]
        }
      ],
      "source": [
        "# serialize weights to HDF5\n",
        "model2.save(\"Model2.h5\")\n",
        "print(\"Saved model to disk\")"
      ]
    },
    {
      "cell_type": "markdown",
      "source": [
        "**PRETRAINED MODEL VGG - 19**"
      ],
      "metadata": {
        "id": "pNfb0c0LEno2"
      }
    },
    {
      "cell_type": "code",
      "execution_count": null,
      "metadata": {
        "id": "1oERepv1Eq5U"
      },
      "outputs": [],
      "source": [
        "from keras.applications.vgg16 import VGG16\n",
        "from tensorflow.keras.applications import EfficientNetB5\n",
        "from keras.applications.inception_v3 import InceptionV3\n",
        "from tensorflow.keras.applications import DenseNet169\n",
        "from tensorflow.keras.applications.resnet50 import ResNet50\n",
        "from keras.applications.vgg19 import VGG19\n",
        "from keras.models import Model\n",
        "from keras.preprocessing import image\n",
        "from tensorflow.keras.layers import Input, Lambda ,Dense ,Flatten ,Dropout, BatchNormalization\n",
        "import numpy as np\n",
        "import tensorflow as tf\n",
        "import matplotlib.pyplot as plt\n",
        "%matplotlib inline\n",
        "import os\n",
        "import cv2"
      ]
    },
    {
      "cell_type": "code",
      "execution_count": null,
      "metadata": {
        "colab": {
          "base_uri": "https://localhost:8080/"
        },
        "outputId": "0f88dc5d-a807-41da-cca7-af4eb46a80e5",
        "id": "n2wHpAHoEq5W"
      },
      "outputs": [
        {
          "output_type": "stream",
          "name": "stdout",
          "text": [
            "Downloading data from https://storage.googleapis.com/tensorflow/keras-applications/vgg19/vgg19_weights_tf_dim_ordering_tf_kernels_notop.h5\n",
            "80142336/80134624 [==============================] - 1s 0us/step\n",
            "80150528/80134624 [==============================] - 1s 0us/step\n"
          ]
        }
      ],
      "source": [
        "classifier_vgg19 = VGG19(input_shape= (64,64,3),include_top=False,weights='imagenet')"
      ]
    },
    {
      "cell_type": "code",
      "execution_count": null,
      "metadata": {
        "id": "DSfAmAHREq5X"
      },
      "outputs": [],
      "source": [
        "for layer in classifier_vgg19.layers:\n",
        "    layer.trainable = False"
      ]
    },
    {
      "cell_type": "code",
      "execution_count": null,
      "metadata": {
        "id": "tnW5IwtCEq5Y"
      },
      "outputs": [],
      "source": [
        "classifier1 = classifier_vgg19.output#head mode\n",
        "classifier1 = Flatten()(classifier1)#adding layer of flatten\n",
        "classifier1 = Dense(units=512, activation='relu')(classifier1)\n",
        "classifier1 = Dropout(0.2)(classifier1)\n",
        "classifier1 = BatchNormalization()(classifier1)\n",
        "classifier1 = Dense(units=1, activation='sigmoid')(classifier1)\n",
        "\n",
        "model2 = Model(inputs = classifier_vgg19.input , outputs = classifier1)\n",
        "model2.compile(optimizer=tf.keras.optimizers.RMSprop(learning_rate=0.001), loss='binary_crossentropy', metrics=['accuracy'])"
      ]
    },
    {
      "cell_type": "code",
      "execution_count": null,
      "metadata": {
        "colab": {
          "base_uri": "https://localhost:8080/"
        },
        "outputId": "817c2c0c-c8a3-45c7-ddff-242b03d6ca38",
        "id": "UWNcTTyrEq5Y"
      },
      "outputs": [
        {
          "output_type": "stream",
          "name": "stdout",
          "text": [
            "Model: \"model_1\"\n",
            "_________________________________________________________________\n",
            " Layer (type)                Output Shape              Param #   \n",
            "=================================================================\n",
            " input_1 (InputLayer)        [(None, 64, 64, 3)]       0         \n",
            "                                                                 \n",
            " block1_conv1 (Conv2D)       (None, 64, 64, 64)        1792      \n",
            "                                                                 \n",
            " block1_conv2 (Conv2D)       (None, 64, 64, 64)        36928     \n",
            "                                                                 \n",
            " block1_pool (MaxPooling2D)  (None, 32, 32, 64)        0         \n",
            "                                                                 \n",
            " block2_conv1 (Conv2D)       (None, 32, 32, 128)       73856     \n",
            "                                                                 \n",
            " block2_conv2 (Conv2D)       (None, 32, 32, 128)       147584    \n",
            "                                                                 \n",
            " block2_pool (MaxPooling2D)  (None, 16, 16, 128)       0         \n",
            "                                                                 \n",
            " block3_conv1 (Conv2D)       (None, 16, 16, 256)       295168    \n",
            "                                                                 \n",
            " block3_conv2 (Conv2D)       (None, 16, 16, 256)       590080    \n",
            "                                                                 \n",
            " block3_conv3 (Conv2D)       (None, 16, 16, 256)       590080    \n",
            "                                                                 \n",
            " block3_conv4 (Conv2D)       (None, 16, 16, 256)       590080    \n",
            "                                                                 \n",
            " block3_pool (MaxPooling2D)  (None, 8, 8, 256)         0         \n",
            "                                                                 \n",
            " block4_conv1 (Conv2D)       (None, 8, 8, 512)         1180160   \n",
            "                                                                 \n",
            " block4_conv2 (Conv2D)       (None, 8, 8, 512)         2359808   \n",
            "                                                                 \n",
            " block4_conv3 (Conv2D)       (None, 8, 8, 512)         2359808   \n",
            "                                                                 \n",
            " block4_conv4 (Conv2D)       (None, 8, 8, 512)         2359808   \n",
            "                                                                 \n",
            " block4_pool (MaxPooling2D)  (None, 4, 4, 512)         0         \n",
            "                                                                 \n",
            " block5_conv1 (Conv2D)       (None, 4, 4, 512)         2359808   \n",
            "                                                                 \n",
            " block5_conv2 (Conv2D)       (None, 4, 4, 512)         2359808   \n",
            "                                                                 \n",
            " block5_conv3 (Conv2D)       (None, 4, 4, 512)         2359808   \n",
            "                                                                 \n",
            " block5_conv4 (Conv2D)       (None, 4, 4, 512)         2359808   \n",
            "                                                                 \n",
            " block5_pool (MaxPooling2D)  (None, 2, 2, 512)         0         \n",
            "                                                                 \n",
            " flatten_1 (Flatten)         (None, 2048)              0         \n",
            "                                                                 \n",
            " dense_2 (Dense)             (None, 512)               1049088   \n",
            "                                                                 \n",
            " dropout_1 (Dropout)         (None, 512)               0         \n",
            "                                                                 \n",
            " batch_normalization_1 (Batc  (None, 512)              2048      \n",
            " hNormalization)                                                 \n",
            "                                                                 \n",
            " dense_3 (Dense)             (None, 1)                 513       \n",
            "                                                                 \n",
            "=================================================================\n",
            "Total params: 21,076,033\n",
            "Trainable params: 1,050,625\n",
            "Non-trainable params: 20,025,408\n",
            "_________________________________________________________________\n"
          ]
        }
      ],
      "source": [
        "model2.summary()"
      ]
    },
    {
      "cell_type": "code",
      "source": [
        "history2 = model2.fit_generator(\n",
        "        train_generator,\n",
        "        epochs=100,\n",
        "        validation_data=test_generator,\n",
        "        )"
      ],
      "metadata": {
        "colab": {
          "base_uri": "https://localhost:8080/"
        },
        "outputId": "172a1f82-fef9-4e0b-d7d2-526ee02128b8",
        "id": "ihyoj1xrEq5Z"
      },
      "execution_count": null,
      "outputs": [
        {
          "output_type": "stream",
          "name": "stderr",
          "text": [
            "/usr/local/lib/python3.7/dist-packages/ipykernel_launcher.py:4: UserWarning: `Model.fit_generator` is deprecated and will be removed in a future version. Please use `Model.fit`, which supports generators.\n",
            "  after removing the cwd from sys.path.\n"
          ]
        },
        {
          "output_type": "stream",
          "name": "stdout",
          "text": [
            "Epoch 1/100\n",
            "689/689 [==============================] - 101s 127ms/step - loss: 0.3085 - accuracy: 0.8748 - val_loss: 0.2904 - val_accuracy: 0.8902\n",
            "Epoch 2/100\n",
            "689/689 [==============================] - 77s 111ms/step - loss: 0.2662 - accuracy: 0.8929 - val_loss: 0.2339 - val_accuracy: 0.9134\n",
            "Epoch 3/100\n",
            "689/689 [==============================] - 76s 110ms/step - loss: 0.2616 - accuracy: 0.8989 - val_loss: 0.3210 - val_accuracy: 0.8623\n",
            "Epoch 4/100\n",
            "689/689 [==============================] - 75s 109ms/step - loss: 0.2530 - accuracy: 0.9018 - val_loss: 0.2738 - val_accuracy: 0.8927\n",
            "Epoch 5/100\n",
            "689/689 [==============================] - 75s 109ms/step - loss: 0.2485 - accuracy: 0.9058 - val_loss: 0.2587 - val_accuracy: 0.8984\n",
            "Epoch 6/100\n",
            "689/689 [==============================] - 74s 108ms/step - loss: 0.2521 - accuracy: 0.9022 - val_loss: 0.2117 - val_accuracy: 0.9243\n",
            "Epoch 7/100\n",
            "689/689 [==============================] - 75s 109ms/step - loss: 0.2529 - accuracy: 0.9019 - val_loss: 0.2261 - val_accuracy: 0.9105\n",
            "Epoch 8/100\n",
            "689/689 [==============================] - 76s 110ms/step - loss: 0.2471 - accuracy: 0.9050 - val_loss: 0.2170 - val_accuracy: 0.9167\n",
            "Epoch 9/100\n",
            "689/689 [==============================] - 75s 109ms/step - loss: 0.2439 - accuracy: 0.9080 - val_loss: 0.2136 - val_accuracy: 0.9234\n",
            "Epoch 10/100\n",
            "689/689 [==============================] - 75s 108ms/step - loss: 0.2425 - accuracy: 0.9064 - val_loss: 0.2720 - val_accuracy: 0.8936\n",
            "Epoch 11/100\n",
            "689/689 [==============================] - 75s 109ms/step - loss: 0.2439 - accuracy: 0.9050 - val_loss: 0.2172 - val_accuracy: 0.9165\n",
            "Epoch 12/100\n",
            "689/689 [==============================] - 76s 110ms/step - loss: 0.2386 - accuracy: 0.9078 - val_loss: 0.1967 - val_accuracy: 0.9265\n",
            "Epoch 13/100\n",
            "689/689 [==============================] - 75s 109ms/step - loss: 0.2345 - accuracy: 0.9098 - val_loss: 0.1987 - val_accuracy: 0.9258\n",
            "Epoch 14/100\n",
            "689/689 [==============================] - 75s 109ms/step - loss: 0.2407 - accuracy: 0.9087 - val_loss: 0.2104 - val_accuracy: 0.9247\n",
            "Epoch 15/100\n",
            "689/689 [==============================] - 75s 109ms/step - loss: 0.2390 - accuracy: 0.9086 - val_loss: 0.3453 - val_accuracy: 0.8829\n",
            "Epoch 16/100\n",
            "689/689 [==============================] - 75s 109ms/step - loss: 0.2395 - accuracy: 0.9083 - val_loss: 0.2038 - val_accuracy: 0.9229\n",
            "Epoch 17/100\n",
            "689/689 [==============================] - 75s 109ms/step - loss: 0.2325 - accuracy: 0.9105 - val_loss: 0.2240 - val_accuracy: 0.9152\n",
            "Epoch 18/100\n",
            "689/689 [==============================] - 76s 110ms/step - loss: 0.2344 - accuracy: 0.9123 - val_loss: 0.2083 - val_accuracy: 0.9265\n",
            "Epoch 19/100\n",
            "689/689 [==============================] - 75s 109ms/step - loss: 0.2402 - accuracy: 0.9053 - val_loss: 0.1957 - val_accuracy: 0.9307\n",
            "Epoch 20/100\n",
            "689/689 [==============================] - 75s 109ms/step - loss: 0.2390 - accuracy: 0.9077 - val_loss: 0.2392 - val_accuracy: 0.9131\n",
            "Epoch 21/100\n",
            "689/689 [==============================] - 75s 109ms/step - loss: 0.2355 - accuracy: 0.9096 - val_loss: 0.2194 - val_accuracy: 0.9171\n",
            "Epoch 22/100\n",
            "689/689 [==============================] - 75s 109ms/step - loss: 0.2405 - accuracy: 0.9072 - val_loss: 0.1975 - val_accuracy: 0.9269\n",
            "Epoch 23/100\n",
            "689/689 [==============================] - 75s 110ms/step - loss: 0.2355 - accuracy: 0.9117 - val_loss: 0.2583 - val_accuracy: 0.8949\n",
            "Epoch 24/100\n",
            "689/689 [==============================] - 75s 109ms/step - loss: 0.2352 - accuracy: 0.9107 - val_loss: 0.2005 - val_accuracy: 0.9272\n",
            "Epoch 25/100\n",
            "689/689 [==============================] - 75s 109ms/step - loss: 0.2343 - accuracy: 0.9123 - val_loss: 0.2020 - val_accuracy: 0.9283\n",
            "Epoch 26/100\n",
            "689/689 [==============================] - 75s 109ms/step - loss: 0.2346 - accuracy: 0.9108 - val_loss: 0.2141 - val_accuracy: 0.9209\n",
            "Epoch 27/100\n",
            "689/689 [==============================] - 75s 109ms/step - loss: 0.2354 - accuracy: 0.9106 - val_loss: 0.1969 - val_accuracy: 0.9312\n",
            "Epoch 28/100\n",
            "689/689 [==============================] - 76s 111ms/step - loss: 0.2350 - accuracy: 0.9117 - val_loss: 0.2113 - val_accuracy: 0.9200\n",
            "Epoch 29/100\n",
            "689/689 [==============================] - 75s 109ms/step - loss: 0.2367 - accuracy: 0.9087 - val_loss: 0.2164 - val_accuracy: 0.9181\n",
            "Epoch 30/100\n",
            "689/689 [==============================] - 75s 109ms/step - loss: 0.2331 - accuracy: 0.9131 - val_loss: 0.1955 - val_accuracy: 0.9265\n",
            "Epoch 31/100\n",
            "689/689 [==============================] - 75s 109ms/step - loss: 0.2322 - accuracy: 0.9126 - val_loss: 0.1918 - val_accuracy: 0.9285\n",
            "Epoch 32/100\n",
            "689/689 [==============================] - 75s 109ms/step - loss: 0.2352 - accuracy: 0.9109 - val_loss: 0.2204 - val_accuracy: 0.9143\n",
            "Epoch 33/100\n",
            "689/689 [==============================] - 76s 110ms/step - loss: 0.2333 - accuracy: 0.9106 - val_loss: 0.1948 - val_accuracy: 0.9312\n",
            "Epoch 34/100\n",
            "689/689 [==============================] - 76s 111ms/step - loss: 0.2335 - accuracy: 0.9109 - val_loss: 0.1919 - val_accuracy: 0.9298\n",
            "Epoch 35/100\n",
            "689/689 [==============================] - 75s 109ms/step - loss: 0.2312 - accuracy: 0.9118 - val_loss: 0.1992 - val_accuracy: 0.9258\n",
            "Epoch 36/100\n",
            "689/689 [==============================] - 75s 109ms/step - loss: 0.2288 - accuracy: 0.9139 - val_loss: 0.2502 - val_accuracy: 0.9065\n",
            "Epoch 37/100\n",
            "689/689 [==============================] - 75s 109ms/step - loss: 0.2285 - accuracy: 0.9136 - val_loss: 0.1965 - val_accuracy: 0.9278\n",
            "Epoch 38/100\n",
            "689/689 [==============================] - 75s 109ms/step - loss: 0.2249 - accuracy: 0.9131 - val_loss: 0.1886 - val_accuracy: 0.9325\n",
            "Epoch 39/100\n",
            "689/689 [==============================] - 75s 109ms/step - loss: 0.2298 - accuracy: 0.9136 - val_loss: 0.2725 - val_accuracy: 0.8946\n",
            "Epoch 40/100\n",
            "689/689 [==============================] - 75s 109ms/step - loss: 0.2284 - accuracy: 0.9136 - val_loss: 0.2072 - val_accuracy: 0.9209\n",
            "Epoch 41/100\n",
            "689/689 [==============================] - 75s 108ms/step - loss: 0.2250 - accuracy: 0.9148 - val_loss: 0.2253 - val_accuracy: 0.9100\n",
            "Epoch 42/100\n",
            "689/689 [==============================] - 75s 109ms/step - loss: 0.2285 - accuracy: 0.9141 - val_loss: 0.1981 - val_accuracy: 0.9276\n",
            "Epoch 43/100\n",
            "689/689 [==============================] - 75s 109ms/step - loss: 0.2274 - accuracy: 0.9139 - val_loss: 0.2432 - val_accuracy: 0.9007\n",
            "Epoch 44/100\n",
            "689/689 [==============================] - 75s 109ms/step - loss: 0.2270 - accuracy: 0.9130 - val_loss: 0.2003 - val_accuracy: 0.9263\n",
            "Epoch 45/100\n",
            "689/689 [==============================] - 75s 109ms/step - loss: 0.2286 - accuracy: 0.9167 - val_loss: 0.1962 - val_accuracy: 0.9240\n",
            "Epoch 46/100\n",
            "689/689 [==============================] - 74s 108ms/step - loss: 0.2278 - accuracy: 0.9150 - val_loss: 0.1996 - val_accuracy: 0.9267\n",
            "Epoch 47/100\n",
            "689/689 [==============================] - 74s 108ms/step - loss: 0.2272 - accuracy: 0.9141 - val_loss: 0.1929 - val_accuracy: 0.9325\n",
            "Epoch 48/100\n",
            "689/689 [==============================] - 74s 107ms/step - loss: 0.2234 - accuracy: 0.9143 - val_loss: 0.2182 - val_accuracy: 0.9171\n",
            "Epoch 49/100\n",
            "689/689 [==============================] - 75s 108ms/step - loss: 0.2217 - accuracy: 0.9167 - val_loss: 0.2008 - val_accuracy: 0.9287\n",
            "Epoch 50/100\n",
            "689/689 [==============================] - 75s 108ms/step - loss: 0.2297 - accuracy: 0.9128 - val_loss: 0.2613 - val_accuracy: 0.9016\n",
            "Epoch 51/100\n",
            "689/689 [==============================] - 75s 108ms/step - loss: 0.2270 - accuracy: 0.9145 - val_loss: 0.1942 - val_accuracy: 0.9323\n",
            "Epoch 52/100\n",
            "689/689 [==============================] - 75s 108ms/step - loss: 0.2261 - accuracy: 0.9141 - val_loss: 0.2075 - val_accuracy: 0.9236\n",
            "Epoch 53/100\n",
            "689/689 [==============================] - 75s 108ms/step - loss: 0.2261 - accuracy: 0.9142 - val_loss: 0.2017 - val_accuracy: 0.9265\n",
            "Epoch 54/100\n",
            "689/689 [==============================] - 75s 108ms/step - loss: 0.2260 - accuracy: 0.9136 - val_loss: 0.1921 - val_accuracy: 0.9310\n",
            "Epoch 55/100\n",
            "689/689 [==============================] - 75s 108ms/step - loss: 0.2257 - accuracy: 0.9121 - val_loss: 0.1950 - val_accuracy: 0.9318\n",
            "Epoch 56/100\n",
            "689/689 [==============================] - 75s 108ms/step - loss: 0.2291 - accuracy: 0.9134 - val_loss: 0.1914 - val_accuracy: 0.9289\n",
            "Epoch 57/100\n",
            "689/689 [==============================] - 75s 109ms/step - loss: 0.2229 - accuracy: 0.9144 - val_loss: 0.2007 - val_accuracy: 0.9287\n",
            "Epoch 58/100\n",
            "689/689 [==============================] - 75s 109ms/step - loss: 0.2226 - accuracy: 0.9150 - val_loss: 0.1888 - val_accuracy: 0.9299\n",
            "Epoch 59/100\n",
            "689/689 [==============================] - 75s 108ms/step - loss: 0.2285 - accuracy: 0.9146 - val_loss: 0.1899 - val_accuracy: 0.9314\n",
            "Epoch 60/100\n",
            "689/689 [==============================] - 75s 109ms/step - loss: 0.2202 - accuracy: 0.9163 - val_loss: 0.2241 - val_accuracy: 0.9169\n",
            "Epoch 61/100\n",
            "689/689 [==============================] - 75s 108ms/step - loss: 0.2235 - accuracy: 0.9160 - val_loss: 0.1927 - val_accuracy: 0.9319\n",
            "Epoch 62/100\n",
            "689/689 [==============================] - 74s 108ms/step - loss: 0.2245 - accuracy: 0.9150 - val_loss: 0.2197 - val_accuracy: 0.9131\n",
            "Epoch 63/100\n",
            "689/689 [==============================] - 74s 108ms/step - loss: 0.2241 - accuracy: 0.9158 - val_loss: 0.2234 - val_accuracy: 0.9160\n",
            "Epoch 64/100\n",
            "689/689 [==============================] - 74s 107ms/step - loss: 0.2242 - accuracy: 0.9160 - val_loss: 0.2323 - val_accuracy: 0.9171\n",
            "Epoch 65/100\n",
            "689/689 [==============================] - 74s 108ms/step - loss: 0.2247 - accuracy: 0.9137 - val_loss: 0.2020 - val_accuracy: 0.9256\n",
            "Epoch 66/100\n",
            "689/689 [==============================] - 74s 108ms/step - loss: 0.2213 - accuracy: 0.9166 - val_loss: 0.1930 - val_accuracy: 0.9312\n",
            "Epoch 67/100\n",
            "689/689 [==============================] - 74s 107ms/step - loss: 0.2193 - accuracy: 0.9174 - val_loss: 0.1936 - val_accuracy: 0.9298\n",
            "Epoch 68/100\n",
            "689/689 [==============================] - 74s 108ms/step - loss: 0.2216 - accuracy: 0.9171 - val_loss: 0.2272 - val_accuracy: 0.9149\n",
            "Epoch 69/100\n",
            "689/689 [==============================] - 75s 108ms/step - loss: 0.2223 - accuracy: 0.9160 - val_loss: 0.2091 - val_accuracy: 0.9241\n",
            "Epoch 70/100\n",
            "689/689 [==============================] - 75s 109ms/step - loss: 0.2193 - accuracy: 0.9199 - val_loss: 0.2063 - val_accuracy: 0.9238\n",
            "Epoch 71/100\n",
            "689/689 [==============================] - 74s 108ms/step - loss: 0.2187 - accuracy: 0.9170 - val_loss: 0.1841 - val_accuracy: 0.9352\n",
            "Epoch 72/100\n",
            "689/689 [==============================] - 74s 108ms/step - loss: 0.2220 - accuracy: 0.9162 - val_loss: 0.1897 - val_accuracy: 0.9319\n",
            "Epoch 73/100\n",
            "689/689 [==============================] - 74s 108ms/step - loss: 0.2240 - accuracy: 0.9141 - val_loss: 0.2327 - val_accuracy: 0.9127\n",
            "Epoch 74/100\n",
            "689/689 [==============================] - 75s 108ms/step - loss: 0.2188 - accuracy: 0.9195 - val_loss: 0.2095 - val_accuracy: 0.9249\n",
            "Epoch 75/100\n",
            "689/689 [==============================] - 74s 108ms/step - loss: 0.2183 - accuracy: 0.9209 - val_loss: 0.2195 - val_accuracy: 0.9211\n",
            "Epoch 76/100\n",
            "689/689 [==============================] - 75s 108ms/step - loss: 0.2192 - accuracy: 0.9177 - val_loss: 0.2013 - val_accuracy: 0.9290\n",
            "Epoch 77/100\n",
            "689/689 [==============================] - 74s 107ms/step - loss: 0.2205 - accuracy: 0.9176 - val_loss: 0.1947 - val_accuracy: 0.9290\n",
            "Epoch 78/100\n",
            "689/689 [==============================] - 74s 107ms/step - loss: 0.2224 - accuracy: 0.9165 - val_loss: 0.1911 - val_accuracy: 0.9323\n",
            "Epoch 79/100\n",
            "689/689 [==============================] - 74s 107ms/step - loss: 0.2257 - accuracy: 0.9141 - val_loss: 0.2369 - val_accuracy: 0.9136\n",
            "Epoch 80/100\n",
            "689/689 [==============================] - 73s 107ms/step - loss: 0.2179 - accuracy: 0.9195 - val_loss: 0.2064 - val_accuracy: 0.9230\n",
            "Epoch 81/100\n",
            "689/689 [==============================] - 73s 106ms/step - loss: 0.2235 - accuracy: 0.9147 - val_loss: 0.2208 - val_accuracy: 0.9200\n",
            "Epoch 82/100\n",
            "689/689 [==============================] - 73s 106ms/step - loss: 0.2220 - accuracy: 0.9183 - val_loss: 0.1891 - val_accuracy: 0.9319\n",
            "Epoch 83/100\n",
            "689/689 [==============================] - 73s 106ms/step - loss: 0.2215 - accuracy: 0.9165 - val_loss: 0.1976 - val_accuracy: 0.9287\n",
            "Epoch 84/100\n",
            "689/689 [==============================] - 73s 106ms/step - loss: 0.2178 - accuracy: 0.9195 - val_loss: 0.2224 - val_accuracy: 0.9147\n",
            "Epoch 85/100\n",
            "689/689 [==============================] - 73s 106ms/step - loss: 0.2165 - accuracy: 0.9187 - val_loss: 0.2303 - val_accuracy: 0.9154\n",
            "Epoch 86/100\n",
            "689/689 [==============================] - 73s 106ms/step - loss: 0.2204 - accuracy: 0.9152 - val_loss: 0.2187 - val_accuracy: 0.9218\n",
            "Epoch 87/100\n",
            "689/689 [==============================] - 72s 105ms/step - loss: 0.2241 - accuracy: 0.9155 - val_loss: 0.1884 - val_accuracy: 0.9332\n",
            "Epoch 88/100\n",
            "689/689 [==============================] - 73s 105ms/step - loss: 0.2221 - accuracy: 0.9163 - val_loss: 0.1992 - val_accuracy: 0.9274\n",
            "Epoch 89/100\n",
            "689/689 [==============================] - 73s 106ms/step - loss: 0.2162 - accuracy: 0.9187 - val_loss: 0.1880 - val_accuracy: 0.9343\n",
            "Epoch 90/100\n",
            "689/689 [==============================] - 73s 106ms/step - loss: 0.2203 - accuracy: 0.9170 - val_loss: 0.2146 - val_accuracy: 0.9225\n",
            "Epoch 91/100\n",
            "689/689 [==============================] - 74s 108ms/step - loss: 0.2176 - accuracy: 0.9202 - val_loss: 0.1891 - val_accuracy: 0.9339\n",
            "Epoch 92/100\n",
            "689/689 [==============================] - 76s 110ms/step - loss: 0.2211 - accuracy: 0.9188 - val_loss: 0.2017 - val_accuracy: 0.9292\n",
            "Epoch 93/100\n",
            "689/689 [==============================] - 75s 109ms/step - loss: 0.2143 - accuracy: 0.9205 - val_loss: 0.1860 - val_accuracy: 0.9359\n",
            "Epoch 94/100\n",
            "689/689 [==============================] - 75s 109ms/step - loss: 0.2212 - accuracy: 0.9178 - val_loss: 0.1821 - val_accuracy: 0.9354\n",
            "Epoch 95/100\n",
            "689/689 [==============================] - 77s 112ms/step - loss: 0.2204 - accuracy: 0.9189 - val_loss: 0.1959 - val_accuracy: 0.9303\n",
            "Epoch 96/100\n",
            "689/689 [==============================] - 76s 110ms/step - loss: 0.2123 - accuracy: 0.9202 - val_loss: 0.2202 - val_accuracy: 0.9212\n",
            "Epoch 97/100\n",
            "689/689 [==============================] - 76s 110ms/step - loss: 0.2181 - accuracy: 0.9198 - val_loss: 0.1972 - val_accuracy: 0.9310\n",
            "Epoch 98/100\n",
            "689/689 [==============================] - 77s 111ms/step - loss: 0.2182 - accuracy: 0.9186 - val_loss: 0.1946 - val_accuracy: 0.9296\n",
            "Epoch 99/100\n",
            "689/689 [==============================] - 76s 110ms/step - loss: 0.2224 - accuracy: 0.9190 - val_loss: 0.1958 - val_accuracy: 0.9305\n",
            "Epoch 100/100\n",
            "689/689 [==============================] - 76s 111ms/step - loss: 0.2185 - accuracy: 0.9191 - val_loss: 0.2059 - val_accuracy: 0.9267\n"
          ]
        }
      ]
    },
    {
      "cell_type": "code",
      "source": [
        "model2.evaluate_generator(test_generator, verbose=1)"
      ],
      "metadata": {
        "colab": {
          "base_uri": "https://localhost:8080/"
        },
        "outputId": "dbaa37f2-52a8-4300-bfe5-68016c8456e9",
        "id": "Qd10mq8XEq5a"
      },
      "execution_count": null,
      "outputs": [
        {
          "output_type": "stream",
          "name": "stdout",
          "text": [
            "\r  1/173 [..............................] - ETA: 19s - loss: 0.3204 - accuracy: 0.8438"
          ]
        },
        {
          "output_type": "stream",
          "name": "stderr",
          "text": [
            "/usr/local/lib/python3.7/dist-packages/ipykernel_launcher.py:1: UserWarning: `Model.evaluate_generator` is deprecated and will be removed in a future version. Please use `Model.evaluate`, which supports generators.\n",
            "  \"\"\"Entry point for launching an IPython kernel.\n"
          ]
        },
        {
          "output_type": "stream",
          "name": "stdout",
          "text": [
            "173/173 [==============================] - 9s 54ms/step - loss: 0.2059 - accuracy: 0.9267\n"
          ]
        },
        {
          "output_type": "execute_result",
          "data": {
            "text/plain": [
              "[0.20592100918293, 0.9266787767410278]"
            ]
          },
          "metadata": {},
          "execution_count": 18
        }
      ]
    },
    {
      "cell_type": "code",
      "execution_count": null,
      "metadata": {
        "colab": {
          "base_uri": "https://localhost:8080/"
        },
        "outputId": "5a7a2c9d-208c-4fb9-aa86-1107629c5bd6",
        "id": "Sx78d5A2Eq5b"
      },
      "outputs": [
        {
          "output_type": "stream",
          "name": "stdout",
          "text": [
            "Train Accuracy : \n",
            "689/689 [==============================] - 67s 97ms/step - loss: 0.1925 - accuracy: 0.9316\n"
          ]
        },
        {
          "output_type": "execute_result",
          "data": {
            "text/plain": [
              "[0.1925080269575119, 0.9315584301948547]"
            ]
          },
          "metadata": {},
          "execution_count": 19
        }
      ],
      "source": [
        "print(\"Train Accuracy : \")\n",
        "model2.evaluate(train_generator)"
      ]
    },
    {
      "cell_type": "code",
      "execution_count": null,
      "metadata": {
        "colab": {
          "base_uri": "https://localhost:8080/"
        },
        "outputId": "f93b6eeb-f036-4007-de32-b19dced2b4a5",
        "id": "bAK067KREq5c"
      },
      "outputs": [
        {
          "output_type": "stream",
          "name": "stdout",
          "text": [
            "Test Accuracy : \n",
            "173/173 [==============================] - 9s 54ms/step - loss: 0.2059 - accuracy: 0.9267\n"
          ]
        },
        {
          "output_type": "execute_result",
          "data": {
            "text/plain": [
              "[0.20592111349105835, 0.9266787767410278]"
            ]
          },
          "metadata": {},
          "execution_count": 20
        }
      ],
      "source": [
        "print(\"Test Accuracy : \")\n",
        "model2.evaluate(test_generator)"
      ]
    },
    {
      "cell_type": "code",
      "execution_count": null,
      "metadata": {
        "id": "h5hwAMzVFNUP"
      },
      "outputs": [],
      "source": [
        "from sklearn.metrics import classification_report, confusion_matrix\n",
        "import seaborn as sns\n",
        "import matplotlib.pyplot as plt\n",
        "\n",
        "def evaluate(model2):\n",
        "  test_generator = test_datagen.flow_from_directory(\n",
        "      TEST_DIR, \n",
        "      target_size=(64,64), \n",
        "      batch_size=32, \n",
        "      class_mode='binary',\n",
        "      shuffle = False)\n",
        "\n",
        "  Y_pred = model2.predict_generator(test_generator)\n",
        "  y_pred = np.round(Y_pred).astype(int)\n",
        "\n",
        "  print('\\nConfusion Matrix\\n')\n",
        "  cm = confusion_matrix(test_generator.classes, y_pred)\n",
        "  plt.figure(figsize=(8, 8))\n",
        "  sns.heatmap(cm, annot=True, fmt='g', vmin=0, cmap='Blues', cbar=False)\n",
        "  plt.xticks(ticks=[0.5, 1.5], labels=['Parasitized','Uninfected'])\n",
        "  plt.yticks(ticks=[0.5, 1.5], labels=['Parasitized','Uninfected'])\n",
        "  plt.xlabel(\"Predicted\")\n",
        "  plt.ylabel(\"Actual\")\n",
        "  plt.title(\"Confusion Matrix\")\n",
        "  plt.show()\n",
        "\n",
        "  print('\\n\\nClassification Report\\n')\n",
        "  target_names = ['Parasitized','Uninfected']\n",
        "  print(classification_report(test_generator.classes, y_pred, target_names=target_names))\n",
        "\n",
        "  tn, fp, fn, tp = cm.ravel()\n",
        "\n",
        "  precision = tp/(tp+fp)\n",
        "  recall = tp/(tp+fn)\n",
        "  f = 2*((precision*recall)/(precision+recall))\n",
        "\n",
        "  print(\"Recall of the model is {:.2f}\".format(recall))\n",
        "  print(\"Precision of the model is {:.2f}\".format(precision))\n",
        "  print(\"F-1 Score of the model is {:.2f}\".format(f)) "
      ]
    },
    {
      "cell_type": "code",
      "execution_count": null,
      "metadata": {
        "colab": {
          "base_uri": "https://localhost:8080/",
          "height": 915
        },
        "outputId": "098d3844-2095-4065-cab4-c420ac2aea27",
        "id": "JmrpBcSmFNUQ"
      },
      "outputs": [
        {
          "output_type": "stream",
          "name": "stdout",
          "text": [
            "Found 5510 images belonging to 2 classes.\n"
          ]
        },
        {
          "output_type": "stream",
          "name": "stderr",
          "text": [
            "/usr/local/lib/python3.7/dist-packages/ipykernel_launcher.py:13: UserWarning: `Model.predict_generator` is deprecated and will be removed in a future version. Please use `Model.predict`, which supports generators.\n",
            "  del sys.path[0]\n"
          ]
        },
        {
          "output_type": "stream",
          "name": "stdout",
          "text": [
            "\n",
            "Confusion Matrix\n",
            "\n"
          ]
        },
        {
          "output_type": "display_data",
          "data": {
            "text/plain": [
              "<Figure size 576x576 with 1 Axes>"
            ],
            "image/png": "[encoded data removed]"
          },
          "metadata": {
            "needs_background": "light"
          }
        },
        {
          "output_type": "stream",
          "name": "stdout",
          "text": [
            "\n",
            "\n",
            "Classification Report\n",
            "\n",
            "              precision    recall  f1-score   support\n",
            "\n",
            " Parasitized       0.97      0.88      0.92      2755\n",
            "  Uninfected       0.89      0.97      0.93      2755\n",
            "\n",
            "    accuracy                           0.93      5510\n",
            "   macro avg       0.93      0.93      0.93      5510\n",
            "weighted avg       0.93      0.93      0.93      5510\n",
            "\n",
            "Recall of the model is 0.97\n",
            "Precision of the model is 0.89\n",
            "F-1 Score of the model is 0.93\n"
          ]
        }
      ],
      "source": [
        "evaluate(model2)"
      ]
    },
    {
      "cell_type": "code",
      "source": [
        "import matplotlib.pyplot as plt\n",
        "def eval_plot(history2):\n",
        "\n",
        "  plt.figure(figsize=(14, 5))\n",
        "\n",
        "  # Accuracy plot\n",
        "  plt.subplot(1, 2, 1)\n",
        "  acc = history2.history['accuracy']\n",
        "  val_acc = history2.history['val_accuracy']\n",
        "  epochs = range(len(acc))\n",
        "  acc_plot, = plt.plot(epochs, acc, 'r')\n",
        "  val_acc_plot, = plt.plot(epochs, val_acc, 'b')\n",
        "  plt.title('Training and Validation Accuracy')\n",
        "  plt.legend([acc_plot, val_acc_plot], ['Training Accuracy', 'Validation Accuracy'])\n",
        "  plt.savefig(\"Accuracy Plot.svg\", format=\"svg\", dpi=1200)\n",
        "\n",
        "  # Loss plot\n",
        "  plt.subplot(1, 2, 2)\n",
        "  loss = history2.history['loss']\n",
        "  val_loss = history2.history['val_loss']\n",
        "  epochs = range(len(loss))\n",
        "  loss_plot, = plt.plot(epochs, loss, 'r')\n",
        "  val_loss_plot, = plt.plot(epochs, val_loss, 'b')\n",
        "  plt.title('Training and Validation Loss')\n",
        "  plt.legend([loss_plot, val_loss_plot], ['Training Loss', 'Validation Loss'])\n",
        "  plt.savefig(\"Loss Plot.svg\", format=\"svg\", dpi=1200)"
      ],
      "metadata": {
        "id": "lGcwhbv0FNUR"
      },
      "execution_count": null,
      "outputs": []
    },
    {
      "cell_type": "code",
      "source": [
        "eval_plot(history2)"
      ],
      "metadata": {
        "colab": {
          "base_uri": "https://localhost:8080/",
          "height": 336
        },
        "outputId": "84a6c309-d3b2-4b4b-e9ca-15426292bb68",
        "id": "HcqmX6vjFNUR"
      },
      "execution_count": null,
      "outputs": [
        {
          "output_type": "display_data",
          "data": {
            "text/plain": [
              "<Figure size 1008x360 with 2 Axes>"
            ],
            "image/png": "[encoded data removed]"
          },
          "metadata": {
            "needs_background": "light"
          }
        }
      ]
    },
    {
      "cell_type": "code",
      "execution_count": null,
      "metadata": {
        "colab": {
          "base_uri": "https://localhost:8080/"
        },
        "outputId": "dffbf224-cf2e-4a6f-b3d5-b31ca15ebbed",
        "id": "0zinVhGLKBHW"
      },
      "outputs": [
        {
          "output_type": "stream",
          "name": "stdout",
          "text": [
            "Saved model to disk\n"
          ]
        }
      ],
      "source": [
        "model.save_weights(\"Model.h5\")\n",
        "print(\"Saved model to disk\")"
      ]
    },
    {
      "cell_type": "code",
      "execution_count": null,
      "metadata": {
        "id": "voLb-q2CKBHW"
      },
      "outputs": [],
      "source": [
        "# serialize model to JSON\n",
        "model_json = model.to_json()\n",
        "with open(\"Model2.json\", \"w\") as json_file: json_file.write(model_json)"
      ]
    },
    {
      "cell_type": "code",
      "execution_count": null,
      "metadata": {
        "colab": {
          "base_uri": "https://localhost:8080/"
        },
        "outputId": "d5ddb563-2151-4e4e-8fa8-02cb68ee5a2d",
        "id": "MQj_0Yc1KBHW"
      },
      "outputs": [
        {
          "output_type": "stream",
          "name": "stdout",
          "text": [
            "Saved model to disk\n"
          ]
        }
      ],
      "source": [
        "# serialize weights to HDF5\n",
        "model.save(\"Model.h5\")\n",
        "print(\"Saved model to disk\")"
      ]
    }
  ]
}